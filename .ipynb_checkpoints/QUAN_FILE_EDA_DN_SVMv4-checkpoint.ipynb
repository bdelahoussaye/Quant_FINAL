{
 "cells": [
  {
   "cell_type": "code",
   "execution_count": 1,
   "metadata": {},
   "outputs": [],
   "source": [
    "\n",
    "import tensorflow as tf\n",
    "\n",
    "import networkx as nx\n",
    "from networkx.drawing.nx_pydot import write_dot\n",
    "import matplotlib.pyplot as plt\n",
    "from IPython.display import SVG\n",
    "from sklearn.tree import export_graphviz\n",
    "tf.debugging.set_log_device_placement(True)\n",
    "\n",
    "\n",
    "import tensorflow as tf\n",
    "from tensorboard.plugins.hparams import api as hp\n",
    "from tensorflow import feature_column\n",
    "from tensorflow.keras import layers\n",
    "import tensorflow.compat.v2.feature_column as fc\n",
    "\n",
    "import re\n",
    "\n",
    "from sklearn.preprocessing import MinMaxScaler\n",
    "\n",
    "from sklearn.svm import SVC\n",
    "\n",
    "from sklearn.metrics import classification_report, confusion_matrix\n",
    "\n",
    "from sklearn.externals.joblib import parallel_backend\n",
    "\n",
    "from sklearn.model_selection import cross_val_score\n",
    "\n",
    "from sklearn.model_selection import train_test_split"
   ]
  },
  {
   "cell_type": "code",
   "execution_count": 2,
   "metadata": {},
   "outputs": [
    {
     "name": "stdout",
     "output_type": "stream",
     "text": [
      "2.0.0\n",
      "Num GPUs Available:  2\n"
     ]
    }
   ],
   "source": [
    "from __future__ import absolute_import, division, print_function, unicode_literals\n",
    "\n",
    "import tensorflow as tf\n",
    "\n",
    "from tensorflow.keras import layers\n",
    "from sklearn import datasets\n",
    "import pandas as pd\n",
    "import numpy as np\n",
    "print(tf.__version__)\n",
    "\n",
    "import warnings\n",
    "warnings.simplefilter(action='ignore', category=FutureWarning)\n",
    "\n",
    "\n",
    "print(\"Num GPUs Available: \", len(tf.config.experimental.list_physical_devices('GPU')))"
   ]
  },
  {
   "cell_type": "code",
   "execution_count": 3,
   "metadata": {},
   "outputs": [
    {
     "name": "stderr",
     "output_type": "stream",
     "text": [
      "Using TensorFlow backend.\n"
     ]
    }
   ],
   "source": [
    "import matplotlib.pyplot as plt # For making plots\n",
    "\n",
    "import seaborn as sns # Makes beautiful plots\n",
    "from sklearn.preprocessing import StandardScaler # Testing sklearn\n",
    "import tensorflow # Imports tensorflow\n",
    "import keras # Imports keras"
   ]
  },
  {
   "cell_type": "code",
   "execution_count": 4,
   "metadata": {},
   "outputs": [
    {
     "name": "stdout",
     "output_type": "stream",
     "text": [
      "10.0\n",
      "7.6\n"
     ]
    }
   ],
   "source": [
    "\n",
    "from tensorflow.python.platform import build_info as tf_build_info\n",
    "print(tf_build_info.cuda_version_number)\n",
    "# 9.0 in v1.10.0\n",
    "print(tf_build_info.cudnn_version_number)\n",
    "# 7 in v1.10.0"
   ]
  },
  {
   "cell_type": "code",
   "execution_count": 5,
   "metadata": {},
   "outputs": [
    {
     "data": {
      "text/plain": [
       "[name: \"/device:CPU:0\"\n",
       " device_type: \"CPU\"\n",
       " memory_limit: 268435456\n",
       " locality {\n",
       " }\n",
       " incarnation: 8546927115950705061, name: \"/device:GPU:0\"\n",
       " device_type: \"GPU\"\n",
       " memory_limit: 6614766059\n",
       " locality {\n",
       "   bus_id: 1\n",
       "   links {\n",
       "   }\n",
       " }\n",
       " incarnation: 6872428402320777744\n",
       " physical_device_desc: \"device: 0, name: GeForce RTX 2070, pci bus id: 0000:17:00.0, compute capability: 7.5\", name: \"/device:GPU:1\"\n",
       " device_type: \"GPU\"\n",
       " memory_limit: 6614766059\n",
       " locality {\n",
       "   bus_id: 1\n",
       "   links {\n",
       "   }\n",
       " }\n",
       " incarnation: 12331324148542189259\n",
       " physical_device_desc: \"device: 1, name: GeForce RTX 2070, pci bus id: 0000:65:00.0, compute capability: 7.5\"]"
      ]
     },
     "execution_count": 5,
     "metadata": {},
     "output_type": "execute_result"
    }
   ],
   "source": [
    "from tensorflow.python.client import device_lib\n",
    "\n",
    "device_lib.list_local_devices()"
   ]
  },
  {
   "cell_type": "code",
   "execution_count": 6,
   "metadata": {},
   "outputs": [],
   "source": [
    "\n",
    "import matplotlib.pyplot as plt\n",
    "%matplotlib inline\n",
    "\n",
    "\n",
    "import datetime, os\n",
    "\n",
    "from tensorflow.keras.callbacks import TensorBoard\n",
    "\n",
    "log_dir = 'logs'\n",
    "tb = TensorBoard(log_dir=log_dir, histogram_freq=1)\n",
    "\n",
    "from sklearn.model_selection import train_test_split\n",
    "\n",
    "from keras.layers import Dense, Activation,Conv2D,MaxPooling2D,Flatten,Dropout"
   ]
  },
  {
   "cell_type": "markdown",
   "metadata": {},
   "source": [
    "[SVM], Logistic; random forrest, naive bayes, XGBoost, [DN"
   ]
  },
  {
   "cell_type": "code",
   "execution_count": 7,
   "metadata": {},
   "outputs": [],
   "source": [
    "data = pd.read_csv('final_project_mod.csv', dtype = {'Continent': 'category', 'Month':'category', 'DayOfWeek':'category'})"
   ]
  },
  {
   "cell_type": "code",
   "execution_count": 8,
   "metadata": {},
   "outputs": [
    {
     "name": "stdout",
     "output_type": "stream",
     "text": [
      "<class 'pandas.core.frame.DataFrame'>\n",
      "RangeIndex: 159912 entries, 0 to 159911\n",
      "Data columns (total 49 columns):\n",
      "x0           159912 non-null float64\n",
      "x1           159912 non-null float64\n",
      "x3           159912 non-null float64\n",
      "x4           159912 non-null float64\n",
      "x5           159912 non-null float64\n",
      "x6           159912 non-null float64\n",
      "x7           159912 non-null float64\n",
      "x8           159912 non-null float64\n",
      "x9           159912 non-null float64\n",
      "x10          159912 non-null float64\n",
      "x11          159912 non-null float64\n",
      "x12          159912 non-null float64\n",
      "x13          159912 non-null float64\n",
      "x14          159912 non-null float64\n",
      "x15          159912 non-null float64\n",
      "x16          159912 non-null float64\n",
      "x17          159912 non-null float64\n",
      "x18          159912 non-null float64\n",
      "x19          159912 non-null float64\n",
      "x20          159912 non-null float64\n",
      "x21          159912 non-null float64\n",
      "x22          159912 non-null float64\n",
      "x23          159912 non-null float64\n",
      "Continent    159912 non-null category\n",
      "x25          159912 non-null float64\n",
      "x26          159912 non-null float64\n",
      "x27          159912 non-null float64\n",
      "x28          159912 non-null float64\n",
      "Month        159912 non-null category\n",
      "DayOfWeek    159912 non-null category\n",
      "x31          159912 non-null float64\n",
      "x32          159912 non-null float64\n",
      "x33          159912 non-null float64\n",
      "x34          159912 non-null float64\n",
      "x35          159912 non-null float64\n",
      "x36          159912 non-null float64\n",
      "Money        159912 non-null float64\n",
      "x39          159912 non-null float64\n",
      "x40          159912 non-null float64\n",
      "x41          159912 non-null float64\n",
      "x42          159912 non-null float64\n",
      "x43          159912 non-null float64\n",
      "x44          159912 non-null float64\n",
      "x45          159912 non-null float64\n",
      "x46          159912 non-null float64\n",
      "x47          159912 non-null float64\n",
      "x48          159912 non-null float64\n",
      "x49          159912 non-null float64\n",
      "y            159912 non-null int64\n",
      "dtypes: category(3), float64(45), int64(1)\n",
      "memory usage: 56.6 MB\n"
     ]
    }
   ],
   "source": [
    "data.info()\n"
   ]
  },
  {
   "cell_type": "code",
   "execution_count": 9,
   "metadata": {},
   "outputs": [
    {
     "data": {
      "text/plain": [
       "x0           0\n",
       "x1           0\n",
       "x3           0\n",
       "x4           0\n",
       "x5           0\n",
       "x6           0\n",
       "x7           0\n",
       "x8           0\n",
       "x9           0\n",
       "x10          0\n",
       "x11          0\n",
       "x12          0\n",
       "x13          0\n",
       "x14          0\n",
       "x15          0\n",
       "x16          0\n",
       "x17          0\n",
       "x18          0\n",
       "x19          0\n",
       "x20          0\n",
       "x21          0\n",
       "x22          0\n",
       "x23          0\n",
       "Continent    0\n",
       "x25          0\n",
       "x26          0\n",
       "x27          0\n",
       "x28          0\n",
       "Month        0\n",
       "DayOfWeek    0\n",
       "x31          0\n",
       "x32          0\n",
       "x33          0\n",
       "x34          0\n",
       "x35          0\n",
       "x36          0\n",
       "Money        0\n",
       "x39          0\n",
       "x40          0\n",
       "x41          0\n",
       "x42          0\n",
       "x43          0\n",
       "x44          0\n",
       "x45          0\n",
       "x46          0\n",
       "x47          0\n",
       "x48          0\n",
       "x49          0\n",
       "y            0\n",
       "dtype: int64"
      ]
     },
     "execution_count": 9,
     "metadata": {},
     "output_type": "execute_result"
    }
   ],
   "source": [
    "data.isnull().sum()"
   ]
  },
  {
   "cell_type": "code",
   "execution_count": 10,
   "metadata": {},
   "outputs": [],
   "source": [
    "# The fist step in ordering a category feature is to define a custom order by way of CategoricalDtype\n",
    "month_ordered_categories = ['Jan', 'Feb', 'Mar', 'Apr', 'May', 'Jun', 'Jul', 'Aug', 'Sep', 'Oct', 'Nov', 'Dec']\n",
    "\n",
    "# Next, the attribute needs to be explicitly re_ordered:\n",
    "cat_dtype = pd.api.types.CategoricalDtype(categories=month_ordered_categories, ordered=True)\n",
    "data.Month = data.Month.astype(cat_dtype)\n",
    "\n",
    "# Repeat steps for DayOfWeek\n",
    "dayofweek_ordered_categories = ['Mon', 'Tue', 'Wed', 'Thu', 'Fri']\n",
    "cat_dtype = pd.api.types.CategoricalDtype(categories=dayofweek_ordered_categories, ordered=True)\n",
    "data.DayOfWeek = data.DayOfWeek.astype(cat_dtype)\n",
    "\n",
    "# Repate Steps for Continent\n",
    "# Ordering based upon population\n",
    "continent_ordered_categories = ['Asia', 'America', 'Europe']\n",
    "cat_dtype = pd.api.types.CategoricalDtype(categories=continent_ordered_categories, ordered=True)\n",
    "data.Continent = data.Continent.astype(cat_dtype)"
   ]
  },
  {
   "cell_type": "code",
   "execution_count": 11,
   "metadata": {},
   "outputs": [
    {
     "data": {
      "text/plain": [
       "array([ 6,  7,  5,  4,  8,  3, 10,  9,  2,  1, 11,  0], dtype=int64)"
      ]
     },
     "execution_count": 11,
     "metadata": {},
     "output_type": "execute_result"
    }
   ],
   "source": [
    "data.Month.astype(\"category\").cat.codes.unique()"
   ]
  },
  {
   "cell_type": "code",
   "execution_count": 12,
   "metadata": {},
   "outputs": [
    {
     "data": {
      "text/plain": [
       "CategoricalDtype(categories=['Jan', 'Feb', 'Mar', 'Apr', 'May', 'Jun', 'Jul', 'Aug',\n",
       "                  'Sep', 'Oct', 'Nov', 'Dec'],\n",
       "                 ordered=True)"
      ]
     },
     "execution_count": 12,
     "metadata": {},
     "output_type": "execute_result"
    }
   ],
   "source": [
    "data['Month'].dtypes"
   ]
  },
  {
   "cell_type": "code",
   "execution_count": 13,
   "metadata": {},
   "outputs": [
    {
     "data": {
      "text/plain": [
       "array([1, 2, 3, 0, 4], dtype=int64)"
      ]
     },
     "execution_count": 13,
     "metadata": {},
     "output_type": "execute_result"
    }
   ],
   "source": [
    "data.DayOfWeek.astype(\"category\").cat.codes.unique()"
   ]
  },
  {
   "cell_type": "code",
   "execution_count": 14,
   "metadata": {},
   "outputs": [
    {
     "data": {
      "text/plain": [
       "CategoricalDtype(categories=['Mon', 'Tue', 'Wed', 'Thu', 'Fri'], ordered=True)"
      ]
     },
     "execution_count": 14,
     "metadata": {},
     "output_type": "execute_result"
    }
   ],
   "source": [
    "data['DayOfWeek'].dtypes"
   ]
  },
  {
   "cell_type": "code",
   "execution_count": 15,
   "metadata": {},
   "outputs": [
    {
     "data": {
      "text/plain": [
       "array([2, 0, 1], dtype=int64)"
      ]
     },
     "execution_count": 15,
     "metadata": {},
     "output_type": "execute_result"
    }
   ],
   "source": [
    "data.Continent.astype(\"category\").cat.codes.unique()"
   ]
  },
  {
   "cell_type": "code",
   "execution_count": 16,
   "metadata": {},
   "outputs": [
    {
     "data": {
      "text/plain": [
       "CategoricalDtype(categories=['Asia', 'America', 'Europe'], ordered=True)"
      ]
     },
     "execution_count": 16,
     "metadata": {},
     "output_type": "execute_result"
    }
   ],
   "source": [
    "data['Continent'].dtypes"
   ]
  },
  {
   "cell_type": "code",
   "execution_count": 17,
   "metadata": {},
   "outputs": [
    {
     "data": {
      "text/plain": [
       "x0           0\n",
       "x1           0\n",
       "x3           0\n",
       "x4           0\n",
       "x5           0\n",
       "x6           0\n",
       "x7           0\n",
       "x8           0\n",
       "x9           0\n",
       "x10          0\n",
       "x11          0\n",
       "x12          0\n",
       "x13          0\n",
       "x14          0\n",
       "x15          0\n",
       "x16          0\n",
       "x17          0\n",
       "x18          0\n",
       "x19          0\n",
       "x20          0\n",
       "x21          0\n",
       "x22          0\n",
       "x23          0\n",
       "Continent    0\n",
       "x25          0\n",
       "x26          0\n",
       "x27          0\n",
       "x28          0\n",
       "Month        0\n",
       "DayOfWeek    0\n",
       "x31          0\n",
       "x32          0\n",
       "x33          0\n",
       "x34          0\n",
       "x35          0\n",
       "x36          0\n",
       "Money        0\n",
       "x39          0\n",
       "x40          0\n",
       "x41          0\n",
       "x42          0\n",
       "x43          0\n",
       "x44          0\n",
       "x45          0\n",
       "x46          0\n",
       "x47          0\n",
       "x48          0\n",
       "x49          0\n",
       "y            0\n",
       "dtype: int64"
      ]
     },
     "execution_count": 17,
     "metadata": {},
     "output_type": "execute_result"
    }
   ],
   "source": [
    "data.isnull().sum()"
   ]
  },
  {
   "cell_type": "markdown",
   "metadata": {},
   "source": [
    "## separte the features from target"
   ]
  },
  {
   "cell_type": "code",
   "execution_count": 18,
   "metadata": {},
   "outputs": [],
   "source": [
    "x = data.drop(['y'], axis = 1)"
   ]
  },
  {
   "cell_type": "code",
   "execution_count": 19,
   "metadata": {},
   "outputs": [],
   "source": [
    "y = data['y']"
   ]
  },
  {
   "cell_type": "code",
   "execution_count": 20,
   "metadata": {},
   "outputs": [],
   "source": [
    "y = y.to_numpy()"
   ]
  },
  {
   "cell_type": "code",
   "execution_count": 21,
   "metadata": {},
   "outputs": [
    {
     "data": {
      "text/plain": [
       "array([0, 0, 0, ..., 1, 0, 1], dtype=int64)"
      ]
     },
     "execution_count": 21,
     "metadata": {},
     "output_type": "execute_result"
    }
   ],
   "source": [
    "y"
   ]
  },
  {
   "cell_type": "code",
   "execution_count": 22,
   "metadata": {},
   "outputs": [],
   "source": [
    "##set one-hot for the category features"
   ]
  },
  {
   "cell_type": "code",
   "execution_count": 23,
   "metadata": {},
   "outputs": [
    {
     "data": {
      "text/html": [
       "<div>\n",
       "<style scoped>\n",
       "    .dataframe tbody tr th:only-of-type {\n",
       "        vertical-align: middle;\n",
       "    }\n",
       "\n",
       "    .dataframe tbody tr th {\n",
       "        vertical-align: top;\n",
       "    }\n",
       "\n",
       "    .dataframe thead th {\n",
       "        text-align: right;\n",
       "    }\n",
       "</style>\n",
       "<table border=\"1\" class=\"dataframe\">\n",
       "  <thead>\n",
       "    <tr style=\"text-align: right;\">\n",
       "      <th></th>\n",
       "      <th>index</th>\n",
       "      <th>cardinality</th>\n",
       "    </tr>\n",
       "  </thead>\n",
       "  <tbody>\n",
       "    <tr>\n",
       "      <th>0</th>\n",
       "      <td>Continent</td>\n",
       "      <td>3</td>\n",
       "    </tr>\n",
       "    <tr>\n",
       "      <th>1</th>\n",
       "      <td>Month</td>\n",
       "      <td>12</td>\n",
       "    </tr>\n",
       "    <tr>\n",
       "      <th>2</th>\n",
       "      <td>DayOfWeek</td>\n",
       "      <td>5</td>\n",
       "    </tr>\n",
       "  </tbody>\n",
       "</table>\n",
       "</div>"
      ],
      "text/plain": [
       "       index  cardinality\n",
       "0  Continent            3\n",
       "1      Month           12\n",
       "2  DayOfWeek            5"
      ]
     },
     "execution_count": 23,
     "metadata": {},
     "output_type": "execute_result"
    }
   ],
   "source": [
    "x[x.select_dtypes('category').columns].nunique().reset_index(name='cardinality')"
   ]
  },
  {
   "cell_type": "code",
   "execution_count": 24,
   "metadata": {},
   "outputs": [],
   "source": [
    "#ok, about an extra 20 features will come out.  \n",
    "#will need to put to an array, and then will need to cocatenate"
   ]
  },
  {
   "cell_type": "code",
   "execution_count": 25,
   "metadata": {},
   "outputs": [],
   "source": [
    "x1 = pd.get_dummies(x,prefix = ['Continent', 'Month', 'DayOfWeek'])"
   ]
  },
  {
   "cell_type": "code",
   "execution_count": 26,
   "metadata": {},
   "outputs": [
    {
     "name": "stdout",
     "output_type": "stream",
     "text": [
      "<class 'pandas.core.frame.DataFrame'>\n",
      "RangeIndex: 159912 entries, 0 to 159911\n",
      "Data columns (total 65 columns):\n",
      "x0                   159912 non-null float64\n",
      "x1                   159912 non-null float64\n",
      "x3                   159912 non-null float64\n",
      "x4                   159912 non-null float64\n",
      "x5                   159912 non-null float64\n",
      "x6                   159912 non-null float64\n",
      "x7                   159912 non-null float64\n",
      "x8                   159912 non-null float64\n",
      "x9                   159912 non-null float64\n",
      "x10                  159912 non-null float64\n",
      "x11                  159912 non-null float64\n",
      "x12                  159912 non-null float64\n",
      "x13                  159912 non-null float64\n",
      "x14                  159912 non-null float64\n",
      "x15                  159912 non-null float64\n",
      "x16                  159912 non-null float64\n",
      "x17                  159912 non-null float64\n",
      "x18                  159912 non-null float64\n",
      "x19                  159912 non-null float64\n",
      "x20                  159912 non-null float64\n",
      "x21                  159912 non-null float64\n",
      "x22                  159912 non-null float64\n",
      "x23                  159912 non-null float64\n",
      "x25                  159912 non-null float64\n",
      "x26                  159912 non-null float64\n",
      "x27                  159912 non-null float64\n",
      "x28                  159912 non-null float64\n",
      "x31                  159912 non-null float64\n",
      "x32                  159912 non-null float64\n",
      "x33                  159912 non-null float64\n",
      "x34                  159912 non-null float64\n",
      "x35                  159912 non-null float64\n",
      "x36                  159912 non-null float64\n",
      "Money                159912 non-null float64\n",
      "x39                  159912 non-null float64\n",
      "x40                  159912 non-null float64\n",
      "x41                  159912 non-null float64\n",
      "x42                  159912 non-null float64\n",
      "x43                  159912 non-null float64\n",
      "x44                  159912 non-null float64\n",
      "x45                  159912 non-null float64\n",
      "x46                  159912 non-null float64\n",
      "x47                  159912 non-null float64\n",
      "x48                  159912 non-null float64\n",
      "x49                  159912 non-null float64\n",
      "Continent_Asia       159912 non-null uint8\n",
      "Continent_America    159912 non-null uint8\n",
      "Continent_Europe     159912 non-null uint8\n",
      "Month_Jan            159912 non-null uint8\n",
      "Month_Feb            159912 non-null uint8\n",
      "Month_Mar            159912 non-null uint8\n",
      "Month_Apr            159912 non-null uint8\n",
      "Month_May            159912 non-null uint8\n",
      "Month_Jun            159912 non-null uint8\n",
      "Month_Jul            159912 non-null uint8\n",
      "Month_Aug            159912 non-null uint8\n",
      "Month_Sep            159912 non-null uint8\n",
      "Month_Oct            159912 non-null uint8\n",
      "Month_Nov            159912 non-null uint8\n",
      "Month_Dec            159912 non-null uint8\n",
      "DayOfWeek_Mon        159912 non-null uint8\n",
      "DayOfWeek_Tue        159912 non-null uint8\n",
      "DayOfWeek_Wed        159912 non-null uint8\n",
      "DayOfWeek_Thu        159912 non-null uint8\n",
      "DayOfWeek_Fri        159912 non-null uint8\n",
      "dtypes: float64(45), uint8(20)\n",
      "memory usage: 58.0 MB\n"
     ]
    }
   ],
   "source": [
    "x1.info()"
   ]
  },
  {
   "cell_type": "markdown",
   "metadata": {},
   "source": [
    "# scale"
   ]
  },
  {
   "cell_type": "code",
   "execution_count": 27,
   "metadata": {},
   "outputs": [
    {
     "name": "stderr",
     "output_type": "stream",
     "text": [
      "C:\\Users\\Brandon\\AppData\\Local\\Continuum\\anaconda3\\lib\\site-packages\\sklearn\\preprocessing\\data.py:334: DataConversionWarning: Data with input dtype uint8, float64 were all converted to float64 by MinMaxScaler.\n",
      "  return self.partial_fit(X, y)\n"
     ]
    }
   ],
   "source": [
    "\n",
    "\n",
    "scaler = MinMaxScaler(feature_range=(0,1))\n",
    "scaled_train = scaler.fit_transform(x1)\n",
    "\n",
    "# Print out the adjustment that the scaler applied to the lepton pT column of data\n",
    "#print(\"Note: median values were scaled by multiplying by {:.10f} and adding {:.6f}\".format(scaler.scale_[0],scaler.min_[0]))\n",
    "#multiplied_by = scaler.scale_[0]\n",
    "#added = scaler.min_[0]\n",
    "\n",
    "scaled_train_df = pd.DataFrame(scaled_train, columns = x1.columns)"
   ]
  },
  {
   "cell_type": "code",
   "execution_count": 28,
   "metadata": {},
   "outputs": [],
   "source": [
    "from keras.applications import Xception\n",
    "from keras.utils import multi_gpu_model"
   ]
  },
  {
   "cell_type": "code",
   "execution_count": 29,
   "metadata": {},
   "outputs": [],
   "source": [
    "mirrored_strategy = tf.distribute.MirroredStrategy(devices=[\"/gpu:0\", \"/gpu:1\"],\n",
    "                                          cross_device_ops=tf.distribute.HierarchicalCopyAllReduce())"
   ]
  },
  {
   "cell_type": "code",
   "execution_count": 30,
   "metadata": {},
   "outputs": [
    {
     "name": "stdout",
     "output_type": "stream",
     "text": [
      "Executing op RandomUniform in device /job:localhost/replica:0/task:0/device:GPU:0\n",
      "Executing op Sub in device /job:localhost/replica:0/task:0/device:GPU:0\n",
      "Executing op Mul in device /job:localhost/replica:0/task:0/device:GPU:0\n",
      "Executing op Add in device /job:localhost/replica:0/task:0/device:GPU:0\n",
      "Executing op VarHandleOp in device /job:localhost/replica:0/task:0/device:GPU:0\n",
      "Executing op VarIsInitializedOp in device /job:localhost/replica:0/task:0/device:GPU:0\n",
      "Executing op LogicalNot in device /job:localhost/replica:0/task:0/device:GPU:0\n",
      "Executing op Assert in device /job:localhost/replica:0/task:0/device:GPU:0\n",
      "Executing op AssignVariableOp in device /job:localhost/replica:0/task:0/device:GPU:0\n",
      "Executing op ReadVariableOp in device /job:localhost/replica:0/task:0/device:GPU:0\n",
      "Executing op VarHandleOp in device /job:localhost/replica:0/task:0/device:GPU:1\n",
      "Executing op VarIsInitializedOp in device /job:localhost/replica:0/task:0/device:GPU:1\n",
      "Executing op LogicalNot in device /job:localhost/replica:0/task:0/device:GPU:1\n",
      "Executing op Assert in device /job:localhost/replica:0/task:0/device:GPU:1\n",
      "Executing op AssignVariableOp in device /job:localhost/replica:0/task:0/device:GPU:1\n",
      "Executing op Fill in device /job:localhost/replica:0/task:0/device:GPU:0\n",
      "Executing op VarHandleOp in device /job:localhost/replica:0/task:0/device:GPU:0\n",
      "Executing op VarHandleOp in device /job:localhost/replica:0/task:0/device:GPU:1\n",
      "Executing op VarHandleOp in device /job:localhost/replica:0/task:0/device:GPU:0\n",
      "Executing op VarHandleOp in device /job:localhost/replica:0/task:0/device:GPU:1\n",
      "Executing op VarHandleOp in device /job:localhost/replica:0/task:0/device:GPU:0\n",
      "Executing op VarHandleOp in device /job:localhost/replica:0/task:0/device:GPU:1\n",
      "Executing op Reshape in device /job:localhost/replica:0/task:0/device:GPU:0\n",
      "Executing op VarHandleOp in device /job:localhost/replica:0/task:0/device:GPU:0\n",
      "Executing op VarHandleOp in device /job:localhost/replica:0/task:0/device:GPU:1\n",
      "Executing op VarHandleOp in device /job:localhost/replica:0/task:0/device:GPU:0\n",
      "Executing op VarHandleOp in device /job:localhost/replica:0/task:0/device:GPU:1\n",
      "INFO:tensorflow:Reduce to /job:localhost/replica:0/task:0/device:CPU:0 then broadcast to ('/job:localhost/replica:0/task:0/device:CPU:0',).\n",
      "INFO:tensorflow:Reduce to /job:localhost/replica:0/task:0/device:CPU:0 then broadcast to ('/job:localhost/replica:0/task:0/device:CPU:0',).\n"
     ]
    }
   ],
   "source": [
    "with mirrored_strategy.scope():\n",
    "    model_final = tf.keras.Sequential()\n",
    "    model_final.add(layers.Dense(300, input_dim = 65, activation = 'relu'))\n",
    "    model_final.add(layers.Dropout(0.5))\n",
    "    model_final.add(layers.Dense(300, activation = 'relu'))\n",
    "    model_final.add(layers.Dropout(0.1))\n",
    "    model_final.add(layers.Dense(300, activation = 'relu'))\n",
    "    model_final.add(layers.Dense(300, activation = 'relu'))\n",
    "    model_final.add(layers.Dense(300, activation = 'relu'))\n",
    "    model_final.add(layers.Dense(1, activation = 'sigmoid'))\n",
    "    \n",
    "    model_final.compile(optimizer=tf.optimizers.Adam(learning_rate = 0.01, decay = 0.0001),\n",
    "             loss=tf.keras.losses.BinaryCrossentropy(),\n",
    "             metrics=['accuracy'])\n",
    "    \n",
    "    log_dir = 'final_logs'\n",
    "    tb_random = TensorBoard(log_dir=log_dir, histogram_freq=1)"
   ]
  },
  {
   "cell_type": "code",
   "execution_count": 31,
   "metadata": {},
   "outputs": [],
   "source": [
    "with mirrored_strategy.scope():\n",
    "\n",
    "    x_train, x_test, y_train, y_test = train_test_split(scaled_train_df.values, y, test_size=0.20, random_state=102)"
   ]
  },
  {
   "cell_type": "code",
   "execution_count": 32,
   "metadata": {},
   "outputs": [
    {
     "name": "stdout",
     "output_type": "stream",
     "text": [
      "float64\n"
     ]
    }
   ],
   "source": [
    "print(x_train.dtype)"
   ]
  },
  {
   "cell_type": "code",
   "execution_count": 33,
   "metadata": {},
   "outputs": [
    {
     "name": "stdout",
     "output_type": "stream",
     "text": [
      "Executing op RangeDataset in device /job:localhost/replica:0/task:0/device:CPU:0\n",
      "Executing op RepeatDataset in device /job:localhost/replica:0/task:0/device:CPU:0\n",
      "Executing op MapDataset in device /job:localhost/replica:0/task:0/device:CPU:0\n",
      "Executing op PrefetchDataset in device /job:localhost/replica:0/task:0/device:CPU:0\n",
      "Executing op FlatMapDataset in device /job:localhost/replica:0/task:0/device:CPU:0\n",
      "Executing op TensorDataset in device /job:localhost/replica:0/task:0/device:CPU:0\n",
      "Executing op RepeatDataset in device /job:localhost/replica:0/task:0/device:CPU:0\n",
      "Executing op ZipDataset in device /job:localhost/replica:0/task:0/device:CPU:0\n",
      "Executing op ParallelMapDataset in device /job:localhost/replica:0/task:0/device:CPU:0\n",
      "Executing op MapDataset in device /job:localhost/replica:0/task:0/device:CPU:0\n",
      "Executing op PrefetchDataset in device /job:localhost/replica:0/task:0/device:CPU:0\n",
      "Executing op FlatMapDataset in device /job:localhost/replica:0/task:0/device:CPU:0\n",
      "Executing op TensorDataset in device /job:localhost/replica:0/task:0/device:CPU:0\n",
      "Executing op RepeatDataset in device /job:localhost/replica:0/task:0/device:CPU:0\n",
      "Executing op ZipDataset in device /job:localhost/replica:0/task:0/device:CPU:0\n",
      "Executing op ParallelMapDataset in device /job:localhost/replica:0/task:0/device:CPU:0\n",
      "Executing op DatasetCardinality in device /job:localhost/replica:0/task:0/device:CPU:0\n",
      "Executing op RebatchDataset in device /job:localhost/replica:0/task:0/device:CPU:0\n",
      "Executing op AutoShardDataset in device /job:localhost/replica:0/task:0/device:CPU:0\n",
      "Train on 127929 samples, validate on 31983 samples\n",
      "Executing op Add in device /job:localhost/replica:0/task:0/device:CPU:0\n",
      "Executing op SummaryWriter in device /job:localhost/replica:0/task:0/device:CPU:0\n",
      "Executing op CreateSummaryFileWriter in device /job:localhost/replica:0/task:0/device:CPU:0\n",
      "Executing op WriteGraphSummary in device /job:localhost/replica:0/task:0/device:CPU:0\n",
      "Executing op LogicalAnd in device /job:localhost/replica:0/task:0/device:CPU:0\n",
      "Executing op WriteSummary in device /job:localhost/replica:0/task:0/device:CPU:0\n",
      "Executing op FlushSummaryWriter in device /job:localhost/replica:0/task:0/device:CPU:0\n",
      "Epoch 1/200\n",
      "Executing op OptimizeDataset in device /job:localhost/replica:0/task:0/device:CPU:0\n",
      "Executing op ModelDataset in device /job:localhost/replica:0/task:0/device:CPU:0\n",
      "Executing op MultiDeviceIterator in device /job:localhost/replica:0/task:0/device:CPU:0\n",
      "Executing op MultiDeviceIteratorInit in device /job:localhost/replica:0/task:0/device:CPU:0\n",
      "Executing op MultiDeviceIteratorToStringHandle in device /job:localhost/replica:0/task:0/device:CPU:0\n",
      "Executing op GeneratorDataset in device /job:localhost/replica:0/task:0/device:GPU:0\n",
      "Executing op GeneratorDataset in device /job:localhost/replica:0/task:0/device:GPU:1\n",
      "Executing op PrefetchDataset in device /job:localhost/replica:0/task:0/device:GPU:0\n",
      "Executing op AnonymousIteratorV2 in device /job:localhost/replica:0/task:0/device:GPU:0\n",
      "Executing op MakeIterator in device /job:localhost/replica:0/task:0/device:GPU:0\n",
      "Executing op PrefetchDataset in device /job:localhost/replica:0/task:0/device:GPU:1\n",
      "Executing op AnonymousIteratorV2 in device /job:localhost/replica:0/task:0/device:GPU:1\n",
      "Executing op MakeIterator in device /job:localhost/replica:0/task:0/device:GPU:1\n",
      "Executing op VarHandleOp in device /job:localhost/replica:0/task:0/device:GPU:0\n",
      "Executing op AssignVariableOp in device /job:localhost/replica:0/task:0/device:GPU:0\n",
      "Executing op ReadVariableOp in device /job:localhost/replica:0/task:0/device:GPU:0\n",
      "Executing op VarHandleOp in device /job:localhost/replica:0/task:0/device:GPU:1\n",
      "Executing op AssignVariableOp in device /job:localhost/replica:0/task:0/device:GPU:1\n",
      "Executing op VarHandleOp in device /job:localhost/replica:0/task:0/device:GPU:0\n",
      "Executing op VarHandleOp in device /job:localhost/replica:0/task:0/device:GPU:1\n",
      "Executing op VarHandleOp in device /job:localhost/replica:0/task:0/device:GPU:0\n",
      "Executing op VarHandleOp in device /job:localhost/replica:0/task:0/device:GPU:1\n",
      "Executing op VarHandleOp in device /job:localhost/replica:0/task:0/device:GPU:0\n",
      "Executing op VarHandleOp in device /job:localhost/replica:0/task:0/device:GPU:1\n",
      "Executing op VarHandleOp in device /job:localhost/replica:0/task:0/device:GPU:0\n",
      "Executing op VarHandleOp in device /job:localhost/replica:0/task:0/device:GPU:1\n",
      "Executing op Fill in device /job:localhost/replica:0/task:0/device:GPU:0\n",
      "Executing op VarHandleOp in device /job:localhost/replica:0/task:0/device:GPU:0\n",
      "Executing op VarHandleOp in device /job:localhost/replica:0/task:0/device:GPU:1\n",
      "Executing op VarHandleOp in device /job:localhost/replica:0/task:0/device:GPU:0\n",
      "Executing op VarHandleOp in device /job:localhost/replica:0/task:0/device:GPU:1\n",
      "Executing op VarHandleOp in device /job:localhost/replica:0/task:0/device:GPU:0\n",
      "Executing op VarHandleOp in device /job:localhost/replica:0/task:0/device:GPU:1\n",
      "Executing op VarHandleOp in device /job:localhost/replica:0/task:0/device:GPU:0\n",
      "Executing op VarHandleOp in device /job:localhost/replica:0/task:0/device:GPU:1\n",
      "Executing op VarHandleOp in device /job:localhost/replica:0/task:0/device:GPU:0\n",
      "Executing op VarHandleOp in device /job:localhost/replica:0/task:0/device:GPU:1\n",
      "Executing op VarHandleOp in device /job:localhost/replica:0/task:0/device:GPU:0\n",
      "Executing op VarHandleOp in device /job:localhost/replica:0/task:0/device:GPU:1\n",
      "Executing op VarHandleOp in device /job:localhost/replica:0/task:0/device:GPU:0\n",
      "Executing op VarHandleOp in device /job:localhost/replica:0/task:0/device:GPU:1\n",
      "Executing op VarHandleOp in device /job:localhost/replica:0/task:0/device:GPU:0\n",
      "Executing op VarHandleOp in device /job:localhost/replica:0/task:0/device:GPU:1\n",
      "Executing op VarHandleOp in device /job:localhost/replica:0/task:0/device:GPU:0\n",
      "Executing op VarHandleOp in device /job:localhost/replica:0/task:0/device:GPU:1\n",
      "Executing op VarHandleOp in device /job:localhost/replica:0/task:0/device:GPU:0\n",
      "Executing op VarHandleOp in device /job:localhost/replica:0/task:0/device:GPU:1\n",
      "Executing op VarHandleOp in device /job:localhost/replica:0/task:0/device:GPU:0\n",
      "Executing op VarHandleOp in device /job:localhost/replica:0/task:0/device:GPU:1\n",
      "Executing op Reshape in device /job:localhost/replica:0/task:0/device:GPU:0\n",
      "Executing op VarHandleOp in device /job:localhost/replica:0/task:0/device:GPU:0\n",
      "Executing op VarHandleOp in device /job:localhost/replica:0/task:0/device:GPU:1\n",
      "Executing op VarHandleOp in device /job:localhost/replica:0/task:0/device:GPU:0\n",
      "Executing op VarHandleOp in device /job:localhost/replica:0/task:0/device:GPU:1\n",
      "Executing op VarHandleOp in device /job:localhost/replica:0/task:0/device:GPU:0\n",
      "Executing op VarHandleOp in device /job:localhost/replica:0/task:0/device:GPU:1\n",
      "Executing op VarHandleOp in device /job:localhost/replica:0/task:0/device:GPU:0\n",
      "Executing op VarHandleOp in device /job:localhost/replica:0/task:0/device:GPU:1\n",
      "Executing op VarHandleOp in device /job:localhost/replica:0/task:0/device:GPU:0\n",
      "Executing op VarHandleOp in device /job:localhost/replica:0/task:0/device:GPU:1\n",
      "Executing op VarHandleOp in device /job:localhost/replica:0/task:0/device:GPU:0\n",
      "Executing op VarHandleOp in device /job:localhost/replica:0/task:0/device:GPU:1\n",
      "Executing op VarHandleOp in device /job:localhost/replica:0/task:0/device:GPU:0\n",
      "Executing op VarHandleOp in device /job:localhost/replica:0/task:0/device:GPU:1\n",
      "Executing op VarHandleOp in device /job:localhost/replica:0/task:0/device:GPU:0\n",
      "Executing op VarHandleOp in device /job:localhost/replica:0/task:0/device:GPU:1\n",
      "Executing op VarHandleOp in device /job:localhost/replica:0/task:0/device:GPU:0\n",
      "Executing op VarHandleOp in device /job:localhost/replica:0/task:0/device:GPU:1\n",
      "Executing op VarHandleOp in device /job:localhost/replica:0/task:0/device:GPU:0\n",
      "Executing op VarHandleOp in device /job:localhost/replica:0/task:0/device:GPU:1\n",
      "Executing op VarHandleOp in device /job:localhost/replica:0/task:0/device:GPU:0\n",
      "Executing op VarHandleOp in device /job:localhost/replica:0/task:0/device:GPU:1\n",
      "Executing op VarHandleOp in device /job:localhost/replica:0/task:0/device:GPU:0\n",
      "Executing op VarHandleOp in device /job:localhost/replica:0/task:0/device:GPU:1\n"
     ]
    },
    {
     "name": "stdout",
     "output_type": "stream",
     "text": [
      "Executing op VarHandleOp in device /job:localhost/replica:0/task:0/device:GPU:0\n",
      "Executing op VarHandleOp in device /job:localhost/replica:0/task:0/device:GPU:1\n",
      "INFO:tensorflow:batch_all_reduce: 12 all-reduces with algorithm = hierarchical_copy, num_packs = 1, agg_small_grads_max_bytes = 0 and agg_small_grads_max_group = 10\n",
      "INFO:tensorflow:Reduce to /job:localhost/replica:0/task:0/device:CPU:0 then broadcast to ('/job:localhost/replica:0/task:0/device:CPU:0',).\n",
      "INFO:tensorflow:Reduce to /job:localhost/replica:0/task:0/device:CPU:0 then broadcast to ('/job:localhost/replica:0/task:0/device:CPU:0',).\n",
      "INFO:tensorflow:Reduce to /job:localhost/replica:0/task:0/device:CPU:0 then broadcast to ('/job:localhost/replica:0/task:0/device:CPU:0',).\n",
      "INFO:tensorflow:Reduce to /job:localhost/replica:0/task:0/device:CPU:0 then broadcast to ('/job:localhost/replica:0/task:0/device:CPU:0',).\n",
      "Executing op __inference_initialize_variables_2235 in device /job:localhost/replica:0/task:0/device:GPU:0\n",
      "INFO:tensorflow:batch_all_reduce: 12 all-reduces with algorithm = hierarchical_copy, num_packs = 1, agg_small_grads_max_bytes = 0 and agg_small_grads_max_group = 10\n",
      "INFO:tensorflow:Reduce to /job:localhost/replica:0/task:0/device:CPU:0 then broadcast to ('/job:localhost/replica:0/task:0/device:CPU:0',).\n",
      "INFO:tensorflow:Reduce to /job:localhost/replica:0/task:0/device:CPU:0 then broadcast to ('/job:localhost/replica:0/task:0/device:CPU:0',).\n",
      "INFO:tensorflow:Reduce to /job:localhost/replica:0/task:0/device:CPU:0 then broadcast to ('/job:localhost/replica:0/task:0/device:CPU:0',).\n",
      "INFO:tensorflow:Reduce to /job:localhost/replica:0/task:0/device:CPU:0 then broadcast to ('/job:localhost/replica:0/task:0/device:CPU:0',).\n",
      "Executing op __inference_distributed_function_3232 in device /job:localhost/replica:0/task:0/device:GPU:0\n",
      "  1000/127929 [..............................] - ETA: 18:10 - loss: 0.6881 - accuracy: 0.5790WARNING:tensorflow:Method (on_train_batch_end) is slow compared to the batch update (0.196168). Check your callbacks.\n",
      "124000/127929 [============================>.] - ETA: 0s - loss: 0.7443 - accuracy: 0.6217Executing op GeneratorDataset in device /job:localhost/replica:0/task:0/device:GPU:0\n",
      "Executing op GeneratorDataset in device /job:localhost/replica:0/task:0/device:GPU:1\n",
      "Executing op __inference_distributed_function_4046 in device /job:localhost/replica:0/task:0/device:GPU:0\n",
      "Executing op WriteScalarSummary in device /job:localhost/replica:0/task:0/device:CPU:0\n",
      "Executing op WriteScalarSummary in device /job:localhost/replica:0/task:0/device:CPU:0\n",
      "Executing op WriteHistogramSummary in device /job:localhost/replica:0/task:0/device:CPU:0\n",
      "127929/127929 [==============================] - 13s 99us/sample - loss: 0.7401 - accuracy: 0.6229 - val_loss: 0.5789 - val_accuracy: 0.7047\n",
      "Epoch 2/200\n",
      "127929/127929 [==============================] - 1s 8us/sample - loss: 0.5921 - accuracy: 0.6708 - val_loss: 0.5915 - val_accuracy: 0.6867\n",
      "Epoch 3/200\n",
      "127929/127929 [==============================] - 1s 8us/sample - loss: 0.6054 - accuracy: 0.6444 - val_loss: 0.5765 - val_accuracy: 0.7019\n",
      "Epoch 4/200\n",
      "127929/127929 [==============================] - 1s 8us/sample - loss: 0.5983 - accuracy: 0.6483 - val_loss: 0.5719 - val_accuracy: 0.7026\n",
      "Epoch 5/200\n",
      "127929/127929 [==============================] - 1s 8us/sample - loss: 0.5942 - accuracy: 0.6473 - val_loss: 0.5565 - val_accuracy: 0.7070\n",
      "Epoch 6/200\n",
      "127929/127929 [==============================] - 1s 7us/sample - loss: 0.5916 - accuracy: 0.6477 - val_loss: 0.5528 - val_accuracy: 0.7102\n",
      "Epoch 7/200\n",
      "127929/127929 [==============================] - 1s 7us/sample - loss: 0.5889 - accuracy: 0.6496 - val_loss: 0.5927 - val_accuracy: 0.6942\n",
      "Epoch 8/200\n",
      "127929/127929 [==============================] - 1s 7us/sample - loss: 0.5908 - accuracy: 0.6455 - val_loss: 0.5880 - val_accuracy: 0.7071\n",
      "Epoch 9/200\n",
      "127929/127929 [==============================] - 1s 7us/sample - loss: 0.5853 - accuracy: 0.6514 - val_loss: 0.5853 - val_accuracy: 0.6908\n",
      "Epoch 10/200\n",
      "127929/127929 [==============================] - 1s 7us/sample - loss: 0.5876 - accuracy: 0.6502 - val_loss: 0.5955 - val_accuracy: 0.6695\n",
      "Epoch 11/200\n",
      "127929/127929 [==============================] - 1s 7us/sample - loss: 0.5871 - accuracy: 0.6499 - val_loss: 0.5778 - val_accuracy: 0.6862\n",
      "Epoch 12/200\n",
      "127929/127929 [==============================] - 1s 7us/sample - loss: 0.5846 - accuracy: 0.6509 - val_loss: 0.5947 - val_accuracy: 0.6947\n",
      "Epoch 13/200\n",
      "127929/127929 [==============================] - 1s 7us/sample - loss: 0.5854 - accuracy: 0.6501 - val_loss: 0.6024 - val_accuracy: 0.6955\n",
      "Epoch 14/200\n",
      "127929/127929 [==============================] - 1s 7us/sample - loss: 0.5829 - accuracy: 0.6519 - val_loss: 0.5877 - val_accuracy: 0.6925\n",
      "Epoch 15/200\n",
      "127929/127929 [==============================] - 1s 7us/sample - loss: 0.5839 - accuracy: 0.6498 - val_loss: 0.6102 - val_accuracy: 0.6750\n",
      "Epoch 16/200\n",
      "127929/127929 [==============================] - 1s 7us/sample - loss: 0.5828 - accuracy: 0.6528 - val_loss: 0.6165 - val_accuracy: 0.6549\n",
      "Epoch 17/200\n",
      "127929/127929 [==============================] - 1s 7us/sample - loss: 0.5819 - accuracy: 0.6681 - val_loss: 0.7194 - val_accuracy: 0.5259\n",
      "Epoch 18/200\n",
      "127929/127929 [==============================] - 1s 7us/sample - loss: 0.5733 - accuracy: 0.6856 - val_loss: 0.7721 - val_accuracy: 0.4373\n",
      "Epoch 19/200\n",
      "127929/127929 [==============================] - 1s 7us/sample - loss: 0.5685 - accuracy: 0.6943 - val_loss: 0.9299 - val_accuracy: 0.4261\n",
      "Epoch 20/200\n",
      "127929/127929 [==============================] - 1s 7us/sample - loss: 0.5664 - accuracy: 0.6981 - val_loss: 0.9717 - val_accuracy: 0.4223\n",
      "Epoch 21/200\n",
      "127929/127929 [==============================] - 1s 7us/sample - loss: 0.5629 - accuracy: 0.7014 - val_loss: 1.1484 - val_accuracy: 0.4143\n",
      "Epoch 22/200\n",
      "127929/127929 [==============================] - 1s 7us/sample - loss: 0.5646 - accuracy: 0.6996 - val_loss: 1.0918 - val_accuracy: 0.4384\n",
      "Epoch 23/200\n",
      "127929/127929 [==============================] - 1s 7us/sample - loss: 0.5588 - accuracy: 0.7056 - val_loss: 1.0313 - val_accuracy: 0.4290\n",
      "Epoch 24/200\n",
      "127929/127929 [==============================] - 1s 7us/sample - loss: 0.5609 - accuracy: 0.7028 - val_loss: 1.0061 - val_accuracy: 0.4279\n",
      "Epoch 25/200\n",
      "127929/127929 [==============================] - 1s 7us/sample - loss: 0.5601 - accuracy: 0.7040 - val_loss: 1.0097 - val_accuracy: 0.4551\n",
      "Epoch 26/200\n",
      "127929/127929 [==============================] - 1s 7us/sample - loss: 0.5599 - accuracy: 0.7046 - val_loss: 1.1152 - val_accuracy: 0.4502\n",
      "Epoch 27/200\n",
      "127929/127929 [==============================] - 1s 7us/sample - loss: 0.5614 - accuracy: 0.7043 - val_loss: 1.0466 - val_accuracy: 0.4283\n",
      "Epoch 28/200\n",
      "127929/127929 [==============================] - 1s 7us/sample - loss: 0.5582 - accuracy: 0.7067 - val_loss: 1.2724 - val_accuracy: 0.4260\n",
      "Epoch 29/200\n",
      "127929/127929 [==============================] - 1s 7us/sample - loss: 0.5586 - accuracy: 0.7062 - val_loss: 1.0577 - val_accuracy: 0.4226\n",
      "Epoch 30/200\n",
      "127929/127929 [==============================] - 1s 7us/sample - loss: 0.5568 - accuracy: 0.7070 - val_loss: 1.3197 - val_accuracy: 0.4072\n",
      "Epoch 31/200\n",
      "127929/127929 [==============================] - 1s 7us/sample - loss: 0.5571 - accuracy: 0.7063 - val_loss: 1.0625 - val_accuracy: 0.4184\n",
      "Epoch 32/200\n",
      "127929/127929 [==============================] - 1s 7us/sample - loss: 0.5588 - accuracy: 0.7060 - val_loss: 1.1196 - val_accuracy: 0.4315\n",
      "Epoch 33/200\n",
      "127929/127929 [==============================] - 1s 7us/sample - loss: 0.5571 - accuracy: 0.7092 - val_loss: 1.1790 - val_accuracy: 0.4272\n",
      "Epoch 34/200\n",
      "127929/127929 [==============================] - 1s 7us/sample - loss: 0.5567 - accuracy: 0.7071 - val_loss: 1.1235 - val_accuracy: 0.4072\n",
      "Epoch 35/200\n",
      "127929/127929 [==============================] - 1s 7us/sample - loss: 0.5537 - accuracy: 0.7113 - val_loss: 1.1718 - val_accuracy: 0.4121\n",
      "Epoch 36/200\n",
      "127929/127929 [==============================] - 1s 7us/sample - loss: 0.5561 - accuracy: 0.7099 - val_loss: 1.2123 - val_accuracy: 0.4109\n",
      "Epoch 37/200\n"
     ]
    },
    {
     "name": "stdout",
     "output_type": "stream",
     "text": [
      "127929/127929 [==============================] - 1s 7us/sample - loss: 0.5529 - accuracy: 0.7124 - val_loss: 1.3373 - val_accuracy: 0.4055\n",
      "Epoch 38/200\n",
      "127929/127929 [==============================] - 1s 7us/sample - loss: 0.5544 - accuracy: 0.7109 - val_loss: 1.2338 - val_accuracy: 0.4005\n",
      "Epoch 39/200\n",
      "127929/127929 [==============================] - 1s 7us/sample - loss: 0.5537 - accuracy: 0.7108 - val_loss: 1.2894 - val_accuracy: 0.3993\n",
      "Epoch 40/200\n",
      "127929/127929 [==============================] - 1s 7us/sample - loss: 0.5527 - accuracy: 0.7110 - val_loss: 1.1954 - val_accuracy: 0.4066\n",
      "Epoch 41/200\n",
      "127929/127929 [==============================] - 1s 7us/sample - loss: 0.5526 - accuracy: 0.7125 - val_loss: 1.2559 - val_accuracy: 0.4039\n",
      "Epoch 42/200\n",
      "127929/127929 [==============================] - 1s 7us/sample - loss: 0.5548 - accuracy: 0.7111 - val_loss: 0.9974 - val_accuracy: 0.3847\n",
      "Epoch 43/200\n",
      "127929/127929 [==============================] - 1s 7us/sample - loss: 0.5497 - accuracy: 0.7171 - val_loss: 1.2679 - val_accuracy: 0.4005\n",
      "Epoch 44/200\n",
      "127929/127929 [==============================] - 1s 7us/sample - loss: 0.5489 - accuracy: 0.7174 - val_loss: 1.0963 - val_accuracy: 0.4080\n",
      "Epoch 45/200\n",
      "127929/127929 [==============================] - 1s 7us/sample - loss: 0.5471 - accuracy: 0.7212 - val_loss: 1.0517 - val_accuracy: 0.4450\n",
      "Epoch 46/200\n",
      "127929/127929 [==============================] - 1s 7us/sample - loss: 0.5461 - accuracy: 0.7196 - val_loss: 1.2493 - val_accuracy: 0.3822\n",
      "Epoch 47/200\n",
      "127929/127929 [==============================] - 1s 7us/sample - loss: 0.5477 - accuracy: 0.7184 - val_loss: 0.9883 - val_accuracy: 0.4493\n",
      "Epoch 48/200\n",
      "127929/127929 [==============================] - 1s 7us/sample - loss: 0.5443 - accuracy: 0.7218 - val_loss: 1.1334 - val_accuracy: 0.4351\n",
      "Epoch 49/200\n",
      "127929/127929 [==============================] - 1s 7us/sample - loss: 0.5436 - accuracy: 0.7210 - val_loss: 1.1504 - val_accuracy: 0.4182\n",
      "Epoch 50/200\n",
      "127929/127929 [==============================] - 1s 7us/sample - loss: 0.5443 - accuracy: 0.7214 - val_loss: 1.2392 - val_accuracy: 0.4104\n",
      "Epoch 51/200\n",
      "127929/127929 [==============================] - 1s 8us/sample - loss: 0.5452 - accuracy: 0.7209 - val_loss: 1.2567 - val_accuracy: 0.4027\n",
      "Epoch 52/200\n",
      "127929/127929 [==============================] - 1s 7us/sample - loss: 0.5433 - accuracy: 0.7225 - val_loss: 1.1699 - val_accuracy: 0.4240\n",
      "Epoch 53/200\n",
      "127929/127929 [==============================] - 1s 7us/sample - loss: 0.5450 - accuracy: 0.7218 - val_loss: 1.1850 - val_accuracy: 0.4167\n",
      "Epoch 54/200\n",
      "127929/127929 [==============================] - 1s 7us/sample - loss: 0.5471 - accuracy: 0.7197 - val_loss: 1.0911 - val_accuracy: 0.4232\n",
      "Epoch 55/200\n",
      "127929/127929 [==============================] - 1s 7us/sample - loss: 0.5438 - accuracy: 0.7225 - val_loss: 1.2713 - val_accuracy: 0.4294\n",
      "Epoch 56/200\n",
      "127929/127929 [==============================] - 1s 7us/sample - loss: 0.5436 - accuracy: 0.7217 - val_loss: 1.2063 - val_accuracy: 0.4090\n",
      "Epoch 57/200\n",
      "127929/127929 [==============================] - 1s 7us/sample - loss: 0.5431 - accuracy: 0.7231 - val_loss: 0.9983 - val_accuracy: 0.4667\n",
      "Epoch 58/200\n",
      "127929/127929 [==============================] - 1s 7us/sample - loss: 0.5440 - accuracy: 0.7217 - val_loss: 1.2433 - val_accuracy: 0.4235\n",
      "Epoch 59/200\n",
      "127929/127929 [==============================] - 1s 7us/sample - loss: 0.5404 - accuracy: 0.7256 - val_loss: 1.0240 - val_accuracy: 0.4529\n",
      "Epoch 60/200\n",
      "127929/127929 [==============================] - 1s 7us/sample - loss: 0.5407 - accuracy: 0.7245 - val_loss: 1.1578 - val_accuracy: 0.4817\n",
      "Epoch 61/200\n",
      "127929/127929 [==============================] - 1s 7us/sample - loss: 0.5407 - accuracy: 0.7233 - val_loss: 1.3159 - val_accuracy: 0.4230\n",
      "Epoch 62/200\n",
      "127929/127929 [==============================] - 1s 7us/sample - loss: 0.5420 - accuracy: 0.7229 - val_loss: 1.2574 - val_accuracy: 0.4150\n",
      "Epoch 63/200\n",
      "127929/127929 [==============================] - 1s 7us/sample - loss: 0.5401 - accuracy: 0.7253 - val_loss: 1.2187 - val_accuracy: 0.4361\n",
      "Epoch 64/200\n",
      "127929/127929 [==============================] - 1s 7us/sample - loss: 0.5423 - accuracy: 0.7224 - val_loss: 1.0097 - val_accuracy: 0.4168\n",
      "Epoch 65/200\n",
      "127929/127929 [==============================] - 1s 7us/sample - loss: 0.5413 - accuracy: 0.7250 - val_loss: 1.2131 - val_accuracy: 0.4349\n",
      "Epoch 66/200\n",
      "127929/127929 [==============================] - 1s 7us/sample - loss: 0.5416 - accuracy: 0.7239 - val_loss: 1.1878 - val_accuracy: 0.4305\n",
      "Epoch 67/200\n",
      "127929/127929 [==============================] - 1s 7us/sample - loss: 0.5423 - accuracy: 0.7227 - val_loss: 1.0526 - val_accuracy: 0.4859\n",
      "Epoch 68/200\n",
      "127929/127929 [==============================] - 1s 7us/sample - loss: 0.5439 - accuracy: 0.7223 - val_loss: 1.1193 - val_accuracy: 0.4700\n",
      "Epoch 69/200\n",
      "127929/127929 [==============================] - 1s 7us/sample - loss: 0.5406 - accuracy: 0.7237 - val_loss: 1.1318 - val_accuracy: 0.4374\n",
      "Epoch 70/200\n",
      "127929/127929 [==============================] - 1s 7us/sample - loss: 0.5391 - accuracy: 0.7261 - val_loss: 1.2466 - val_accuracy: 0.4364\n",
      "Epoch 71/200\n",
      "127929/127929 [==============================] - 1s 7us/sample - loss: 0.5410 - accuracy: 0.7250 - val_loss: 1.1186 - val_accuracy: 0.4437\n",
      "Epoch 72/200\n",
      "127929/127929 [==============================] - 1s 8us/sample - loss: 0.5406 - accuracy: 0.7260 - val_loss: 1.1877 - val_accuracy: 0.4355\n",
      "Epoch 73/200\n",
      "127929/127929 [==============================] - 1s 8us/sample - loss: 0.5399 - accuracy: 0.7261 - val_loss: 1.2035 - val_accuracy: 0.4311\n",
      "Epoch 74/200\n",
      "127929/127929 [==============================] - 1s 8us/sample - loss: 0.5393 - accuracy: 0.7247 - val_loss: 1.0664 - val_accuracy: 0.4482\n",
      "Epoch 75/200\n",
      "127929/127929 [==============================] - 1s 7us/sample - loss: 0.5399 - accuracy: 0.7241 - val_loss: 1.3930 - val_accuracy: 0.4369\n",
      "Epoch 76/200\n",
      "127929/127929 [==============================] - 1s 8us/sample - loss: 0.5396 - accuracy: 0.7253 - val_loss: 1.0759 - val_accuracy: 0.4624\n",
      "Epoch 77/200\n",
      "127929/127929 [==============================] - 1s 7us/sample - loss: 0.5397 - accuracy: 0.7262 - val_loss: 1.1390 - val_accuracy: 0.4252\n",
      "Epoch 78/200\n",
      "127929/127929 [==============================] - 1s 7us/sample - loss: 0.5402 - accuracy: 0.7248 - val_loss: 1.0791 - val_accuracy: 0.4670\n",
      "Epoch 79/200\n",
      "127929/127929 [==============================] - 1s 7us/sample - loss: 0.5363 - accuracy: 0.7280 - val_loss: 1.3011 - val_accuracy: 0.4374\n",
      "Epoch 80/200\n",
      "127929/127929 [==============================] - 1s 7us/sample - loss: 0.5397 - accuracy: 0.7247 - val_loss: 1.0639 - val_accuracy: 0.4915\n",
      "Epoch 81/200\n",
      "127929/127929 [==============================] - 1s 8us/sample - loss: 0.5421 - accuracy: 0.7231 - val_loss: 0.9805 - val_accuracy: 0.4833\n",
      "Epoch 82/200\n",
      "127929/127929 [==============================] - 1s 7us/sample - loss: 0.5384 - accuracy: 0.7261 - val_loss: 1.0734 - val_accuracy: 0.4834\n",
      "Epoch 83/200\n",
      "127929/127929 [==============================] - 1s 8us/sample - loss: 0.5379 - accuracy: 0.7262 - val_loss: 1.1334 - val_accuracy: 0.4670\n",
      "Epoch 84/200\n",
      "127929/127929 [==============================] - 1s 7us/sample - loss: 0.5399 - accuracy: 0.7247 - val_loss: 1.1900 - val_accuracy: 0.4398\n",
      "Epoch 85/200\n",
      "127929/127929 [==============================] - 1s 7us/sample - loss: 0.5403 - accuracy: 0.7236 - val_loss: 1.0847 - val_accuracy: 0.4615\n",
      "Epoch 86/200\n",
      "127929/127929 [==============================] - 1s 7us/sample - loss: 0.5397 - accuracy: 0.7249 - val_loss: 1.0047 - val_accuracy: 0.4925\n",
      "Epoch 87/200\n",
      "127929/127929 [==============================] - 1s 7us/sample - loss: 0.5398 - accuracy: 0.7255 - val_loss: 1.0700 - val_accuracy: 0.4694\n",
      "Epoch 88/200\n",
      "127929/127929 [==============================] - 1s 7us/sample - loss: 0.5403 - accuracy: 0.7247 - val_loss: 1.1769 - val_accuracy: 0.4541\n",
      "Epoch 89/200\n",
      "127929/127929 [==============================] - 1s 7us/sample - loss: 0.5382 - accuracy: 0.7253 - val_loss: 1.0213 - val_accuracy: 0.4621\n",
      "Epoch 90/200\n",
      "127929/127929 [==============================] - 1s 7us/sample - loss: 0.5405 - accuracy: 0.7242 - val_loss: 1.2668 - val_accuracy: 0.4495\n"
     ]
    },
    {
     "name": "stdout",
     "output_type": "stream",
     "text": [
      "Epoch 91/200\n",
      "127929/127929 [==============================] - 1s 7us/sample - loss: 0.5387 - accuracy: 0.7259 - val_loss: 1.2431 - val_accuracy: 0.4395\n",
      "Epoch 92/200\n",
      "127929/127929 [==============================] - 1s 7us/sample - loss: 0.5389 - accuracy: 0.7262 - val_loss: 1.1130 - val_accuracy: 0.4445\n",
      "Epoch 93/200\n",
      "127929/127929 [==============================] - 1s 7us/sample - loss: 0.5404 - accuracy: 0.7252 - val_loss: 1.1336 - val_accuracy: 0.4271\n",
      "Epoch 94/200\n",
      "127929/127929 [==============================] - 1s 7us/sample - loss: 0.5393 - accuracy: 0.7254 - val_loss: 0.9983 - val_accuracy: 0.5020\n",
      "Epoch 95/200\n",
      "127929/127929 [==============================] - 1s 7us/sample - loss: 0.5396 - accuracy: 0.7250 - val_loss: 1.0981 - val_accuracy: 0.4632\n",
      "Epoch 96/200\n",
      "127929/127929 [==============================] - 1s 7us/sample - loss: 0.5395 - accuracy: 0.7257 - val_loss: 0.9375 - val_accuracy: 0.5060\n",
      "Epoch 97/200\n",
      "127929/127929 [==============================] - 1s 7us/sample - loss: 0.5383 - accuracy: 0.7267 - val_loss: 1.0948 - val_accuracy: 0.4468\n",
      "Epoch 98/200\n",
      "127929/127929 [==============================] - 1s 7us/sample - loss: 0.5371 - accuracy: 0.7258 - val_loss: 1.0464 - val_accuracy: 0.4799\n",
      "Epoch 99/200\n",
      "127929/127929 [==============================] - 1s 7us/sample - loss: 0.5380 - accuracy: 0.7271 - val_loss: 1.0340 - val_accuracy: 0.4533\n",
      "Epoch 100/200\n",
      "127929/127929 [==============================] - 1s 7us/sample - loss: 0.5395 - accuracy: 0.7252 - val_loss: 1.2021 - val_accuracy: 0.4428\n",
      "Epoch 101/200\n",
      "127929/127929 [==============================] - 1s 7us/sample - loss: 0.5384 - accuracy: 0.7259 - val_loss: 1.0192 - val_accuracy: 0.4803\n",
      "Epoch 102/200\n",
      "127929/127929 [==============================] - 1s 7us/sample - loss: 0.5391 - accuracy: 0.7252 - val_loss: 1.0757 - val_accuracy: 0.4478\n",
      "Epoch 103/200\n",
      "127929/127929 [==============================] - 1s 7us/sample - loss: 0.5400 - accuracy: 0.7257 - val_loss: 1.0590 - val_accuracy: 0.4873\n",
      "Epoch 104/200\n",
      "127929/127929 [==============================] - 1s 8us/sample - loss: 0.5384 - accuracy: 0.7261 - val_loss: 1.0185 - val_accuracy: 0.5035\n",
      "Epoch 105/200\n",
      "127929/127929 [==============================] - 1s 8us/sample - loss: 0.5377 - accuracy: 0.7263 - val_loss: 0.9133 - val_accuracy: 0.5290\n",
      "Epoch 106/200\n",
      "127929/127929 [==============================] - 1s 8us/sample - loss: 0.5379 - accuracy: 0.7257 - val_loss: 1.0519 - val_accuracy: 0.5064\n",
      "Epoch 107/200\n",
      "127929/127929 [==============================] - 1s 7us/sample - loss: 0.5381 - accuracy: 0.7262 - val_loss: 1.0698 - val_accuracy: 0.4693\n",
      "Epoch 108/200\n",
      "127929/127929 [==============================] - 1s 8us/sample - loss: 0.5365 - accuracy: 0.7270 - val_loss: 1.1341 - val_accuracy: 0.4812\n",
      "Epoch 109/200\n",
      "127929/127929 [==============================] - 1s 7us/sample - loss: 0.5392 - accuracy: 0.7254 - val_loss: 0.9441 - val_accuracy: 0.5047\n",
      "Epoch 110/200\n",
      "127929/127929 [==============================] - 1s 7us/sample - loss: 0.5379 - accuracy: 0.7267 - val_loss: 1.0526 - val_accuracy: 0.4583\n",
      "Epoch 111/200\n",
      "127929/127929 [==============================] - 1s 7us/sample - loss: 0.5380 - accuracy: 0.7268 - val_loss: 1.2227 - val_accuracy: 0.4624\n",
      "Epoch 112/200\n",
      "127929/127929 [==============================] - 1s 7us/sample - loss: 0.5370 - accuracy: 0.7270 - val_loss: 1.0353 - val_accuracy: 0.4795\n",
      "Epoch 113/200\n",
      "127929/127929 [==============================] - 1s 7us/sample - loss: 0.5373 - accuracy: 0.7256 - val_loss: 1.0406 - val_accuracy: 0.4984\n",
      "Epoch 114/200\n",
      "127929/127929 [==============================] - 1s 7us/sample - loss: 0.5353 - accuracy: 0.7279 - val_loss: 1.1042 - val_accuracy: 0.4669\n",
      "Epoch 115/200\n",
      "127929/127929 [==============================] - 1s 7us/sample - loss: 0.5386 - accuracy: 0.7259 - val_loss: 1.1501 - val_accuracy: 0.4556\n",
      "Epoch 116/200\n",
      "127929/127929 [==============================] - 1s 7us/sample - loss: 0.5377 - accuracy: 0.7255 - val_loss: 1.1093 - val_accuracy: 0.4768\n",
      "Epoch 117/200\n",
      "127929/127929 [==============================] - 1s 7us/sample - loss: 0.5380 - accuracy: 0.7261 - val_loss: 1.0544 - val_accuracy: 0.4950\n",
      "Epoch 118/200\n",
      "127929/127929 [==============================] - 1s 7us/sample - loss: 0.5381 - accuracy: 0.7256 - val_loss: 1.0346 - val_accuracy: 0.4839\n",
      "Epoch 119/200\n",
      "127929/127929 [==============================] - 1s 8us/sample - loss: 0.5372 - accuracy: 0.7274 - val_loss: 0.9721 - val_accuracy: 0.5050\n",
      "Epoch 120/200\n",
      "127929/127929 [==============================] - 1s 7us/sample - loss: 0.5364 - accuracy: 0.7283 - val_loss: 1.0804 - val_accuracy: 0.4879\n",
      "Epoch 121/200\n",
      "127929/127929 [==============================] - 1s 7us/sample - loss: 0.5376 - accuracy: 0.7268 - val_loss: 1.1336 - val_accuracy: 0.4767\n",
      "Epoch 122/200\n",
      "127929/127929 [==============================] - 1s 7us/sample - loss: 0.5360 - accuracy: 0.7283 - val_loss: 1.0063 - val_accuracy: 0.5004\n",
      "Epoch 123/200\n",
      "127929/127929 [==============================] - 1s 7us/sample - loss: 0.5365 - accuracy: 0.7276 - val_loss: 1.1198 - val_accuracy: 0.4614\n",
      "Epoch 124/200\n",
      "127929/127929 [==============================] - 1s 7us/sample - loss: 0.5370 - accuracy: 0.7271 - val_loss: 0.9420 - val_accuracy: 0.5128\n",
      "Epoch 125/200\n",
      "127929/127929 [==============================] - 1s 7us/sample - loss: 0.5370 - accuracy: 0.7266 - val_loss: 0.9358 - val_accuracy: 0.4990\n",
      "Epoch 126/200\n",
      "127929/127929 [==============================] - 1s 7us/sample - loss: 0.5354 - accuracy: 0.7286 - val_loss: 1.0427 - val_accuracy: 0.4711\n",
      "Epoch 127/200\n",
      "127929/127929 [==============================] - 1s 7us/sample - loss: 0.5368 - accuracy: 0.7272 - val_loss: 1.0250 - val_accuracy: 0.4746\n",
      "Epoch 128/200\n",
      "127929/127929 [==============================] - 1s 7us/sample - loss: 0.5365 - accuracy: 0.7262 - val_loss: 0.9917 - val_accuracy: 0.5314\n",
      "Epoch 129/200\n",
      "127929/127929 [==============================] - 1s 7us/sample - loss: 0.5377 - accuracy: 0.7271 - val_loss: 1.0479 - val_accuracy: 0.4577\n",
      "Epoch 130/200\n",
      "127929/127929 [==============================] - 1s 8us/sample - loss: 0.5365 - accuracy: 0.7268 - val_loss: 0.9157 - val_accuracy: 0.5146\n",
      "Epoch 131/200\n",
      "127929/127929 [==============================] - 1s 7us/sample - loss: 0.5349 - accuracy: 0.7289 - val_loss: 1.1362 - val_accuracy: 0.5293\n",
      "Epoch 132/200\n",
      "127929/127929 [==============================] - 1s 7us/sample - loss: 0.5377 - accuracy: 0.7266 - val_loss: 1.0352 - val_accuracy: 0.4864\n",
      "Epoch 133/200\n",
      "127929/127929 [==============================] - 1s 7us/sample - loss: 0.5362 - accuracy: 0.7270 - val_loss: 1.0651 - val_accuracy: 0.4896\n",
      "Epoch 134/200\n",
      "127929/127929 [==============================] - 1s 7us/sample - loss: 0.5360 - accuracy: 0.7273 - val_loss: 1.0794 - val_accuracy: 0.4795\n",
      "Epoch 135/200\n",
      "127929/127929 [==============================] - 1s 7us/sample - loss: 0.5373 - accuracy: 0.7257 - val_loss: 0.9330 - val_accuracy: 0.5110\n",
      "Epoch 136/200\n",
      "127929/127929 [==============================] - 1s 8us/sample - loss: 0.5362 - accuracy: 0.7278 - val_loss: 1.0437 - val_accuracy: 0.4838\n",
      "Epoch 137/200\n",
      "127929/127929 [==============================] - 1s 8us/sample - loss: 0.5360 - accuracy: 0.7279 - val_loss: 0.9921 - val_accuracy: 0.4914\n",
      "Epoch 138/200\n",
      "127929/127929 [==============================] - 1s 7us/sample - loss: 0.5354 - accuracy: 0.7280 - val_loss: 0.9680 - val_accuracy: 0.4951\n",
      "Epoch 139/200\n",
      "127929/127929 [==============================] - 1s 8us/sample - loss: 0.5360 - accuracy: 0.7268 - val_loss: 0.9874 - val_accuracy: 0.5310\n",
      "Epoch 140/200\n",
      "127929/127929 [==============================] - 1s 7us/sample - loss: 0.5381 - accuracy: 0.7268 - val_loss: 0.8737 - val_accuracy: 0.5301\n",
      "Epoch 141/200\n",
      "127929/127929 [==============================] - 1s 7us/sample - loss: 0.5376 - accuracy: 0.7265 - val_loss: 1.2147 - val_accuracy: 0.4660\n",
      "Epoch 142/200\n",
      "127929/127929 [==============================] - 1s 7us/sample - loss: 0.5365 - accuracy: 0.7275 - val_loss: 1.0124 - val_accuracy: 0.5338\n",
      "Epoch 143/200\n",
      "127929/127929 [==============================] - 1s 7us/sample - loss: 0.5367 - accuracy: 0.7277 - val_loss: 1.0277 - val_accuracy: 0.4740\n",
      "Epoch 144/200\n"
     ]
    },
    {
     "name": "stdout",
     "output_type": "stream",
     "text": [
      "127929/127929 [==============================] - 1s 7us/sample - loss: 0.5356 - accuracy: 0.7280 - val_loss: 1.0656 - val_accuracy: 0.4832\n",
      "Epoch 145/200\n",
      "127929/127929 [==============================] - 1s 7us/sample - loss: 0.5361 - accuracy: 0.7278 - val_loss: 1.1661 - val_accuracy: 0.4796\n",
      "Epoch 146/200\n",
      "127929/127929 [==============================] - 1s 7us/sample - loss: 0.5354 - accuracy: 0.7283 - val_loss: 1.1727 - val_accuracy: 0.4718\n",
      "Epoch 147/200\n",
      "127929/127929 [==============================] - 1s 7us/sample - loss: 0.5377 - accuracy: 0.7266 - val_loss: 1.0772 - val_accuracy: 0.4659\n",
      "Epoch 148/200\n",
      "127929/127929 [==============================] - 1s 7us/sample - loss: 0.5356 - accuracy: 0.7272 - val_loss: 1.1137 - val_accuracy: 0.4600\n",
      "Epoch 149/200\n",
      "127929/127929 [==============================] - 1s 7us/sample - loss: 0.5356 - accuracy: 0.7294 - val_loss: 1.1557 - val_accuracy: 0.4877\n",
      "Epoch 150/200\n",
      "127929/127929 [==============================] - 1s 7us/sample - loss: 0.5350 - accuracy: 0.7285 - val_loss: 1.0354 - val_accuracy: 0.5096\n",
      "Epoch 151/200\n",
      "127929/127929 [==============================] - 1s 7us/sample - loss: 0.5355 - accuracy: 0.7278 - val_loss: 0.9646 - val_accuracy: 0.5324\n",
      "Epoch 152/200\n",
      "127929/127929 [==============================] - 1s 7us/sample - loss: 0.5360 - accuracy: 0.7284 - val_loss: 1.0966 - val_accuracy: 0.4584\n",
      "Epoch 153/200\n",
      "127929/127929 [==============================] - 1s 7us/sample - loss: 0.5354 - accuracy: 0.7278 - val_loss: 1.0656 - val_accuracy: 0.4775\n",
      "Epoch 154/200\n",
      "127929/127929 [==============================] - 1s 7us/sample - loss: 0.5355 - accuracy: 0.7264 - val_loss: 1.0653 - val_accuracy: 0.4708\n",
      "Epoch 155/200\n",
      "127929/127929 [==============================] - 1s 7us/sample - loss: 0.5359 - accuracy: 0.7273 - val_loss: 0.9053 - val_accuracy: 0.5080\n",
      "Epoch 156/200\n",
      "127929/127929 [==============================] - 1s 7us/sample - loss: 0.5365 - accuracy: 0.7282 - val_loss: 1.0752 - val_accuracy: 0.4711\n",
      "Epoch 157/200\n",
      "127929/127929 [==============================] - 1s 7us/sample - loss: 0.5350 - accuracy: 0.7281 - val_loss: 1.0173 - val_accuracy: 0.5235\n",
      "Epoch 158/200\n",
      "127929/127929 [==============================] - 1s 7us/sample - loss: 0.5359 - accuracy: 0.7276 - val_loss: 1.1272 - val_accuracy: 0.4625\n",
      "Epoch 159/200\n",
      "127929/127929 [==============================] - 1s 7us/sample - loss: 0.5357 - accuracy: 0.7268 - val_loss: 0.9702 - val_accuracy: 0.4995\n",
      "Epoch 160/200\n",
      "127929/127929 [==============================] - 1s 7us/sample - loss: 0.5358 - accuracy: 0.7278 - val_loss: 1.0032 - val_accuracy: 0.4928\n",
      "Epoch 161/200\n",
      "127929/127929 [==============================] - 1s 7us/sample - loss: 0.5345 - accuracy: 0.7285 - val_loss: 1.1019 - val_accuracy: 0.4602\n",
      "Epoch 162/200\n",
      "127929/127929 [==============================] - 1s 7us/sample - loss: 0.5375 - accuracy: 0.7262 - val_loss: 1.1847 - val_accuracy: 0.4960\n",
      "Epoch 163/200\n",
      "127929/127929 [==============================] - 1s 7us/sample - loss: 0.5347 - accuracy: 0.7285 - val_loss: 0.9594 - val_accuracy: 0.5159\n",
      "Epoch 164/200\n",
      "127929/127929 [==============================] - 1s 7us/sample - loss: 0.5367 - accuracy: 0.7273 - val_loss: 1.0205 - val_accuracy: 0.5065\n",
      "Epoch 165/200\n",
      "127929/127929 [==============================] - 1s 7us/sample - loss: 0.5384 - accuracy: 0.7277 - val_loss: 0.9511 - val_accuracy: 0.5282\n",
      "Epoch 166/200\n",
      "127929/127929 [==============================] - 1s 8us/sample - loss: 0.5353 - accuracy: 0.7285 - val_loss: 0.9562 - val_accuracy: 0.5364\n",
      "Epoch 167/200\n",
      "127929/127929 [==============================] - 1s 7us/sample - loss: 0.5344 - accuracy: 0.7288 - val_loss: 1.0103 - val_accuracy: 0.5198\n",
      "Epoch 168/200\n",
      "127929/127929 [==============================] - 1s 7us/sample - loss: 0.5361 - accuracy: 0.7277 - val_loss: 0.9806 - val_accuracy: 0.5147\n",
      "Epoch 169/200\n",
      "127929/127929 [==============================] - 1s 7us/sample - loss: 0.5358 - accuracy: 0.7274 - val_loss: 0.8416 - val_accuracy: 0.5349\n",
      "Epoch 170/200\n",
      "127929/127929 [==============================] - 1s 7us/sample - loss: 0.5357 - accuracy: 0.7287 - val_loss: 1.0007 - val_accuracy: 0.4916\n",
      "Epoch 171/200\n",
      "127929/127929 [==============================] - 1s 7us/sample - loss: 0.5355 - accuracy: 0.7279 - val_loss: 0.9507 - val_accuracy: 0.5094\n",
      "Epoch 172/200\n",
      "127929/127929 [==============================] - 1s 7us/sample - loss: 0.5334 - accuracy: 0.7301 - val_loss: 1.0373 - val_accuracy: 0.5204\n",
      "Epoch 173/200\n",
      "127929/127929 [==============================] - 1s 7us/sample - loss: 0.5330 - accuracy: 0.7299 - val_loss: 1.0911 - val_accuracy: 0.5074\n",
      "Epoch 174/200\n",
      "127929/127929 [==============================] - 1s 7us/sample - loss: 0.5362 - accuracy: 0.7288 - val_loss: 1.0525 - val_accuracy: 0.4681\n",
      "Epoch 175/200\n",
      "127929/127929 [==============================] - 1s 7us/sample - loss: 0.5339 - accuracy: 0.7302 - val_loss: 0.9779 - val_accuracy: 0.5576\n",
      "Epoch 176/200\n",
      "127929/127929 [==============================] - 1s 7us/sample - loss: 0.5337 - accuracy: 0.7284 - val_loss: 1.0131 - val_accuracy: 0.4854\n",
      "Epoch 177/200\n",
      "127929/127929 [==============================] - 1s 7us/sample - loss: 0.5337 - accuracy: 0.7296 - val_loss: 1.1712 - val_accuracy: 0.4662\n",
      "Epoch 178/200\n",
      "127929/127929 [==============================] - 1s 7us/sample - loss: 0.5358 - accuracy: 0.7280 - val_loss: 0.9636 - val_accuracy: 0.5120\n",
      "Epoch 179/200\n",
      "127929/127929 [==============================] - 1s 7us/sample - loss: 0.5350 - accuracy: 0.7274 - val_loss: 1.0648 - val_accuracy: 0.5073\n",
      "Epoch 180/200\n",
      "127929/127929 [==============================] - 1s 7us/sample - loss: 0.5368 - accuracy: 0.7276 - val_loss: 0.9378 - val_accuracy: 0.5333\n",
      "Epoch 181/200\n",
      "127929/127929 [==============================] - 1s 7us/sample - loss: 0.5339 - accuracy: 0.7289 - val_loss: 0.9960 - val_accuracy: 0.5079\n",
      "Epoch 182/200\n",
      "127929/127929 [==============================] - 1s 7us/sample - loss: 0.5331 - accuracy: 0.7298 - val_loss: 1.0443 - val_accuracy: 0.5278\n",
      "Epoch 183/200\n",
      "127929/127929 [==============================] - 1s 7us/sample - loss: 0.5355 - accuracy: 0.7283 - val_loss: 0.9846 - val_accuracy: 0.5084\n",
      "Epoch 184/200\n",
      "127929/127929 [==============================] - 1s 7us/sample - loss: 0.5338 - accuracy: 0.7307 - val_loss: 1.0743 - val_accuracy: 0.5021\n",
      "Epoch 185/200\n",
      "127929/127929 [==============================] - 1s 7us/sample - loss: 0.5334 - accuracy: 0.7289 - val_loss: 0.9221 - val_accuracy: 0.5172\n",
      "Epoch 186/200\n",
      "127929/127929 [==============================] - 1s 7us/sample - loss: 0.5336 - accuracy: 0.7287 - val_loss: 1.0725 - val_accuracy: 0.4745\n",
      "Epoch 187/200\n",
      "127929/127929 [==============================] - 1s 7us/sample - loss: 0.5336 - accuracy: 0.7296 - val_loss: 1.0321 - val_accuracy: 0.4976\n",
      "Epoch 188/200\n",
      "127929/127929 [==============================] - 1s 7us/sample - loss: 0.5330 - accuracy: 0.7293 - val_loss: 0.9635 - val_accuracy: 0.4999\n",
      "Epoch 189/200\n",
      "127929/127929 [==============================] - 1s 7us/sample - loss: 0.5346 - accuracy: 0.7282 - val_loss: 0.9911 - val_accuracy: 0.4975\n",
      "Epoch 190/200\n",
      "127929/127929 [==============================] - 1s 8us/sample - loss: 0.5352 - accuracy: 0.7278 - val_loss: 0.9632 - val_accuracy: 0.5106\n",
      "Epoch 191/200\n",
      "127929/127929 [==============================] - 1s 9us/sample - loss: 0.5361 - accuracy: 0.7275 - val_loss: 1.0112 - val_accuracy: 0.4884\n",
      "Epoch 192/200\n",
      "127929/127929 [==============================] - 1s 7us/sample - loss: 0.5336 - accuracy: 0.7298 - val_loss: 1.0177 - val_accuracy: 0.4933\n",
      "Epoch 193/200\n",
      "127929/127929 [==============================] - 1s 8us/sample - loss: 0.5331 - accuracy: 0.7299 - val_loss: 0.9836 - val_accuracy: 0.5097\n",
      "Epoch 194/200\n",
      "127929/127929 [==============================] - 1s 7us/sample - loss: 0.5343 - accuracy: 0.7282 - val_loss: 0.9746 - val_accuracy: 0.5342\n",
      "Epoch 195/200\n",
      "127929/127929 [==============================] - 1s 8us/sample - loss: 0.5355 - accuracy: 0.7275 - val_loss: 0.9763 - val_accuracy: 0.4867\n",
      "Epoch 196/200\n",
      "127929/127929 [==============================] - 1s 7us/sample - loss: 0.5355 - accuracy: 0.7275 - val_loss: 0.9155 - val_accuracy: 0.5697\n",
      "Epoch 197/200\n"
     ]
    },
    {
     "name": "stdout",
     "output_type": "stream",
     "text": [
      "127929/127929 [==============================] - 1s 7us/sample - loss: 0.5345 - accuracy: 0.7296 - val_loss: 0.9218 - val_accuracy: 0.5234\n",
      "Epoch 198/200\n",
      "127929/127929 [==============================] - 1s 7us/sample - loss: 0.5336 - accuracy: 0.7282 - val_loss: 1.0004 - val_accuracy: 0.5034\n",
      "Epoch 199/200\n",
      "127929/127929 [==============================] - 1s 7us/sample - loss: 0.5326 - accuracy: 0.7299 - val_loss: 1.0514 - val_accuracy: 0.4789\n",
      "Epoch 200/200\n",
      "127929/127929 [==============================] - 1s 7us/sample - loss: 0.5338 - accuracy: 0.7286 - val_loss: 1.0982 - val_accuracy: 0.4984\n",
      "Executing op CloseSummaryWriter in device /job:localhost/replica:0/task:0/device:CPU:0\n",
      "Executing op DestroyResourceOp in device /job:localhost/replica:0/task:0/device:CPU:0\n",
      "Executing op DeleteIterator in device /job:localhost/replica:0/task:0/device:GPU:1\n",
      "Executing op DeleteIterator in device /job:localhost/replica:0/task:0/device:GPU:0\n"
     ]
    }
   ],
   "source": [
    "with mirrored_strategy.scope():\n",
    "\n",
    "    history = model_final.fit(x_train, y_train, validation_data=(x_test, y_test), epochs=200, batch_size=1000, callbacks=[tb_random])"
   ]
  },
  {
   "cell_type": "code",
   "execution_count": 34,
   "metadata": {},
   "outputs": [
    {
     "name": "stdout",
     "output_type": "stream",
     "text": [
      "Executing op MapDataset in device /job:localhost/replica:0/task:0/device:CPU:0\n",
      "Executing op FlatMapDataset in device /job:localhost/replica:0/task:0/device:CPU:0\n",
      "Executing op TensorDataset in device /job:localhost/replica:0/task:0/device:CPU:0\n",
      "Executing op RepeatDataset in device /job:localhost/replica:0/task:0/device:CPU:0\n",
      "Executing op ZipDataset in device /job:localhost/replica:0/task:0/device:CPU:0\n",
      "Executing op ParallelMapDataset in device /job:localhost/replica:0/task:0/device:CPU:0\n",
      "Executing op RebatchDataset in device /job:localhost/replica:0/task:0/device:CPU:0\n",
      "Executing op AutoShardDataset in device /job:localhost/replica:0/task:0/device:CPU:0\n",
      "Executing op OptimizeDataset in device /job:localhost/replica:0/task:0/device:CPU:0\n",
      "Executing op ModelDataset in device /job:localhost/replica:0/task:0/device:CPU:0\n",
      "Executing op MultiDeviceIterator in device /job:localhost/replica:0/task:0/device:CPU:0\n",
      "Executing op GeneratorDataset in device /job:localhost/replica:0/task:0/device:GPU:0\n",
      "Executing op GeneratorDataset in device /job:localhost/replica:0/task:0/device:GPU:1\n",
      "Executing op PrefetchDataset in device /job:localhost/replica:0/task:0/device:GPU:0\n",
      "Executing op AnonymousIteratorV2 in device /job:localhost/replica:0/task:0/device:GPU:0\n",
      "Executing op PrefetchDataset in device /job:localhost/replica:0/task:0/device:GPU:1\n",
      "Executing op AnonymousIteratorV2 in device /job:localhost/replica:0/task:0/device:GPU:1\n",
      "Executing op __inference_distributed_function_130368 in device /job:localhost/replica:0/task:0/device:GPU:0\n"
     ]
    }
   ],
   "source": [
    "with mirrored_strategy.scope():\n",
    "    predictions = model_final.predict(x_test)"
   ]
  },
  {
   "cell_type": "code",
   "execution_count": 35,
   "metadata": {},
   "outputs": [
    {
     "name": "stdout",
     "output_type": "stream",
     "text": [
      "Executing op ArgMax in device /job:localhost/replica:0/task:0/device:GPU:0\n",
      "Prediction: [0 0 0 ... 0 0 0]\n",
      "   Actuals: [1 1 0 ... 1 0 0]\n"
     ]
    }
   ],
   "source": [
    "print(\"Prediction: {}\".format(tf.argmax(predictions, axis=1)))\n",
    "print(\"   Actuals: {}\".format(y_test))\n"
   ]
  },
  {
   "cell_type": "code",
   "execution_count": 36,
   "metadata": {},
   "outputs": [
    {
     "name": "stdout",
     "output_type": "stream",
     "text": [
      "Executing op VarHandleOp in device /job:localhost/replica:0/task:0/device:GPU:0\n",
      "Executing op LogicalNot in device /job:localhost/replica:0/task:0/device:GPU:0\n",
      "Executing op Assert in device /job:localhost/replica:0/task:0/device:GPU:0\n"
     ]
    }
   ],
   "source": [
    "test_accuracy = tf.keras.metrics.Accuracy()"
   ]
  },
  {
   "cell_type": "code",
   "execution_count": 37,
   "metadata": {},
   "outputs": [
    {
     "name": "stdout",
     "output_type": "stream",
     "text": [
      "Executing op Cast in device /job:localhost/replica:0/task:0/device:GPU:0\n",
      "Executing op Equal in device /job:localhost/replica:0/task:0/device:GPU:0\n",
      "Executing op Cast in device /job:localhost/replica:0/task:0/device:GPU:0\n",
      "Executing op Sum in device /job:localhost/replica:0/task:0/device:GPU:0\n",
      "Executing op AssignAddVariableOp in device /job:localhost/replica:0/task:0/device:GPU:0\n",
      "Executing op Cast in device /job:localhost/replica:0/task:0/device:GPU:0\n",
      "Executing op DivNoNan in device /job:localhost/replica:0/task:0/device:GPU:0\n",
      "Test set accuracy: 60.348%\n"
     ]
    }
   ],
   "source": [
    "test_accuracy(tf.argmax(predictions, axis=1), y_test)\n",
    "print(\"Test set accuracy: {:.3%}\".format(test_accuracy.result()))\n"
   ]
  },
  {
   "cell_type": "code",
   "execution_count": 38,
   "metadata": {
    "scrolled": true
   },
   "outputs": [
    {
     "data": {
      "image/png": "[encoded data removed]",
      "text/plain": [
       "<Figure size 432x288 with 1 Axes>"
      ]
     },
     "metadata": {
      "needs_background": "light"
     },
     "output_type": "display_data"
    },
    {
     "data": {
      "image/png": "[encoded data removed]",
      "text/plain": [
       "<Figure size 432x288 with 1 Axes>"
      ]
     },
     "metadata": {
      "needs_background": "light"
     },
     "output_type": "display_data"
    }
   ],
   "source": [
    "#come back to this; not working right.\n",
    "\n",
    "import tkinter\n",
    "import matplotlib\n",
    "\n",
    "\n",
    "# Plot training & validation accuracy values\n",
    "plt.plot(history.history['accuracy'])\n",
    "plt.plot(history.history['val_accuracy'])\n",
    "plt.savefig(\"DNgraphacc.png\")\n",
    "plt.title('Model accuracy')\n",
    "plt.ylabel('Accuracy')\n",
    "plt.xlabel('Epoch')\n",
    "plt.legend(['Train', 'Test'], loc='upper left')\n",
    "plt.show()\n",
    "\n",
    "# Plot training & validation loss values\n",
    "plt.plot(history.history['loss'])\n",
    "plt.plot(history.history['val_loss'])\n",
    "plt.savefig(\"DNgraphloss.png\")\n",
    "plt.title('Model loss')\n",
    "plt.ylabel('Loss')\n",
    "plt.xlabel('Epoch')\n",
    "plt.legend(['Train', 'Test'], loc='upper left')\n",
    "plt.show()"
   ]
  },
  {
   "cell_type": "markdown",
   "metadata": {},
   "source": []
  },
  {
   "cell_type": "code",
   "execution_count": 39,
   "metadata": {},
   "outputs": [],
   "source": [
    "from sklearn.svm import SVC\n",
    "\n",
    "from sklearn.metrics import classification_report, confusion_matrix\n",
    "\n",
    "from sklearn.externals.joblib import parallel_backend\n",
    "\n",
    "from sklearn.model_selection import cross_val_score\n",
    "\n",
    "from sklearn.model_selection import train_test_split"
   ]
  },
  {
   "cell_type": "code",
   "execution_count": 40,
   "metadata": {},
   "outputs": [],
   "source": [
    "import time\n",
    "\n",
    "import psutil\n"
   ]
  },
  {
   "cell_type": "code",
   "execution_count": 41,
   "metadata": {},
   "outputs": [],
   "source": [
    "import pandas as pd  \n",
    "import numpy as np  \n",
    "import matplotlib.pyplot as plt  \n",
    "import seaborn as seabornInstance \n",
    "from sklearn.model_selection import train_test_split \n",
    "from sklearn.linear_model import LinearRegression\n",
    "from sklearn import metrics\n",
    "%matplotlib inline\n",
    "\n",
    "from sklearn.model_selection import cross_val_score\n",
    "from sklearn import metrics\n",
    "from sklearn import svm\n",
    "from sklearn import datasets\n",
    "from sklearn.svm import SVR\n",
    "\n",
    "from sklearn.model_selection import GridSearchCV\n",
    "\n",
    "from sklearn import preprocessing\n",
    "\n",
    "from sklearn.metrics import mean_squared_error\n",
    "\n",
    "from sklearn.metrics import r2_score\n",
    "from sklearn.neighbors import KNeighborsRegressor\n",
    "from sklearn.multioutput import MultiOutputRegressor"
   ]
  },
  {
   "cell_type": "code",
   "execution_count": 42,
   "metadata": {},
   "outputs": [],
   "source": [
    "from sklearn.multiclass import OneVsRestClassifier\n",
    "\n",
    "from sklearn.ensemble import BaggingClassifier, RandomForestClassifier"
   ]
  },
  {
   "cell_type": "markdown",
   "metadata": {},
   "source": [
    "# PCA"
   ]
  },
  {
   "cell_type": "code",
   "execution_count": 43,
   "metadata": {},
   "outputs": [],
   "source": [
    "import numpy as np\n",
    "from sklearn.decomposition import PCA\n",
    "import pandas as pd\n",
    "import matplotlib.pyplot as plt\n",
    "from sklearn.preprocessing import scale\n",
    "from sklearn.preprocessing import StandardScaler\n",
    "\n",
    "%matplotlib inline"
   ]
  },
  {
   "cell_type": "code",
   "execution_count": 44,
   "metadata": {},
   "outputs": [],
   "source": [
    "# use x1 and y\n",
    "\n",
    "x2 = x1.values\n",
    "\n",
    "y1 = y\n",
    "\n"
   ]
  },
  {
   "cell_type": "code",
   "execution_count": 45,
   "metadata": {},
   "outputs": [],
   "source": [
    "x2 = StandardScaler().fit_transform(x2)"
   ]
  },
  {
   "cell_type": "code",
   "execution_count": 46,
   "metadata": {},
   "outputs": [],
   "source": [
    "x_train, x_test, y_train, y_test = train_test_split(x2, y1, test_size=0.20, random_state=102)"
   ]
  },
  {
   "cell_type": "code",
   "execution_count": 47,
   "metadata": {},
   "outputs": [],
   "source": [
    "pca = PCA(n_components = 5)\n",
    "\n",
    "x_trainfit = pca.fit_transform(x_train)\n",
    "\n",
    "x_train = pca.transform(x_train)\n",
    "x_test = pca.transform(x_test)\n",
    "\n",
    "explained_variance = pca.explained_variance_ratio_"
   ]
  },
  {
   "cell_type": "code",
   "execution_count": 48,
   "metadata": {},
   "outputs": [],
   "source": [
    "x_train1 = pd.DataFrame(x_train)"
   ]
  },
  {
   "cell_type": "code",
   "execution_count": 49,
   "metadata": {},
   "outputs": [],
   "source": [
    "principalDF = pd.DataFrame(data = x_trainfit, columns = x_train1.columns)"
   ]
  },
  {
   "cell_type": "code",
   "execution_count": 50,
   "metadata": {},
   "outputs": [],
   "source": [
    "finalDf = pd.concat([principalDF, pd.DataFrame(y_train)], axis = 1)"
   ]
  },
  {
   "cell_type": "code",
   "execution_count": 51,
   "metadata": {},
   "outputs": [
    {
     "data": {
      "text/html": [
       "<div>\n",
       "<style scoped>\n",
       "    .dataframe tbody tr th:only-of-type {\n",
       "        vertical-align: middle;\n",
       "    }\n",
       "\n",
       "    .dataframe tbody tr th {\n",
       "        vertical-align: top;\n",
       "    }\n",
       "\n",
       "    .dataframe thead th {\n",
       "        text-align: right;\n",
       "    }\n",
       "</style>\n",
       "<table border=\"1\" class=\"dataframe\">\n",
       "  <thead>\n",
       "    <tr style=\"text-align: right;\">\n",
       "      <th></th>\n",
       "      <th>0</th>\n",
       "      <th>1</th>\n",
       "      <th>2</th>\n",
       "      <th>3</th>\n",
       "      <th>4</th>\n",
       "      <th>0</th>\n",
       "    </tr>\n",
       "  </thead>\n",
       "  <tbody>\n",
       "    <tr>\n",
       "      <th>0</th>\n",
       "      <td>1.220242</td>\n",
       "      <td>1.325415</td>\n",
       "      <td>-1.621415</td>\n",
       "      <td>-1.155694</td>\n",
       "      <td>-1.686605</td>\n",
       "      <td>1</td>\n",
       "    </tr>\n",
       "    <tr>\n",
       "      <th>1</th>\n",
       "      <td>0.615440</td>\n",
       "      <td>0.470915</td>\n",
       "      <td>-1.569109</td>\n",
       "      <td>-0.832065</td>\n",
       "      <td>1.355774</td>\n",
       "      <td>0</td>\n",
       "    </tr>\n",
       "    <tr>\n",
       "      <th>2</th>\n",
       "      <td>-0.518271</td>\n",
       "      <td>-0.167109</td>\n",
       "      <td>-0.665272</td>\n",
       "      <td>-1.013023</td>\n",
       "      <td>1.191316</td>\n",
       "      <td>0</td>\n",
       "    </tr>\n",
       "    <tr>\n",
       "      <th>3</th>\n",
       "      <td>-1.110994</td>\n",
       "      <td>1.726516</td>\n",
       "      <td>-0.485254</td>\n",
       "      <td>-0.955396</td>\n",
       "      <td>0.437892</td>\n",
       "      <td>1</td>\n",
       "    </tr>\n",
       "    <tr>\n",
       "      <th>4</th>\n",
       "      <td>-3.026650</td>\n",
       "      <td>0.339139</td>\n",
       "      <td>0.556343</td>\n",
       "      <td>1.712287</td>\n",
       "      <td>-1.013660</td>\n",
       "      <td>0</td>\n",
       "    </tr>\n",
       "    <tr>\n",
       "      <th>...</th>\n",
       "      <td>...</td>\n",
       "      <td>...</td>\n",
       "      <td>...</td>\n",
       "      <td>...</td>\n",
       "      <td>...</td>\n",
       "      <td>...</td>\n",
       "    </tr>\n",
       "    <tr>\n",
       "      <th>127924</th>\n",
       "      <td>-1.332481</td>\n",
       "      <td>-0.013977</td>\n",
       "      <td>-2.241024</td>\n",
       "      <td>1.749853</td>\n",
       "      <td>1.005040</td>\n",
       "      <td>0</td>\n",
       "    </tr>\n",
       "    <tr>\n",
       "      <th>127925</th>\n",
       "      <td>-0.276069</td>\n",
       "      <td>-1.859902</td>\n",
       "      <td>0.275158</td>\n",
       "      <td>-1.177565</td>\n",
       "      <td>-0.500790</td>\n",
       "      <td>1</td>\n",
       "    </tr>\n",
       "    <tr>\n",
       "      <th>127926</th>\n",
       "      <td>-1.574559</td>\n",
       "      <td>0.665207</td>\n",
       "      <td>-0.869188</td>\n",
       "      <td>1.812317</td>\n",
       "      <td>2.549481</td>\n",
       "      <td>1</td>\n",
       "    </tr>\n",
       "    <tr>\n",
       "      <th>127927</th>\n",
       "      <td>4.092436</td>\n",
       "      <td>-1.815518</td>\n",
       "      <td>1.811740</td>\n",
       "      <td>-0.975340</td>\n",
       "      <td>0.178706</td>\n",
       "      <td>0</td>\n",
       "    </tr>\n",
       "    <tr>\n",
       "      <th>127928</th>\n",
       "      <td>-0.648328</td>\n",
       "      <td>0.194362</td>\n",
       "      <td>0.782812</td>\n",
       "      <td>1.771305</td>\n",
       "      <td>-0.562571</td>\n",
       "      <td>0</td>\n",
       "    </tr>\n",
       "  </tbody>\n",
       "</table>\n",
       "<p>127929 rows × 6 columns</p>\n",
       "</div>"
      ],
      "text/plain": [
       "               0         1         2         3         4  0\n",
       "0       1.220242  1.325415 -1.621415 -1.155694 -1.686605  1\n",
       "1       0.615440  0.470915 -1.569109 -0.832065  1.355774  0\n",
       "2      -0.518271 -0.167109 -0.665272 -1.013023  1.191316  0\n",
       "3      -1.110994  1.726516 -0.485254 -0.955396  0.437892  1\n",
       "4      -3.026650  0.339139  0.556343  1.712287 -1.013660  0\n",
       "...          ...       ...       ...       ...       ... ..\n",
       "127924 -1.332481 -0.013977 -2.241024  1.749853  1.005040  0\n",
       "127925 -0.276069 -1.859902  0.275158 -1.177565 -0.500790  1\n",
       "127926 -1.574559  0.665207 -0.869188  1.812317  2.549481  1\n",
       "127927  4.092436 -1.815518  1.811740 -0.975340  0.178706  0\n",
       "127928 -0.648328  0.194362  0.782812  1.771305 -0.562571  0\n",
       "\n",
       "[127929 rows x 6 columns]"
      ]
     },
     "execution_count": 51,
     "metadata": {},
     "output_type": "execute_result"
    }
   ],
   "source": [
    "finalDf"
   ]
  },
  {
   "cell_type": "code",
   "execution_count": 52,
   "metadata": {},
   "outputs": [],
   "source": [
    "selected = pd.DataFrame(explained_variance)"
   ]
  },
  {
   "cell_type": "code",
   "execution_count": 53,
   "metadata": {},
   "outputs": [
    {
     "name": "stdout",
     "output_type": "stream",
     "text": [
      "          0\n",
      "0  0.053987\n",
      "1  0.043970\n",
      "2  0.031360\n",
      "3  0.027329\n",
      "4  0.026670\n"
     ]
    }
   ],
   "source": [
    "print(selected)"
   ]
  },
  {
   "cell_type": "code",
   "execution_count": 54,
   "metadata": {},
   "outputs": [
    {
     "data": {
      "image/png": "[encoded data removed]",
      "text/plain": [
       "<Figure size 432x288 with 1 Axes>"
      ]
     },
     "metadata": {
      "needs_background": "light"
     },
     "output_type": "display_data"
    }
   ],
   "source": [
    "plt.plot(np.cumsum(pca.explained_variance_ratio_))\n",
    "plt.xlabel('number of components')\n",
    "plt.ylabel('cumulative explained variance');"
   ]
  },
  {
   "cell_type": "markdown",
   "metadata": {},
   "source": [
    "# Pass Through PCA into SVM"
   ]
  },
  {
   "cell_type": "code",
   "execution_count": 55,
   "metadata": {},
   "outputs": [],
   "source": [
    "clf = SVC(kernel='linear', C=1,gamma = 0.01).fit(x_train, y_train)\n",
    "clf.score(x_test, y_test)  \n",
    "y_pred = clf.predict(x_test)"
   ]
  },
  {
   "cell_type": "code",
   "execution_count": 56,
   "metadata": {},
   "outputs": [
    {
     "name": "stdout",
     "output_type": "stream",
     "text": [
      "[[17507  1794]\n",
      " [ 8630  4052]]\n"
     ]
    }
   ],
   "source": [
    "print(confusion_matrix(y_test,y_pred))"
   ]
  },
  {
   "cell_type": "code",
   "execution_count": 57,
   "metadata": {},
   "outputs": [
    {
     "name": "stdout",
     "output_type": "stream",
     "text": [
      "0.6740768533283307\n"
     ]
    }
   ],
   "source": [
    "print(clf.score(x_test, y_test))"
   ]
  },
  {
   "cell_type": "markdown",
   "metadata": {},
   "source": [
    "# Other Feature Selection Runs"
   ]
  },
  {
   "cell_type": "code",
   "execution_count": 69,
   "metadata": {},
   "outputs": [
    {
     "name": "stderr",
     "output_type": "stream",
     "text": [
      "C:\\Users\\Brandon\\AppData\\Local\\Continuum\\anaconda3\\lib\\site-packages\\sklearn\\preprocessing\\data.py:334: DataConversionWarning: Data with input dtype uint8, float64 were all converted to float64 by MinMaxScaler.\n",
      "  return self.partial_fit(X, y)\n"
     ]
    }
   ],
   "source": [
    "scaler = MinMaxScaler(feature_range=(0,1))\n",
    "scaled_train = scaler.fit_transform(x1)\n",
    "\n",
    "# Print out the adjustment that the scaler applied to the lepton pT column of data\n",
    "#print(\"Note: median values were scaled by multiplying by {:.10f} and adding {:.6f}\".format(scaler.scale_[0],scaler.min_[0]))\n",
    "#multiplied_by = scaler.scale_[0]\n",
    "#added = scaler.min_[0]\n",
    "\n",
    "scaled_train_df = pd.DataFrame(scaled_train, columns = x1.columns)"
   ]
  },
  {
   "cell_type": "code",
   "execution_count": 70,
   "metadata": {},
   "outputs": [],
   "source": [
    "from sklearn.feature_selection import SelectKBest\n",
    "from sklearn.feature_selection import chi2\n",
    "\n",
    "\n",
    "test = SelectKBest(score_func=chi2, k=4)\n",
    "fit = test.fit(scaled_train_df, y1)"
   ]
  },
  {
   "cell_type": "code",
   "execution_count": 72,
   "metadata": {},
   "outputs": [
    {
     "name": "stdout",
     "output_type": "stream",
     "text": [
      "[8.539e-03 4.188e-02 1.048e-02 1.680e-03 3.995e-03 1.008e+01 5.741e-01\n",
      " 1.673e-01 4.167e-02 5.239e-02 2.019e-03 4.626e+01 1.773e-02 5.913e-03\n",
      " 1.036e-02 6.076e-02 6.497e-02 2.931e-02 1.131e-02 2.145e+02 3.448e-02\n",
      " 1.172e-04 2.366e+02 1.022e-02 1.732e-02 5.326e-02 3.333e-03 7.381e-03\n",
      " 1.167e-01 1.222e-02 9.781e-02 1.860e-02 6.116e-03 9.864e+00 2.359e-02\n",
      " 1.464e+02 5.192e+01 4.926e+01 3.456e-04 7.259e-05 3.410e-02 5.325e+00\n",
      " 1.279e-04 4.730e-02 2.067e+02 2.821e+01 3.964e+02 2.547e+01 1.726e-01\n",
      " 1.400e-01 1.608e-01 6.382e-01 1.010e+00 2.256e-02 7.031e-01 1.744e-02\n",
      " 9.773e-02 7.829e-01 1.552e+00 5.683e-01 5.359e-03 1.902e-01 7.804e-01\n",
      " 1.227e+00 5.066e-01]\n",
      "[[0.455 0.561 0.435 0.   ]\n",
      " [0.383 0.617 0.622 0.   ]\n",
      " [0.521 0.49  0.437 0.   ]\n",
      " [0.525 0.441 0.438 0.   ]\n",
      " [0.324 0.405 0.614 0.   ]]\n"
     ]
    }
   ],
   "source": [
    "# Summarize scores\n",
    "np.set_printoptions(precision=3)\n",
    "print(fit.scores_)\n",
    "\n",
    "features = fit.transform(scaled_train_df)\n",
    "# Summarize selected features\n",
    "print(features[0:5,:])"
   ]
  },
  {
   "cell_type": "code",
   "execution_count": null,
   "metadata": {},
   "outputs": [],
   "source": [
    "from sklearn.feature_selection import RFE\n",
    "from sklearn.linear_model import LogisticRegression"
   ]
  },
  {
   "cell_type": "code",
   "execution_count": null,
   "metadata": {},
   "outputs": [],
   "source": [
    "model = LogisticRegression()\n",
    "rfe = RFE(model, 3)\n",
    "fit = rfe.fit(scaled_train_df, y1)\n",
    "print(\"Num Features: %s\" % (fit.n_features_))\n",
    "print(\"Selected Features: %s\" % (fit.support_))\n",
    "print(\"Feature Ranking: %s\" % (fit.ranking_))"
   ]
  },
  {
   "cell_type": "code",
   "execution_count": null,
   "metadata": {},
   "outputs": [],
   "source": [
    "from sklearn.linear_model import Ridge"
   ]
  },
  {
   "cell_type": "code",
   "execution_count": null,
   "metadata": {},
   "outputs": [],
   "source": [
    "ridge = Ridge(alpha=1.0)\n",
    "ridge.fit(scaled_train_df, y1)"
   ]
  },
  {
   "cell_type": "code",
   "execution_count": null,
   "metadata": {},
   "outputs": [],
   "source": [
    "def pretty_print_coefs(coefs, names = None, sort = False):\n",
    "    if names == None:\n",
    "        names = [\"X%s\" % x for x in range(len(coefs))]\n",
    "    lst = zip(coefs, names)\n",
    "    if sort:\n",
    "        lst = sorted(lst,  key = lambda x:-np.abs(x[0]))\n",
    "    return \" + \".join(\"%s * %s\" % (round(coef, 3), name)\n",
    "                                   for coef, name in lst)"
   ]
  },
  {
   "cell_type": "code",
   "execution_count": null,
   "metadata": {},
   "outputs": [],
   "source": [
    "print (\"Ridge model:\", pretty_print_coefs(ridge.coef_))"
   ]
  },
  {
   "cell_type": "code",
   "execution_count": null,
   "metadata": {},
   "outputs": [],
   "source": []
  },
  {
   "cell_type": "code",
   "execution_count": null,
   "metadata": {},
   "outputs": [],
   "source": []
  },
  {
   "cell_type": "code",
   "execution_count": null,
   "metadata": {},
   "outputs": [],
   "source": []
  }
 ],
 "metadata": {
  "kernelspec": {
   "display_name": "Python 3",
   "language": "python",
   "name": "python3"
  },
  "language_info": {
   "codemirror_mode": {
    "name": "ipython",
    "version": 3
   },
   "file_extension": ".py",
   "mimetype": "text/x-python",
   "name": "python",
   "nbconvert_exporter": "python",
   "pygments_lexer": "ipython3",
   "version": "3.6.9"
  }
 },
 "nbformat": 4,
 "nbformat_minor": 2
}
