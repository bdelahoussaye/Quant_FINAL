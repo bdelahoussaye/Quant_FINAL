{
 "cells": [
  {
   "cell_type": "code",
   "execution_count": 1,
   "metadata": {},
   "outputs": [],
   "source": [
    "\n",
    "import tensorflow as tf\n",
    "\n",
    "import networkx as nx\n",
    "from networkx.drawing.nx_pydot import write_dot\n",
    "import matplotlib.pyplot as plt\n",
    "from IPython.display import SVG\n",
    "from sklearn.tree import export_graphviz\n",
    "tf.debugging.set_log_device_placement(True)\n",
    "\n",
    "\n",
    "import tensorflow as tf\n",
    "from tensorboard.plugins.hparams import api as hp\n",
    "from tensorflow import feature_column\n",
    "from tensorflow.keras import layers\n",
    "import tensorflow.compat.v2.feature_column as fc\n",
    "\n",
    "import re\n",
    "\n",
    "from sklearn.preprocessing import MinMaxScaler\n",
    "\n",
    "from sklearn.svm import SVC\n",
    "\n",
    "from sklearn.metrics import classification_report, confusion_matrix\n",
    "\n",
    "from sklearn.externals.joblib import parallel_backend\n",
    "\n",
    "from sklearn.model_selection import cross_val_score\n",
    "\n",
    "from sklearn.model_selection import train_test_split"
   ]
  },
  {
   "cell_type": "code",
   "execution_count": 2,
   "metadata": {},
   "outputs": [
    {
     "name": "stdout",
     "output_type": "stream",
     "text": [
      "2.0.0\n",
      "Num GPUs Available:  2\n"
     ]
    }
   ],
   "source": [
    "from __future__ import absolute_import, division, print_function, unicode_literals\n",
    "\n",
    "import tensorflow as tf\n",
    "\n",
    "from tensorflow.keras import layers\n",
    "from sklearn import datasets\n",
    "import pandas as pd\n",
    "import numpy as np\n",
    "print(tf.__version__)\n",
    "\n",
    "import warnings\n",
    "warnings.simplefilter(action='ignore', category=FutureWarning)\n",
    "\n",
    "\n",
    "print(\"Num GPUs Available: \", len(tf.config.experimental.list_physical_devices('GPU')))"
   ]
  },
  {
   "cell_type": "code",
   "execution_count": 3,
   "metadata": {},
   "outputs": [
    {
     "name": "stderr",
     "output_type": "stream",
     "text": [
      "Using TensorFlow backend.\n"
     ]
    }
   ],
   "source": [
    "import matplotlib.pyplot as plt # For making plots\n",
    "\n",
    "import seaborn as sns # Makes beautiful plots\n",
    "from sklearn.preprocessing import StandardScaler # Testing sklearn\n",
    "import tensorflow # Imports tensorflow\n",
    "import keras # Imports keras"
   ]
  },
  {
   "cell_type": "code",
   "execution_count": 4,
   "metadata": {},
   "outputs": [
    {
     "name": "stdout",
     "output_type": "stream",
     "text": [
      "10.0\n",
      "7.6\n"
     ]
    }
   ],
   "source": [
    "\n",
    "from tensorflow.python.platform import build_info as tf_build_info\n",
    "print(tf_build_info.cuda_version_number)\n",
    "# 9.0 in v1.10.0\n",
    "print(tf_build_info.cudnn_version_number)\n",
    "# 7 in v1.10.0"
   ]
  },
  {
   "cell_type": "code",
   "execution_count": 5,
   "metadata": {},
   "outputs": [
    {
     "data": {
      "text/plain": [
       "[name: \"/device:CPU:0\"\n",
       " device_type: \"CPU\"\n",
       " memory_limit: 268435456\n",
       " locality {\n",
       " }\n",
       " incarnation: 10199376641381470405, name: \"/device:GPU:0\"\n",
       " device_type: \"GPU\"\n",
       " memory_limit: 6614766059\n",
       " locality {\n",
       "   bus_id: 1\n",
       "   links {\n",
       "   }\n",
       " }\n",
       " incarnation: 9054296982409605734\n",
       " physical_device_desc: \"device: 0, name: GeForce RTX 2070, pci bus id: 0000:17:00.0, compute capability: 7.5\", name: \"/device:GPU:1\"\n",
       " device_type: \"GPU\"\n",
       " memory_limit: 6614766059\n",
       " locality {\n",
       "   bus_id: 1\n",
       "   links {\n",
       "   }\n",
       " }\n",
       " incarnation: 4266931127415481484\n",
       " physical_device_desc: \"device: 1, name: GeForce RTX 2070, pci bus id: 0000:65:00.0, compute capability: 7.5\"]"
      ]
     },
     "execution_count": 5,
     "metadata": {},
     "output_type": "execute_result"
    }
   ],
   "source": [
    "from tensorflow.python.client import device_lib\n",
    "\n",
    "device_lib.list_local_devices()"
   ]
  },
  {
   "cell_type": "code",
   "execution_count": 6,
   "metadata": {},
   "outputs": [],
   "source": [
    "\n",
    "import matplotlib.pyplot as plt\n",
    "%matplotlib inline\n",
    "\n",
    "\n",
    "import datetime, os\n",
    "\n",
    "from tensorflow.keras.callbacks import TensorBoard\n",
    "\n",
    "log_dir = 'logs'\n",
    "tb = TensorBoard(log_dir=log_dir, histogram_freq=1)\n",
    "\n",
    "from sklearn.model_selection import train_test_split\n",
    "\n",
    "from keras.layers import Dense, Activation,Conv2D,MaxPooling2D,Flatten,Dropout"
   ]
  },
  {
   "cell_type": "markdown",
   "metadata": {},
   "source": [
    "[SVM], Logistic; random forrest, naive bayes, XGBoost, [DN"
   ]
  },
  {
   "cell_type": "code",
   "execution_count": 7,
   "metadata": {},
   "outputs": [],
   "source": [
    "data = pd.read_csv('final_project_mod.csv', dtype = {'Continent': 'category', 'Month':'category', 'DayOfWeek':'category'})"
   ]
  },
  {
   "cell_type": "code",
   "execution_count": 8,
   "metadata": {},
   "outputs": [
    {
     "name": "stdout",
     "output_type": "stream",
     "text": [
      "<class 'pandas.core.frame.DataFrame'>\n",
      "RangeIndex: 159912 entries, 0 to 159911\n",
      "Data columns (total 49 columns):\n",
      "x0           159912 non-null float64\n",
      "x1           159912 non-null float64\n",
      "x3           159912 non-null float64\n",
      "x4           159912 non-null float64\n",
      "x5           159912 non-null float64\n",
      "x6           159912 non-null float64\n",
      "x7           159912 non-null float64\n",
      "x8           159912 non-null float64\n",
      "x9           159912 non-null float64\n",
      "x10          159912 non-null float64\n",
      "x11          159912 non-null float64\n",
      "x12          159912 non-null float64\n",
      "x13          159912 non-null float64\n",
      "x14          159912 non-null float64\n",
      "x15          159912 non-null float64\n",
      "x16          159912 non-null float64\n",
      "x17          159912 non-null float64\n",
      "x18          159912 non-null float64\n",
      "x19          159912 non-null float64\n",
      "x20          159912 non-null float64\n",
      "x21          159912 non-null float64\n",
      "x22          159912 non-null float64\n",
      "x23          159912 non-null float64\n",
      "Continent    159912 non-null category\n",
      "x25          159912 non-null float64\n",
      "x26          159912 non-null float64\n",
      "x27          159912 non-null float64\n",
      "x28          159912 non-null float64\n",
      "Month        159912 non-null category\n",
      "DayOfWeek    159912 non-null category\n",
      "x31          159912 non-null float64\n",
      "x32          159912 non-null float64\n",
      "x33          159912 non-null float64\n",
      "x34          159912 non-null float64\n",
      "x35          159912 non-null float64\n",
      "x36          159912 non-null float64\n",
      "Money        159912 non-null float64\n",
      "x39          159912 non-null float64\n",
      "x40          159912 non-null float64\n",
      "x41          159912 non-null float64\n",
      "x42          159912 non-null float64\n",
      "x43          159912 non-null float64\n",
      "x44          159912 non-null float64\n",
      "x45          159912 non-null float64\n",
      "x46          159912 non-null float64\n",
      "x47          159912 non-null float64\n",
      "x48          159912 non-null float64\n",
      "x49          159912 non-null float64\n",
      "y            159912 non-null int64\n",
      "dtypes: category(3), float64(45), int64(1)\n",
      "memory usage: 56.6 MB\n"
     ]
    }
   ],
   "source": [
    "data.info()\n"
   ]
  },
  {
   "cell_type": "code",
   "execution_count": 10,
   "metadata": {},
   "outputs": [
    {
     "data": {
      "text/plain": [
       "x0           0\n",
       "x1           0\n",
       "x3           0\n",
       "x4           0\n",
       "x5           0\n",
       "x6           0\n",
       "x7           0\n",
       "x8           0\n",
       "x9           0\n",
       "x10          0\n",
       "x11          0\n",
       "x12          0\n",
       "x13          0\n",
       "x14          0\n",
       "x15          0\n",
       "x16          0\n",
       "x17          0\n",
       "x18          0\n",
       "x19          0\n",
       "x20          0\n",
       "x21          0\n",
       "x22          0\n",
       "x23          0\n",
       "Continent    0\n",
       "x25          0\n",
       "x26          0\n",
       "x27          0\n",
       "x28          0\n",
       "Month        0\n",
       "DayOfWeek    0\n",
       "x31          0\n",
       "x32          0\n",
       "x33          0\n",
       "x34          0\n",
       "x35          0\n",
       "x36          0\n",
       "Money        0\n",
       "x39          0\n",
       "x40          0\n",
       "x41          0\n",
       "x42          0\n",
       "x43          0\n",
       "x44          0\n",
       "x45          0\n",
       "x46          0\n",
       "x47          0\n",
       "x48          0\n",
       "x49          0\n",
       "y            0\n",
       "dtype: int64"
      ]
     },
     "execution_count": 10,
     "metadata": {},
     "output_type": "execute_result"
    }
   ],
   "source": [
    "data.isnull().sum()"
   ]
  },
  {
   "cell_type": "code",
   "execution_count": 13,
   "metadata": {},
   "outputs": [],
   "source": [
    "# The fist step in ordering a category feature is to define a custom order by way of CategoricalDtype\n",
    "month_ordered_categories = ['Jan', 'Feb', 'Mar', 'Apr', 'May', 'Jun', 'Jul', 'Aug', 'Sep', 'Oct', 'Nov', 'Dec']\n",
    "\n",
    "# Next, the attribute needs to be explicitly re_ordered:\n",
    "cat_dtype = pd.api.types.CategoricalDtype(categories=month_ordered_categories, ordered=True)\n",
    "data.Month = data.Month.astype(cat_dtype)\n",
    "\n",
    "# Repeat steps for DayOfWeek\n",
    "dayofweek_ordered_categories = ['Mon', 'Tue', 'Wed', 'Thu', 'Fri']\n",
    "cat_dtype = pd.api.types.CategoricalDtype(categories=dayofweek_ordered_categories, ordered=True)\n",
    "data.DayOfWeek = data.DayOfWeek.astype(cat_dtype)\n",
    "\n",
    "# Repate Steps for Continent\n",
    "# Ordering based upon population\n",
    "continent_ordered_categories = ['Asia', 'America', 'Europe']\n",
    "cat_dtype = pd.api.types.CategoricalDtype(categories=continent_ordered_categories, ordered=True)\n",
    "data.Continent = data.Continent.astype(cat_dtype)"
   ]
  },
  {
   "cell_type": "code",
   "execution_count": 14,
   "metadata": {},
   "outputs": [
    {
     "data": {
      "text/plain": [
       "array([ 6,  7,  5,  4,  8,  3, 10,  9,  2,  1, 11,  0], dtype=int64)"
      ]
     },
     "execution_count": 14,
     "metadata": {},
     "output_type": "execute_result"
    }
   ],
   "source": [
    "data.Month.astype(\"category\").cat.codes.unique()"
   ]
  },
  {
   "cell_type": "code",
   "execution_count": 15,
   "metadata": {},
   "outputs": [
    {
     "data": {
      "text/plain": [
       "CategoricalDtype(categories=['Jan', 'Feb', 'Mar', 'Apr', 'May', 'Jun', 'Jul', 'Aug',\n",
       "                  'Sep', 'Oct', 'Nov', 'Dec'],\n",
       "                 ordered=True)"
      ]
     },
     "execution_count": 15,
     "metadata": {},
     "output_type": "execute_result"
    }
   ],
   "source": [
    "data['Month'].dtypes"
   ]
  },
  {
   "cell_type": "code",
   "execution_count": 16,
   "metadata": {},
   "outputs": [
    {
     "data": {
      "text/plain": [
       "array([1, 2, 3, 0, 4], dtype=int64)"
      ]
     },
     "execution_count": 16,
     "metadata": {},
     "output_type": "execute_result"
    }
   ],
   "source": [
    "data.DayOfWeek.astype(\"category\").cat.codes.unique()"
   ]
  },
  {
   "cell_type": "code",
   "execution_count": 17,
   "metadata": {},
   "outputs": [
    {
     "data": {
      "text/plain": [
       "CategoricalDtype(categories=['Mon', 'Tue', 'Wed', 'Thu', 'Fri'], ordered=True)"
      ]
     },
     "execution_count": 17,
     "metadata": {},
     "output_type": "execute_result"
    }
   ],
   "source": [
    "data['DayOfWeek'].dtypes"
   ]
  },
  {
   "cell_type": "code",
   "execution_count": 18,
   "metadata": {},
   "outputs": [
    {
     "data": {
      "text/plain": [
       "array([2, 0, 1], dtype=int64)"
      ]
     },
     "execution_count": 18,
     "metadata": {},
     "output_type": "execute_result"
    }
   ],
   "source": [
    "data.Continent.astype(\"category\").cat.codes.unique()"
   ]
  },
  {
   "cell_type": "code",
   "execution_count": 19,
   "metadata": {},
   "outputs": [
    {
     "data": {
      "text/plain": [
       "CategoricalDtype(categories=['Asia', 'America', 'Europe'], ordered=True)"
      ]
     },
     "execution_count": 19,
     "metadata": {},
     "output_type": "execute_result"
    }
   ],
   "source": [
    "data['Continent'].dtypes"
   ]
  },
  {
   "cell_type": "code",
   "execution_count": 20,
   "metadata": {},
   "outputs": [
    {
     "data": {
      "text/plain": [
       "x0           0\n",
       "x1           0\n",
       "x3           0\n",
       "x4           0\n",
       "x5           0\n",
       "x6           0\n",
       "x7           0\n",
       "x8           0\n",
       "x9           0\n",
       "x10          0\n",
       "x11          0\n",
       "x12          0\n",
       "x13          0\n",
       "x14          0\n",
       "x15          0\n",
       "x16          0\n",
       "x17          0\n",
       "x18          0\n",
       "x19          0\n",
       "x20          0\n",
       "x21          0\n",
       "x22          0\n",
       "x23          0\n",
       "Continent    0\n",
       "x25          0\n",
       "x26          0\n",
       "x27          0\n",
       "x28          0\n",
       "Month        0\n",
       "DayOfWeek    0\n",
       "x31          0\n",
       "x32          0\n",
       "x33          0\n",
       "x34          0\n",
       "x35          0\n",
       "x36          0\n",
       "Money        0\n",
       "x39          0\n",
       "x40          0\n",
       "x41          0\n",
       "x42          0\n",
       "x43          0\n",
       "x44          0\n",
       "x45          0\n",
       "x46          0\n",
       "x47          0\n",
       "x48          0\n",
       "x49          0\n",
       "y            0\n",
       "dtype: int64"
      ]
     },
     "execution_count": 20,
     "metadata": {},
     "output_type": "execute_result"
    }
   ],
   "source": [
    "data.isnull().sum()"
   ]
  },
  {
   "cell_type": "markdown",
   "metadata": {},
   "source": [
    "## separte the features from target"
   ]
  },
  {
   "cell_type": "code",
   "execution_count": 21,
   "metadata": {},
   "outputs": [],
   "source": [
    "x = data.drop(['y'], axis = 1)"
   ]
  },
  {
   "cell_type": "code",
   "execution_count": 22,
   "metadata": {},
   "outputs": [],
   "source": [
    "y = data['y']"
   ]
  },
  {
   "cell_type": "code",
   "execution_count": 23,
   "metadata": {},
   "outputs": [],
   "source": [
    "y = y.to_numpy()"
   ]
  },
  {
   "cell_type": "code",
   "execution_count": 24,
   "metadata": {},
   "outputs": [
    {
     "data": {
      "text/plain": [
       "array([0, 0, 0, ..., 1, 0, 1], dtype=int64)"
      ]
     },
     "execution_count": 24,
     "metadata": {},
     "output_type": "execute_result"
    }
   ],
   "source": [
    "y"
   ]
  },
  {
   "cell_type": "code",
   "execution_count": 25,
   "metadata": {},
   "outputs": [],
   "source": [
    "##set one-hot for the category features"
   ]
  },
  {
   "cell_type": "code",
   "execution_count": 26,
   "metadata": {},
   "outputs": [
    {
     "data": {
      "text/html": [
       "<div>\n",
       "<style scoped>\n",
       "    .dataframe tbody tr th:only-of-type {\n",
       "        vertical-align: middle;\n",
       "    }\n",
       "\n",
       "    .dataframe tbody tr th {\n",
       "        vertical-align: top;\n",
       "    }\n",
       "\n",
       "    .dataframe thead th {\n",
       "        text-align: right;\n",
       "    }\n",
       "</style>\n",
       "<table border=\"1\" class=\"dataframe\">\n",
       "  <thead>\n",
       "    <tr style=\"text-align: right;\">\n",
       "      <th></th>\n",
       "      <th>index</th>\n",
       "      <th>cardinality</th>\n",
       "    </tr>\n",
       "  </thead>\n",
       "  <tbody>\n",
       "    <tr>\n",
       "      <th>0</th>\n",
       "      <td>Continent</td>\n",
       "      <td>3</td>\n",
       "    </tr>\n",
       "    <tr>\n",
       "      <th>1</th>\n",
       "      <td>Month</td>\n",
       "      <td>12</td>\n",
       "    </tr>\n",
       "    <tr>\n",
       "      <th>2</th>\n",
       "      <td>DayOfWeek</td>\n",
       "      <td>5</td>\n",
       "    </tr>\n",
       "  </tbody>\n",
       "</table>\n",
       "</div>"
      ],
      "text/plain": [
       "       index  cardinality\n",
       "0  Continent            3\n",
       "1      Month           12\n",
       "2  DayOfWeek            5"
      ]
     },
     "execution_count": 26,
     "metadata": {},
     "output_type": "execute_result"
    }
   ],
   "source": [
    "x[x.select_dtypes('category').columns].nunique().reset_index(name='cardinality')"
   ]
  },
  {
   "cell_type": "code",
   "execution_count": 27,
   "metadata": {},
   "outputs": [],
   "source": [
    "#ok, about an extra 20 features will come out.  \n",
    "#will need to put to an array, and then will need to cocatenate"
   ]
  },
  {
   "cell_type": "code",
   "execution_count": 28,
   "metadata": {},
   "outputs": [],
   "source": [
    "x1 = pd.get_dummies(x,prefix = ['Continent', 'Month', 'DayOfWeek'])"
   ]
  },
  {
   "cell_type": "code",
   "execution_count": 29,
   "metadata": {},
   "outputs": [
    {
     "name": "stdout",
     "output_type": "stream",
     "text": [
      "<class 'pandas.core.frame.DataFrame'>\n",
      "RangeIndex: 159912 entries, 0 to 159911\n",
      "Data columns (total 65 columns):\n",
      "x0                   159912 non-null float64\n",
      "x1                   159912 non-null float64\n",
      "x3                   159912 non-null float64\n",
      "x4                   159912 non-null float64\n",
      "x5                   159912 non-null float64\n",
      "x6                   159912 non-null float64\n",
      "x7                   159912 non-null float64\n",
      "x8                   159912 non-null float64\n",
      "x9                   159912 non-null float64\n",
      "x10                  159912 non-null float64\n",
      "x11                  159912 non-null float64\n",
      "x12                  159912 non-null float64\n",
      "x13                  159912 non-null float64\n",
      "x14                  159912 non-null float64\n",
      "x15                  159912 non-null float64\n",
      "x16                  159912 non-null float64\n",
      "x17                  159912 non-null float64\n",
      "x18                  159912 non-null float64\n",
      "x19                  159912 non-null float64\n",
      "x20                  159912 non-null float64\n",
      "x21                  159912 non-null float64\n",
      "x22                  159912 non-null float64\n",
      "x23                  159912 non-null float64\n",
      "x25                  159912 non-null float64\n",
      "x26                  159912 non-null float64\n",
      "x27                  159912 non-null float64\n",
      "x28                  159912 non-null float64\n",
      "x31                  159912 non-null float64\n",
      "x32                  159912 non-null float64\n",
      "x33                  159912 non-null float64\n",
      "x34                  159912 non-null float64\n",
      "x35                  159912 non-null float64\n",
      "x36                  159912 non-null float64\n",
      "Money                159912 non-null float64\n",
      "x39                  159912 non-null float64\n",
      "x40                  159912 non-null float64\n",
      "x41                  159912 non-null float64\n",
      "x42                  159912 non-null float64\n",
      "x43                  159912 non-null float64\n",
      "x44                  159912 non-null float64\n",
      "x45                  159912 non-null float64\n",
      "x46                  159912 non-null float64\n",
      "x47                  159912 non-null float64\n",
      "x48                  159912 non-null float64\n",
      "x49                  159912 non-null float64\n",
      "Continent_Asia       159912 non-null uint8\n",
      "Continent_America    159912 non-null uint8\n",
      "Continent_Europe     159912 non-null uint8\n",
      "Month_Jan            159912 non-null uint8\n",
      "Month_Feb            159912 non-null uint8\n",
      "Month_Mar            159912 non-null uint8\n",
      "Month_Apr            159912 non-null uint8\n",
      "Month_May            159912 non-null uint8\n",
      "Month_Jun            159912 non-null uint8\n",
      "Month_Jul            159912 non-null uint8\n",
      "Month_Aug            159912 non-null uint8\n",
      "Month_Sep            159912 non-null uint8\n",
      "Month_Oct            159912 non-null uint8\n",
      "Month_Nov            159912 non-null uint8\n",
      "Month_Dec            159912 non-null uint8\n",
      "DayOfWeek_Mon        159912 non-null uint8\n",
      "DayOfWeek_Tue        159912 non-null uint8\n",
      "DayOfWeek_Wed        159912 non-null uint8\n",
      "DayOfWeek_Thu        159912 non-null uint8\n",
      "DayOfWeek_Fri        159912 non-null uint8\n",
      "dtypes: float64(45), uint8(20)\n",
      "memory usage: 58.0 MB\n"
     ]
    }
   ],
   "source": [
    "x1.info()"
   ]
  },
  {
   "cell_type": "markdown",
   "metadata": {},
   "source": [
    "# scale"
   ]
  },
  {
   "cell_type": "code",
   "execution_count": 30,
   "metadata": {},
   "outputs": [
    {
     "name": "stderr",
     "output_type": "stream",
     "text": [
      "C:\\Users\\Brandon\\AppData\\Local\\Continuum\\anaconda3\\lib\\site-packages\\sklearn\\preprocessing\\data.py:334: DataConversionWarning: Data with input dtype uint8, float64 were all converted to float64 by MinMaxScaler.\n",
      "  return self.partial_fit(X, y)\n"
     ]
    }
   ],
   "source": [
    "\n",
    "\n",
    "scaler = MinMaxScaler(feature_range=(0,1))\n",
    "scaled_train = scaler.fit_transform(x1)\n",
    "\n",
    "# Print out the adjustment that the scaler applied to the lepton pT column of data\n",
    "#print(\"Note: median values were scaled by multiplying by {:.10f} and adding {:.6f}\".format(scaler.scale_[0],scaler.min_[0]))\n",
    "#multiplied_by = scaler.scale_[0]\n",
    "#added = scaler.min_[0]\n",
    "\n",
    "scaled_train_df = pd.DataFrame(scaled_train, columns = x1.columns)"
   ]
  },
  {
   "cell_type": "code",
   "execution_count": 31,
   "metadata": {},
   "outputs": [],
   "source": [
    "from keras.applications import Xception\n",
    "from keras.utils import multi_gpu_model"
   ]
  },
  {
   "cell_type": "code",
   "execution_count": 32,
   "metadata": {},
   "outputs": [],
   "source": [
    "mirrored_strategy = tf.distribute.MirroredStrategy(devices=[\"/gpu:0\", \"/gpu:1\"],\n",
    "                                          cross_device_ops=tf.distribute.HierarchicalCopyAllReduce())"
   ]
  },
  {
   "cell_type": "code",
   "execution_count": 37,
   "metadata": {},
   "outputs": [
    {
     "name": "stdout",
     "output_type": "stream",
     "text": [
      "Executing op VarHandleOp in device /job:localhost/replica:0/task:0/device:GPU:0\n",
      "Executing op VarHandleOp in device /job:localhost/replica:0/task:0/device:GPU:1\n",
      "INFO:tensorflow:Reduce to /job:localhost/replica:0/task:0/device:CPU:0 then broadcast to ('/job:localhost/replica:0/task:0/device:CPU:0',).\n",
      "INFO:tensorflow:Reduce to /job:localhost/replica:0/task:0/device:CPU:0 then broadcast to ('/job:localhost/replica:0/task:0/device:CPU:0',).\n"
     ]
    }
   ],
   "source": [
    "with mirrored_strategy.scope():\n",
    "    model_final = tf.keras.Sequential()\n",
    "    model_final.add(layers.Dense(300, input_dim = 65, activation = 'relu'))\n",
    "    model_final.add(layers.Dropout(0.5))\n",
    "    model_final.add(layers.Dense(300, activation = 'relu'))\n",
    "    model_final.add(layers.Dropout(0.1))\n",
    "    model_final.add(layers.Dense(300, activation = 'relu'))\n",
    "    model_final.add(layers.Dense(300, activation = 'relu'))\n",
    "    model_final.add(layers.Dense(300, activation = 'relu'))\n",
    "    model_final.add(layers.Dense(1, activation = 'sigmoid'))\n",
    "    \n",
    "    model_final.compile(optimizer=tf.optimizers.Adam(learning_rate = 0.01, decay = 0.0001),\n",
    "             loss=tf.keras.losses.BinaryCrossentropy(),\n",
    "             metrics=['accuracy'])\n",
    "    \n",
    "    log_dir = 'final_logs'\n",
    "    tb_random = TensorBoard(log_dir=log_dir, histogram_freq=1)"
   ]
  },
  {
   "cell_type": "code",
   "execution_count": 38,
   "metadata": {},
   "outputs": [],
   "source": [
    "with mirrored_strategy.scope():\n",
    "\n",
    "    x_train, x_test, y_train, y_test = train_test_split(scaled_train_df.values, y, test_size=0.20, random_state=102)"
   ]
  },
  {
   "cell_type": "code",
   "execution_count": 39,
   "metadata": {},
   "outputs": [
    {
     "name": "stdout",
     "output_type": "stream",
     "text": [
      "float64\n"
     ]
    }
   ],
   "source": [
    "print(x_train.dtype)"
   ]
  },
  {
   "cell_type": "code",
   "execution_count": 40,
   "metadata": {},
   "outputs": [
    {
     "name": "stdout",
     "output_type": "stream",
     "text": [
      "Executing op RangeDataset in device /job:localhost/replica:0/task:0/device:CPU:0\n",
      "Executing op RepeatDataset in device /job:localhost/replica:0/task:0/device:CPU:0\n",
      "Executing op MapDataset in device /job:localhost/replica:0/task:0/device:CPU:0\n",
      "Executing op PrefetchDataset in device /job:localhost/replica:0/task:0/device:CPU:0\n",
      "Executing op FlatMapDataset in device /job:localhost/replica:0/task:0/device:CPU:0\n",
      "Executing op TensorDataset in device /job:localhost/replica:0/task:0/device:CPU:0\n",
      "Executing op RepeatDataset in device /job:localhost/replica:0/task:0/device:CPU:0\n",
      "Executing op ZipDataset in device /job:localhost/replica:0/task:0/device:CPU:0\n",
      "Executing op ParallelMapDataset in device /job:localhost/replica:0/task:0/device:CPU:0\n",
      "Executing op MapDataset in device /job:localhost/replica:0/task:0/device:CPU:0\n",
      "Executing op PrefetchDataset in device /job:localhost/replica:0/task:0/device:CPU:0\n",
      "Executing op FlatMapDataset in device /job:localhost/replica:0/task:0/device:CPU:0\n",
      "Executing op TensorDataset in device /job:localhost/replica:0/task:0/device:CPU:0\n",
      "Executing op RepeatDataset in device /job:localhost/replica:0/task:0/device:CPU:0\n",
      "Executing op ZipDataset in device /job:localhost/replica:0/task:0/device:CPU:0\n",
      "Executing op ParallelMapDataset in device /job:localhost/replica:0/task:0/device:CPU:0\n",
      "Executing op DatasetCardinality in device /job:localhost/replica:0/task:0/device:CPU:0\n",
      "Executing op RebatchDataset in device /job:localhost/replica:0/task:0/device:CPU:0\n",
      "Executing op AutoShardDataset in device /job:localhost/replica:0/task:0/device:CPU:0\n",
      "Train on 127929 samples, validate on 31983 samples\n",
      "Executing op Add in device /job:localhost/replica:0/task:0/device:CPU:0\n",
      "Executing op SummaryWriter in device /job:localhost/replica:0/task:0/device:CPU:0\n",
      "Executing op CreateSummaryFileWriter in device /job:localhost/replica:0/task:0/device:CPU:0\n",
      "Executing op WriteGraphSummary in device /job:localhost/replica:0/task:0/device:CPU:0\n",
      "Executing op LogicalAnd in device /job:localhost/replica:0/task:0/device:CPU:0\n",
      "Executing op WriteSummary in device /job:localhost/replica:0/task:0/device:CPU:0\n",
      "Executing op FlushSummaryWriter in device /job:localhost/replica:0/task:0/device:CPU:0\n",
      "Epoch 1/200\n",
      "Executing op OptimizeDataset in device /job:localhost/replica:0/task:0/device:CPU:0\n",
      "Executing op ModelDataset in device /job:localhost/replica:0/task:0/device:CPU:0\n",
      "Executing op MultiDeviceIterator in device /job:localhost/replica:0/task:0/device:CPU:0\n",
      "Executing op MultiDeviceIteratorInit in device /job:localhost/replica:0/task:0/device:CPU:0\n",
      "Executing op MultiDeviceIteratorToStringHandle in device /job:localhost/replica:0/task:0/device:CPU:0\n",
      "Executing op GeneratorDataset in device /job:localhost/replica:0/task:0/device:GPU:0\n",
      "Executing op GeneratorDataset in device /job:localhost/replica:0/task:0/device:GPU:1\n",
      "Executing op PrefetchDataset in device /job:localhost/replica:0/task:0/device:GPU:0\n",
      "Executing op AnonymousIteratorV2 in device /job:localhost/replica:0/task:0/device:GPU:0\n",
      "Executing op MakeIterator in device /job:localhost/replica:0/task:0/device:GPU:0\n",
      "Executing op PrefetchDataset in device /job:localhost/replica:0/task:0/device:GPU:1\n",
      "Executing op AnonymousIteratorV2 in device /job:localhost/replica:0/task:0/device:GPU:1\n",
      "Executing op MakeIterator in device /job:localhost/replica:0/task:0/device:GPU:1\n",
      "Executing op VarHandleOp in device /job:localhost/replica:0/task:0/device:GPU:0\n",
      "Executing op AssignVariableOp in device /job:localhost/replica:0/task:0/device:GPU:0\n",
      "Executing op ReadVariableOp in device /job:localhost/replica:0/task:0/device:GPU:0\n",
      "Executing op VarHandleOp in device /job:localhost/replica:0/task:0/device:GPU:1\n",
      "Executing op AssignVariableOp in device /job:localhost/replica:0/task:0/device:GPU:1\n",
      "Executing op VarHandleOp in device /job:localhost/replica:0/task:0/device:GPU:0\n",
      "Executing op VarHandleOp in device /job:localhost/replica:0/task:0/device:GPU:1\n",
      "Executing op VarHandleOp in device /job:localhost/replica:0/task:0/device:GPU:0\n",
      "Executing op VarHandleOp in device /job:localhost/replica:0/task:0/device:GPU:1\n",
      "Executing op VarHandleOp in device /job:localhost/replica:0/task:0/device:GPU:0\n",
      "Executing op VarHandleOp in device /job:localhost/replica:0/task:0/device:GPU:1\n",
      "Executing op VarHandleOp in device /job:localhost/replica:0/task:0/device:GPU:0\n",
      "Executing op VarHandleOp in device /job:localhost/replica:0/task:0/device:GPU:1\n",
      "Executing op Fill in device /job:localhost/replica:0/task:0/device:GPU:0\n",
      "Executing op VarHandleOp in device /job:localhost/replica:0/task:0/device:GPU:0\n",
      "Executing op VarHandleOp in device /job:localhost/replica:0/task:0/device:GPU:1\n",
      "Executing op VarHandleOp in device /job:localhost/replica:0/task:0/device:GPU:0\n",
      "Executing op VarHandleOp in device /job:localhost/replica:0/task:0/device:GPU:1\n",
      "Executing op VarHandleOp in device /job:localhost/replica:0/task:0/device:GPU:0\n",
      "Executing op VarHandleOp in device /job:localhost/replica:0/task:0/device:GPU:1\n",
      "Executing op VarHandleOp in device /job:localhost/replica:0/task:0/device:GPU:0\n",
      "Executing op VarHandleOp in device /job:localhost/replica:0/task:0/device:GPU:1\n",
      "Executing op VarHandleOp in device /job:localhost/replica:0/task:0/device:GPU:0\n",
      "Executing op VarHandleOp in device /job:localhost/replica:0/task:0/device:GPU:1\n",
      "Executing op VarHandleOp in device /job:localhost/replica:0/task:0/device:GPU:0\n",
      "Executing op VarHandleOp in device /job:localhost/replica:0/task:0/device:GPU:1\n",
      "Executing op VarHandleOp in device /job:localhost/replica:0/task:0/device:GPU:0\n",
      "Executing op VarHandleOp in device /job:localhost/replica:0/task:0/device:GPU:1\n",
      "Executing op VarHandleOp in device /job:localhost/replica:0/task:0/device:GPU:0\n",
      "Executing op VarHandleOp in device /job:localhost/replica:0/task:0/device:GPU:1\n",
      "Executing op VarHandleOp in device /job:localhost/replica:0/task:0/device:GPU:0\n",
      "Executing op VarHandleOp in device /job:localhost/replica:0/task:0/device:GPU:1\n",
      "Executing op VarHandleOp in device /job:localhost/replica:0/task:0/device:GPU:0\n",
      "Executing op VarHandleOp in device /job:localhost/replica:0/task:0/device:GPU:1\n",
      "Executing op VarHandleOp in device /job:localhost/replica:0/task:0/device:GPU:0\n",
      "Executing op VarHandleOp in device /job:localhost/replica:0/task:0/device:GPU:1\n",
      "Executing op Reshape in device /job:localhost/replica:0/task:0/device:GPU:0\n",
      "Executing op VarHandleOp in device /job:localhost/replica:0/task:0/device:GPU:0\n",
      "Executing op VarHandleOp in device /job:localhost/replica:0/task:0/device:GPU:1\n",
      "Executing op VarHandleOp in device /job:localhost/replica:0/task:0/device:GPU:0\n",
      "Executing op VarHandleOp in device /job:localhost/replica:0/task:0/device:GPU:1\n",
      "Executing op VarHandleOp in device /job:localhost/replica:0/task:0/device:GPU:0\n",
      "Executing op VarHandleOp in device /job:localhost/replica:0/task:0/device:GPU:1\n",
      "Executing op VarHandleOp in device /job:localhost/replica:0/task:0/device:GPU:0\n",
      "Executing op VarHandleOp in device /job:localhost/replica:0/task:0/device:GPU:1\n",
      "Executing op VarHandleOp in device /job:localhost/replica:0/task:0/device:GPU:0\n",
      "Executing op VarHandleOp in device /job:localhost/replica:0/task:0/device:GPU:1\n",
      "Executing op VarHandleOp in device /job:localhost/replica:0/task:0/device:GPU:0\n",
      "Executing op VarHandleOp in device /job:localhost/replica:0/task:0/device:GPU:1\n",
      "Executing op VarHandleOp in device /job:localhost/replica:0/task:0/device:GPU:0\n",
      "Executing op VarHandleOp in device /job:localhost/replica:0/task:0/device:GPU:1\n",
      "Executing op VarHandleOp in device /job:localhost/replica:0/task:0/device:GPU:0\n",
      "Executing op VarHandleOp in device /job:localhost/replica:0/task:0/device:GPU:1\n",
      "Executing op VarHandleOp in device /job:localhost/replica:0/task:0/device:GPU:0\n",
      "Executing op VarHandleOp in device /job:localhost/replica:0/task:0/device:GPU:1\n",
      "Executing op VarHandleOp in device /job:localhost/replica:0/task:0/device:GPU:0\n",
      "Executing op VarHandleOp in device /job:localhost/replica:0/task:0/device:GPU:1\n",
      "Executing op VarHandleOp in device /job:localhost/replica:0/task:0/device:GPU:0\n",
      "Executing op VarHandleOp in device /job:localhost/replica:0/task:0/device:GPU:1\n",
      "Executing op VarHandleOp in device /job:localhost/replica:0/task:0/device:GPU:0\n",
      "Executing op VarHandleOp in device /job:localhost/replica:0/task:0/device:GPU:1\n"
     ]
    },
    {
     "name": "stdout",
     "output_type": "stream",
     "text": [
      "Executing op VarHandleOp in device /job:localhost/replica:0/task:0/device:GPU:0\n",
      "Executing op VarHandleOp in device /job:localhost/replica:0/task:0/device:GPU:1\n",
      "INFO:tensorflow:batch_all_reduce: 12 all-reduces with algorithm = hierarchical_copy, num_packs = 1, agg_small_grads_max_bytes = 0 and agg_small_grads_max_group = 10\n",
      "INFO:tensorflow:Reduce to /job:localhost/replica:0/task:0/device:CPU:0 then broadcast to ('/job:localhost/replica:0/task:0/device:CPU:0',).\n",
      "INFO:tensorflow:Reduce to /job:localhost/replica:0/task:0/device:CPU:0 then broadcast to ('/job:localhost/replica:0/task:0/device:CPU:0',).\n",
      "INFO:tensorflow:Reduce to /job:localhost/replica:0/task:0/device:CPU:0 then broadcast to ('/job:localhost/replica:0/task:0/device:CPU:0',).\n",
      "INFO:tensorflow:Reduce to /job:localhost/replica:0/task:0/device:CPU:0 then broadcast to ('/job:localhost/replica:0/task:0/device:CPU:0',).\n",
      "Executing op __inference_initialize_variables_2708 in device /job:localhost/replica:0/task:0/device:GPU:0\n",
      "INFO:tensorflow:batch_all_reduce: 12 all-reduces with algorithm = hierarchical_copy, num_packs = 1, agg_small_grads_max_bytes = 0 and agg_small_grads_max_group = 10\n",
      "INFO:tensorflow:Reduce to /job:localhost/replica:0/task:0/device:CPU:0 then broadcast to ('/job:localhost/replica:0/task:0/device:CPU:0',).\n",
      "INFO:tensorflow:Reduce to /job:localhost/replica:0/task:0/device:CPU:0 then broadcast to ('/job:localhost/replica:0/task:0/device:CPU:0',).\n",
      "Executing op __inference_distributed_function_3705 in device /job:localhost/replica:0/task:0/device:GPU:0\n",
      "119000/127929 [==========================>...] - ETA: 0s - loss: 0.7320 - accuracy: 0.6119Executing op GeneratorDataset in device /job:localhost/replica:0/task:0/device:GPU:0\n",
      "Executing op GeneratorDataset in device /job:localhost/replica:0/task:0/device:GPU:1\n",
      "Executing op __inference_distributed_function_4519 in device /job:localhost/replica:0/task:0/device:GPU:0\n",
      "Executing op WriteScalarSummary in device /job:localhost/replica:0/task:0/device:CPU:0\n",
      "Executing op WriteScalarSummary in device /job:localhost/replica:0/task:0/device:CPU:0\n",
      "Executing op WriteHistogramSummary in device /job:localhost/replica:0/task:0/device:CPU:0\n",
      "127929/127929 [==============================] - 12s 96us/sample - loss: 0.7238 - accuracy: 0.6154 - val_loss: 0.5978 - val_accuracy: 0.6752\n",
      "Epoch 2/200\n",
      "127929/127929 [==============================] - 1s 7us/sample - loss: 0.5983 - accuracy: 0.6758 - val_loss: 0.5604 - val_accuracy: 0.7088\n",
      "Epoch 3/200\n",
      "127929/127929 [==============================] - 1s 8us/sample - loss: 0.5768 - accuracy: 0.6825 - val_loss: 0.5705 - val_accuracy: 0.7088\n",
      "Epoch 4/200\n",
      "127929/127929 [==============================] - 1s 8us/sample - loss: 0.5697 - accuracy: 0.6819 - val_loss: 0.5405 - val_accuracy: 0.7209\n",
      "Epoch 5/200\n",
      "127929/127929 [==============================] - 1s 8us/sample - loss: 0.5657 - accuracy: 0.6865 - val_loss: 0.5355 - val_accuracy: 0.7185\n",
      "Epoch 6/200\n",
      "127929/127929 [==============================] - 1s 7us/sample - loss: 0.5517 - accuracy: 0.6937 - val_loss: 0.5285 - val_accuracy: 0.7254\n",
      "Epoch 7/200\n",
      "127929/127929 [==============================] - 1s 8us/sample - loss: 0.5506 - accuracy: 0.6979 - val_loss: 0.5310 - val_accuracy: 0.7300\n",
      "Epoch 8/200\n",
      "127929/127929 [==============================] - 1s 7us/sample - loss: 0.5456 - accuracy: 0.6997 - val_loss: 0.5551 - val_accuracy: 0.6946\n",
      "Epoch 9/200\n",
      "127929/127929 [==============================] - 1s 7us/sample - loss: 0.5422 - accuracy: 0.7023 - val_loss: 0.5606 - val_accuracy: 0.7153\n",
      "Epoch 10/200\n",
      "127929/127929 [==============================] - 1s 7us/sample - loss: 0.5332 - accuracy: 0.7198 - val_loss: 0.6398 - val_accuracy: 0.6156\n",
      "Epoch 11/200\n",
      "127929/127929 [==============================] - 1s 7us/sample - loss: 0.5293 - accuracy: 0.7276 - val_loss: 0.7010 - val_accuracy: 0.5520\n",
      "Epoch 12/200\n",
      "127929/127929 [==============================] - 1s 7us/sample - loss: 0.5227 - accuracy: 0.7344 - val_loss: 0.6964 - val_accuracy: 0.5533\n",
      "Epoch 13/200\n",
      "127929/127929 [==============================] - 1s 8us/sample - loss: 0.5177 - accuracy: 0.7373 - val_loss: 0.6982 - val_accuracy: 0.5701\n",
      "Epoch 14/200\n",
      "127929/127929 [==============================] - 1s 8us/sample - loss: 0.5148 - accuracy: 0.7399 - val_loss: 0.8345 - val_accuracy: 0.5221\n",
      "Epoch 15/200\n",
      "127929/127929 [==============================] - 1s 8us/sample - loss: 0.5127 - accuracy: 0.7426 - val_loss: 0.7534 - val_accuracy: 0.5345\n",
      "Epoch 16/200\n",
      "127929/127929 [==============================] - 1s 8us/sample - loss: 0.5103 - accuracy: 0.7456 - val_loss: 0.6386 - val_accuracy: 0.5760\n",
      "Epoch 17/200\n",
      "127929/127929 [==============================] - 1s 8us/sample - loss: 0.5056 - accuracy: 0.7482 - val_loss: 0.8910 - val_accuracy: 0.4424\n",
      "Epoch 18/200\n",
      "127929/127929 [==============================] - 1s 8us/sample - loss: 0.5026 - accuracy: 0.7503 - val_loss: 0.8955 - val_accuracy: 0.4583\n",
      "Epoch 19/200\n",
      "127929/127929 [==============================] - 1s 7us/sample - loss: 0.5019 - accuracy: 0.7511 - val_loss: 0.8747 - val_accuracy: 0.4506\n",
      "Epoch 20/200\n",
      "127929/127929 [==============================] - 1s 7us/sample - loss: 0.5005 - accuracy: 0.7533 - val_loss: 0.9577 - val_accuracy: 0.4365\n",
      "Epoch 21/200\n",
      "127929/127929 [==============================] - 1s 7us/sample - loss: 0.4927 - accuracy: 0.7582 - val_loss: 1.0545 - val_accuracy: 0.4114\n",
      "Epoch 22/200\n",
      "127929/127929 [==============================] - 1s 7us/sample - loss: 0.4940 - accuracy: 0.7578 - val_loss: 0.9418 - val_accuracy: 0.4298\n",
      "Epoch 23/200\n",
      "127929/127929 [==============================] - 1s 7us/sample - loss: 0.4940 - accuracy: 0.7577 - val_loss: 1.0909 - val_accuracy: 0.4327\n",
      "Epoch 24/200\n",
      "127929/127929 [==============================] - 1s 7us/sample - loss: 0.4925 - accuracy: 0.7590 - val_loss: 1.0713 - val_accuracy: 0.4307\n",
      "Epoch 25/200\n",
      "127929/127929 [==============================] - 1s 8us/sample - loss: 0.4921 - accuracy: 0.7603 - val_loss: 1.0248 - val_accuracy: 0.4229\n",
      "Epoch 26/200\n",
      "127929/127929 [==============================] - 1s 8us/sample - loss: 0.4922 - accuracy: 0.7592 - val_loss: 1.0682 - val_accuracy: 0.4227\n",
      "Epoch 27/200\n",
      "127929/127929 [==============================] - 1s 7us/sample - loss: 0.4901 - accuracy: 0.7610 - val_loss: 1.0304 - val_accuracy: 0.4247\n",
      "Epoch 28/200\n",
      "127929/127929 [==============================] - 1s 7us/sample - loss: 0.4902 - accuracy: 0.7605 - val_loss: 0.9776 - val_accuracy: 0.4371\n",
      "Epoch 29/200\n",
      "127929/127929 [==============================] - 1s 7us/sample - loss: 0.4905 - accuracy: 0.7623 - val_loss: 1.0860 - val_accuracy: 0.4285\n",
      "Epoch 30/200\n",
      "127929/127929 [==============================] - 1s 7us/sample - loss: 0.4882 - accuracy: 0.7616 - val_loss: 1.0561 - val_accuracy: 0.4300\n",
      "Epoch 31/200\n",
      "127929/127929 [==============================] - 1s 7us/sample - loss: 0.4905 - accuracy: 0.7615 - val_loss: 0.9811 - val_accuracy: 0.4315\n",
      "Epoch 32/200\n",
      "127929/127929 [==============================] - 1s 7us/sample - loss: 0.4867 - accuracy: 0.7631 - val_loss: 1.1587 - val_accuracy: 0.4147\n",
      "Epoch 33/200\n",
      "127929/127929 [==============================] - 1s 8us/sample - loss: 0.4842 - accuracy: 0.7646 - val_loss: 1.0782 - val_accuracy: 0.4262\n",
      "Epoch 34/200\n",
      "127929/127929 [==============================] - 1s 7us/sample - loss: 0.4839 - accuracy: 0.7645 - val_loss: 1.1240 - val_accuracy: 0.4230\n",
      "Epoch 35/200\n",
      "127929/127929 [==============================] - 1s 8us/sample - loss: 0.4850 - accuracy: 0.7650 - val_loss: 1.1608 - val_accuracy: 0.4102\n",
      "Epoch 36/200\n",
      "127929/127929 [==============================] - 1s 7us/sample - loss: 0.4826 - accuracy: 0.7661 - val_loss: 1.1287 - val_accuracy: 0.4140\n",
      "Epoch 37/200\n",
      "127929/127929 [==============================] - 1s 7us/sample - loss: 0.4839 - accuracy: 0.7650 - val_loss: 1.1302 - val_accuracy: 0.4180\n",
      "Epoch 38/200\n",
      "127929/127929 [==============================] - 1s 7us/sample - loss: 0.4808 - accuracy: 0.7663 - val_loss: 1.1612 - val_accuracy: 0.4119\n",
      "Epoch 39/200\n",
      "127929/127929 [==============================] - 1s 8us/sample - loss: 0.4816 - accuracy: 0.7672 - val_loss: 1.1502 - val_accuracy: 0.4153\n",
      "Epoch 40/200\n",
      "127929/127929 [==============================] - 1s 7us/sample - loss: 0.4826 - accuracy: 0.7660 - val_loss: 1.1321 - val_accuracy: 0.4051\n"
     ]
    },
    {
     "name": "stdout",
     "output_type": "stream",
     "text": [
      "Epoch 41/200\n",
      "127929/127929 [==============================] - 1s 7us/sample - loss: 0.4803 - accuracy: 0.7691 - val_loss: 1.0406 - val_accuracy: 0.4162\n",
      "Epoch 42/200\n",
      "127929/127929 [==============================] - 1s 7us/sample - loss: 0.4823 - accuracy: 0.7654 - val_loss: 1.1992 - val_accuracy: 0.4105\n",
      "Epoch 43/200\n",
      "127929/127929 [==============================] - 1s 7us/sample - loss: 0.4829 - accuracy: 0.7658 - val_loss: 1.0445 - val_accuracy: 0.4123\n",
      "Epoch 44/200\n",
      "127929/127929 [==============================] - 1s 7us/sample - loss: 0.4787 - accuracy: 0.7684 - val_loss: 1.1396 - val_accuracy: 0.4071\n",
      "Epoch 45/200\n",
      "127929/127929 [==============================] - 1s 7us/sample - loss: 0.4812 - accuracy: 0.7677 - val_loss: 1.0550 - val_accuracy: 0.4053\n",
      "Epoch 46/200\n",
      "127929/127929 [==============================] - 1s 7us/sample - loss: 0.4784 - accuracy: 0.7695 - val_loss: 1.1611 - val_accuracy: 0.4063\n",
      "Epoch 47/200\n",
      "127929/127929 [==============================] - 1s 7us/sample - loss: 0.4764 - accuracy: 0.7698 - val_loss: 1.1105 - val_accuracy: 0.4111\n",
      "Epoch 48/200\n",
      "127929/127929 [==============================] - 1s 7us/sample - loss: 0.4775 - accuracy: 0.7702 - val_loss: 1.1157 - val_accuracy: 0.4056\n",
      "Epoch 49/200\n",
      "127929/127929 [==============================] - 1s 8us/sample - loss: 0.4789 - accuracy: 0.7686 - val_loss: 1.2136 - val_accuracy: 0.4038\n",
      "Epoch 50/200\n",
      "127929/127929 [==============================] - 1s 8us/sample - loss: 0.4744 - accuracy: 0.7709 - val_loss: 1.1150 - val_accuracy: 0.4070\n",
      "Epoch 51/200\n",
      "127929/127929 [==============================] - 1s 7us/sample - loss: 0.4776 - accuracy: 0.7689 - val_loss: 1.1676 - val_accuracy: 0.4078\n",
      "Epoch 52/200\n",
      "127929/127929 [==============================] - 1s 8us/sample - loss: 0.4763 - accuracy: 0.7717 - val_loss: 1.1040 - val_accuracy: 0.4104\n",
      "Epoch 53/200\n",
      "127929/127929 [==============================] - 1s 8us/sample - loss: 0.4753 - accuracy: 0.7709 - val_loss: 1.1465 - val_accuracy: 0.4096\n",
      "Epoch 54/200\n",
      "127929/127929 [==============================] - 1s 8us/sample - loss: 0.4748 - accuracy: 0.7723 - val_loss: 1.1895 - val_accuracy: 0.4035\n",
      "Epoch 55/200\n",
      "127929/127929 [==============================] - 1s 8us/sample - loss: 0.4724 - accuracy: 0.7730 - val_loss: 1.2001 - val_accuracy: 0.4064\n",
      "Epoch 56/200\n",
      "127929/127929 [==============================] - 1s 8us/sample - loss: 0.4753 - accuracy: 0.7714 - val_loss: 1.2608 - val_accuracy: 0.4005\n",
      "Epoch 57/200\n",
      "127929/127929 [==============================] - 1s 7us/sample - loss: 0.4722 - accuracy: 0.7734 - val_loss: 1.0630 - val_accuracy: 0.4061\n",
      "Epoch 58/200\n",
      "127929/127929 [==============================] - 1s 8us/sample - loss: 0.4726 - accuracy: 0.7725 - val_loss: 1.1407 - val_accuracy: 0.4033\n",
      "Epoch 59/200\n",
      "127929/127929 [==============================] - 1s 8us/sample - loss: 0.4730 - accuracy: 0.7732 - val_loss: 1.1992 - val_accuracy: 0.4044\n",
      "Epoch 60/200\n",
      "127929/127929 [==============================] - 1s 9us/sample - loss: 0.4727 - accuracy: 0.7735 - val_loss: 1.0622 - val_accuracy: 0.4059\n",
      "Epoch 61/200\n",
      "127929/127929 [==============================] - 1s 7us/sample - loss: 0.4775 - accuracy: 0.7702 - val_loss: 0.9735 - val_accuracy: 0.4088\n",
      "Epoch 62/200\n",
      "127929/127929 [==============================] - 1s 8us/sample - loss: 0.4699 - accuracy: 0.7744 - val_loss: 1.1461 - val_accuracy: 0.4054\n",
      "Epoch 63/200\n",
      "127929/127929 [==============================] - 1s 8us/sample - loss: 0.4726 - accuracy: 0.7734 - val_loss: 1.2677 - val_accuracy: 0.3996\n",
      "Epoch 64/200\n",
      "127929/127929 [==============================] - 1s 8us/sample - loss: 0.4737 - accuracy: 0.7721 - val_loss: 1.2253 - val_accuracy: 0.4100\n",
      "Epoch 65/200\n",
      "127929/127929 [==============================] - 1s 8us/sample - loss: 0.4724 - accuracy: 0.7729 - val_loss: 1.1603 - val_accuracy: 0.4027\n",
      "Epoch 66/200\n",
      "127929/127929 [==============================] - 1s 8us/sample - loss: 0.4721 - accuracy: 0.7735 - val_loss: 1.0815 - val_accuracy: 0.4081\n",
      "Epoch 67/200\n",
      "127929/127929 [==============================] - 1s 7us/sample - loss: 0.4691 - accuracy: 0.7760 - val_loss: 1.1759 - val_accuracy: 0.4009\n",
      "Epoch 68/200\n",
      "127929/127929 [==============================] - 1s 7us/sample - loss: 0.4702 - accuracy: 0.7733 - val_loss: 1.2320 - val_accuracy: 0.4036\n",
      "Epoch 69/200\n",
      "127929/127929 [==============================] - 1s 7us/sample - loss: 0.4691 - accuracy: 0.7752 - val_loss: 1.1863 - val_accuracy: 0.4021\n",
      "Epoch 70/200\n",
      "127929/127929 [==============================] - 1s 8us/sample - loss: 0.4690 - accuracy: 0.7756 - val_loss: 1.2504 - val_accuracy: 0.4027\n",
      "Epoch 71/200\n",
      "127929/127929 [==============================] - 1s 8us/sample - loss: 0.4699 - accuracy: 0.7745 - val_loss: 1.1893 - val_accuracy: 0.3986\n",
      "Epoch 72/200\n",
      "127929/127929 [==============================] - 1s 7us/sample - loss: 0.4685 - accuracy: 0.7759 - val_loss: 1.0666 - val_accuracy: 0.3979\n",
      "Epoch 73/200\n",
      "127929/127929 [==============================] - 1s 7us/sample - loss: 0.4674 - accuracy: 0.7767 - val_loss: 1.1134 - val_accuracy: 0.4024\n",
      "Epoch 74/200\n",
      "127929/127929 [==============================] - 1s 8us/sample - loss: 0.4702 - accuracy: 0.7739 - val_loss: 1.2029 - val_accuracy: 0.3986\n",
      "Epoch 75/200\n",
      "127929/127929 [==============================] - 1s 8us/sample - loss: 0.4675 - accuracy: 0.7763 - val_loss: 1.2566 - val_accuracy: 0.3951\n",
      "Epoch 76/200\n",
      "127929/127929 [==============================] - 1s 8us/sample - loss: 0.4700 - accuracy: 0.7736 - val_loss: 1.2927 - val_accuracy: 0.3970\n",
      "Epoch 77/200\n",
      "127929/127929 [==============================] - 1s 8us/sample - loss: 0.4664 - accuracy: 0.7757 - val_loss: 1.3595 - val_accuracy: 0.3971\n",
      "Epoch 78/200\n",
      "127929/127929 [==============================] - 1s 8us/sample - loss: 0.4673 - accuracy: 0.7762 - val_loss: 1.2993 - val_accuracy: 0.3972\n",
      "Epoch 79/200\n",
      "127929/127929 [==============================] - 1s 8us/sample - loss: 0.4676 - accuracy: 0.7762 - val_loss: 1.2407 - val_accuracy: 0.3967\n",
      "Epoch 80/200\n",
      "127929/127929 [==============================] - 1s 8us/sample - loss: 0.4656 - accuracy: 0.7771 - val_loss: 1.0513 - val_accuracy: 0.4014\n",
      "Epoch 81/200\n",
      "127929/127929 [==============================] - 1s 9us/sample - loss: 0.4652 - accuracy: 0.7778 - val_loss: 1.2562 - val_accuracy: 0.3996\n",
      "Epoch 82/200\n",
      "127929/127929 [==============================] - 1s 8us/sample - loss: 0.4680 - accuracy: 0.7747 - val_loss: 1.4010 - val_accuracy: 0.3970\n",
      "Epoch 83/200\n",
      "127929/127929 [==============================] - 1s 8us/sample - loss: 0.4659 - accuracy: 0.7769 - val_loss: 1.2768 - val_accuracy: 0.3966\n",
      "Epoch 84/200\n",
      "127929/127929 [==============================] - 1s 8us/sample - loss: 0.4658 - accuracy: 0.7765 - val_loss: 1.1831 - val_accuracy: 0.3973\n",
      "Epoch 85/200\n",
      "127929/127929 [==============================] - 1s 8us/sample - loss: 0.4644 - accuracy: 0.7778 - val_loss: 1.1238 - val_accuracy: 0.3973\n",
      "Epoch 86/200\n",
      "127929/127929 [==============================] - 1s 8us/sample - loss: 0.4657 - accuracy: 0.7771 - val_loss: 1.2235 - val_accuracy: 0.3970\n",
      "Epoch 87/200\n",
      "127929/127929 [==============================] - 1s 8us/sample - loss: 0.4640 - accuracy: 0.7795 - val_loss: 1.1750 - val_accuracy: 0.3995\n",
      "Epoch 88/200\n",
      "127929/127929 [==============================] - 1s 7us/sample - loss: 0.4632 - accuracy: 0.7784 - val_loss: 1.3702 - val_accuracy: 0.3962\n",
      "Epoch 89/200\n",
      "127929/127929 [==============================] - 1s 8us/sample - loss: 0.4636 - accuracy: 0.7780 - val_loss: 1.3095 - val_accuracy: 0.3967\n",
      "Epoch 90/200\n",
      "127929/127929 [==============================] - 1s 7us/sample - loss: 0.4644 - accuracy: 0.7776 - val_loss: 1.2602 - val_accuracy: 0.3976\n",
      "Epoch 91/200\n",
      "127929/127929 [==============================] - 1s 8us/sample - loss: 0.4661 - accuracy: 0.7757 - val_loss: 1.2175 - val_accuracy: 0.3967\n",
      "Epoch 92/200\n",
      "127929/127929 [==============================] - 1s 7us/sample - loss: 0.4638 - accuracy: 0.7767 - val_loss: 1.2093 - val_accuracy: 0.3977\n",
      "Epoch 93/200\n",
      "127929/127929 [==============================] - 1s 7us/sample - loss: 0.4629 - accuracy: 0.7779 - val_loss: 1.1710 - val_accuracy: 0.3976\n",
      "Epoch 94/200\n",
      "127929/127929 [==============================] - 1s 7us/sample - loss: 0.4631 - accuracy: 0.7782 - val_loss: 1.2606 - val_accuracy: 0.3976\n"
     ]
    },
    {
     "name": "stdout",
     "output_type": "stream",
     "text": [
      "Epoch 95/200\n",
      "127929/127929 [==============================] - 1s 7us/sample - loss: 0.4640 - accuracy: 0.7784 - val_loss: 1.2222 - val_accuracy: 0.3976\n",
      "Epoch 96/200\n",
      "127929/127929 [==============================] - 1s 7us/sample - loss: 0.4626 - accuracy: 0.7793 - val_loss: 1.3467 - val_accuracy: 0.3971\n",
      "Epoch 97/200\n",
      "127929/127929 [==============================] - 1s 7us/sample - loss: 0.4642 - accuracy: 0.7776 - val_loss: 1.1622 - val_accuracy: 0.3974\n",
      "Epoch 98/200\n",
      "127929/127929 [==============================] - 1s 7us/sample - loss: 0.4609 - accuracy: 0.7795 - val_loss: 1.3570 - val_accuracy: 0.3974\n",
      "Epoch 99/200\n",
      "127929/127929 [==============================] - 1s 7us/sample - loss: 0.4642 - accuracy: 0.7772 - val_loss: 1.2670 - val_accuracy: 0.3968\n",
      "Epoch 100/200\n",
      "127929/127929 [==============================] - 1s 7us/sample - loss: 0.4616 - accuracy: 0.7792 - val_loss: 1.1864 - val_accuracy: 0.3983\n",
      "Epoch 101/200\n",
      "127929/127929 [==============================] - 1s 7us/sample - loss: 0.4626 - accuracy: 0.7788 - val_loss: 1.3691 - val_accuracy: 0.3966\n",
      "Epoch 102/200\n",
      "127929/127929 [==============================] - 1s 7us/sample - loss: 0.4616 - accuracy: 0.7797 - val_loss: 1.2719 - val_accuracy: 0.3979\n",
      "Epoch 103/200\n",
      "127929/127929 [==============================] - 1s 7us/sample - loss: 0.4607 - accuracy: 0.7802 - val_loss: 1.3311 - val_accuracy: 0.3966\n",
      "Epoch 104/200\n",
      "127929/127929 [==============================] - 1s 8us/sample - loss: 0.4605 - accuracy: 0.7799 - val_loss: 1.2266 - val_accuracy: 0.3964\n",
      "Epoch 105/200\n",
      "127929/127929 [==============================] - 1s 8us/sample - loss: 0.4593 - accuracy: 0.7817 - val_loss: 1.2374 - val_accuracy: 0.3975\n",
      "Epoch 106/200\n",
      "127929/127929 [==============================] - 1s 7us/sample - loss: 0.4642 - accuracy: 0.7777 - val_loss: 1.2261 - val_accuracy: 0.3978\n",
      "Epoch 107/200\n",
      "127929/127929 [==============================] - 1s 7us/sample - loss: 0.4612 - accuracy: 0.7798 - val_loss: 1.2274 - val_accuracy: 0.3968\n",
      "Epoch 108/200\n",
      "127929/127929 [==============================] - 1s 8us/sample - loss: 0.4590 - accuracy: 0.7822 - val_loss: 1.4208 - val_accuracy: 0.3967\n",
      "Epoch 109/200\n",
      "127929/127929 [==============================] - 1s 7us/sample - loss: 0.4605 - accuracy: 0.7788 - val_loss: 1.3484 - val_accuracy: 0.3975\n",
      "Epoch 110/200\n",
      "127929/127929 [==============================] - 1s 8us/sample - loss: 0.4626 - accuracy: 0.7793 - val_loss: 1.1543 - val_accuracy: 0.3976\n",
      "Epoch 111/200\n",
      "127929/127929 [==============================] - 1s 7us/sample - loss: 0.4580 - accuracy: 0.7815 - val_loss: 1.1914 - val_accuracy: 0.3973\n",
      "Epoch 112/200\n",
      "127929/127929 [==============================] - 1s 7us/sample - loss: 0.4604 - accuracy: 0.7804 - val_loss: 1.1468 - val_accuracy: 0.3901\n",
      "Epoch 113/200\n",
      "127929/127929 [==============================] - 1s 7us/sample - loss: 0.4602 - accuracy: 0.7801 - val_loss: 1.1562 - val_accuracy: 0.3921\n",
      "Epoch 114/200\n",
      "127929/127929 [==============================] - 1s 7us/sample - loss: 0.4599 - accuracy: 0.7811 - val_loss: 1.0739 - val_accuracy: 0.3980\n",
      "Epoch 115/200\n",
      "127929/127929 [==============================] - 1s 7us/sample - loss: 0.4603 - accuracy: 0.7795 - val_loss: 1.2272 - val_accuracy: 0.3979\n",
      "Epoch 116/200\n",
      "127929/127929 [==============================] - 1s 7us/sample - loss: 0.4586 - accuracy: 0.7821 - val_loss: 1.1637 - val_accuracy: 0.3966\n",
      "Epoch 117/200\n",
      "127929/127929 [==============================] - 1s 8us/sample - loss: 0.4587 - accuracy: 0.7811 - val_loss: 1.0229 - val_accuracy: 0.4022\n",
      "Epoch 118/200\n",
      "127929/127929 [==============================] - 1s 7us/sample - loss: 0.4596 - accuracy: 0.7808 - val_loss: 1.0308 - val_accuracy: 0.3971\n",
      "Epoch 119/200\n",
      "127929/127929 [==============================] - 1s 7us/sample - loss: 0.4580 - accuracy: 0.7825 - val_loss: 1.0445 - val_accuracy: 0.3980\n",
      "Epoch 120/200\n",
      "127929/127929 [==============================] - 1s 7us/sample - loss: 0.4555 - accuracy: 0.7842 - val_loss: 1.1597 - val_accuracy: 0.3974\n",
      "Epoch 121/200\n",
      "127929/127929 [==============================] - 1s 7us/sample - loss: 0.4574 - accuracy: 0.7825 - val_loss: 1.3081 - val_accuracy: 0.3977\n",
      "Epoch 122/200\n",
      "127929/127929 [==============================] - 1s 8us/sample - loss: 0.4582 - accuracy: 0.7828 - val_loss: 1.0356 - val_accuracy: 0.3958\n",
      "Epoch 123/200\n",
      "127929/127929 [==============================] - 1s 8us/sample - loss: 0.4564 - accuracy: 0.7836 - val_loss: 1.0838 - val_accuracy: 0.3974\n",
      "Epoch 124/200\n",
      "127929/127929 [==============================] - 1s 7us/sample - loss: 0.4565 - accuracy: 0.7831 - val_loss: 0.9543 - val_accuracy: 0.3946\n",
      "Epoch 125/200\n",
      "127929/127929 [==============================] - 1s 7us/sample - loss: 0.4555 - accuracy: 0.7836 - val_loss: 1.0547 - val_accuracy: 0.3966\n",
      "Epoch 126/200\n",
      "127929/127929 [==============================] - 1s 7us/sample - loss: 0.4568 - accuracy: 0.7838 - val_loss: 1.0881 - val_accuracy: 0.3975\n",
      "Epoch 127/200\n",
      "127929/127929 [==============================] - 1s 7us/sample - loss: 0.4556 - accuracy: 0.7845 - val_loss: 1.0889 - val_accuracy: 0.3970\n",
      "Epoch 128/200\n",
      "127929/127929 [==============================] - 1s 7us/sample - loss: 0.4550 - accuracy: 0.7841 - val_loss: 1.0275 - val_accuracy: 0.3982\n",
      "Epoch 129/200\n",
      "127929/127929 [==============================] - 1s 7us/sample - loss: 0.4563 - accuracy: 0.7838 - val_loss: 1.0878 - val_accuracy: 0.3969\n",
      "Epoch 130/200\n",
      "127929/127929 [==============================] - 1s 7us/sample - loss: 0.4550 - accuracy: 0.7848 - val_loss: 1.1287 - val_accuracy: 0.3970\n",
      "Epoch 131/200\n",
      "127929/127929 [==============================] - 1s 8us/sample - loss: 0.4573 - accuracy: 0.7827 - val_loss: 1.1720 - val_accuracy: 0.3987\n",
      "Epoch 132/200\n",
      "127929/127929 [==============================] - 1s 8us/sample - loss: 0.4543 - accuracy: 0.7851 - val_loss: 1.1656 - val_accuracy: 0.3983\n",
      "Epoch 133/200\n",
      "127929/127929 [==============================] - 1s 7us/sample - loss: 0.4547 - accuracy: 0.7855 - val_loss: 1.1672 - val_accuracy: 0.3976\n",
      "Epoch 134/200\n",
      "127929/127929 [==============================] - 1s 7us/sample - loss: 0.4534 - accuracy: 0.7856 - val_loss: 1.1651 - val_accuracy: 0.3971\n",
      "Epoch 135/200\n",
      "127929/127929 [==============================] - 1s 7us/sample - loss: 0.4573 - accuracy: 0.7815 - val_loss: 1.1417 - val_accuracy: 0.3975\n",
      "Epoch 136/200\n",
      "127929/127929 [==============================] - 1s 7us/sample - loss: 0.4529 - accuracy: 0.7848 - val_loss: 1.0605 - val_accuracy: 0.3988\n",
      "Epoch 137/200\n",
      "127929/127929 [==============================] - 1s 8us/sample - loss: 0.4536 - accuracy: 0.7845 - val_loss: 0.9967 - val_accuracy: 0.3981\n",
      "Epoch 138/200\n",
      "127929/127929 [==============================] - 1s 7us/sample - loss: 0.4527 - accuracy: 0.7867 - val_loss: 1.2436 - val_accuracy: 0.3972\n",
      "Epoch 139/200\n",
      "127929/127929 [==============================] - 1s 8us/sample - loss: 0.4524 - accuracy: 0.7847 - val_loss: 1.0279 - val_accuracy: 0.3970\n",
      "Epoch 140/200\n",
      "127929/127929 [==============================] - 1s 7us/sample - loss: 0.4540 - accuracy: 0.7844 - val_loss: 0.9551 - val_accuracy: 0.3979\n",
      "Epoch 141/200\n",
      "127929/127929 [==============================] - 1s 8us/sample - loss: 0.4552 - accuracy: 0.7828 - val_loss: 1.1006 - val_accuracy: 0.3973\n",
      "Epoch 142/200\n",
      "127929/127929 [==============================] - 1s 8us/sample - loss: 0.4541 - accuracy: 0.7848 - val_loss: 1.2225 - val_accuracy: 0.3973\n",
      "Epoch 143/200\n",
      "127929/127929 [==============================] - 1s 7us/sample - loss: 0.4509 - accuracy: 0.7861 - val_loss: 1.1193 - val_accuracy: 0.3978\n",
      "Epoch 144/200\n",
      "127929/127929 [==============================] - 1s 7us/sample - loss: 0.4531 - accuracy: 0.7847 - val_loss: 1.2621 - val_accuracy: 0.3971\n",
      "Epoch 145/200\n",
      "127929/127929 [==============================] - 1s 8us/sample - loss: 0.4530 - accuracy: 0.7873 - val_loss: 1.1183 - val_accuracy: 0.3979\n",
      "Epoch 146/200\n",
      "127929/127929 [==============================] - 1s 7us/sample - loss: 0.4532 - accuracy: 0.7852 - val_loss: 1.0910 - val_accuracy: 0.3974\n",
      "Epoch 147/200\n",
      "127929/127929 [==============================] - 1s 8us/sample - loss: 0.4527 - accuracy: 0.7844 - val_loss: 1.0236 - val_accuracy: 0.3978\n",
      "Epoch 148/200\n"
     ]
    },
    {
     "name": "stdout",
     "output_type": "stream",
     "text": [
      "127929/127929 [==============================] - 1s 7us/sample - loss: 0.4523 - accuracy: 0.7861 - val_loss: 1.0336 - val_accuracy: 0.3974\n",
      "Epoch 149/200\n",
      "127929/127929 [==============================] - 1s 8us/sample - loss: 0.4527 - accuracy: 0.7846 - val_loss: 1.1606 - val_accuracy: 0.3973\n",
      "Epoch 150/200\n",
      "127929/127929 [==============================] - 1s 8us/sample - loss: 0.4520 - accuracy: 0.7869 - val_loss: 0.9878 - val_accuracy: 0.4007\n",
      "Epoch 151/200\n",
      "127929/127929 [==============================] - 1s 7us/sample - loss: 0.4526 - accuracy: 0.7862 - val_loss: 1.2098 - val_accuracy: 0.3972\n",
      "Epoch 152/200\n",
      "127929/127929 [==============================] - 1s 7us/sample - loss: 0.4530 - accuracy: 0.7849 - val_loss: 0.9921 - val_accuracy: 0.3971\n",
      "Epoch 153/200\n",
      "127929/127929 [==============================] - 1s 7us/sample - loss: 0.4505 - accuracy: 0.7870 - val_loss: 1.0518 - val_accuracy: 0.3971\n",
      "Epoch 154/200\n",
      "127929/127929 [==============================] - 1s 7us/sample - loss: 0.4516 - accuracy: 0.7846 - val_loss: 1.2511 - val_accuracy: 0.3970\n",
      "Epoch 155/200\n",
      "127929/127929 [==============================] - 1s 7us/sample - loss: 0.4536 - accuracy: 0.7849 - val_loss: 1.0914 - val_accuracy: 0.3967\n",
      "Epoch 156/200\n",
      "127929/127929 [==============================] - 1s 7us/sample - loss: 0.4530 - accuracy: 0.7843 - val_loss: 1.0106 - val_accuracy: 0.3961\n",
      "Epoch 157/200\n",
      "127929/127929 [==============================] - 1s 7us/sample - loss: 0.4512 - accuracy: 0.7870 - val_loss: 1.1637 - val_accuracy: 0.3971\n",
      "Epoch 158/200\n",
      "127929/127929 [==============================] - 1s 7us/sample - loss: 0.4513 - accuracy: 0.7871 - val_loss: 1.2210 - val_accuracy: 0.3970\n",
      "Epoch 159/200\n",
      "127929/127929 [==============================] - 1s 7us/sample - loss: 0.4523 - accuracy: 0.7861 - val_loss: 1.2128 - val_accuracy: 0.3970\n",
      "Epoch 160/200\n",
      "127929/127929 [==============================] - 1s 7us/sample - loss: 0.4504 - accuracy: 0.7867 - val_loss: 1.2511 - val_accuracy: 0.3971\n",
      "Epoch 161/200\n",
      "127929/127929 [==============================] - 1s 7us/sample - loss: 0.4516 - accuracy: 0.7862 - val_loss: 1.0762 - val_accuracy: 0.3967\n",
      "Epoch 162/200\n",
      "127929/127929 [==============================] - 1s 7us/sample - loss: 0.4517 - accuracy: 0.7856 - val_loss: 1.2737 - val_accuracy: 0.3969\n",
      "Epoch 163/200\n",
      "127929/127929 [==============================] - 1s 7us/sample - loss: 0.4513 - accuracy: 0.7870 - val_loss: 1.1583 - val_accuracy: 0.3973\n",
      "Epoch 164/200\n",
      "127929/127929 [==============================] - 1s 7us/sample - loss: 0.4515 - accuracy: 0.7864 - val_loss: 1.2725 - val_accuracy: 0.3970\n",
      "Epoch 165/200\n",
      "127929/127929 [==============================] - 1s 7us/sample - loss: 0.4541 - accuracy: 0.7849 - val_loss: 1.1388 - val_accuracy: 0.3974\n",
      "Epoch 166/200\n",
      "127929/127929 [==============================] - 1s 7us/sample - loss: 0.4519 - accuracy: 0.7864 - val_loss: 1.0542 - val_accuracy: 0.3979\n",
      "Epoch 167/200\n",
      "127929/127929 [==============================] - 1s 8us/sample - loss: 0.4524 - accuracy: 0.7846 - val_loss: 1.1614 - val_accuracy: 0.3970\n",
      "Epoch 168/200\n",
      "127929/127929 [==============================] - 1s 7us/sample - loss: 0.4508 - accuracy: 0.7863 - val_loss: 1.0565 - val_accuracy: 0.3974\n",
      "Epoch 169/200\n",
      "127929/127929 [==============================] - 1s 7us/sample - loss: 0.4491 - accuracy: 0.7890 - val_loss: 1.1800 - val_accuracy: 0.3971\n",
      "Epoch 170/200\n",
      "127929/127929 [==============================] - 1s 8us/sample - loss: 0.4507 - accuracy: 0.7866 - val_loss: 1.0608 - val_accuracy: 0.3975\n",
      "Epoch 171/200\n",
      "127929/127929 [==============================] - 1s 8us/sample - loss: 0.4520 - accuracy: 0.7858 - val_loss: 1.1748 - val_accuracy: 0.3986\n",
      "Epoch 172/200\n",
      "127929/127929 [==============================] - 1s 8us/sample - loss: 0.4526 - accuracy: 0.7860 - val_loss: 1.3455 - val_accuracy: 0.3967\n",
      "Epoch 173/200\n",
      "127929/127929 [==============================] - 1s 7us/sample - loss: 0.4509 - accuracy: 0.7874 - val_loss: 1.1004 - val_accuracy: 0.3976\n",
      "Epoch 174/200\n",
      "127929/127929 [==============================] - 1s 7us/sample - loss: 0.4487 - accuracy: 0.7886 - val_loss: 1.0517 - val_accuracy: 0.3969\n",
      "Epoch 175/200\n",
      "127929/127929 [==============================] - 1s 7us/sample - loss: 0.4503 - accuracy: 0.7860 - val_loss: 1.1751 - val_accuracy: 0.3968\n",
      "Epoch 176/200\n",
      "127929/127929 [==============================] - 1s 7us/sample - loss: 0.4510 - accuracy: 0.7870 - val_loss: 1.2242 - val_accuracy: 0.3967\n",
      "Epoch 177/200\n",
      "127929/127929 [==============================] - 1s 7us/sample - loss: 0.4537 - accuracy: 0.7852 - val_loss: 1.2084 - val_accuracy: 0.3969\n",
      "Epoch 178/200\n",
      "127929/127929 [==============================] - 1s 7us/sample - loss: 0.4508 - accuracy: 0.7870 - val_loss: 1.1131 - val_accuracy: 0.3966\n",
      "Epoch 179/200\n",
      "127929/127929 [==============================] - 1s 7us/sample - loss: 0.4514 - accuracy: 0.7864 - val_loss: 1.2141 - val_accuracy: 0.3968\n",
      "Epoch 180/200\n",
      "127929/127929 [==============================] - 1s 7us/sample - loss: 0.4510 - accuracy: 0.7878 - val_loss: 1.1006 - val_accuracy: 0.3972\n",
      "Epoch 181/200\n",
      "127929/127929 [==============================] - 1s 7us/sample - loss: 0.4513 - accuracy: 0.7864 - val_loss: 1.1549 - val_accuracy: 0.3970\n",
      "Epoch 182/200\n",
      "127929/127929 [==============================] - 1s 7us/sample - loss: 0.4507 - accuracy: 0.7866 - val_loss: 1.0617 - val_accuracy: 0.3966\n",
      "Epoch 183/200\n",
      "127929/127929 [==============================] - 1s 7us/sample - loss: 0.4499 - accuracy: 0.7860 - val_loss: 1.1302 - val_accuracy: 0.3969\n",
      "Epoch 184/200\n",
      "127929/127929 [==============================] - 1s 7us/sample - loss: 0.4521 - accuracy: 0.7861 - val_loss: 1.0998 - val_accuracy: 0.3976\n",
      "Epoch 185/200\n",
      "127929/127929 [==============================] - 1s 7us/sample - loss: 0.4485 - accuracy: 0.7891 - val_loss: 1.0900 - val_accuracy: 0.3967\n",
      "Epoch 186/200\n",
      "127929/127929 [==============================] - 1s 8us/sample - loss: 0.4500 - accuracy: 0.7877 - val_loss: 1.2561 - val_accuracy: 0.3968\n",
      "Epoch 187/200\n",
      "127929/127929 [==============================] - 1s 8us/sample - loss: 0.4489 - accuracy: 0.7875 - val_loss: 1.0200 - val_accuracy: 0.3970\n",
      "Epoch 188/200\n",
      "127929/127929 [==============================] - 1s 7us/sample - loss: 0.4476 - accuracy: 0.7885 - val_loss: 1.1954 - val_accuracy: 0.3968\n",
      "Epoch 189/200\n",
      "127929/127929 [==============================] - 1s 7us/sample - loss: 0.4481 - accuracy: 0.7887 - val_loss: 1.2397 - val_accuracy: 0.3967\n",
      "Epoch 190/200\n",
      "127929/127929 [==============================] - 1s 7us/sample - loss: 0.4509 - accuracy: 0.7868 - val_loss: 1.1456 - val_accuracy: 0.3967\n",
      "Epoch 191/200\n",
      "127929/127929 [==============================] - 1s 8us/sample - loss: 0.4486 - accuracy: 0.7880 - val_loss: 1.2077 - val_accuracy: 0.3969\n",
      "Epoch 192/200\n",
      "127929/127929 [==============================] - 1s 8us/sample - loss: 0.4499 - accuracy: 0.7875 - val_loss: 1.1956 - val_accuracy: 0.3967\n",
      "Epoch 193/200\n",
      "127929/127929 [==============================] - 1s 7us/sample - loss: 0.4512 - accuracy: 0.7861 - val_loss: 1.1666 - val_accuracy: 0.3966\n",
      "Epoch 194/200\n",
      "127929/127929 [==============================] - 1s 8us/sample - loss: 0.4490 - accuracy: 0.7867 - val_loss: 1.0954 - val_accuracy: 0.3971\n",
      "Epoch 195/200\n",
      "127929/127929 [==============================] - 1s 7us/sample - loss: 0.4514 - accuracy: 0.7868 - val_loss: 1.2133 - val_accuracy: 0.3970\n",
      "Epoch 196/200\n",
      "127929/127929 [==============================] - 1s 7us/sample - loss: 0.4503 - accuracy: 0.7875 - val_loss: 1.1764 - val_accuracy: 0.3967\n",
      "Epoch 197/200\n",
      "127929/127929 [==============================] - 1s 7us/sample - loss: 0.4517 - accuracy: 0.7864 - val_loss: 1.0441 - val_accuracy: 0.3973\n",
      "Epoch 198/200\n",
      "127929/127929 [==============================] - 1s 7us/sample - loss: 0.4488 - accuracy: 0.7871 - val_loss: 1.0899 - val_accuracy: 0.3968\n",
      "Epoch 199/200\n",
      "127929/127929 [==============================] - 1s 7us/sample - loss: 0.4504 - accuracy: 0.7866 - val_loss: 1.1995 - val_accuracy: 0.3967\n",
      "Epoch 200/200\n",
      "127929/127929 [==============================] - 1s 8us/sample - loss: 0.4503 - accuracy: 0.7870 - val_loss: 1.2842 - val_accuracy: 0.3966\n",
      "Executing op CloseSummaryWriter in device /job:localhost/replica:0/task:0/device:CPU:0\n",
      "Executing op DestroyResourceOp in device /job:localhost/replica:0/task:0/device:CPU:0\n"
     ]
    },
    {
     "name": "stdout",
     "output_type": "stream",
     "text": [
      "Executing op DeleteIterator in device /job:localhost/replica:0/task:0/device:GPU:1\n",
      "Executing op DeleteIterator in device /job:localhost/replica:0/task:0/device:GPU:0\n"
     ]
    }
   ],
   "source": [
    "with mirrored_strategy.scope():\n",
    "\n",
    "    history = model_final.fit(x_train, y_train, validation_data=(x_test, y_test), epochs=200, batch_size=1000, callbacks=[tb_random])"
   ]
  },
  {
   "cell_type": "code",
   "execution_count": 41,
   "metadata": {},
   "outputs": [
    {
     "name": "stdout",
     "output_type": "stream",
     "text": [
      "Executing op MapDataset in device /job:localhost/replica:0/task:0/device:CPU:0\n",
      "Executing op FlatMapDataset in device /job:localhost/replica:0/task:0/device:CPU:0\n",
      "Executing op TensorDataset in device /job:localhost/replica:0/task:0/device:CPU:0\n",
      "Executing op RepeatDataset in device /job:localhost/replica:0/task:0/device:CPU:0\n",
      "Executing op ZipDataset in device /job:localhost/replica:0/task:0/device:CPU:0\n",
      "Executing op ParallelMapDataset in device /job:localhost/replica:0/task:0/device:CPU:0\n",
      "Executing op RebatchDataset in device /job:localhost/replica:0/task:0/device:CPU:0\n",
      "Executing op AutoShardDataset in device /job:localhost/replica:0/task:0/device:CPU:0\n",
      "Executing op OptimizeDataset in device /job:localhost/replica:0/task:0/device:CPU:0\n",
      "Executing op ModelDataset in device /job:localhost/replica:0/task:0/device:CPU:0\n",
      "Executing op MultiDeviceIterator in device /job:localhost/replica:0/task:0/device:CPU:0\n",
      "Executing op GeneratorDataset in device /job:localhost/replica:0/task:0/device:GPU:0\n",
      "Executing op GeneratorDataset in device /job:localhost/replica:0/task:0/device:GPU:1\n",
      "Executing op PrefetchDataset in device /job:localhost/replica:0/task:0/device:GPU:0\n",
      "Executing op AnonymousIteratorV2 in device /job:localhost/replica:0/task:0/device:GPU:0\n",
      "Executing op PrefetchDataset in device /job:localhost/replica:0/task:0/device:GPU:1\n",
      "Executing op AnonymousIteratorV2 in device /job:localhost/replica:0/task:0/device:GPU:1\n",
      "Executing op __inference_distributed_function_130841 in device /job:localhost/replica:0/task:0/device:GPU:0\n"
     ]
    }
   ],
   "source": [
    "with mirrored_strategy.scope():\n",
    "    predictions = model_final.predict(x_test)"
   ]
  },
  {
   "cell_type": "code",
   "execution_count": 42,
   "metadata": {},
   "outputs": [
    {
     "name": "stdout",
     "output_type": "stream",
     "text": [
      "Executing op ArgMax in device /job:localhost/replica:0/task:0/device:GPU:0\n",
      "Prediction: [0 0 0 ... 0 0 0]\n",
      "   Actuals: [1 1 0 ... 1 0 0]\n"
     ]
    }
   ],
   "source": [
    "print(\"Prediction: {}\".format(tf.argmax(predictions, axis=1)))\n",
    "print(\"   Actuals: {}\".format(y_test))\n"
   ]
  },
  {
   "cell_type": "code",
   "execution_count": 43,
   "metadata": {},
   "outputs": [
    {
     "name": "stdout",
     "output_type": "stream",
     "text": [
      "Executing op VarHandleOp in device /job:localhost/replica:0/task:0/device:GPU:0\n",
      "Executing op LogicalNot in device /job:localhost/replica:0/task:0/device:GPU:0\n",
      "Executing op Assert in device /job:localhost/replica:0/task:0/device:GPU:0\n"
     ]
    }
   ],
   "source": [
    "test_accuracy = tf.keras.metrics.Accuracy()"
   ]
  },
  {
   "cell_type": "code",
   "execution_count": 44,
   "metadata": {},
   "outputs": [
    {
     "name": "stdout",
     "output_type": "stream",
     "text": [
      "Executing op Cast in device /job:localhost/replica:0/task:0/device:GPU:0\n",
      "Executing op Equal in device /job:localhost/replica:0/task:0/device:GPU:0\n",
      "Executing op Cast in device /job:localhost/replica:0/task:0/device:GPU:0\n",
      "Executing op Sum in device /job:localhost/replica:0/task:0/device:GPU:0\n",
      "Executing op AssignAddVariableOp in device /job:localhost/replica:0/task:0/device:GPU:0\n",
      "Executing op Cast in device /job:localhost/replica:0/task:0/device:GPU:0\n",
      "Executing op DivNoNan in device /job:localhost/replica:0/task:0/device:GPU:0\n",
      "Test set accuracy: 60.348%\n"
     ]
    }
   ],
   "source": [
    "test_accuracy(tf.argmax(predictions, axis=1), y_test)\n",
    "print(\"Test set accuracy: {:.3%}\".format(test_accuracy.result()))\n"
   ]
  },
  {
   "cell_type": "code",
   "execution_count": 45,
   "metadata": {
    "scrolled": true
   },
   "outputs": [
    {
     "data": {
      "image/png": "[encoded data removed]",
      "text/plain": [
       "<Figure size 432x288 with 1 Axes>"
      ]
     },
     "metadata": {
      "needs_background": "light"
     },
     "output_type": "display_data"
    },
    {
     "data": {
      "image/png": "[encoded data removed]",
      "text/plain": [
       "<Figure size 432x288 with 1 Axes>"
      ]
     },
     "metadata": {
      "needs_background": "light"
     },
     "output_type": "display_data"
    }
   ],
   "source": [
    "#come back to this; not working right.\n",
    "\n",
    "import tkinter\n",
    "import matplotlib\n",
    "\n",
    "\n",
    "# Plot training & validation accuracy values\n",
    "plt.plot(history.history['accuracy'])\n",
    "plt.plot(history.history['val_accuracy'])\n",
    "plt.savefig(\"DNgraphacc.png\")\n",
    "plt.title('Model accuracy')\n",
    "plt.ylabel('Accuracy')\n",
    "plt.xlabel('Epoch')\n",
    "plt.legend(['Train', 'Test'], loc='upper left')\n",
    "plt.show()\n",
    "\n",
    "# Plot training & validation loss values\n",
    "plt.plot(history.history['loss'])\n",
    "plt.plot(history.history['val_loss'])\n",
    "plt.savefig(\"DNgraphloss.png\")\n",
    "plt.title('Model loss')\n",
    "plt.ylabel('Loss')\n",
    "plt.xlabel('Epoch')\n",
    "plt.legend(['Train', 'Test'], loc='upper left')\n",
    "plt.show()"
   ]
  },
  {
   "cell_type": "markdown",
   "metadata": {},
   "source": []
  },
  {
   "cell_type": "markdown",
   "metadata": {},
   "source": [
    "# Now, let's try a SVM with different kernels (sigmoid, Gaussian, linear, and polynomial)"
   ]
  },
  {
   "cell_type": "markdown",
   "metadata": {},
   "source": [
    "#### packages and estimated run times"
   ]
  },
  {
   "cell_type": "code",
   "execution_count": 64,
   "metadata": {},
   "outputs": [],
   "source": [
    "from sklearn.svm import SVC\n",
    "\n",
    "from sklearn.metrics import classification_report, confusion_matrix\n",
    "\n",
    "from sklearn.externals.joblib import parallel_backend\n",
    "\n",
    "from sklearn.model_selection import cross_val_score\n",
    "\n",
    "from sklearn.model_selection import train_test_split"
   ]
  },
  {
   "cell_type": "code",
   "execution_count": 65,
   "metadata": {},
   "outputs": [],
   "source": [
    "import time\n",
    "\n",
    "import psutil\n"
   ]
  },
  {
   "cell_type": "code",
   "execution_count": 66,
   "metadata": {},
   "outputs": [],
   "source": [
    "import pandas as pd  \n",
    "import numpy as np  \n",
    "import matplotlib.pyplot as plt  \n",
    "import seaborn as seabornInstance \n",
    "from sklearn.model_selection import train_test_split \n",
    "from sklearn.linear_model import LinearRegression\n",
    "from sklearn import metrics\n",
    "%matplotlib inline\n",
    "\n",
    "from sklearn.model_selection import cross_val_score\n",
    "from sklearn import metrics\n",
    "from sklearn import svm\n",
    "from sklearn import datasets\n",
    "from sklearn.svm import SVR\n",
    "\n",
    "from sklearn.model_selection import GridSearchCV\n",
    "\n",
    "from sklearn import preprocessing\n",
    "\n",
    "from sklearn.metrics import mean_squared_error\n",
    "\n",
    "from sklearn.metrics import r2_score\n",
    "from sklearn.neighbors import KNeighborsRegressor\n",
    "from sklearn.multioutput import MultiOutputRegressor"
   ]
  },
  {
   "cell_type": "code",
   "execution_count": 67,
   "metadata": {},
   "outputs": [],
   "source": [
    "from sklearn.multiclass import OneVsRestClassifier\n",
    "\n",
    "from sklearn.ensemble import BaggingClassifier, RandomForestClassifier"
   ]
  },
  {
   "cell_type": "code",
   "execution_count": 68,
   "metadata": {},
   "outputs": [],
   "source": [
    "x_train, x_test, y_train, y_test = train_test_split(scaled_train_df.values, y, test_size=0.20, random_state=102)"
   ]
  },
  {
   "cell_type": "markdown",
   "metadata": {},
   "source": [
    "## polynomial first"
   ]
  },
  {
   "cell_type": "code",
   "execution_count": 72,
   "metadata": {},
   "outputs": [
    {
     "data": {
      "text/plain": [
       "SVC(C=1.0, cache_size=200, class_weight=None, coef0=0.0,\n",
       "  decision_function_shape='ovr', degree=8, gamma='auto_deprecated',\n",
       "  kernel='poly', max_iter=-1, probability=False, random_state=None,\n",
       "  shrinking=True, tol=0.001, verbose=False)"
      ]
     },
     "execution_count": 72,
     "metadata": {},
     "output_type": "execute_result"
    }
   ],
   "source": [
    "%timeit\n",
    "poly_svclassifier = SVC(kernel='poly', degree=8)\n",
    "poly_svclassifier.fit(x_train, y_train)"
   ]
  },
  {
   "cell_type": "code",
   "execution_count": 73,
   "metadata": {},
   "outputs": [],
   "source": [
    "y_pred = poly_svclassifier.predict(x_test)"
   ]
  },
  {
   "cell_type": "code",
   "execution_count": 74,
   "metadata": {},
   "outputs": [
    {
     "name": "stdout",
     "output_type": "stream",
     "text": [
      "[[19301     0]\n",
      " [12682     0]]\n",
      "              precision    recall  f1-score   support\n",
      "\n",
      "           0       0.60      1.00      0.75     19301\n",
      "           1       0.00      0.00      0.00     12682\n",
      "\n",
      "   micro avg       0.60      0.60      0.60     31983\n",
      "   macro avg       0.30      0.50      0.38     31983\n",
      "weighted avg       0.36      0.60      0.45     31983\n",
      "\n"
     ]
    },
    {
     "name": "stderr",
     "output_type": "stream",
     "text": [
      "C:\\Users\\Brandon\\AppData\\Local\\Continuum\\anaconda3\\lib\\site-packages\\sklearn\\metrics\\classification.py:1143: UndefinedMetricWarning: Precision and F-score are ill-defined and being set to 0.0 in labels with no predicted samples.\n",
      "  'precision', 'predicted', average, warn_for)\n"
     ]
    }
   ],
   "source": [
    "print(confusion_matrix(y_test, y_pred))\n",
    "print(classification_report(y_test, y_pred))"
   ]
  },
  {
   "cell_type": "markdown",
   "metadata": {},
   "source": [
    "# Gaussian"
   ]
  },
  {
   "cell_type": "code",
   "execution_count": 75,
   "metadata": {},
   "outputs": [
    {
     "data": {
      "text/plain": [
       "SVC(C=1.0, cache_size=200, class_weight=None, coef0=0.0,\n",
       "  decision_function_shape='ovr', degree=3, gamma='auto_deprecated',\n",
       "  kernel='rbf', max_iter=-1, probability=False, random_state=None,\n",
       "  shrinking=True, tol=0.001, verbose=False)"
      ]
     },
     "execution_count": 75,
     "metadata": {},
     "output_type": "execute_result"
    }
   ],
   "source": [
    "rbf_svclassifier = SVC(kernel='rbf')\n",
    "rbf_svclassifier.fit(x_train, y_train)"
   ]
  },
  {
   "cell_type": "code",
   "execution_count": 76,
   "metadata": {},
   "outputs": [],
   "source": [
    "y_pred = rbf_svclassifier.predict(x_test)"
   ]
  },
  {
   "cell_type": "code",
   "execution_count": 77,
   "metadata": {},
   "outputs": [
    {
     "name": "stdout",
     "output_type": "stream",
     "text": [
      "[[16325  2976]\n",
      " [ 5998  6684]]\n",
      "              precision    recall  f1-score   support\n",
      "\n",
      "           0       0.73      0.85      0.78     19301\n",
      "           1       0.69      0.53      0.60     12682\n",
      "\n",
      "   micro avg       0.72      0.72      0.72     31983\n",
      "   macro avg       0.71      0.69      0.69     31983\n",
      "weighted avg       0.72      0.72      0.71     31983\n",
      "\n"
     ]
    }
   ],
   "source": [
    "print(confusion_matrix(y_test, y_pred))\n",
    "print(classification_report(y_test, y_pred))"
   ]
  },
  {
   "cell_type": "markdown",
   "metadata": {},
   "source": [
    "# Sigmoid"
   ]
  },
  {
   "cell_type": "code",
   "execution_count": 78,
   "metadata": {},
   "outputs": [
    {
     "data": {
      "text/plain": [
       "SVC(C=1.0, cache_size=200, class_weight=None, coef0=0.0,\n",
       "  decision_function_shape='ovr', degree=3, gamma='auto_deprecated',\n",
       "  kernel='sigmoid', max_iter=-1, probability=False, random_state=None,\n",
       "  shrinking=True, tol=0.001, verbose=False)"
      ]
     },
     "execution_count": 78,
     "metadata": {},
     "output_type": "execute_result"
    }
   ],
   "source": [
    "sig_svclassifier = SVC(kernel='sigmoid')\n",
    "sig_svclassifier.fit(x_train, y_train)"
   ]
  },
  {
   "cell_type": "code",
   "execution_count": 79,
   "metadata": {},
   "outputs": [],
   "source": [
    "y_pred = sig_svclassifier.predict(x_test)"
   ]
  },
  {
   "cell_type": "code",
   "execution_count": 80,
   "metadata": {},
   "outputs": [
    {
     "name": "stdout",
     "output_type": "stream",
     "text": [
      "[[16270  3031]\n",
      " [ 6452  6230]]\n",
      "              precision    recall  f1-score   support\n",
      "\n",
      "           0       0.72      0.84      0.77     19301\n",
      "           1       0.67      0.49      0.57     12682\n",
      "\n",
      "   micro avg       0.70      0.70      0.70     31983\n",
      "   macro avg       0.69      0.67      0.67     31983\n",
      "weighted avg       0.70      0.70      0.69     31983\n",
      "\n"
     ]
    }
   ],
   "source": [
    "print(confusion_matrix(y_test, y_pred))\n",
    "print(classification_report(y_test, y_pred))"
   ]
  },
  {
   "cell_type": "markdown",
   "metadata": {},
   "source": [
    "# Linear"
   ]
  },
  {
   "cell_type": "code",
   "execution_count": 69,
   "metadata": {},
   "outputs": [
    {
     "data": {
      "text/plain": [
       "OneVsRestClassifier(estimator=BaggingClassifier(base_estimator=SVC(C=1.0, cache_size=200, class_weight=None, coef0=0.0,\n",
       "  decision_function_shape='ovr', degree=3, gamma='auto_deprecated',\n",
       "  kernel='linear', max_iter=-1, probability=False, random_state=None,\n",
       "  shrinking=True, tol=0.001, verbose=False),\n",
       "         bootstrap=True, bootstrap_features=False, max_features=1.0,\n",
       "         max_samples=1.0, n_estimators=10, n_jobs=None, oob_score=False,\n",
       "         random_state=None, verbose=0, warm_start=False),\n",
       "          n_jobs=None)"
      ]
     },
     "execution_count": 69,
     "metadata": {},
     "output_type": "execute_result"
    }
   ],
   "source": [
    "lin_svclassifier = OneVsRestClassifier(BaggingClassifier(SVC(kernel='linear')))\n",
    "lin_svclassifier.fit(x_train, y_train)"
   ]
  },
  {
   "cell_type": "code",
   "execution_count": 70,
   "metadata": {},
   "outputs": [],
   "source": [
    "y_pred = lin_svclassifier.predict(x_test)"
   ]
  },
  {
   "cell_type": "code",
   "execution_count": 71,
   "metadata": {},
   "outputs": [
    {
     "name": "stdout",
     "output_type": "stream",
     "text": [
      "[[15973  3328]\n",
      " [ 5982  6700]]\n",
      "              precision    recall  f1-score   support\n",
      "\n",
      "           0       0.73      0.83      0.77     19301\n",
      "           1       0.67      0.53      0.59     12682\n",
      "\n",
      "   micro avg       0.71      0.71      0.71     31983\n",
      "   macro avg       0.70      0.68      0.68     31983\n",
      "weighted avg       0.70      0.71      0.70     31983\n",
      "\n"
     ]
    }
   ],
   "source": [
    "print(confusion_matrix(y_test,y_pred))\n",
    "print(classification_report(y_test,y_pred))"
   ]
  },
  {
   "cell_type": "markdown",
   "metadata": {},
   "source": [
    "# Grid Search"
   ]
  },
  {
   "cell_type": "code",
   "execution_count": 81,
   "metadata": {},
   "outputs": [],
   "source": [
    "\n",
    "def svc_param_selection(X, y):\n",
    "    Cs = [0.01, 0.1, 1, 10,20,50]\n",
    "    gammas = [0.01, 0.5, 1]\n",
    "    kernel = ['rbf','linear','poly']\n",
    "    param_grid = {'C': Cs, 'gamma' : gammas, 'kernel': kernel}\n",
    "    grid_search = GridSearchCV(SVC(kernel='rbf'), param_grid,n_jobs = 12)\n",
    "    with parallel_backend('threading'):\n",
    "    #would need to add back in ,cv = nfolds after param_grid\n",
    "        grid_search.fit(X, y)\n",
    "    grid_search.best_params_\n",
    "    return grid_search.best_params_"
   ]
  },
  {
   "cell_type": "code",
   "execution_count": null,
   "metadata": {},
   "outputs": [],
   "source": [
    "svc_param_selection(x_train,y_train.ravel())"
   ]
  },
  {
   "cell_type": "code",
   "execution_count": null,
   "metadata": {},
   "outputs": [],
   "source": [
    "#X_train, X_test, y_train, y_test = train_test_split(X_data1_scaled, y_data1, test_size=0.4, random_state=0)\n",
    "#X_train.shape, y_train.ravel().shape\n",
    "#X_test.shape, y_test.ravel().shape\n",
    "clf1 = SVC(kernel='linear', C=1,gamma = 0.01).fit(x_train, y_train)\n",
    "clf1.score(x_test, y_test)  "
   ]
  },
  {
   "cell_type": "code",
   "execution_count": null,
   "metadata": {},
   "outputs": [],
   "source": [
    "\n",
    "\n",
    "clf2 = SVC(kernel='rbf', C=20,gamma = 0.01)\n",
    "scores = cross_val_score(clf2,x1.values,y, cv = 30)\n",
    "scores\n"
   ]
  },
  {
   "cell_type": "code",
   "execution_count": null,
   "metadata": {},
   "outputs": [],
   "source": [
    "np.mean(scores)"
   ]
  },
  {
   "cell_type": "markdown",
   "metadata": {},
   "source": [
    "# PCA"
   ]
  },
  {
   "cell_type": "code",
   "execution_count": 50,
   "metadata": {},
   "outputs": [],
   "source": [
    "import numpy as np\n",
    "from sklearn.decomposition import PCA\n",
    "import pandas as pd\n",
    "import matplotlib.pyplot as plt\n",
    "from sklearn.preprocessing import scale\n",
    "from sklearn.preprocessing import StandardScaler\n",
    "\n",
    "%matplotlib inline"
   ]
  },
  {
   "cell_type": "code",
   "execution_count": 51,
   "metadata": {},
   "outputs": [],
   "source": [
    "# use x1 and y\n",
    "\n",
    "x2 = x1.values\n",
    "\n",
    "y1 = y\n",
    "\n"
   ]
  },
  {
   "cell_type": "code",
   "execution_count": 52,
   "metadata": {},
   "outputs": [],
   "source": [
    "x2 = StandardScaler().fit_transform(x2)"
   ]
  },
  {
   "cell_type": "code",
   "execution_count": 56,
   "metadata": {},
   "outputs": [],
   "source": [
    "pca = PCA(n_components = 65)\n",
    "\n",
    "principalComponents = pca.fit_transform(x2)\n",
    "\n",
    "principalDF = pd.DataFrame(data = principalComponents, columns = x1.columns)"
   ]
  },
  {
   "cell_type": "code",
   "execution_count": 63,
   "metadata": {},
   "outputs": [],
   "source": [
    "finalDf = pd.concat([principalDF, pd.DataFrame(y1)], axis = 1)"
   ]
  },
  {
   "cell_type": "code",
   "execution_count": 65,
   "metadata": {},
   "outputs": [
    {
     "data": {
      "text/html": [
       "<div>\n",
       "<style scoped>\n",
       "    .dataframe tbody tr th:only-of-type {\n",
       "        vertical-align: middle;\n",
       "    }\n",
       "\n",
       "    .dataframe tbody tr th {\n",
       "        vertical-align: top;\n",
       "    }\n",
       "\n",
       "    .dataframe thead th {\n",
       "        text-align: right;\n",
       "    }\n",
       "</style>\n",
       "<table border=\"1\" class=\"dataframe\">\n",
       "  <thead>\n",
       "    <tr style=\"text-align: right;\">\n",
       "      <th></th>\n",
       "      <th>x0</th>\n",
       "      <th>x1</th>\n",
       "      <th>x3</th>\n",
       "      <th>x4</th>\n",
       "      <th>x5</th>\n",
       "      <th>x6</th>\n",
       "      <th>x7</th>\n",
       "      <th>x8</th>\n",
       "      <th>x9</th>\n",
       "      <th>x10</th>\n",
       "      <th>...</th>\n",
       "      <th>Month_Sep</th>\n",
       "      <th>Month_Oct</th>\n",
       "      <th>Month_Nov</th>\n",
       "      <th>Month_Dec</th>\n",
       "      <th>DayOfWeek_Mon</th>\n",
       "      <th>DayOfWeek_Tue</th>\n",
       "      <th>DayOfWeek_Wed</th>\n",
       "      <th>DayOfWeek_Thu</th>\n",
       "      <th>DayOfWeek_Fri</th>\n",
       "      <th>0</th>\n",
       "    </tr>\n",
       "  </thead>\n",
       "  <tbody>\n",
       "    <tr>\n",
       "      <th>0</th>\n",
       "      <td>4.379046</td>\n",
       "      <td>0.624907</td>\n",
       "      <td>2.227346</td>\n",
       "      <td>1.774946</td>\n",
       "      <td>-0.187493</td>\n",
       "      <td>1.241519</td>\n",
       "      <td>0.046043</td>\n",
       "      <td>1.656983</td>\n",
       "      <td>-0.732147</td>\n",
       "      <td>1.850093</td>\n",
       "      <td>...</td>\n",
       "      <td>-0.275477</td>\n",
       "      <td>-0.072601</td>\n",
       "      <td>0.000339</td>\n",
       "      <td>0.000380</td>\n",
       "      <td>-0.000158</td>\n",
       "      <td>-0.000392</td>\n",
       "      <td>3.669204e-15</td>\n",
       "      <td>-2.552024e-17</td>\n",
       "      <td>-1.500016e-16</td>\n",
       "      <td>0</td>\n",
       "    </tr>\n",
       "    <tr>\n",
       "      <th>1</th>\n",
       "      <td>1.575658</td>\n",
       "      <td>3.283043</td>\n",
       "      <td>-2.064218</td>\n",
       "      <td>-0.970365</td>\n",
       "      <td>0.972914</td>\n",
       "      <td>-0.642204</td>\n",
       "      <td>0.456437</td>\n",
       "      <td>-0.246107</td>\n",
       "      <td>1.905229</td>\n",
       "      <td>-0.066089</td>\n",
       "      <td>...</td>\n",
       "      <td>0.571814</td>\n",
       "      <td>0.043259</td>\n",
       "      <td>0.000013</td>\n",
       "      <td>-0.000290</td>\n",
       "      <td>-0.000185</td>\n",
       "      <td>0.000035</td>\n",
       "      <td>-4.229915e-16</td>\n",
       "      <td>-1.941408e-16</td>\n",
       "      <td>-9.556158e-16</td>\n",
       "      <td>0</td>\n",
       "    </tr>\n",
       "    <tr>\n",
       "      <th>2</th>\n",
       "      <td>0.951669</td>\n",
       "      <td>1.084005</td>\n",
       "      <td>0.190444</td>\n",
       "      <td>-0.945720</td>\n",
       "      <td>2.369939</td>\n",
       "      <td>-0.088525</td>\n",
       "      <td>-1.366885</td>\n",
       "      <td>1.664875</td>\n",
       "      <td>-0.726976</td>\n",
       "      <td>-0.019536</td>\n",
       "      <td>...</td>\n",
       "      <td>1.117280</td>\n",
       "      <td>-0.163959</td>\n",
       "      <td>0.000623</td>\n",
       "      <td>-0.000100</td>\n",
       "      <td>-0.000083</td>\n",
       "      <td>-0.000418</td>\n",
       "      <td>7.306031e-16</td>\n",
       "      <td>-3.540314e-16</td>\n",
       "      <td>-7.673709e-17</td>\n",
       "      <td>0</td>\n",
       "    </tr>\n",
       "    <tr>\n",
       "      <th>3</th>\n",
       "      <td>-2.618166</td>\n",
       "      <td>-2.461168</td>\n",
       "      <td>0.233044</td>\n",
       "      <td>-1.103991</td>\n",
       "      <td>-0.788925</td>\n",
       "      <td>0.319724</td>\n",
       "      <td>-1.279481</td>\n",
       "      <td>1.721866</td>\n",
       "      <td>-0.669053</td>\n",
       "      <td>0.059957</td>\n",
       "      <td>...</td>\n",
       "      <td>-1.165741</td>\n",
       "      <td>-0.042968</td>\n",
       "      <td>0.000283</td>\n",
       "      <td>0.000020</td>\n",
       "      <td>0.000535</td>\n",
       "      <td>-0.000196</td>\n",
       "      <td>1.972759e-15</td>\n",
       "      <td>-1.009717e-15</td>\n",
       "      <td>-3.975855e-16</td>\n",
       "      <td>0</td>\n",
       "    </tr>\n",
       "    <tr>\n",
       "      <th>4</th>\n",
       "      <td>-2.013422</td>\n",
       "      <td>1.267434</td>\n",
       "      <td>1.202208</td>\n",
       "      <td>1.629056</td>\n",
       "      <td>-1.323254</td>\n",
       "      <td>-1.324373</td>\n",
       "      <td>-1.246491</td>\n",
       "      <td>1.649559</td>\n",
       "      <td>-0.873961</td>\n",
       "      <td>1.798711</td>\n",
       "      <td>...</td>\n",
       "      <td>0.264221</td>\n",
       "      <td>0.029321</td>\n",
       "      <td>0.000170</td>\n",
       "      <td>-0.000333</td>\n",
       "      <td>-0.000027</td>\n",
       "      <td>0.000053</td>\n",
       "      <td>-5.702626e-15</td>\n",
       "      <td>-1.236727e-16</td>\n",
       "      <td>7.197501e-16</td>\n",
       "      <td>1</td>\n",
       "    </tr>\n",
       "    <tr>\n",
       "      <th>...</th>\n",
       "      <td>...</td>\n",
       "      <td>...</td>\n",
       "      <td>...</td>\n",
       "      <td>...</td>\n",
       "      <td>...</td>\n",
       "      <td>...</td>\n",
       "      <td>...</td>\n",
       "      <td>...</td>\n",
       "      <td>...</td>\n",
       "      <td>...</td>\n",
       "      <td>...</td>\n",
       "      <td>...</td>\n",
       "      <td>...</td>\n",
       "      <td>...</td>\n",
       "      <td>...</td>\n",
       "      <td>...</td>\n",
       "      <td>...</td>\n",
       "      <td>...</td>\n",
       "      <td>...</td>\n",
       "      <td>...</td>\n",
       "      <td>...</td>\n",
       "    </tr>\n",
       "    <tr>\n",
       "      <th>159907</th>\n",
       "      <td>-0.445661</td>\n",
       "      <td>0.733591</td>\n",
       "      <td>1.118293</td>\n",
       "      <td>-0.873287</td>\n",
       "      <td>3.218720</td>\n",
       "      <td>-1.713496</td>\n",
       "      <td>-0.369652</td>\n",
       "      <td>-0.285809</td>\n",
       "      <td>1.856681</td>\n",
       "      <td>-0.111342</td>\n",
       "      <td>...</td>\n",
       "      <td>0.841961</td>\n",
       "      <td>-0.076172</td>\n",
       "      <td>0.000179</td>\n",
       "      <td>0.000127</td>\n",
       "      <td>0.000186</td>\n",
       "      <td>-0.000003</td>\n",
       "      <td>5.475865e-16</td>\n",
       "      <td>-7.880579e-17</td>\n",
       "      <td>-1.021583e-16</td>\n",
       "      <td>1</td>\n",
       "    </tr>\n",
       "    <tr>\n",
       "      <th>159908</th>\n",
       "      <td>0.960582</td>\n",
       "      <td>1.851650</td>\n",
       "      <td>-1.750298</td>\n",
       "      <td>-0.993217</td>\n",
       "      <td>0.872833</td>\n",
       "      <td>0.105213</td>\n",
       "      <td>0.711828</td>\n",
       "      <td>-0.219366</td>\n",
       "      <td>0.772353</td>\n",
       "      <td>0.196084</td>\n",
       "      <td>...</td>\n",
       "      <td>0.335795</td>\n",
       "      <td>0.163020</td>\n",
       "      <td>-0.000277</td>\n",
       "      <td>-0.000391</td>\n",
       "      <td>-0.000349</td>\n",
       "      <td>0.000095</td>\n",
       "      <td>-6.192564e-17</td>\n",
       "      <td>-9.396523e-17</td>\n",
       "      <td>1.042928e-17</td>\n",
       "      <td>0</td>\n",
       "    </tr>\n",
       "    <tr>\n",
       "      <th>159909</th>\n",
       "      <td>-1.140814</td>\n",
       "      <td>2.580019</td>\n",
       "      <td>0.904758</td>\n",
       "      <td>-1.032198</td>\n",
       "      <td>-0.248829</td>\n",
       "      <td>-1.183320</td>\n",
       "      <td>-0.188326</td>\n",
       "      <td>-1.481145</td>\n",
       "      <td>-1.234396</td>\n",
       "      <td>-0.063180</td>\n",
       "      <td>...</td>\n",
       "      <td>0.167805</td>\n",
       "      <td>0.031031</td>\n",
       "      <td>0.000047</td>\n",
       "      <td>-0.000360</td>\n",
       "      <td>0.000002</td>\n",
       "      <td>-0.000116</td>\n",
       "      <td>1.172425e-17</td>\n",
       "      <td>-2.995754e-18</td>\n",
       "      <td>-2.746667e-17</td>\n",
       "      <td>1</td>\n",
       "    </tr>\n",
       "    <tr>\n",
       "      <th>159910</th>\n",
       "      <td>1.254530</td>\n",
       "      <td>-0.783530</td>\n",
       "      <td>-0.493392</td>\n",
       "      <td>-0.915454</td>\n",
       "      <td>2.152851</td>\n",
       "      <td>-0.591829</td>\n",
       "      <td>1.060023</td>\n",
       "      <td>-0.255191</td>\n",
       "      <td>0.861443</td>\n",
       "      <td>0.151285</td>\n",
       "      <td>...</td>\n",
       "      <td>0.407405</td>\n",
       "      <td>-0.101951</td>\n",
       "      <td>-0.000186</td>\n",
       "      <td>0.000130</td>\n",
       "      <td>0.000293</td>\n",
       "      <td>0.000142</td>\n",
       "      <td>8.713496e-16</td>\n",
       "      <td>-3.762101e-16</td>\n",
       "      <td>3.493283e-17</td>\n",
       "      <td>0</td>\n",
       "    </tr>\n",
       "    <tr>\n",
       "      <th>159911</th>\n",
       "      <td>0.487766</td>\n",
       "      <td>-3.075502</td>\n",
       "      <td>-1.504959</td>\n",
       "      <td>1.834148</td>\n",
       "      <td>1.570707</td>\n",
       "      <td>-0.379897</td>\n",
       "      <td>1.352378</td>\n",
       "      <td>-0.342523</td>\n",
       "      <td>1.841619</td>\n",
       "      <td>1.865251</td>\n",
       "      <td>...</td>\n",
       "      <td>0.036423</td>\n",
       "      <td>0.116762</td>\n",
       "      <td>-0.000642</td>\n",
       "      <td>0.000240</td>\n",
       "      <td>0.000050</td>\n",
       "      <td>0.000313</td>\n",
       "      <td>9.190942e-16</td>\n",
       "      <td>-1.867174e-16</td>\n",
       "      <td>1.309482e-16</td>\n",
       "      <td>1</td>\n",
       "    </tr>\n",
       "  </tbody>\n",
       "</table>\n",
       "<p>159912 rows × 66 columns</p>\n",
       "</div>"
      ],
      "text/plain": [
       "              x0        x1        x3        x4        x5        x6        x7  \\\n",
       "0       4.379046  0.624907  2.227346  1.774946 -0.187493  1.241519  0.046043   \n",
       "1       1.575658  3.283043 -2.064218 -0.970365  0.972914 -0.642204  0.456437   \n",
       "2       0.951669  1.084005  0.190444 -0.945720  2.369939 -0.088525 -1.366885   \n",
       "3      -2.618166 -2.461168  0.233044 -1.103991 -0.788925  0.319724 -1.279481   \n",
       "4      -2.013422  1.267434  1.202208  1.629056 -1.323254 -1.324373 -1.246491   \n",
       "...          ...       ...       ...       ...       ...       ...       ...   \n",
       "159907 -0.445661  0.733591  1.118293 -0.873287  3.218720 -1.713496 -0.369652   \n",
       "159908  0.960582  1.851650 -1.750298 -0.993217  0.872833  0.105213  0.711828   \n",
       "159909 -1.140814  2.580019  0.904758 -1.032198 -0.248829 -1.183320 -0.188326   \n",
       "159910  1.254530 -0.783530 -0.493392 -0.915454  2.152851 -0.591829  1.060023   \n",
       "159911  0.487766 -3.075502 -1.504959  1.834148  1.570707 -0.379897  1.352378   \n",
       "\n",
       "              x8        x9       x10  ...  Month_Sep  Month_Oct  Month_Nov  \\\n",
       "0       1.656983 -0.732147  1.850093  ...  -0.275477  -0.072601   0.000339   \n",
       "1      -0.246107  1.905229 -0.066089  ...   0.571814   0.043259   0.000013   \n",
       "2       1.664875 -0.726976 -0.019536  ...   1.117280  -0.163959   0.000623   \n",
       "3       1.721866 -0.669053  0.059957  ...  -1.165741  -0.042968   0.000283   \n",
       "4       1.649559 -0.873961  1.798711  ...   0.264221   0.029321   0.000170   \n",
       "...          ...       ...       ...  ...        ...        ...        ...   \n",
       "159907 -0.285809  1.856681 -0.111342  ...   0.841961  -0.076172   0.000179   \n",
       "159908 -0.219366  0.772353  0.196084  ...   0.335795   0.163020  -0.000277   \n",
       "159909 -1.481145 -1.234396 -0.063180  ...   0.167805   0.031031   0.000047   \n",
       "159910 -0.255191  0.861443  0.151285  ...   0.407405  -0.101951  -0.000186   \n",
       "159911 -0.342523  1.841619  1.865251  ...   0.036423   0.116762  -0.000642   \n",
       "\n",
       "        Month_Dec  DayOfWeek_Mon  DayOfWeek_Tue  DayOfWeek_Wed  DayOfWeek_Thu  \\\n",
       "0        0.000380      -0.000158      -0.000392   3.669204e-15  -2.552024e-17   \n",
       "1       -0.000290      -0.000185       0.000035  -4.229915e-16  -1.941408e-16   \n",
       "2       -0.000100      -0.000083      -0.000418   7.306031e-16  -3.540314e-16   \n",
       "3        0.000020       0.000535      -0.000196   1.972759e-15  -1.009717e-15   \n",
       "4       -0.000333      -0.000027       0.000053  -5.702626e-15  -1.236727e-16   \n",
       "...           ...            ...            ...            ...            ...   \n",
       "159907   0.000127       0.000186      -0.000003   5.475865e-16  -7.880579e-17   \n",
       "159908  -0.000391      -0.000349       0.000095  -6.192564e-17  -9.396523e-17   \n",
       "159909  -0.000360       0.000002      -0.000116   1.172425e-17  -2.995754e-18   \n",
       "159910   0.000130       0.000293       0.000142   8.713496e-16  -3.762101e-16   \n",
       "159911   0.000240       0.000050       0.000313   9.190942e-16  -1.867174e-16   \n",
       "\n",
       "        DayOfWeek_Fri  0  \n",
       "0       -1.500016e-16  0  \n",
       "1       -9.556158e-16  0  \n",
       "2       -7.673709e-17  0  \n",
       "3       -3.975855e-16  0  \n",
       "4        7.197501e-16  1  \n",
       "...               ... ..  \n",
       "159907  -1.021583e-16  1  \n",
       "159908   1.042928e-17  0  \n",
       "159909  -2.746667e-17  1  \n",
       "159910   3.493283e-17  0  \n",
       "159911   1.309482e-16  1  \n",
       "\n",
       "[159912 rows x 66 columns]"
      ]
     },
     "execution_count": 65,
     "metadata": {},
     "output_type": "execute_result"
    }
   ],
   "source": [
    "finalDf"
   ]
  },
  {
   "cell_type": "code",
   "execution_count": 66,
   "metadata": {},
   "outputs": [
    {
     "data": {
      "text/plain": [
       "array([5.37844277e-02, 4.37039468e-02, 3.12479881e-02, 2.72689363e-02,\n",
       "       2.65733474e-02, 2.62141186e-02, 2.30082765e-02, 2.11480881e-02,\n",
       "       1.95901296e-02, 1.87587049e-02, 1.82157220e-02, 1.72538146e-02,\n",
       "       1.68022086e-02, 1.62552248e-02, 1.58002277e-02, 1.57814122e-02,\n",
       "       1.57533553e-02, 1.57436209e-02, 1.57202197e-02, 1.56693739e-02,\n",
       "       1.56603491e-02, 1.56211750e-02, 1.56064245e-02, 1.55901399e-02,\n",
       "       1.55691264e-02, 1.55619628e-02, 1.55208407e-02, 1.55119535e-02,\n",
       "       1.54837480e-02, 1.54717925e-02, 1.54587041e-02, 1.54305838e-02,\n",
       "       1.54122754e-02, 1.53956228e-02, 1.53737222e-02, 1.53563640e-02,\n",
       "       1.53101437e-02, 1.52967015e-02, 1.52713539e-02, 1.52548729e-02,\n",
       "       1.52341654e-02, 1.52062228e-02, 1.51992616e-02, 1.51896490e-02,\n",
       "       1.51630441e-02, 1.51458263e-02, 1.51241763e-02, 1.50867612e-02,\n",
       "       1.50740065e-02, 1.50347787e-02, 1.50014812e-02, 1.49443710e-02,\n",
       "       1.38823895e-02, 1.27226152e-02, 1.16855064e-02, 1.00609767e-02,\n",
       "       6.61224217e-03, 1.67891244e-04, 3.91586911e-06, 3.60844544e-06,\n",
       "       3.32744706e-06, 2.78297691e-06, 1.06071081e-32, 1.24088607e-33,\n",
       "       6.94458973e-34])"
      ]
     },
     "execution_count": 66,
     "metadata": {},
     "output_type": "execute_result"
    }
   ],
   "source": [
    "pca.explained_variance_ratio_"
   ]
  },
  {
   "cell_type": "code",
   "execution_count": 67,
   "metadata": {},
   "outputs": [
    {
     "data": {
      "image/png": "[encoded data removed]",
      "text/plain": [
       "<Figure size 432x288 with 1 Axes>"
      ]
     },
     "metadata": {
      "needs_background": "light"
     },
     "output_type": "display_data"
    }
   ],
   "source": [
    "plt.plot(np.cumsum(pca.explained_variance_ratio_))\n",
    "plt.xlabel('number of components')\n",
    "plt.ylabel('cumulative explained variance');"
   ]
  },
  {
   "cell_type": "markdown",
   "metadata": {},
   "source": [
    "# Other Feature Extraction"
   ]
  },
  {
   "cell_type": "code",
   "execution_count": 69,
   "metadata": {},
   "outputs": [
    {
     "name": "stderr",
     "output_type": "stream",
     "text": [
      "C:\\Users\\Brandon\\AppData\\Local\\Continuum\\anaconda3\\lib\\site-packages\\sklearn\\preprocessing\\data.py:334: DataConversionWarning: Data with input dtype uint8, float64 were all converted to float64 by MinMaxScaler.\n",
      "  return self.partial_fit(X, y)\n"
     ]
    }
   ],
   "source": [
    "scaler = MinMaxScaler(feature_range=(0,1))\n",
    "scaled_train = scaler.fit_transform(x1)\n",
    "\n",
    "# Print out the adjustment that the scaler applied to the lepton pT column of data\n",
    "#print(\"Note: median values were scaled by multiplying by {:.10f} and adding {:.6f}\".format(scaler.scale_[0],scaler.min_[0]))\n",
    "#multiplied_by = scaler.scale_[0]\n",
    "#added = scaler.min_[0]\n",
    "\n",
    "scaled_train_df = pd.DataFrame(scaled_train, columns = x1.columns)"
   ]
  },
  {
   "cell_type": "code",
   "execution_count": 70,
   "metadata": {},
   "outputs": [],
   "source": [
    "from sklearn.feature_selection import SelectKBest\n",
    "from sklearn.feature_selection import chi2\n",
    "\n",
    "\n",
    "test = SelectKBest(score_func=chi2, k=4)\n",
    "fit = test.fit(scaled_train_df, y1)"
   ]
  },
  {
   "cell_type": "code",
   "execution_count": 72,
   "metadata": {},
   "outputs": [
    {
     "name": "stdout",
     "output_type": "stream",
     "text": [
      "[8.539e-03 4.188e-02 1.048e-02 1.680e-03 3.995e-03 1.008e+01 5.741e-01\n",
      " 1.673e-01 4.167e-02 5.239e-02 2.019e-03 4.626e+01 1.773e-02 5.913e-03\n",
      " 1.036e-02 6.076e-02 6.497e-02 2.931e-02 1.131e-02 2.145e+02 3.448e-02\n",
      " 1.172e-04 2.366e+02 1.022e-02 1.732e-02 5.326e-02 3.333e-03 7.381e-03\n",
      " 1.167e-01 1.222e-02 9.781e-02 1.860e-02 6.116e-03 9.864e+00 2.359e-02\n",
      " 1.464e+02 5.192e+01 4.926e+01 3.456e-04 7.259e-05 3.410e-02 5.325e+00\n",
      " 1.279e-04 4.730e-02 2.067e+02 2.821e+01 3.964e+02 2.547e+01 1.726e-01\n",
      " 1.400e-01 1.608e-01 6.382e-01 1.010e+00 2.256e-02 7.031e-01 1.744e-02\n",
      " 9.773e-02 7.829e-01 1.552e+00 5.683e-01 5.359e-03 1.902e-01 7.804e-01\n",
      " 1.227e+00 5.066e-01]\n",
      "[[0.455 0.561 0.435 0.   ]\n",
      " [0.383 0.617 0.622 0.   ]\n",
      " [0.521 0.49  0.437 0.   ]\n",
      " [0.525 0.441 0.438 0.   ]\n",
      " [0.324 0.405 0.614 0.   ]]\n"
     ]
    }
   ],
   "source": [
    "# Summarize scores\n",
    "np.set_printoptions(precision=3)\n",
    "print(fit.scores_)\n",
    "\n",
    "features = fit.transform(scaled_train_df)\n",
    "# Summarize selected features\n",
    "print(features[0:5,:])"
   ]
  },
  {
   "cell_type": "code",
   "execution_count": null,
   "metadata": {},
   "outputs": [],
   "source": []
  }
 ],
 "metadata": {
  "kernelspec": {
   "display_name": "Python 3",
   "language": "python",
   "name": "python3"
  },
  "language_info": {
   "codemirror_mode": {
    "name": "ipython",
    "version": 3
   },
   "file_extension": ".py",
   "mimetype": "text/x-python",
   "name": "python",
   "nbconvert_exporter": "python",
   "pygments_lexer": "ipython3",
   "version": "3.6.9"
  }
 },
 "nbformat": 4,
 "nbformat_minor": 2
}
