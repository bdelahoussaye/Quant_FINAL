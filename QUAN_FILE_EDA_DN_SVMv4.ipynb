{
 "cells": [
  {
   "cell_type": "code",
   "execution_count": 1,
   "metadata": {},
   "outputs": [],
   "source": [
    "\n",
    "import tensorflow as tf\n",
    "\n",
    "import networkx as nx\n",
    "from networkx.drawing.nx_pydot import write_dot\n",
    "import matplotlib.pyplot as plt\n",
    "from IPython.display import SVG\n",
    "from sklearn.tree import export_graphviz\n",
    "tf.debugging.set_log_device_placement(True)\n",
    "\n",
    "\n",
    "import tensorflow as tf\n",
    "from tensorboard.plugins.hparams import api as hp\n",
    "from tensorflow import feature_column\n",
    "from tensorflow.keras import layers\n",
    "import tensorflow.compat.v2.feature_column as fc\n",
    "\n",
    "import re\n",
    "\n",
    "from sklearn.preprocessing import MinMaxScaler\n",
    "\n",
    "from sklearn.svm import SVC\n",
    "\n",
    "from sklearn.metrics import classification_report, confusion_matrix\n",
    "\n",
    "from sklearn.externals.joblib import parallel_backend\n",
    "\n",
    "from sklearn.model_selection import cross_val_score\n",
    "\n",
    "from sklearn.model_selection import train_test_split"
   ]
  },
  {
   "cell_type": "code",
   "execution_count": 2,
   "metadata": {},
   "outputs": [
    {
     "name": "stdout",
     "output_type": "stream",
     "text": [
      "2.0.0\n",
      "Num GPUs Available:  2\n"
     ]
    }
   ],
   "source": [
    "from __future__ import absolute_import, division, print_function, unicode_literals\n",
    "\n",
    "import tensorflow as tf\n",
    "\n",
    "from tensorflow.keras import layers\n",
    "from sklearn import datasets\n",
    "import pandas as pd\n",
    "import numpy as np\n",
    "print(tf.__version__)\n",
    "\n",
    "import warnings\n",
    "warnings.simplefilter(action='ignore', category=FutureWarning)\n",
    "\n",
    "\n",
    "print(\"Num GPUs Available: \", len(tf.config.experimental.list_physical_devices('GPU')))"
   ]
  },
  {
   "cell_type": "code",
   "execution_count": 3,
   "metadata": {},
   "outputs": [
    {
     "name": "stderr",
     "output_type": "stream",
     "text": [
      "Using TensorFlow backend.\n"
     ]
    }
   ],
   "source": [
    "import matplotlib.pyplot as plt # For making plots\n",
    "\n",
    "import seaborn as sns # Makes beautiful plots\n",
    "from sklearn.preprocessing import StandardScaler # Testing sklearn\n",
    "import tensorflow # Imports tensorflow\n",
    "import keras # Imports keras"
   ]
  },
  {
   "cell_type": "code",
   "execution_count": 4,
   "metadata": {},
   "outputs": [
    {
     "name": "stdout",
     "output_type": "stream",
     "text": [
      "10.0\n",
      "7.6\n"
     ]
    }
   ],
   "source": [
    "\n",
    "from tensorflow.python.platform import build_info as tf_build_info\n",
    "print(tf_build_info.cuda_version_number)\n",
    "# 9.0 in v1.10.0\n",
    "print(tf_build_info.cudnn_version_number)\n",
    "# 7 in v1.10.0"
   ]
  },
  {
   "cell_type": "code",
   "execution_count": 5,
   "metadata": {},
   "outputs": [
    {
     "data": {
      "text/plain": [
       "[name: \"/device:CPU:0\"\n",
       " device_type: \"CPU\"\n",
       " memory_limit: 268435456\n",
       " locality {\n",
       " }\n",
       " incarnation: 10199376641381470405, name: \"/device:GPU:0\"\n",
       " device_type: \"GPU\"\n",
       " memory_limit: 6614766059\n",
       " locality {\n",
       "   bus_id: 1\n",
       "   links {\n",
       "   }\n",
       " }\n",
       " incarnation: 9054296982409605734\n",
       " physical_device_desc: \"device: 0, name: GeForce RTX 2070, pci bus id: 0000:17:00.0, compute capability: 7.5\", name: \"/device:GPU:1\"\n",
       " device_type: \"GPU\"\n",
       " memory_limit: 6614766059\n",
       " locality {\n",
       "   bus_id: 1\n",
       "   links {\n",
       "   }\n",
       " }\n",
       " incarnation: 4266931127415481484\n",
       " physical_device_desc: \"device: 1, name: GeForce RTX 2070, pci bus id: 0000:65:00.0, compute capability: 7.5\"]"
      ]
     },
     "execution_count": 5,
     "metadata": {},
     "output_type": "execute_result"
    }
   ],
   "source": [
    "from tensorflow.python.client import device_lib\n",
    "\n",
    "device_lib.list_local_devices()"
   ]
  },
  {
   "cell_type": "code",
   "execution_count": 6,
   "metadata": {},
   "outputs": [],
   "source": [
    "\n",
    "import matplotlib.pyplot as plt\n",
    "%matplotlib inline\n",
    "\n",
    "\n",
    "import datetime, os\n",
    "\n",
    "from tensorflow.keras.callbacks import TensorBoard\n",
    "\n",
    "log_dir = 'logs'\n",
    "tb = TensorBoard(log_dir=log_dir, histogram_freq=1)\n",
    "\n",
    "from sklearn.model_selection import train_test_split\n",
    "\n",
    "from keras.layers import Dense, Activation,Conv2D,MaxPooling2D,Flatten,Dropout"
   ]
  },
  {
   "cell_type": "markdown",
   "metadata": {},
   "source": [
    "[SVM], Logistic; random forrest, naive bayes, XGBoost, [DN"
   ]
  },
  {
   "cell_type": "code",
   "execution_count": 7,
   "metadata": {},
   "outputs": [],
   "source": [
    "data = pd.read_csv('final_project_mod.csv', dtype = {'Continent': 'category', 'Month':'category', 'DayOfWeek':'category'})"
   ]
  },
  {
   "cell_type": "code",
   "execution_count": 8,
   "metadata": {},
   "outputs": [
    {
     "name": "stdout",
     "output_type": "stream",
     "text": [
      "<class 'pandas.core.frame.DataFrame'>\n",
      "RangeIndex: 159912 entries, 0 to 159911\n",
      "Data columns (total 49 columns):\n",
      "x0           159912 non-null float64\n",
      "x1           159912 non-null float64\n",
      "x3           159912 non-null float64\n",
      "x4           159912 non-null float64\n",
      "x5           159912 non-null float64\n",
      "x6           159912 non-null float64\n",
      "x7           159912 non-null float64\n",
      "x8           159912 non-null float64\n",
      "x9           159912 non-null float64\n",
      "x10          159912 non-null float64\n",
      "x11          159912 non-null float64\n",
      "x12          159912 non-null float64\n",
      "x13          159912 non-null float64\n",
      "x14          159912 non-null float64\n",
      "x15          159912 non-null float64\n",
      "x16          159912 non-null float64\n",
      "x17          159912 non-null float64\n",
      "x18          159912 non-null float64\n",
      "x19          159912 non-null float64\n",
      "x20          159912 non-null float64\n",
      "x21          159912 non-null float64\n",
      "x22          159912 non-null float64\n",
      "x23          159912 non-null float64\n",
      "Continent    159912 non-null category\n",
      "x25          159912 non-null float64\n",
      "x26          159912 non-null float64\n",
      "x27          159912 non-null float64\n",
      "x28          159912 non-null float64\n",
      "Month        159912 non-null category\n",
      "DayOfWeek    159912 non-null category\n",
      "x31          159912 non-null float64\n",
      "x32          159912 non-null float64\n",
      "x33          159912 non-null float64\n",
      "x34          159912 non-null float64\n",
      "x35          159912 non-null float64\n",
      "x36          159912 non-null float64\n",
      "Money        159912 non-null float64\n",
      "x39          159912 non-null float64\n",
      "x40          159912 non-null float64\n",
      "x41          159912 non-null float64\n",
      "x42          159912 non-null float64\n",
      "x43          159912 non-null float64\n",
      "x44          159912 non-null float64\n",
      "x45          159912 non-null float64\n",
      "x46          159912 non-null float64\n",
      "x47          159912 non-null float64\n",
      "x48          159912 non-null float64\n",
      "x49          159912 non-null float64\n",
      "y            159912 non-null int64\n",
      "dtypes: category(3), float64(45), int64(1)\n",
      "memory usage: 56.6 MB\n"
     ]
    }
   ],
   "source": [
    "data.info()\n"
   ]
  },
  {
   "cell_type": "code",
   "execution_count": 10,
   "metadata": {},
   "outputs": [
    {
     "data": {
      "text/plain": [
       "x0           0\n",
       "x1           0\n",
       "x3           0\n",
       "x4           0\n",
       "x5           0\n",
       "x6           0\n",
       "x7           0\n",
       "x8           0\n",
       "x9           0\n",
       "x10          0\n",
       "x11          0\n",
       "x12          0\n",
       "x13          0\n",
       "x14          0\n",
       "x15          0\n",
       "x16          0\n",
       "x17          0\n",
       "x18          0\n",
       "x19          0\n",
       "x20          0\n",
       "x21          0\n",
       "x22          0\n",
       "x23          0\n",
       "Continent    0\n",
       "x25          0\n",
       "x26          0\n",
       "x27          0\n",
       "x28          0\n",
       "Month        0\n",
       "DayOfWeek    0\n",
       "x31          0\n",
       "x32          0\n",
       "x33          0\n",
       "x34          0\n",
       "x35          0\n",
       "x36          0\n",
       "Money        0\n",
       "x39          0\n",
       "x40          0\n",
       "x41          0\n",
       "x42          0\n",
       "x43          0\n",
       "x44          0\n",
       "x45          0\n",
       "x46          0\n",
       "x47          0\n",
       "x48          0\n",
       "x49          0\n",
       "y            0\n",
       "dtype: int64"
      ]
     },
     "execution_count": 10,
     "metadata": {},
     "output_type": "execute_result"
    }
   ],
   "source": [
    "data.isnull().sum()"
   ]
  },
  {
   "cell_type": "code",
   "execution_count": 13,
   "metadata": {},
   "outputs": [],
   "source": [
    "# The fist step in ordering a category feature is to define a custom order by way of CategoricalDtype\n",
    "month_ordered_categories = ['Jan', 'Feb', 'Mar', 'Apr', 'May', 'Jun', 'Jul', 'Aug', 'Sep', 'Oct', 'Nov', 'Dec']\n",
    "\n",
    "# Next, the attribute needs to be explicitly re_ordered:\n",
    "cat_dtype = pd.api.types.CategoricalDtype(categories=month_ordered_categories, ordered=True)\n",
    "data.Month = data.Month.astype(cat_dtype)\n",
    "\n",
    "# Repeat steps for DayOfWeek\n",
    "dayofweek_ordered_categories = ['Mon', 'Tue', 'Wed', 'Thu', 'Fri']\n",
    "cat_dtype = pd.api.types.CategoricalDtype(categories=dayofweek_ordered_categories, ordered=True)\n",
    "data.DayOfWeek = data.DayOfWeek.astype(cat_dtype)\n",
    "\n",
    "# Repate Steps for Continent\n",
    "# Ordering based upon population\n",
    "continent_ordered_categories = ['Asia', 'America', 'Europe']\n",
    "cat_dtype = pd.api.types.CategoricalDtype(categories=continent_ordered_categories, ordered=True)\n",
    "data.Continent = data.Continent.astype(cat_dtype)"
   ]
  },
  {
   "cell_type": "code",
   "execution_count": 14,
   "metadata": {},
   "outputs": [
    {
     "data": {
      "text/plain": [
       "array([ 6,  7,  5,  4,  8,  3, 10,  9,  2,  1, 11,  0], dtype=int64)"
      ]
     },
     "execution_count": 14,
     "metadata": {},
     "output_type": "execute_result"
    }
   ],
   "source": [
    "data.Month.astype(\"category\").cat.codes.unique()"
   ]
  },
  {
   "cell_type": "code",
   "execution_count": 15,
   "metadata": {},
   "outputs": [
    {
     "data": {
      "text/plain": [
       "CategoricalDtype(categories=['Jan', 'Feb', 'Mar', 'Apr', 'May', 'Jun', 'Jul', 'Aug',\n",
       "                  'Sep', 'Oct', 'Nov', 'Dec'],\n",
       "                 ordered=True)"
      ]
     },
     "execution_count": 15,
     "metadata": {},
     "output_type": "execute_result"
    }
   ],
   "source": [
    "data['Month'].dtypes"
   ]
  },
  {
   "cell_type": "code",
   "execution_count": 16,
   "metadata": {},
   "outputs": [
    {
     "data": {
      "text/plain": [
       "array([1, 2, 3, 0, 4], dtype=int64)"
      ]
     },
     "execution_count": 16,
     "metadata": {},
     "output_type": "execute_result"
    }
   ],
   "source": [
    "data.DayOfWeek.astype(\"category\").cat.codes.unique()"
   ]
  },
  {
   "cell_type": "code",
   "execution_count": 17,
   "metadata": {},
   "outputs": [
    {
     "data": {
      "text/plain": [
       "CategoricalDtype(categories=['Mon', 'Tue', 'Wed', 'Thu', 'Fri'], ordered=True)"
      ]
     },
     "execution_count": 17,
     "metadata": {},
     "output_type": "execute_result"
    }
   ],
   "source": [
    "data['DayOfWeek'].dtypes"
   ]
  },
  {
   "cell_type": "code",
   "execution_count": 18,
   "metadata": {},
   "outputs": [
    {
     "data": {
      "text/plain": [
       "array([2, 0, 1], dtype=int64)"
      ]
     },
     "execution_count": 18,
     "metadata": {},
     "output_type": "execute_result"
    }
   ],
   "source": [
    "data.Continent.astype(\"category\").cat.codes.unique()"
   ]
  },
  {
   "cell_type": "code",
   "execution_count": 19,
   "metadata": {},
   "outputs": [
    {
     "data": {
      "text/plain": [
       "CategoricalDtype(categories=['Asia', 'America', 'Europe'], ordered=True)"
      ]
     },
     "execution_count": 19,
     "metadata": {},
     "output_type": "execute_result"
    }
   ],
   "source": [
    "data['Continent'].dtypes"
   ]
  },
  {
   "cell_type": "code",
   "execution_count": 20,
   "metadata": {},
   "outputs": [
    {
     "data": {
      "text/plain": [
       "x0           0\n",
       "x1           0\n",
       "x3           0\n",
       "x4           0\n",
       "x5           0\n",
       "x6           0\n",
       "x7           0\n",
       "x8           0\n",
       "x9           0\n",
       "x10          0\n",
       "x11          0\n",
       "x12          0\n",
       "x13          0\n",
       "x14          0\n",
       "x15          0\n",
       "x16          0\n",
       "x17          0\n",
       "x18          0\n",
       "x19          0\n",
       "x20          0\n",
       "x21          0\n",
       "x22          0\n",
       "x23          0\n",
       "Continent    0\n",
       "x25          0\n",
       "x26          0\n",
       "x27          0\n",
       "x28          0\n",
       "Month        0\n",
       "DayOfWeek    0\n",
       "x31          0\n",
       "x32          0\n",
       "x33          0\n",
       "x34          0\n",
       "x35          0\n",
       "x36          0\n",
       "Money        0\n",
       "x39          0\n",
       "x40          0\n",
       "x41          0\n",
       "x42          0\n",
       "x43          0\n",
       "x44          0\n",
       "x45          0\n",
       "x46          0\n",
       "x47          0\n",
       "x48          0\n",
       "x49          0\n",
       "y            0\n",
       "dtype: int64"
      ]
     },
     "execution_count": 20,
     "metadata": {},
     "output_type": "execute_result"
    }
   ],
   "source": [
    "data.isnull().sum()"
   ]
  },
  {
   "cell_type": "markdown",
   "metadata": {},
   "source": [
    "## separte the features from target"
   ]
  },
  {
   "cell_type": "code",
   "execution_count": 21,
   "metadata": {},
   "outputs": [],
   "source": [
    "x = data.drop(['y'], axis = 1)"
   ]
  },
  {
   "cell_type": "code",
   "execution_count": 22,
   "metadata": {},
   "outputs": [],
   "source": [
    "y = data['y']"
   ]
  },
  {
   "cell_type": "code",
   "execution_count": 23,
   "metadata": {},
   "outputs": [],
   "source": [
    "y = y.to_numpy()"
   ]
  },
  {
   "cell_type": "code",
   "execution_count": 24,
   "metadata": {},
   "outputs": [
    {
     "data": {
      "text/plain": [
       "array([0, 0, 0, ..., 1, 0, 1], dtype=int64)"
      ]
     },
     "execution_count": 24,
     "metadata": {},
     "output_type": "execute_result"
    }
   ],
   "source": [
    "y"
   ]
  },
  {
   "cell_type": "code",
   "execution_count": 25,
   "metadata": {},
   "outputs": [],
   "source": [
    "##set one-hot for the category features"
   ]
  },
  {
   "cell_type": "code",
   "execution_count": 26,
   "metadata": {},
   "outputs": [
    {
     "data": {
      "text/html": [
       "<div>\n",
       "<style scoped>\n",
       "    .dataframe tbody tr th:only-of-type {\n",
       "        vertical-align: middle;\n",
       "    }\n",
       "\n",
       "    .dataframe tbody tr th {\n",
       "        vertical-align: top;\n",
       "    }\n",
       "\n",
       "    .dataframe thead th {\n",
       "        text-align: right;\n",
       "    }\n",
       "</style>\n",
       "<table border=\"1\" class=\"dataframe\">\n",
       "  <thead>\n",
       "    <tr style=\"text-align: right;\">\n",
       "      <th></th>\n",
       "      <th>index</th>\n",
       "      <th>cardinality</th>\n",
       "    </tr>\n",
       "  </thead>\n",
       "  <tbody>\n",
       "    <tr>\n",
       "      <th>0</th>\n",
       "      <td>Continent</td>\n",
       "      <td>3</td>\n",
       "    </tr>\n",
       "    <tr>\n",
       "      <th>1</th>\n",
       "      <td>Month</td>\n",
       "      <td>12</td>\n",
       "    </tr>\n",
       "    <tr>\n",
       "      <th>2</th>\n",
       "      <td>DayOfWeek</td>\n",
       "      <td>5</td>\n",
       "    </tr>\n",
       "  </tbody>\n",
       "</table>\n",
       "</div>"
      ],
      "text/plain": [
       "       index  cardinality\n",
       "0  Continent            3\n",
       "1      Month           12\n",
       "2  DayOfWeek            5"
      ]
     },
     "execution_count": 26,
     "metadata": {},
     "output_type": "execute_result"
    }
   ],
   "source": [
    "x[x.select_dtypes('category').columns].nunique().reset_index(name='cardinality')"
   ]
  },
  {
   "cell_type": "code",
   "execution_count": 27,
   "metadata": {},
   "outputs": [],
   "source": [
    "#ok, about an extra 20 features will come out.  \n",
    "#will need to put to an array, and then will need to cocatenate"
   ]
  },
  {
   "cell_type": "code",
   "execution_count": 28,
   "metadata": {},
   "outputs": [],
   "source": [
    "x1 = pd.get_dummies(x,prefix = ['Continent', 'Month', 'DayOfWeek'])"
   ]
  },
  {
   "cell_type": "code",
   "execution_count": 29,
   "metadata": {},
   "outputs": [
    {
     "name": "stdout",
     "output_type": "stream",
     "text": [
      "<class 'pandas.core.frame.DataFrame'>\n",
      "RangeIndex: 159912 entries, 0 to 159911\n",
      "Data columns (total 65 columns):\n",
      "x0                   159912 non-null float64\n",
      "x1                   159912 non-null float64\n",
      "x3                   159912 non-null float64\n",
      "x4                   159912 non-null float64\n",
      "x5                   159912 non-null float64\n",
      "x6                   159912 non-null float64\n",
      "x7                   159912 non-null float64\n",
      "x8                   159912 non-null float64\n",
      "x9                   159912 non-null float64\n",
      "x10                  159912 non-null float64\n",
      "x11                  159912 non-null float64\n",
      "x12                  159912 non-null float64\n",
      "x13                  159912 non-null float64\n",
      "x14                  159912 non-null float64\n",
      "x15                  159912 non-null float64\n",
      "x16                  159912 non-null float64\n",
      "x17                  159912 non-null float64\n",
      "x18                  159912 non-null float64\n",
      "x19                  159912 non-null float64\n",
      "x20                  159912 non-null float64\n",
      "x21                  159912 non-null float64\n",
      "x22                  159912 non-null float64\n",
      "x23                  159912 non-null float64\n",
      "x25                  159912 non-null float64\n",
      "x26                  159912 non-null float64\n",
      "x27                  159912 non-null float64\n",
      "x28                  159912 non-null float64\n",
      "x31                  159912 non-null float64\n",
      "x32                  159912 non-null float64\n",
      "x33                  159912 non-null float64\n",
      "x34                  159912 non-null float64\n",
      "x35                  159912 non-null float64\n",
      "x36                  159912 non-null float64\n",
      "Money                159912 non-null float64\n",
      "x39                  159912 non-null float64\n",
      "x40                  159912 non-null float64\n",
      "x41                  159912 non-null float64\n",
      "x42                  159912 non-null float64\n",
      "x43                  159912 non-null float64\n",
      "x44                  159912 non-null float64\n",
      "x45                  159912 non-null float64\n",
      "x46                  159912 non-null float64\n",
      "x47                  159912 non-null float64\n",
      "x48                  159912 non-null float64\n",
      "x49                  159912 non-null float64\n",
      "Continent_Asia       159912 non-null uint8\n",
      "Continent_America    159912 non-null uint8\n",
      "Continent_Europe     159912 non-null uint8\n",
      "Month_Jan            159912 non-null uint8\n",
      "Month_Feb            159912 non-null uint8\n",
      "Month_Mar            159912 non-null uint8\n",
      "Month_Apr            159912 non-null uint8\n",
      "Month_May            159912 non-null uint8\n",
      "Month_Jun            159912 non-null uint8\n",
      "Month_Jul            159912 non-null uint8\n",
      "Month_Aug            159912 non-null uint8\n",
      "Month_Sep            159912 non-null uint8\n",
      "Month_Oct            159912 non-null uint8\n",
      "Month_Nov            159912 non-null uint8\n",
      "Month_Dec            159912 non-null uint8\n",
      "DayOfWeek_Mon        159912 non-null uint8\n",
      "DayOfWeek_Tue        159912 non-null uint8\n",
      "DayOfWeek_Wed        159912 non-null uint8\n",
      "DayOfWeek_Thu        159912 non-null uint8\n",
      "DayOfWeek_Fri        159912 non-null uint8\n",
      "dtypes: float64(45), uint8(20)\n",
      "memory usage: 58.0 MB\n"
     ]
    }
   ],
   "source": [
    "x1.info()"
   ]
  },
  {
   "cell_type": "markdown",
   "metadata": {},
   "source": [
    "# scale"
   ]
  },
  {
   "cell_type": "code",
   "execution_count": 30,
   "metadata": {},
   "outputs": [
    {
     "name": "stderr",
     "output_type": "stream",
     "text": [
      "C:\\Users\\Brandon\\AppData\\Local\\Continuum\\anaconda3\\lib\\site-packages\\sklearn\\preprocessing\\data.py:334: DataConversionWarning: Data with input dtype uint8, float64 were all converted to float64 by MinMaxScaler.\n",
      "  return self.partial_fit(X, y)\n"
     ]
    }
   ],
   "source": [
    "\n",
    "\n",
    "scaler = MinMaxScaler(feature_range=(0,1))\n",
    "scaled_train = scaler.fit_transform(x1)\n",
    "\n",
    "# Print out the adjustment that the scaler applied to the lepton pT column of data\n",
    "#print(\"Note: median values were scaled by multiplying by {:.10f} and adding {:.6f}\".format(scaler.scale_[0],scaler.min_[0]))\n",
    "#multiplied_by = scaler.scale_[0]\n",
    "#added = scaler.min_[0]\n",
    "\n",
    "scaled_train_df = pd.DataFrame(scaled_train, columns = x1.columns)"
   ]
  },
  {
   "cell_type": "code",
   "execution_count": 31,
   "metadata": {},
   "outputs": [],
   "source": [
    "from keras.applications import Xception\n",
    "from keras.utils import multi_gpu_model"
   ]
  },
  {
   "cell_type": "code",
   "execution_count": 32,
   "metadata": {},
   "outputs": [],
   "source": [
    "mirrored_strategy = tf.distribute.MirroredStrategy(devices=[\"/gpu:0\", \"/gpu:1\"],\n",
    "                                          cross_device_ops=tf.distribute.HierarchicalCopyAllReduce())"
   ]
  },
  {
   "cell_type": "code",
   "execution_count": 37,
   "metadata": {},
   "outputs": [
    {
     "name": "stdout",
     "output_type": "stream",
     "text": [
      "Executing op VarHandleOp in device /job:localhost/replica:0/task:0/device:GPU:0\n",
      "Executing op VarHandleOp in device /job:localhost/replica:0/task:0/device:GPU:1\n",
      "INFO:tensorflow:Reduce to /job:localhost/replica:0/task:0/device:CPU:0 then broadcast to ('/job:localhost/replica:0/task:0/device:CPU:0',).\n",
      "INFO:tensorflow:Reduce to /job:localhost/replica:0/task:0/device:CPU:0 then broadcast to ('/job:localhost/replica:0/task:0/device:CPU:0',).\n"
     ]
    }
   ],
   "source": [
    "with mirrored_strategy.scope():\n",
    "    model_final = tf.keras.Sequential()\n",
    "    model_final.add(layers.Dense(300, input_dim = 65, activation = 'relu'))\n",
    "    model_final.add(layers.Dropout(0.5))\n",
    "    model_final.add(layers.Dense(300, activation = 'relu'))\n",
    "    model_final.add(layers.Dropout(0.1))\n",
    "    model_final.add(layers.Dense(300, activation = 'relu'))\n",
    "    model_final.add(layers.Dense(300, activation = 'relu'))\n",
    "    model_final.add(layers.Dense(300, activation = 'relu'))\n",
    "    model_final.add(layers.Dense(1, activation = 'sigmoid'))\n",
    "    \n",
    "    model_final.compile(optimizer=tf.optimizers.Adam(learning_rate = 0.01, decay = 0.0001),\n",
    "             loss=tf.keras.losses.BinaryCrossentropy(),\n",
    "             metrics=['accuracy'])\n",
    "    \n",
    "    log_dir = 'final_logs'\n",
    "    tb_random = TensorBoard(log_dir=log_dir, histogram_freq=1)"
   ]
  },
  {
   "cell_type": "code",
   "execution_count": 38,
   "metadata": {},
   "outputs": [],
   "source": [
    "with mirrored_strategy.scope():\n",
    "\n",
    "    x_train, x_test, y_train, y_test = train_test_split(scaled_train_df.values, y, test_size=0.20, random_state=102)"
   ]
  },
  {
   "cell_type": "code",
   "execution_count": 39,
   "metadata": {},
   "outputs": [
    {
     "name": "stdout",
     "output_type": "stream",
     "text": [
      "float64\n"
     ]
    }
   ],
   "source": [
    "print(x_train.dtype)"
   ]
  },
  {
   "cell_type": "code",
   "execution_count": 40,
   "metadata": {},
   "outputs": [
    {
     "name": "stdout",
     "output_type": "stream",
     "text": [
      "Executing op RangeDataset in device /job:localhost/replica:0/task:0/device:CPU:0\n",
      "Executing op RepeatDataset in device /job:localhost/replica:0/task:0/device:CPU:0\n",
      "Executing op MapDataset in device /job:localhost/replica:0/task:0/device:CPU:0\n",
      "Executing op PrefetchDataset in device /job:localhost/replica:0/task:0/device:CPU:0\n",
      "Executing op FlatMapDataset in device /job:localhost/replica:0/task:0/device:CPU:0\n",
      "Executing op TensorDataset in device /job:localhost/replica:0/task:0/device:CPU:0\n",
      "Executing op RepeatDataset in device /job:localhost/replica:0/task:0/device:CPU:0\n",
      "Executing op ZipDataset in device /job:localhost/replica:0/task:0/device:CPU:0\n",
      "Executing op ParallelMapDataset in device /job:localhost/replica:0/task:0/device:CPU:0\n",
      "Executing op MapDataset in device /job:localhost/replica:0/task:0/device:CPU:0\n",
      "Executing op PrefetchDataset in device /job:localhost/replica:0/task:0/device:CPU:0\n",
      "Executing op FlatMapDataset in device /job:localhost/replica:0/task:0/device:CPU:0\n",
      "Executing op TensorDataset in device /job:localhost/replica:0/task:0/device:CPU:0\n",
      "Executing op RepeatDataset in device /job:localhost/replica:0/task:0/device:CPU:0\n",
      "Executing op ZipDataset in device /job:localhost/replica:0/task:0/device:CPU:0\n",
      "Executing op ParallelMapDataset in device /job:localhost/replica:0/task:0/device:CPU:0\n",
      "Executing op DatasetCardinality in device /job:localhost/replica:0/task:0/device:CPU:0\n",
      "Executing op RebatchDataset in device /job:localhost/replica:0/task:0/device:CPU:0\n",
      "Executing op AutoShardDataset in device /job:localhost/replica:0/task:0/device:CPU:0\n",
      "Train on 127929 samples, validate on 31983 samples\n",
      "Executing op Add in device /job:localhost/replica:0/task:0/device:CPU:0\n",
      "Executing op SummaryWriter in device /job:localhost/replica:0/task:0/device:CPU:0\n",
      "Executing op CreateSummaryFileWriter in device /job:localhost/replica:0/task:0/device:CPU:0\n",
      "Executing op WriteGraphSummary in device /job:localhost/replica:0/task:0/device:CPU:0\n",
      "Executing op LogicalAnd in device /job:localhost/replica:0/task:0/device:CPU:0\n",
      "Executing op WriteSummary in device /job:localhost/replica:0/task:0/device:CPU:0\n",
      "Executing op FlushSummaryWriter in device /job:localhost/replica:0/task:0/device:CPU:0\n",
      "Epoch 1/200\n",
      "Executing op OptimizeDataset in device /job:localhost/replica:0/task:0/device:CPU:0\n",
      "Executing op ModelDataset in device /job:localhost/replica:0/task:0/device:CPU:0\n",
      "Executing op MultiDeviceIterator in device /job:localhost/replica:0/task:0/device:CPU:0\n",
      "Executing op MultiDeviceIteratorInit in device /job:localhost/replica:0/task:0/device:CPU:0\n",
      "Executing op MultiDeviceIteratorToStringHandle in device /job:localhost/replica:0/task:0/device:CPU:0\n",
      "Executing op GeneratorDataset in device /job:localhost/replica:0/task:0/device:GPU:0\n",
      "Executing op GeneratorDataset in device /job:localhost/replica:0/task:0/device:GPU:1\n",
      "Executing op PrefetchDataset in device /job:localhost/replica:0/task:0/device:GPU:0\n",
      "Executing op AnonymousIteratorV2 in device /job:localhost/replica:0/task:0/device:GPU:0\n",
      "Executing op MakeIterator in device /job:localhost/replica:0/task:0/device:GPU:0\n",
      "Executing op PrefetchDataset in device /job:localhost/replica:0/task:0/device:GPU:1\n",
      "Executing op AnonymousIteratorV2 in device /job:localhost/replica:0/task:0/device:GPU:1\n",
      "Executing op MakeIterator in device /job:localhost/replica:0/task:0/device:GPU:1\n",
      "Executing op VarHandleOp in device /job:localhost/replica:0/task:0/device:GPU:0\n",
      "Executing op AssignVariableOp in device /job:localhost/replica:0/task:0/device:GPU:0\n",
      "Executing op ReadVariableOp in device /job:localhost/replica:0/task:0/device:GPU:0\n",
      "Executing op VarHandleOp in device /job:localhost/replica:0/task:0/device:GPU:1\n",
      "Executing op AssignVariableOp in device /job:localhost/replica:0/task:0/device:GPU:1\n",
      "Executing op VarHandleOp in device /job:localhost/replica:0/task:0/device:GPU:0\n",
      "Executing op VarHandleOp in device /job:localhost/replica:0/task:0/device:GPU:1\n",
      "Executing op VarHandleOp in device /job:localhost/replica:0/task:0/device:GPU:0\n",
      "Executing op VarHandleOp in device /job:localhost/replica:0/task:0/device:GPU:1\n",
      "Executing op VarHandleOp in device /job:localhost/replica:0/task:0/device:GPU:0\n",
      "Executing op VarHandleOp in device /job:localhost/replica:0/task:0/device:GPU:1\n",
      "Executing op VarHandleOp in device /job:localhost/replica:0/task:0/device:GPU:0\n",
      "Executing op VarHandleOp in device /job:localhost/replica:0/task:0/device:GPU:1\n",
      "Executing op Fill in device /job:localhost/replica:0/task:0/device:GPU:0\n",
      "Executing op VarHandleOp in device /job:localhost/replica:0/task:0/device:GPU:0\n",
      "Executing op VarHandleOp in device /job:localhost/replica:0/task:0/device:GPU:1\n",
      "Executing op VarHandleOp in device /job:localhost/replica:0/task:0/device:GPU:0\n",
      "Executing op VarHandleOp in device /job:localhost/replica:0/task:0/device:GPU:1\n",
      "Executing op VarHandleOp in device /job:localhost/replica:0/task:0/device:GPU:0\n",
      "Executing op VarHandleOp in device /job:localhost/replica:0/task:0/device:GPU:1\n",
      "Executing op VarHandleOp in device /job:localhost/replica:0/task:0/device:GPU:0\n",
      "Executing op VarHandleOp in device /job:localhost/replica:0/task:0/device:GPU:1\n",
      "Executing op VarHandleOp in device /job:localhost/replica:0/task:0/device:GPU:0\n",
      "Executing op VarHandleOp in device /job:localhost/replica:0/task:0/device:GPU:1\n",
      "Executing op VarHandleOp in device /job:localhost/replica:0/task:0/device:GPU:0\n",
      "Executing op VarHandleOp in device /job:localhost/replica:0/task:0/device:GPU:1\n",
      "Executing op VarHandleOp in device /job:localhost/replica:0/task:0/device:GPU:0\n",
      "Executing op VarHandleOp in device /job:localhost/replica:0/task:0/device:GPU:1\n",
      "Executing op VarHandleOp in device /job:localhost/replica:0/task:0/device:GPU:0\n",
      "Executing op VarHandleOp in device /job:localhost/replica:0/task:0/device:GPU:1\n",
      "Executing op VarHandleOp in device /job:localhost/replica:0/task:0/device:GPU:0\n",
      "Executing op VarHandleOp in device /job:localhost/replica:0/task:0/device:GPU:1\n",
      "Executing op VarHandleOp in device /job:localhost/replica:0/task:0/device:GPU:0\n",
      "Executing op VarHandleOp in device /job:localhost/replica:0/task:0/device:GPU:1\n",
      "Executing op VarHandleOp in device /job:localhost/replica:0/task:0/device:GPU:0\n",
      "Executing op VarHandleOp in device /job:localhost/replica:0/task:0/device:GPU:1\n",
      "Executing op Reshape in device /job:localhost/replica:0/task:0/device:GPU:0\n",
      "Executing op VarHandleOp in device /job:localhost/replica:0/task:0/device:GPU:0\n",
      "Executing op VarHandleOp in device /job:localhost/replica:0/task:0/device:GPU:1\n",
      "Executing op VarHandleOp in device /job:localhost/replica:0/task:0/device:GPU:0\n",
      "Executing op VarHandleOp in device /job:localhost/replica:0/task:0/device:GPU:1\n",
      "Executing op VarHandleOp in device /job:localhost/replica:0/task:0/device:GPU:0\n",
      "Executing op VarHandleOp in device /job:localhost/replica:0/task:0/device:GPU:1\n",
      "Executing op VarHandleOp in device /job:localhost/replica:0/task:0/device:GPU:0\n",
      "Executing op VarHandleOp in device /job:localhost/replica:0/task:0/device:GPU:1\n",
      "Executing op VarHandleOp in device /job:localhost/replica:0/task:0/device:GPU:0\n",
      "Executing op VarHandleOp in device /job:localhost/replica:0/task:0/device:GPU:1\n",
      "Executing op VarHandleOp in device /job:localhost/replica:0/task:0/device:GPU:0\n",
      "Executing op VarHandleOp in device /job:localhost/replica:0/task:0/device:GPU:1\n",
      "Executing op VarHandleOp in device /job:localhost/replica:0/task:0/device:GPU:0\n",
      "Executing op VarHandleOp in device /job:localhost/replica:0/task:0/device:GPU:1\n",
      "Executing op VarHandleOp in device /job:localhost/replica:0/task:0/device:GPU:0\n",
      "Executing op VarHandleOp in device /job:localhost/replica:0/task:0/device:GPU:1\n",
      "Executing op VarHandleOp in device /job:localhost/replica:0/task:0/device:GPU:0\n",
      "Executing op VarHandleOp in device /job:localhost/replica:0/task:0/device:GPU:1\n",
      "Executing op VarHandleOp in device /job:localhost/replica:0/task:0/device:GPU:0\n",
      "Executing op VarHandleOp in device /job:localhost/replica:0/task:0/device:GPU:1\n",
      "Executing op VarHandleOp in device /job:localhost/replica:0/task:0/device:GPU:0\n",
      "Executing op VarHandleOp in device /job:localhost/replica:0/task:0/device:GPU:1\n",
      "Executing op VarHandleOp in device /job:localhost/replica:0/task:0/device:GPU:0\n",
      "Executing op VarHandleOp in device /job:localhost/replica:0/task:0/device:GPU:1\n"
     ]
    },
    {
     "name": "stdout",
     "output_type": "stream",
     "text": [
      "Executing op VarHandleOp in device /job:localhost/replica:0/task:0/device:GPU:0\n",
      "Executing op VarHandleOp in device /job:localhost/replica:0/task:0/device:GPU:1\n",
      "INFO:tensorflow:batch_all_reduce: 12 all-reduces with algorithm = hierarchical_copy, num_packs = 1, agg_small_grads_max_bytes = 0 and agg_small_grads_max_group = 10\n",
      "INFO:tensorflow:Reduce to /job:localhost/replica:0/task:0/device:CPU:0 then broadcast to ('/job:localhost/replica:0/task:0/device:CPU:0',).\n",
      "INFO:tensorflow:Reduce to /job:localhost/replica:0/task:0/device:CPU:0 then broadcast to ('/job:localhost/replica:0/task:0/device:CPU:0',).\n",
      "INFO:tensorflow:Reduce to /job:localhost/replica:0/task:0/device:CPU:0 then broadcast to ('/job:localhost/replica:0/task:0/device:CPU:0',).\n",
      "INFO:tensorflow:Reduce to /job:localhost/replica:0/task:0/device:CPU:0 then broadcast to ('/job:localhost/replica:0/task:0/device:CPU:0',).\n",
      "Executing op __inference_initialize_variables_2708 in device /job:localhost/replica:0/task:0/device:GPU:0\n",
      "INFO:tensorflow:batch_all_reduce: 12 all-reduces with algorithm = hierarchical_copy, num_packs = 1, agg_small_grads_max_bytes = 0 and agg_small_grads_max_group = 10\n",
      "INFO:tensorflow:Reduce to /job:localhost/replica:0/task:0/device:CPU:0 then broadcast to ('/job:localhost/replica:0/task:0/device:CPU:0',).\n",
      "INFO:tensorflow:Reduce to /job:localhost/replica:0/task:0/device:CPU:0 then broadcast to ('/job:localhost/replica:0/task:0/device:CPU:0',).\n",
      "Executing op __inference_distributed_function_3705 in device /job:localhost/replica:0/task:0/device:GPU:0\n",
      "119000/127929 [==========================>...] - ETA: 0s - loss: 0.7320 - accuracy: 0.6119Executing op GeneratorDataset in device /job:localhost/replica:0/task:0/device:GPU:0\n",
      "Executing op GeneratorDataset in device /job:localhost/replica:0/task:0/device:GPU:1\n",
      "Executing op __inference_distributed_function_4519 in device /job:localhost/replica:0/task:0/device:GPU:0\n",
      "Executing op WriteScalarSummary in device /job:localhost/replica:0/task:0/device:CPU:0\n",
      "Executing op WriteScalarSummary in device /job:localhost/replica:0/task:0/device:CPU:0\n",
      "Executing op WriteHistogramSummary in device /job:localhost/replica:0/task:0/device:CPU:0\n",
      "127929/127929 [==============================] - 12s 96us/sample - loss: 0.7238 - accuracy: 0.6154 - val_loss: 0.5978 - val_accuracy: 0.6752\n",
      "Epoch 2/200\n",
      "127929/127929 [==============================] - 1s 7us/sample - loss: 0.5983 - accuracy: 0.6758 - val_loss: 0.5604 - val_accuracy: 0.7088\n",
      "Epoch 3/200\n",
      "127929/127929 [==============================] - 1s 8us/sample - loss: 0.5768 - accuracy: 0.6825 - val_loss: 0.5705 - val_accuracy: 0.7088\n",
      "Epoch 4/200\n",
      "127929/127929 [==============================] - 1s 8us/sample - loss: 0.5697 - accuracy: 0.6819 - val_loss: 0.5405 - val_accuracy: 0.7209\n",
      "Epoch 5/200\n",
      "127929/127929 [==============================] - 1s 8us/sample - loss: 0.5657 - accuracy: 0.6865 - val_loss: 0.5355 - val_accuracy: 0.7185\n",
      "Epoch 6/200\n",
      "127929/127929 [==============================] - 1s 7us/sample - loss: 0.5517 - accuracy: 0.6937 - val_loss: 0.5285 - val_accuracy: 0.7254\n",
      "Epoch 7/200\n",
      "127929/127929 [==============================] - 1s 8us/sample - loss: 0.5506 - accuracy: 0.6979 - val_loss: 0.5310 - val_accuracy: 0.7300\n",
      "Epoch 8/200\n",
      "127929/127929 [==============================] - 1s 7us/sample - loss: 0.5456 - accuracy: 0.6997 - val_loss: 0.5551 - val_accuracy: 0.6946\n",
      "Epoch 9/200\n",
      "127929/127929 [==============================] - 1s 7us/sample - loss: 0.5422 - accuracy: 0.7023 - val_loss: 0.5606 - val_accuracy: 0.7153\n",
      "Epoch 10/200\n",
      "127929/127929 [==============================] - 1s 7us/sample - loss: 0.5332 - accuracy: 0.7198 - val_loss: 0.6398 - val_accuracy: 0.6156\n",
      "Epoch 11/200\n",
      "127929/127929 [==============================] - 1s 7us/sample - loss: 0.5293 - accuracy: 0.7276 - val_loss: 0.7010 - val_accuracy: 0.5520\n",
      "Epoch 12/200\n",
      "127929/127929 [==============================] - 1s 7us/sample - loss: 0.5227 - accuracy: 0.7344 - val_loss: 0.6964 - val_accuracy: 0.5533\n",
      "Epoch 13/200\n",
      "127929/127929 [==============================] - 1s 8us/sample - loss: 0.5177 - accuracy: 0.7373 - val_loss: 0.6982 - val_accuracy: 0.5701\n",
      "Epoch 14/200\n",
      "127929/127929 [==============================] - 1s 8us/sample - loss: 0.5148 - accuracy: 0.7399 - val_loss: 0.8345 - val_accuracy: 0.5221\n",
      "Epoch 15/200\n",
      "127929/127929 [==============================] - 1s 8us/sample - loss: 0.5127 - accuracy: 0.7426 - val_loss: 0.7534 - val_accuracy: 0.5345\n",
      "Epoch 16/200\n",
      "127929/127929 [==============================] - 1s 8us/sample - loss: 0.5103 - accuracy: 0.7456 - val_loss: 0.6386 - val_accuracy: 0.5760\n",
      "Epoch 17/200\n",
      "127929/127929 [==============================] - 1s 8us/sample - loss: 0.5056 - accuracy: 0.7482 - val_loss: 0.8910 - val_accuracy: 0.4424\n",
      "Epoch 18/200\n",
      "127929/127929 [==============================] - 1s 8us/sample - loss: 0.5026 - accuracy: 0.7503 - val_loss: 0.8955 - val_accuracy: 0.4583\n",
      "Epoch 19/200\n",
      "127929/127929 [==============================] - 1s 7us/sample - loss: 0.5019 - accuracy: 0.7511 - val_loss: 0.8747 - val_accuracy: 0.4506\n",
      "Epoch 20/200\n",
      "127929/127929 [==============================] - 1s 7us/sample - loss: 0.5005 - accuracy: 0.7533 - val_loss: 0.9577 - val_accuracy: 0.4365\n",
      "Epoch 21/200\n",
      "127929/127929 [==============================] - 1s 7us/sample - loss: 0.4927 - accuracy: 0.7582 - val_loss: 1.0545 - val_accuracy: 0.4114\n",
      "Epoch 22/200\n",
      "127929/127929 [==============================] - 1s 7us/sample - loss: 0.4940 - accuracy: 0.7578 - val_loss: 0.9418 - val_accuracy: 0.4298\n",
      "Epoch 23/200\n",
      "127929/127929 [==============================] - 1s 7us/sample - loss: 0.4940 - accuracy: 0.7577 - val_loss: 1.0909 - val_accuracy: 0.4327\n",
      "Epoch 24/200\n",
      "127929/127929 [==============================] - 1s 7us/sample - loss: 0.4925 - accuracy: 0.7590 - val_loss: 1.0713 - val_accuracy: 0.4307\n",
      "Epoch 25/200\n",
      "127929/127929 [==============================] - 1s 8us/sample - loss: 0.4921 - accuracy: 0.7603 - val_loss: 1.0248 - val_accuracy: 0.4229\n",
      "Epoch 26/200\n",
      "127929/127929 [==============================] - 1s 8us/sample - loss: 0.4922 - accuracy: 0.7592 - val_loss: 1.0682 - val_accuracy: 0.4227\n",
      "Epoch 27/200\n",
      "127929/127929 [==============================] - 1s 7us/sample - loss: 0.4901 - accuracy: 0.7610 - val_loss: 1.0304 - val_accuracy: 0.4247\n",
      "Epoch 28/200\n",
      "127929/127929 [==============================] - 1s 7us/sample - loss: 0.4902 - accuracy: 0.7605 - val_loss: 0.9776 - val_accuracy: 0.4371\n",
      "Epoch 29/200\n",
      "127929/127929 [==============================] - 1s 7us/sample - loss: 0.4905 - accuracy: 0.7623 - val_loss: 1.0860 - val_accuracy: 0.4285\n",
      "Epoch 30/200\n",
      "127929/127929 [==============================] - 1s 7us/sample - loss: 0.4882 - accuracy: 0.7616 - val_loss: 1.0561 - val_accuracy: 0.4300\n",
      "Epoch 31/200\n",
      "127929/127929 [==============================] - 1s 7us/sample - loss: 0.4905 - accuracy: 0.7615 - val_loss: 0.9811 - val_accuracy: 0.4315\n",
      "Epoch 32/200\n",
      "127929/127929 [==============================] - 1s 7us/sample - loss: 0.4867 - accuracy: 0.7631 - val_loss: 1.1587 - val_accuracy: 0.4147\n",
      "Epoch 33/200\n",
      "127929/127929 [==============================] - 1s 8us/sample - loss: 0.4842 - accuracy: 0.7646 - val_loss: 1.0782 - val_accuracy: 0.4262\n",
      "Epoch 34/200\n",
      "127929/127929 [==============================] - 1s 7us/sample - loss: 0.4839 - accuracy: 0.7645 - val_loss: 1.1240 - val_accuracy: 0.4230\n",
      "Epoch 35/200\n",
      "127929/127929 [==============================] - 1s 8us/sample - loss: 0.4850 - accuracy: 0.7650 - val_loss: 1.1608 - val_accuracy: 0.4102\n",
      "Epoch 36/200\n",
      "127929/127929 [==============================] - 1s 7us/sample - loss: 0.4826 - accuracy: 0.7661 - val_loss: 1.1287 - val_accuracy: 0.4140\n",
      "Epoch 37/200\n",
      "127929/127929 [==============================] - 1s 7us/sample - loss: 0.4839 - accuracy: 0.7650 - val_loss: 1.1302 - val_accuracy: 0.4180\n",
      "Epoch 38/200\n",
      "127929/127929 [==============================] - 1s 7us/sample - loss: 0.4808 - accuracy: 0.7663 - val_loss: 1.1612 - val_accuracy: 0.4119\n",
      "Epoch 39/200\n",
      "127929/127929 [==============================] - 1s 8us/sample - loss: 0.4816 - accuracy: 0.7672 - val_loss: 1.1502 - val_accuracy: 0.4153\n",
      "Epoch 40/200\n",
      "127929/127929 [==============================] - 1s 7us/sample - loss: 0.4826 - accuracy: 0.7660 - val_loss: 1.1321 - val_accuracy: 0.4051\n"
     ]
    },
    {
     "name": "stdout",
     "output_type": "stream",
     "text": [
      "Epoch 41/200\n",
      "127929/127929 [==============================] - 1s 7us/sample - loss: 0.4803 - accuracy: 0.7691 - val_loss: 1.0406 - val_accuracy: 0.4162\n",
      "Epoch 42/200\n",
      "127929/127929 [==============================] - 1s 7us/sample - loss: 0.4823 - accuracy: 0.7654 - val_loss: 1.1992 - val_accuracy: 0.4105\n",
      "Epoch 43/200\n",
      "127929/127929 [==============================] - 1s 7us/sample - loss: 0.4829 - accuracy: 0.7658 - val_loss: 1.0445 - val_accuracy: 0.4123\n",
      "Epoch 44/200\n",
      "127929/127929 [==============================] - 1s 7us/sample - loss: 0.4787 - accuracy: 0.7684 - val_loss: 1.1396 - val_accuracy: 0.4071\n",
      "Epoch 45/200\n",
      "127929/127929 [==============================] - 1s 7us/sample - loss: 0.4812 - accuracy: 0.7677 - val_loss: 1.0550 - val_accuracy: 0.4053\n",
      "Epoch 46/200\n",
      "127929/127929 [==============================] - 1s 7us/sample - loss: 0.4784 - accuracy: 0.7695 - val_loss: 1.1611 - val_accuracy: 0.4063\n",
      "Epoch 47/200\n",
      "127929/127929 [==============================] - 1s 7us/sample - loss: 0.4764 - accuracy: 0.7698 - val_loss: 1.1105 - val_accuracy: 0.4111\n",
      "Epoch 48/200\n",
      "127929/127929 [==============================] - 1s 7us/sample - loss: 0.4775 - accuracy: 0.7702 - val_loss: 1.1157 - val_accuracy: 0.4056\n",
      "Epoch 49/200\n",
      "127929/127929 [==============================] - 1s 8us/sample - loss: 0.4789 - accuracy: 0.7686 - val_loss: 1.2136 - val_accuracy: 0.4038\n",
      "Epoch 50/200\n",
      "127929/127929 [==============================] - 1s 8us/sample - loss: 0.4744 - accuracy: 0.7709 - val_loss: 1.1150 - val_accuracy: 0.4070\n",
      "Epoch 51/200\n",
      "127929/127929 [==============================] - 1s 7us/sample - loss: 0.4776 - accuracy: 0.7689 - val_loss: 1.1676 - val_accuracy: 0.4078\n",
      "Epoch 52/200\n",
      "127929/127929 [==============================] - 1s 8us/sample - loss: 0.4763 - accuracy: 0.7717 - val_loss: 1.1040 - val_accuracy: 0.4104\n",
      "Epoch 53/200\n",
      "127929/127929 [==============================] - 1s 8us/sample - loss: 0.4753 - accuracy: 0.7709 - val_loss: 1.1465 - val_accuracy: 0.4096\n",
      "Epoch 54/200\n",
      "127929/127929 [==============================] - 1s 8us/sample - loss: 0.4748 - accuracy: 0.7723 - val_loss: 1.1895 - val_accuracy: 0.4035\n",
      "Epoch 55/200\n",
      "127929/127929 [==============================] - 1s 8us/sample - loss: 0.4724 - accuracy: 0.7730 - val_loss: 1.2001 - val_accuracy: 0.4064\n",
      "Epoch 56/200\n",
      "127929/127929 [==============================] - 1s 8us/sample - loss: 0.4753 - accuracy: 0.7714 - val_loss: 1.2608 - val_accuracy: 0.4005\n",
      "Epoch 57/200\n",
      "127929/127929 [==============================] - 1s 7us/sample - loss: 0.4722 - accuracy: 0.7734 - val_loss: 1.0630 - val_accuracy: 0.4061\n",
      "Epoch 58/200\n",
      "127929/127929 [==============================] - 1s 8us/sample - loss: 0.4726 - accuracy: 0.7725 - val_loss: 1.1407 - val_accuracy: 0.4033\n",
      "Epoch 59/200\n",
      "127929/127929 [==============================] - 1s 8us/sample - loss: 0.4730 - accuracy: 0.7732 - val_loss: 1.1992 - val_accuracy: 0.4044\n",
      "Epoch 60/200\n",
      "127929/127929 [==============================] - 1s 9us/sample - loss: 0.4727 - accuracy: 0.7735 - val_loss: 1.0622 - val_accuracy: 0.4059\n",
      "Epoch 61/200\n",
      "127929/127929 [==============================] - 1s 7us/sample - loss: 0.4775 - accuracy: 0.7702 - val_loss: 0.9735 - val_accuracy: 0.4088\n",
      "Epoch 62/200\n",
      "127929/127929 [==============================] - 1s 8us/sample - loss: 0.4699 - accuracy: 0.7744 - val_loss: 1.1461 - val_accuracy: 0.4054\n",
      "Epoch 63/200\n",
      "127929/127929 [==============================] - 1s 8us/sample - loss: 0.4726 - accuracy: 0.7734 - val_loss: 1.2677 - val_accuracy: 0.3996\n",
      "Epoch 64/200\n",
      "127929/127929 [==============================] - 1s 8us/sample - loss: 0.4737 - accuracy: 0.7721 - val_loss: 1.2253 - val_accuracy: 0.4100\n",
      "Epoch 65/200\n",
      "127929/127929 [==============================] - 1s 8us/sample - loss: 0.4724 - accuracy: 0.7729 - val_loss: 1.1603 - val_accuracy: 0.4027\n",
      "Epoch 66/200\n",
      "127929/127929 [==============================] - 1s 8us/sample - loss: 0.4721 - accuracy: 0.7735 - val_loss: 1.0815 - val_accuracy: 0.4081\n",
      "Epoch 67/200\n",
      "127929/127929 [==============================] - 1s 7us/sample - loss: 0.4691 - accuracy: 0.7760 - val_loss: 1.1759 - val_accuracy: 0.4009\n",
      "Epoch 68/200\n",
      "127929/127929 [==============================] - 1s 7us/sample - loss: 0.4702 - accuracy: 0.7733 - val_loss: 1.2320 - val_accuracy: 0.4036\n",
      "Epoch 69/200\n",
      "127929/127929 [==============================] - 1s 7us/sample - loss: 0.4691 - accuracy: 0.7752 - val_loss: 1.1863 - val_accuracy: 0.4021\n",
      "Epoch 70/200\n",
      "127929/127929 [==============================] - 1s 8us/sample - loss: 0.4690 - accuracy: 0.7756 - val_loss: 1.2504 - val_accuracy: 0.4027\n",
      "Epoch 71/200\n",
      "127929/127929 [==============================] - 1s 8us/sample - loss: 0.4699 - accuracy: 0.7745 - val_loss: 1.1893 - val_accuracy: 0.3986\n",
      "Epoch 72/200\n",
      "127929/127929 [==============================] - 1s 7us/sample - loss: 0.4685 - accuracy: 0.7759 - val_loss: 1.0666 - val_accuracy: 0.3979\n",
      "Epoch 73/200\n",
      "127929/127929 [==============================] - 1s 7us/sample - loss: 0.4674 - accuracy: 0.7767 - val_loss: 1.1134 - val_accuracy: 0.4024\n",
      "Epoch 74/200\n",
      "127929/127929 [==============================] - 1s 8us/sample - loss: 0.4702 - accuracy: 0.7739 - val_loss: 1.2029 - val_accuracy: 0.3986\n",
      "Epoch 75/200\n",
      "127929/127929 [==============================] - 1s 8us/sample - loss: 0.4675 - accuracy: 0.7763 - val_loss: 1.2566 - val_accuracy: 0.3951\n",
      "Epoch 76/200\n",
      "127929/127929 [==============================] - 1s 8us/sample - loss: 0.4700 - accuracy: 0.7736 - val_loss: 1.2927 - val_accuracy: 0.3970\n",
      "Epoch 77/200\n",
      "127929/127929 [==============================] - 1s 8us/sample - loss: 0.4664 - accuracy: 0.7757 - val_loss: 1.3595 - val_accuracy: 0.3971\n",
      "Epoch 78/200\n",
      "127929/127929 [==============================] - 1s 8us/sample - loss: 0.4673 - accuracy: 0.7762 - val_loss: 1.2993 - val_accuracy: 0.3972\n",
      "Epoch 79/200\n",
      "127929/127929 [==============================] - 1s 8us/sample - loss: 0.4676 - accuracy: 0.7762 - val_loss: 1.2407 - val_accuracy: 0.3967\n",
      "Epoch 80/200\n",
      "127929/127929 [==============================] - 1s 8us/sample - loss: 0.4656 - accuracy: 0.7771 - val_loss: 1.0513 - val_accuracy: 0.4014\n",
      "Epoch 81/200\n",
      "127929/127929 [==============================] - 1s 9us/sample - loss: 0.4652 - accuracy: 0.7778 - val_loss: 1.2562 - val_accuracy: 0.3996\n",
      "Epoch 82/200\n",
      "127929/127929 [==============================] - 1s 8us/sample - loss: 0.4680 - accuracy: 0.7747 - val_loss: 1.4010 - val_accuracy: 0.3970\n",
      "Epoch 83/200\n",
      "127929/127929 [==============================] - 1s 8us/sample - loss: 0.4659 - accuracy: 0.7769 - val_loss: 1.2768 - val_accuracy: 0.3966\n",
      "Epoch 84/200\n",
      "127929/127929 [==============================] - 1s 8us/sample - loss: 0.4658 - accuracy: 0.7765 - val_loss: 1.1831 - val_accuracy: 0.3973\n",
      "Epoch 85/200\n",
      "127929/127929 [==============================] - 1s 8us/sample - loss: 0.4644 - accuracy: 0.7778 - val_loss: 1.1238 - val_accuracy: 0.3973\n",
      "Epoch 86/200\n",
      "127929/127929 [==============================] - 1s 8us/sample - loss: 0.4657 - accuracy: 0.7771 - val_loss: 1.2235 - val_accuracy: 0.3970\n",
      "Epoch 87/200\n",
      "127929/127929 [==============================] - 1s 8us/sample - loss: 0.4640 - accuracy: 0.7795 - val_loss: 1.1750 - val_accuracy: 0.3995\n",
      "Epoch 88/200\n",
      "127929/127929 [==============================] - 1s 7us/sample - loss: 0.4632 - accuracy: 0.7784 - val_loss: 1.3702 - val_accuracy: 0.3962\n",
      "Epoch 89/200\n",
      "127929/127929 [==============================] - 1s 8us/sample - loss: 0.4636 - accuracy: 0.7780 - val_loss: 1.3095 - val_accuracy: 0.3967\n",
      "Epoch 90/200\n",
      "127929/127929 [==============================] - 1s 7us/sample - loss: 0.4644 - accuracy: 0.7776 - val_loss: 1.2602 - val_accuracy: 0.3976\n",
      "Epoch 91/200\n",
      "127929/127929 [==============================] - 1s 8us/sample - loss: 0.4661 - accuracy: 0.7757 - val_loss: 1.2175 - val_accuracy: 0.3967\n",
      "Epoch 92/200\n",
      "127929/127929 [==============================] - 1s 7us/sample - loss: 0.4638 - accuracy: 0.7767 - val_loss: 1.2093 - val_accuracy: 0.3977\n",
      "Epoch 93/200\n",
      "127929/127929 [==============================] - 1s 7us/sample - loss: 0.4629 - accuracy: 0.7779 - val_loss: 1.1710 - val_accuracy: 0.3976\n",
      "Epoch 94/200\n",
      "127929/127929 [==============================] - 1s 7us/sample - loss: 0.4631 - accuracy: 0.7782 - val_loss: 1.2606 - val_accuracy: 0.3976\n"
     ]
    },
    {
     "name": "stdout",
     "output_type": "stream",
     "text": [
      "Epoch 95/200\n",
      "127929/127929 [==============================] - 1s 7us/sample - loss: 0.4640 - accuracy: 0.7784 - val_loss: 1.2222 - val_accuracy: 0.3976\n",
      "Epoch 96/200\n",
      "127929/127929 [==============================] - 1s 7us/sample - loss: 0.4626 - accuracy: 0.7793 - val_loss: 1.3467 - val_accuracy: 0.3971\n",
      "Epoch 97/200\n",
      "127929/127929 [==============================] - 1s 7us/sample - loss: 0.4642 - accuracy: 0.7776 - val_loss: 1.1622 - val_accuracy: 0.3974\n",
      "Epoch 98/200\n",
      "127929/127929 [==============================] - 1s 7us/sample - loss: 0.4609 - accuracy: 0.7795 - val_loss: 1.3570 - val_accuracy: 0.3974\n",
      "Epoch 99/200\n",
      "127929/127929 [==============================] - 1s 7us/sample - loss: 0.4642 - accuracy: 0.7772 - val_loss: 1.2670 - val_accuracy: 0.3968\n",
      "Epoch 100/200\n",
      "127929/127929 [==============================] - 1s 7us/sample - loss: 0.4616 - accuracy: 0.7792 - val_loss: 1.1864 - val_accuracy: 0.3983\n",
      "Epoch 101/200\n",
      "127929/127929 [==============================] - 1s 7us/sample - loss: 0.4626 - accuracy: 0.7788 - val_loss: 1.3691 - val_accuracy: 0.3966\n",
      "Epoch 102/200\n",
      "127929/127929 [==============================] - 1s 7us/sample - loss: 0.4616 - accuracy: 0.7797 - val_loss: 1.2719 - val_accuracy: 0.3979\n",
      "Epoch 103/200\n",
      "127929/127929 [==============================] - 1s 7us/sample - loss: 0.4607 - accuracy: 0.7802 - val_loss: 1.3311 - val_accuracy: 0.3966\n",
      "Epoch 104/200\n",
      "127929/127929 [==============================] - 1s 8us/sample - loss: 0.4605 - accuracy: 0.7799 - val_loss: 1.2266 - val_accuracy: 0.3964\n",
      "Epoch 105/200\n",
      "127929/127929 [==============================] - 1s 8us/sample - loss: 0.4593 - accuracy: 0.7817 - val_loss: 1.2374 - val_accuracy: 0.3975\n",
      "Epoch 106/200\n",
      "127929/127929 [==============================] - 1s 7us/sample - loss: 0.4642 - accuracy: 0.7777 - val_loss: 1.2261 - val_accuracy: 0.3978\n",
      "Epoch 107/200\n",
      "127929/127929 [==============================] - 1s 7us/sample - loss: 0.4612 - accuracy: 0.7798 - val_loss: 1.2274 - val_accuracy: 0.3968\n",
      "Epoch 108/200\n",
      "127929/127929 [==============================] - 1s 8us/sample - loss: 0.4590 - accuracy: 0.7822 - val_loss: 1.4208 - val_accuracy: 0.3967\n",
      "Epoch 109/200\n",
      "127929/127929 [==============================] - 1s 7us/sample - loss: 0.4605 - accuracy: 0.7788 - val_loss: 1.3484 - val_accuracy: 0.3975\n",
      "Epoch 110/200\n",
      "127929/127929 [==============================] - 1s 8us/sample - loss: 0.4626 - accuracy: 0.7793 - val_loss: 1.1543 - val_accuracy: 0.3976\n",
      "Epoch 111/200\n",
      "127929/127929 [==============================] - 1s 7us/sample - loss: 0.4580 - accuracy: 0.7815 - val_loss: 1.1914 - val_accuracy: 0.3973\n",
      "Epoch 112/200\n",
      "127929/127929 [==============================] - 1s 7us/sample - loss: 0.4604 - accuracy: 0.7804 - val_loss: 1.1468 - val_accuracy: 0.3901\n",
      "Epoch 113/200\n",
      "127929/127929 [==============================] - 1s 7us/sample - loss: 0.4602 - accuracy: 0.7801 - val_loss: 1.1562 - val_accuracy: 0.3921\n",
      "Epoch 114/200\n",
      "127929/127929 [==============================] - 1s 7us/sample - loss: 0.4599 - accuracy: 0.7811 - val_loss: 1.0739 - val_accuracy: 0.3980\n",
      "Epoch 115/200\n",
      "127929/127929 [==============================] - 1s 7us/sample - loss: 0.4603 - accuracy: 0.7795 - val_loss: 1.2272 - val_accuracy: 0.3979\n",
      "Epoch 116/200\n",
      "127929/127929 [==============================] - 1s 7us/sample - loss: 0.4586 - accuracy: 0.7821 - val_loss: 1.1637 - val_accuracy: 0.3966\n",
      "Epoch 117/200\n",
      "127929/127929 [==============================] - 1s 8us/sample - loss: 0.4587 - accuracy: 0.7811 - val_loss: 1.0229 - val_accuracy: 0.4022\n",
      "Epoch 118/200\n",
      "127929/127929 [==============================] - 1s 7us/sample - loss: 0.4596 - accuracy: 0.7808 - val_loss: 1.0308 - val_accuracy: 0.3971\n",
      "Epoch 119/200\n",
      "127929/127929 [==============================] - 1s 7us/sample - loss: 0.4580 - accuracy: 0.7825 - val_loss: 1.0445 - val_accuracy: 0.3980\n",
      "Epoch 120/200\n",
      "127929/127929 [==============================] - 1s 7us/sample - loss: 0.4555 - accuracy: 0.7842 - val_loss: 1.1597 - val_accuracy: 0.3974\n",
      "Epoch 121/200\n",
      "127929/127929 [==============================] - 1s 7us/sample - loss: 0.4574 - accuracy: 0.7825 - val_loss: 1.3081 - val_accuracy: 0.3977\n",
      "Epoch 122/200\n",
      "127929/127929 [==============================] - 1s 8us/sample - loss: 0.4582 - accuracy: 0.7828 - val_loss: 1.0356 - val_accuracy: 0.3958\n",
      "Epoch 123/200\n",
      "127929/127929 [==============================] - 1s 8us/sample - loss: 0.4564 - accuracy: 0.7836 - val_loss: 1.0838 - val_accuracy: 0.3974\n",
      "Epoch 124/200\n",
      "127929/127929 [==============================] - 1s 7us/sample - loss: 0.4565 - accuracy: 0.7831 - val_loss: 0.9543 - val_accuracy: 0.3946\n",
      "Epoch 125/200\n",
      "127929/127929 [==============================] - 1s 7us/sample - loss: 0.4555 - accuracy: 0.7836 - val_loss: 1.0547 - val_accuracy: 0.3966\n",
      "Epoch 126/200\n",
      "127929/127929 [==============================] - 1s 7us/sample - loss: 0.4568 - accuracy: 0.7838 - val_loss: 1.0881 - val_accuracy: 0.3975\n",
      "Epoch 127/200\n",
      "127929/127929 [==============================] - 1s 7us/sample - loss: 0.4556 - accuracy: 0.7845 - val_loss: 1.0889 - val_accuracy: 0.3970\n",
      "Epoch 128/200\n",
      "127929/127929 [==============================] - 1s 7us/sample - loss: 0.4550 - accuracy: 0.7841 - val_loss: 1.0275 - val_accuracy: 0.3982\n",
      "Epoch 129/200\n",
      "127929/127929 [==============================] - 1s 7us/sample - loss: 0.4563 - accuracy: 0.7838 - val_loss: 1.0878 - val_accuracy: 0.3969\n",
      "Epoch 130/200\n",
      "127929/127929 [==============================] - 1s 7us/sample - loss: 0.4550 - accuracy: 0.7848 - val_loss: 1.1287 - val_accuracy: 0.3970\n",
      "Epoch 131/200\n",
      "127929/127929 [==============================] - 1s 8us/sample - loss: 0.4573 - accuracy: 0.7827 - val_loss: 1.1720 - val_accuracy: 0.3987\n",
      "Epoch 132/200\n",
      "127929/127929 [==============================] - 1s 8us/sample - loss: 0.4543 - accuracy: 0.7851 - val_loss: 1.1656 - val_accuracy: 0.3983\n",
      "Epoch 133/200\n",
      "127929/127929 [==============================] - 1s 7us/sample - loss: 0.4547 - accuracy: 0.7855 - val_loss: 1.1672 - val_accuracy: 0.3976\n",
      "Epoch 134/200\n",
      "127929/127929 [==============================] - 1s 7us/sample - loss: 0.4534 - accuracy: 0.7856 - val_loss: 1.1651 - val_accuracy: 0.3971\n",
      "Epoch 135/200\n",
      "127929/127929 [==============================] - 1s 7us/sample - loss: 0.4573 - accuracy: 0.7815 - val_loss: 1.1417 - val_accuracy: 0.3975\n",
      "Epoch 136/200\n",
      "127929/127929 [==============================] - 1s 7us/sample - loss: 0.4529 - accuracy: 0.7848 - val_loss: 1.0605 - val_accuracy: 0.3988\n",
      "Epoch 137/200\n",
      "127929/127929 [==============================] - 1s 8us/sample - loss: 0.4536 - accuracy: 0.7845 - val_loss: 0.9967 - val_accuracy: 0.3981\n",
      "Epoch 138/200\n",
      "127929/127929 [==============================] - 1s 7us/sample - loss: 0.4527 - accuracy: 0.7867 - val_loss: 1.2436 - val_accuracy: 0.3972\n",
      "Epoch 139/200\n",
      "127929/127929 [==============================] - 1s 8us/sample - loss: 0.4524 - accuracy: 0.7847 - val_loss: 1.0279 - val_accuracy: 0.3970\n",
      "Epoch 140/200\n",
      "127929/127929 [==============================] - 1s 7us/sample - loss: 0.4540 - accuracy: 0.7844 - val_loss: 0.9551 - val_accuracy: 0.3979\n",
      "Epoch 141/200\n",
      "127929/127929 [==============================] - 1s 8us/sample - loss: 0.4552 - accuracy: 0.7828 - val_loss: 1.1006 - val_accuracy: 0.3973\n",
      "Epoch 142/200\n",
      "127929/127929 [==============================] - 1s 8us/sample - loss: 0.4541 - accuracy: 0.7848 - val_loss: 1.2225 - val_accuracy: 0.3973\n",
      "Epoch 143/200\n",
      "127929/127929 [==============================] - 1s 7us/sample - loss: 0.4509 - accuracy: 0.7861 - val_loss: 1.1193 - val_accuracy: 0.3978\n",
      "Epoch 144/200\n",
      "127929/127929 [==============================] - 1s 7us/sample - loss: 0.4531 - accuracy: 0.7847 - val_loss: 1.2621 - val_accuracy: 0.3971\n",
      "Epoch 145/200\n",
      "127929/127929 [==============================] - 1s 8us/sample - loss: 0.4530 - accuracy: 0.7873 - val_loss: 1.1183 - val_accuracy: 0.3979\n",
      "Epoch 146/200\n",
      "127929/127929 [==============================] - 1s 7us/sample - loss: 0.4532 - accuracy: 0.7852 - val_loss: 1.0910 - val_accuracy: 0.3974\n",
      "Epoch 147/200\n",
      "127929/127929 [==============================] - 1s 8us/sample - loss: 0.4527 - accuracy: 0.7844 - val_loss: 1.0236 - val_accuracy: 0.3978\n",
      "Epoch 148/200\n"
     ]
    },
    {
     "name": "stdout",
     "output_type": "stream",
     "text": [
      "127929/127929 [==============================] - 1s 7us/sample - loss: 0.4523 - accuracy: 0.7861 - val_loss: 1.0336 - val_accuracy: 0.3974\n",
      "Epoch 149/200\n",
      "127929/127929 [==============================] - 1s 8us/sample - loss: 0.4527 - accuracy: 0.7846 - val_loss: 1.1606 - val_accuracy: 0.3973\n",
      "Epoch 150/200\n",
      "127929/127929 [==============================] - 1s 8us/sample - loss: 0.4520 - accuracy: 0.7869 - val_loss: 0.9878 - val_accuracy: 0.4007\n",
      "Epoch 151/200\n",
      "127929/127929 [==============================] - 1s 7us/sample - loss: 0.4526 - accuracy: 0.7862 - val_loss: 1.2098 - val_accuracy: 0.3972\n",
      "Epoch 152/200\n",
      "127929/127929 [==============================] - 1s 7us/sample - loss: 0.4530 - accuracy: 0.7849 - val_loss: 0.9921 - val_accuracy: 0.3971\n",
      "Epoch 153/200\n",
      "127929/127929 [==============================] - 1s 7us/sample - loss: 0.4505 - accuracy: 0.7870 - val_loss: 1.0518 - val_accuracy: 0.3971\n",
      "Epoch 154/200\n",
      "127929/127929 [==============================] - 1s 7us/sample - loss: 0.4516 - accuracy: 0.7846 - val_loss: 1.2511 - val_accuracy: 0.3970\n",
      "Epoch 155/200\n",
      "127929/127929 [==============================] - 1s 7us/sample - loss: 0.4536 - accuracy: 0.7849 - val_loss: 1.0914 - val_accuracy: 0.3967\n",
      "Epoch 156/200\n",
      "127929/127929 [==============================] - 1s 7us/sample - loss: 0.4530 - accuracy: 0.7843 - val_loss: 1.0106 - val_accuracy: 0.3961\n",
      "Epoch 157/200\n",
      "127929/127929 [==============================] - 1s 7us/sample - loss: 0.4512 - accuracy: 0.7870 - val_loss: 1.1637 - val_accuracy: 0.3971\n",
      "Epoch 158/200\n",
      "127929/127929 [==============================] - 1s 7us/sample - loss: 0.4513 - accuracy: 0.7871 - val_loss: 1.2210 - val_accuracy: 0.3970\n",
      "Epoch 159/200\n",
      "127929/127929 [==============================] - 1s 7us/sample - loss: 0.4523 - accuracy: 0.7861 - val_loss: 1.2128 - val_accuracy: 0.3970\n",
      "Epoch 160/200\n",
      "127929/127929 [==============================] - 1s 7us/sample - loss: 0.4504 - accuracy: 0.7867 - val_loss: 1.2511 - val_accuracy: 0.3971\n",
      "Epoch 161/200\n",
      "127929/127929 [==============================] - 1s 7us/sample - loss: 0.4516 - accuracy: 0.7862 - val_loss: 1.0762 - val_accuracy: 0.3967\n",
      "Epoch 162/200\n",
      "127929/127929 [==============================] - 1s 7us/sample - loss: 0.4517 - accuracy: 0.7856 - val_loss: 1.2737 - val_accuracy: 0.3969\n",
      "Epoch 163/200\n",
      "127929/127929 [==============================] - 1s 7us/sample - loss: 0.4513 - accuracy: 0.7870 - val_loss: 1.1583 - val_accuracy: 0.3973\n",
      "Epoch 164/200\n",
      "127929/127929 [==============================] - 1s 7us/sample - loss: 0.4515 - accuracy: 0.7864 - val_loss: 1.2725 - val_accuracy: 0.3970\n",
      "Epoch 165/200\n",
      "127929/127929 [==============================] - 1s 7us/sample - loss: 0.4541 - accuracy: 0.7849 - val_loss: 1.1388 - val_accuracy: 0.3974\n",
      "Epoch 166/200\n",
      "127929/127929 [==============================] - 1s 7us/sample - loss: 0.4519 - accuracy: 0.7864 - val_loss: 1.0542 - val_accuracy: 0.3979\n",
      "Epoch 167/200\n",
      "127929/127929 [==============================] - 1s 8us/sample - loss: 0.4524 - accuracy: 0.7846 - val_loss: 1.1614 - val_accuracy: 0.3970\n",
      "Epoch 168/200\n",
      "127929/127929 [==============================] - 1s 7us/sample - loss: 0.4508 - accuracy: 0.7863 - val_loss: 1.0565 - val_accuracy: 0.3974\n",
      "Epoch 169/200\n",
      "127929/127929 [==============================] - 1s 7us/sample - loss: 0.4491 - accuracy: 0.7890 - val_loss: 1.1800 - val_accuracy: 0.3971\n",
      "Epoch 170/200\n",
      "127929/127929 [==============================] - 1s 8us/sample - loss: 0.4507 - accuracy: 0.7866 - val_loss: 1.0608 - val_accuracy: 0.3975\n",
      "Epoch 171/200\n",
      "127929/127929 [==============================] - 1s 8us/sample - loss: 0.4520 - accuracy: 0.7858 - val_loss: 1.1748 - val_accuracy: 0.3986\n",
      "Epoch 172/200\n",
      "127929/127929 [==============================] - 1s 8us/sample - loss: 0.4526 - accuracy: 0.7860 - val_loss: 1.3455 - val_accuracy: 0.3967\n",
      "Epoch 173/200\n",
      "127929/127929 [==============================] - 1s 7us/sample - loss: 0.4509 - accuracy: 0.7874 - val_loss: 1.1004 - val_accuracy: 0.3976\n",
      "Epoch 174/200\n",
      "127929/127929 [==============================] - 1s 7us/sample - loss: 0.4487 - accuracy: 0.7886 - val_loss: 1.0517 - val_accuracy: 0.3969\n",
      "Epoch 175/200\n",
      "127929/127929 [==============================] - 1s 7us/sample - loss: 0.4503 - accuracy: 0.7860 - val_loss: 1.1751 - val_accuracy: 0.3968\n",
      "Epoch 176/200\n",
      "127929/127929 [==============================] - 1s 7us/sample - loss: 0.4510 - accuracy: 0.7870 - val_loss: 1.2242 - val_accuracy: 0.3967\n",
      "Epoch 177/200\n",
      "127929/127929 [==============================] - 1s 7us/sample - loss: 0.4537 - accuracy: 0.7852 - val_loss: 1.2084 - val_accuracy: 0.3969\n",
      "Epoch 178/200\n",
      "127929/127929 [==============================] - 1s 7us/sample - loss: 0.4508 - accuracy: 0.7870 - val_loss: 1.1131 - val_accuracy: 0.3966\n",
      "Epoch 179/200\n",
      "127929/127929 [==============================] - 1s 7us/sample - loss: 0.4514 - accuracy: 0.7864 - val_loss: 1.2141 - val_accuracy: 0.3968\n",
      "Epoch 180/200\n",
      "127929/127929 [==============================] - 1s 7us/sample - loss: 0.4510 - accuracy: 0.7878 - val_loss: 1.1006 - val_accuracy: 0.3972\n",
      "Epoch 181/200\n",
      "127929/127929 [==============================] - 1s 7us/sample - loss: 0.4513 - accuracy: 0.7864 - val_loss: 1.1549 - val_accuracy: 0.3970\n",
      "Epoch 182/200\n",
      "127929/127929 [==============================] - 1s 7us/sample - loss: 0.4507 - accuracy: 0.7866 - val_loss: 1.0617 - val_accuracy: 0.3966\n",
      "Epoch 183/200\n",
      "127929/127929 [==============================] - 1s 7us/sample - loss: 0.4499 - accuracy: 0.7860 - val_loss: 1.1302 - val_accuracy: 0.3969\n",
      "Epoch 184/200\n",
      "127929/127929 [==============================] - 1s 7us/sample - loss: 0.4521 - accuracy: 0.7861 - val_loss: 1.0998 - val_accuracy: 0.3976\n",
      "Epoch 185/200\n",
      "127929/127929 [==============================] - 1s 7us/sample - loss: 0.4485 - accuracy: 0.7891 - val_loss: 1.0900 - val_accuracy: 0.3967\n",
      "Epoch 186/200\n",
      "127929/127929 [==============================] - 1s 8us/sample - loss: 0.4500 - accuracy: 0.7877 - val_loss: 1.2561 - val_accuracy: 0.3968\n",
      "Epoch 187/200\n",
      "127929/127929 [==============================] - 1s 8us/sample - loss: 0.4489 - accuracy: 0.7875 - val_loss: 1.0200 - val_accuracy: 0.3970\n",
      "Epoch 188/200\n",
      "127929/127929 [==============================] - 1s 7us/sample - loss: 0.4476 - accuracy: 0.7885 - val_loss: 1.1954 - val_accuracy: 0.3968\n",
      "Epoch 189/200\n",
      "127929/127929 [==============================] - 1s 7us/sample - loss: 0.4481 - accuracy: 0.7887 - val_loss: 1.2397 - val_accuracy: 0.3967\n",
      "Epoch 190/200\n",
      "127929/127929 [==============================] - 1s 7us/sample - loss: 0.4509 - accuracy: 0.7868 - val_loss: 1.1456 - val_accuracy: 0.3967\n",
      "Epoch 191/200\n",
      "127929/127929 [==============================] - 1s 8us/sample - loss: 0.4486 - accuracy: 0.7880 - val_loss: 1.2077 - val_accuracy: 0.3969\n",
      "Epoch 192/200\n",
      "127929/127929 [==============================] - 1s 8us/sample - loss: 0.4499 - accuracy: 0.7875 - val_loss: 1.1956 - val_accuracy: 0.3967\n",
      "Epoch 193/200\n",
      "127929/127929 [==============================] - 1s 7us/sample - loss: 0.4512 - accuracy: 0.7861 - val_loss: 1.1666 - val_accuracy: 0.3966\n",
      "Epoch 194/200\n",
      "127929/127929 [==============================] - 1s 8us/sample - loss: 0.4490 - accuracy: 0.7867 - val_loss: 1.0954 - val_accuracy: 0.3971\n",
      "Epoch 195/200\n",
      "127929/127929 [==============================] - 1s 7us/sample - loss: 0.4514 - accuracy: 0.7868 - val_loss: 1.2133 - val_accuracy: 0.3970\n",
      "Epoch 196/200\n",
      "127929/127929 [==============================] - 1s 7us/sample - loss: 0.4503 - accuracy: 0.7875 - val_loss: 1.1764 - val_accuracy: 0.3967\n",
      "Epoch 197/200\n",
      "127929/127929 [==============================] - 1s 7us/sample - loss: 0.4517 - accuracy: 0.7864 - val_loss: 1.0441 - val_accuracy: 0.3973\n",
      "Epoch 198/200\n",
      "127929/127929 [==============================] - 1s 7us/sample - loss: 0.4488 - accuracy: 0.7871 - val_loss: 1.0899 - val_accuracy: 0.3968\n",
      "Epoch 199/200\n",
      "127929/127929 [==============================] - 1s 7us/sample - loss: 0.4504 - accuracy: 0.7866 - val_loss: 1.1995 - val_accuracy: 0.3967\n",
      "Epoch 200/200\n",
      "127929/127929 [==============================] - 1s 8us/sample - loss: 0.4503 - accuracy: 0.7870 - val_loss: 1.2842 - val_accuracy: 0.3966\n",
      "Executing op CloseSummaryWriter in device /job:localhost/replica:0/task:0/device:CPU:0\n",
      "Executing op DestroyResourceOp in device /job:localhost/replica:0/task:0/device:CPU:0\n"
     ]
    },
    {
     "name": "stdout",
     "output_type": "stream",
     "text": [
      "Executing op DeleteIterator in device /job:localhost/replica:0/task:0/device:GPU:1\n",
      "Executing op DeleteIterator in device /job:localhost/replica:0/task:0/device:GPU:0\n"
     ]
    }
   ],
   "source": [
    "with mirrored_strategy.scope():\n",
    "\n",
    "    history = model_final.fit(x_train, y_train, validation_data=(x_test, y_test), epochs=200, batch_size=1000, callbacks=[tb_random])"
   ]
  },
  {
   "cell_type": "code",
   "execution_count": 41,
   "metadata": {},
   "outputs": [
    {
     "name": "stdout",
     "output_type": "stream",
     "text": [
      "Executing op MapDataset in device /job:localhost/replica:0/task:0/device:CPU:0\n",
      "Executing op FlatMapDataset in device /job:localhost/replica:0/task:0/device:CPU:0\n",
      "Executing op TensorDataset in device /job:localhost/replica:0/task:0/device:CPU:0\n",
      "Executing op RepeatDataset in device /job:localhost/replica:0/task:0/device:CPU:0\n",
      "Executing op ZipDataset in device /job:localhost/replica:0/task:0/device:CPU:0\n",
      "Executing op ParallelMapDataset in device /job:localhost/replica:0/task:0/device:CPU:0\n",
      "Executing op RebatchDataset in device /job:localhost/replica:0/task:0/device:CPU:0\n",
      "Executing op AutoShardDataset in device /job:localhost/replica:0/task:0/device:CPU:0\n",
      "Executing op OptimizeDataset in device /job:localhost/replica:0/task:0/device:CPU:0\n",
      "Executing op ModelDataset in device /job:localhost/replica:0/task:0/device:CPU:0\n",
      "Executing op MultiDeviceIterator in device /job:localhost/replica:0/task:0/device:CPU:0\n",
      "Executing op GeneratorDataset in device /job:localhost/replica:0/task:0/device:GPU:0\n",
      "Executing op GeneratorDataset in device /job:localhost/replica:0/task:0/device:GPU:1\n",
      "Executing op PrefetchDataset in device /job:localhost/replica:0/task:0/device:GPU:0\n",
      "Executing op AnonymousIteratorV2 in device /job:localhost/replica:0/task:0/device:GPU:0\n",
      "Executing op PrefetchDataset in device /job:localhost/replica:0/task:0/device:GPU:1\n",
      "Executing op AnonymousIteratorV2 in device /job:localhost/replica:0/task:0/device:GPU:1\n",
      "Executing op __inference_distributed_function_130841 in device /job:localhost/replica:0/task:0/device:GPU:0\n"
     ]
    }
   ],
   "source": [
    "with mirrored_strategy.scope():\n",
    "    predictions = model_final.predict(x_test)"
   ]
  },
  {
   "cell_type": "code",
   "execution_count": 42,
   "metadata": {},
   "outputs": [
    {
     "name": "stdout",
     "output_type": "stream",
     "text": [
      "Executing op ArgMax in device /job:localhost/replica:0/task:0/device:GPU:0\n",
      "Prediction: [0 0 0 ... 0 0 0]\n",
      "   Actuals: [1 1 0 ... 1 0 0]\n"
     ]
    }
   ],
   "source": [
    "print(\"Prediction: {}\".format(tf.argmax(predictions, axis=1)))\n",
    "print(\"   Actuals: {}\".format(y_test))\n"
   ]
  },
  {
   "cell_type": "code",
   "execution_count": 43,
   "metadata": {},
   "outputs": [
    {
     "name": "stdout",
     "output_type": "stream",
     "text": [
      "Executing op VarHandleOp in device /job:localhost/replica:0/task:0/device:GPU:0\n",
      "Executing op LogicalNot in device /job:localhost/replica:0/task:0/device:GPU:0\n",
      "Executing op Assert in device /job:localhost/replica:0/task:0/device:GPU:0\n"
     ]
    }
   ],
   "source": [
    "test_accuracy = tf.keras.metrics.Accuracy()"
   ]
  },
  {
   "cell_type": "code",
   "execution_count": 44,
   "metadata": {},
   "outputs": [
    {
     "name": "stdout",
     "output_type": "stream",
     "text": [
      "Executing op Cast in device /job:localhost/replica:0/task:0/device:GPU:0\n",
      "Executing op Equal in device /job:localhost/replica:0/task:0/device:GPU:0\n",
      "Executing op Cast in device /job:localhost/replica:0/task:0/device:GPU:0\n",
      "Executing op Sum in device /job:localhost/replica:0/task:0/device:GPU:0\n",
      "Executing op AssignAddVariableOp in device /job:localhost/replica:0/task:0/device:GPU:0\n",
      "Executing op Cast in device /job:localhost/replica:0/task:0/device:GPU:0\n",
      "Executing op DivNoNan in device /job:localhost/replica:0/task:0/device:GPU:0\n",
      "Test set accuracy: 60.348%\n"
     ]
    }
   ],
   "source": [
    "test_accuracy(tf.argmax(predictions, axis=1), y_test)\n",
    "print(\"Test set accuracy: {:.3%}\".format(test_accuracy.result()))\n"
   ]
  },
  {
   "cell_type": "code",
   "execution_count": 45,
   "metadata": {
    "scrolled": true
   },
   "outputs": [
    {
     "data": {
      "image/png": "[encoded data removed]",
      "text/plain": [
       "<Figure size 432x288 with 1 Axes>"
      ]
     },
     "metadata": {
      "needs_background": "light"
     },
     "output_type": "display_data"
    },
    {
     "data": {
      "image/png": "[encoded data removed]",
      "text/plain": [
       "<Figure size 432x288 with 1 Axes>"
      ]
     },
     "metadata": {
      "needs_background": "light"
     },
     "output_type": "display_data"
    }
   ],
   "source": [
    "#come back to this; not working right.\n",
    "\n",
    "import tkinter\n",
    "import matplotlib\n",
    "\n",
    "\n",
    "# Plot training & validation accuracy values\n",
    "plt.plot(history.history['accuracy'])\n",
    "plt.plot(history.history['val_accuracy'])\n",
    "plt.savefig(\"DNgraphacc.png\")\n",
    "plt.title('Model accuracy')\n",
    "plt.ylabel('Accuracy')\n",
    "plt.xlabel('Epoch')\n",
    "plt.legend(['Train', 'Test'], loc='upper left')\n",
    "plt.show()\n",
    "\n",
    "# Plot training & validation loss values\n",
    "plt.plot(history.history['loss'])\n",
    "plt.plot(history.history['val_loss'])\n",
    "plt.savefig(\"DNgraphloss.png\")\n",
    "plt.title('Model loss')\n",
    "plt.ylabel('Loss')\n",
    "plt.xlabel('Epoch')\n",
    "plt.legend(['Train', 'Test'], loc='upper left')\n",
    "plt.show()"
   ]
  },
  {
   "cell_type": "markdown",
   "metadata": {},
   "source": []
  },
  {
   "cell_type": "code",
   "execution_count": 117,
   "metadata": {},
   "outputs": [],
   "source": [
    "from sklearn.svm import SVC\n",
    "\n",
    "from sklearn.metrics import classification_report, confusion_matrix\n",
    "\n",
    "from sklearn.externals.joblib import parallel_backend\n",
    "\n",
    "from sklearn.model_selection import cross_val_score\n",
    "\n",
    "from sklearn.model_selection import train_test_split"
   ]
  },
  {
   "cell_type": "code",
   "execution_count": 118,
   "metadata": {},
   "outputs": [],
   "source": [
    "import time\n",
    "\n",
    "import psutil\n"
   ]
  },
  {
   "cell_type": "code",
   "execution_count": 119,
   "metadata": {},
   "outputs": [],
   "source": [
    "import pandas as pd  \n",
    "import numpy as np  \n",
    "import matplotlib.pyplot as plt  \n",
    "import seaborn as seabornInstance \n",
    "from sklearn.model_selection import train_test_split \n",
    "from sklearn.linear_model import LinearRegression\n",
    "from sklearn import metrics\n",
    "%matplotlib inline\n",
    "\n",
    "from sklearn.model_selection import cross_val_score\n",
    "from sklearn import metrics\n",
    "from sklearn import svm\n",
    "from sklearn import datasets\n",
    "from sklearn.svm import SVR\n",
    "\n",
    "from sklearn.model_selection import GridSearchCV\n",
    "\n",
    "from sklearn import preprocessing\n",
    "\n",
    "from sklearn.metrics import mean_squared_error\n",
    "\n",
    "from sklearn.metrics import r2_score\n",
    "from sklearn.neighbors import KNeighborsRegressor\n",
    "from sklearn.multioutput import MultiOutputRegressor"
   ]
  },
  {
   "cell_type": "code",
   "execution_count": 120,
   "metadata": {},
   "outputs": [],
   "source": [
    "from sklearn.multiclass import OneVsRestClassifier\n",
    "\n",
    "from sklearn.ensemble import BaggingClassifier, RandomForestClassifier"
   ]
  },
  {
   "cell_type": "markdown",
   "metadata": {},
   "source": [
    "# PCA"
   ]
  },
  {
   "cell_type": "code",
   "execution_count": 103,
   "metadata": {},
   "outputs": [],
   "source": [
    "import numpy as np\n",
    "from sklearn.decomposition import PCA\n",
    "import pandas as pd\n",
    "import matplotlib.pyplot as plt\n",
    "from sklearn.preprocessing import scale\n",
    "from sklearn.preprocessing import StandardScaler\n",
    "\n",
    "%matplotlib inline"
   ]
  },
  {
   "cell_type": "code",
   "execution_count": 104,
   "metadata": {},
   "outputs": [],
   "source": [
    "# use x1 and y\n",
    "\n",
    "x2 = x1.values\n",
    "\n",
    "y1 = y\n",
    "\n"
   ]
  },
  {
   "cell_type": "code",
   "execution_count": 105,
   "metadata": {},
   "outputs": [],
   "source": [
    "x2 = StandardScaler().fit_transform(x2)"
   ]
  },
  {
   "cell_type": "code",
   "execution_count": 106,
   "metadata": {},
   "outputs": [],
   "source": [
    "x_train, x_test, y_train, y_test = train_test_split(x2, y1, test_size=0.20, random_state=102)"
   ]
  },
  {
   "cell_type": "code",
   "execution_count": 109,
   "metadata": {},
   "outputs": [],
   "source": [
    "pca = PCA(n_components = 20)\n",
    "\n",
    "x_trainfit = pca.fit_transform(x_train)\n",
    "\n",
    "x_train = pca.transform(x_train)\n",
    "x_test = pca.transform(x_test)\n",
    "\n",
    "explained_variance = pca.explained_variance_ratio_"
   ]
  },
  {
   "cell_type": "code",
   "execution_count": 110,
   "metadata": {},
   "outputs": [],
   "source": [
    "x_train1 = pd.DataFrame(x_train)"
   ]
  },
  {
   "cell_type": "code",
   "execution_count": 111,
   "metadata": {},
   "outputs": [],
   "source": [
    "principalDF = pd.DataFrame(data = x_trainfit, columns = x_train1.columns)"
   ]
  },
  {
   "cell_type": "code",
   "execution_count": 112,
   "metadata": {},
   "outputs": [],
   "source": [
    "finalDf = pd.concat([principalDF, pd.DataFrame(y_train)], axis = 1)"
   ]
  },
  {
   "cell_type": "code",
   "execution_count": 113,
   "metadata": {},
   "outputs": [
    {
     "data": {
      "text/html": [
       "<div>\n",
       "<style scoped>\n",
       "    .dataframe tbody tr th:only-of-type {\n",
       "        vertical-align: middle;\n",
       "    }\n",
       "\n",
       "    .dataframe tbody tr th {\n",
       "        vertical-align: top;\n",
       "    }\n",
       "\n",
       "    .dataframe thead th {\n",
       "        text-align: right;\n",
       "    }\n",
       "</style>\n",
       "<table border=\"1\" class=\"dataframe\">\n",
       "  <thead>\n",
       "    <tr style=\"text-align: right;\">\n",
       "      <th></th>\n",
       "      <th>0</th>\n",
       "      <th>1</th>\n",
       "      <th>2</th>\n",
       "      <th>3</th>\n",
       "      <th>4</th>\n",
       "      <th>5</th>\n",
       "      <th>6</th>\n",
       "      <th>7</th>\n",
       "      <th>8</th>\n",
       "      <th>9</th>\n",
       "      <th>...</th>\n",
       "      <th>11</th>\n",
       "      <th>12</th>\n",
       "      <th>13</th>\n",
       "      <th>14</th>\n",
       "      <th>15</th>\n",
       "      <th>16</th>\n",
       "      <th>17</th>\n",
       "      <th>18</th>\n",
       "      <th>19</th>\n",
       "      <th>0</th>\n",
       "    </tr>\n",
       "  </thead>\n",
       "  <tbody>\n",
       "    <tr>\n",
       "      <th>0</th>\n",
       "      <td>1.221907</td>\n",
       "      <td>1.323421</td>\n",
       "      <td>-1.624763</td>\n",
       "      <td>-1.114565</td>\n",
       "      <td>-1.812442</td>\n",
       "      <td>-1.526481</td>\n",
       "      <td>2.524542</td>\n",
       "      <td>-1.438030</td>\n",
       "      <td>-0.883904</td>\n",
       "      <td>-0.125282</td>\n",
       "      <td>...</td>\n",
       "      <td>-0.645878</td>\n",
       "      <td>0.044303</td>\n",
       "      <td>-0.957996</td>\n",
       "      <td>-0.878710</td>\n",
       "      <td>-0.674187</td>\n",
       "      <td>0.000496</td>\n",
       "      <td>0.967566</td>\n",
       "      <td>1.281992</td>\n",
       "      <td>-0.676401</td>\n",
       "      <td>1</td>\n",
       "    </tr>\n",
       "    <tr>\n",
       "      <th>1</th>\n",
       "      <td>0.613712</td>\n",
       "      <td>0.462496</td>\n",
       "      <td>-1.471441</td>\n",
       "      <td>-0.647032</td>\n",
       "      <td>1.355552</td>\n",
       "      <td>1.366524</td>\n",
       "      <td>-0.347920</td>\n",
       "      <td>-0.025688</td>\n",
       "      <td>0.753533</td>\n",
       "      <td>-0.022245</td>\n",
       "      <td>...</td>\n",
       "      <td>1.818155</td>\n",
       "      <td>-1.968643</td>\n",
       "      <td>-0.361404</td>\n",
       "      <td>0.695545</td>\n",
       "      <td>-0.544516</td>\n",
       "      <td>0.110021</td>\n",
       "      <td>-1.415909</td>\n",
       "      <td>-0.141631</td>\n",
       "      <td>0.888358</td>\n",
       "      <td>0</td>\n",
       "    </tr>\n",
       "    <tr>\n",
       "      <th>2</th>\n",
       "      <td>-0.518704</td>\n",
       "      <td>-0.171195</td>\n",
       "      <td>-0.653026</td>\n",
       "      <td>-1.013200</td>\n",
       "      <td>1.190647</td>\n",
       "      <td>-0.234772</td>\n",
       "      <td>0.142792</td>\n",
       "      <td>-1.736241</td>\n",
       "      <td>-0.754664</td>\n",
       "      <td>0.162262</td>\n",
       "      <td>...</td>\n",
       "      <td>-1.653675</td>\n",
       "      <td>-0.238104</td>\n",
       "      <td>-0.758368</td>\n",
       "      <td>1.788088</td>\n",
       "      <td>-0.429908</td>\n",
       "      <td>-0.256429</td>\n",
       "      <td>-0.514442</td>\n",
       "      <td>-0.466792</td>\n",
       "      <td>-1.063029</td>\n",
       "      <td>0</td>\n",
       "    </tr>\n",
       "    <tr>\n",
       "      <th>3</th>\n",
       "      <td>-1.110156</td>\n",
       "      <td>1.727620</td>\n",
       "      <td>-0.525721</td>\n",
       "      <td>-1.082442</td>\n",
       "      <td>0.363851</td>\n",
       "      <td>0.152112</td>\n",
       "      <td>0.290478</td>\n",
       "      <td>0.324266</td>\n",
       "      <td>1.100875</td>\n",
       "      <td>-0.976864</td>\n",
       "      <td>...</td>\n",
       "      <td>-0.025900</td>\n",
       "      <td>-0.980525</td>\n",
       "      <td>0.084346</td>\n",
       "      <td>1.426928</td>\n",
       "      <td>1.040179</td>\n",
       "      <td>1.170237</td>\n",
       "      <td>-1.242249</td>\n",
       "      <td>-0.451017</td>\n",
       "      <td>-1.232605</td>\n",
       "      <td>1</td>\n",
       "    </tr>\n",
       "    <tr>\n",
       "      <th>4</th>\n",
       "      <td>-3.025111</td>\n",
       "      <td>0.333310</td>\n",
       "      <td>0.600092</td>\n",
       "      <td>1.821784</td>\n",
       "      <td>-1.031026</td>\n",
       "      <td>0.565276</td>\n",
       "      <td>-0.161068</td>\n",
       "      <td>0.427842</td>\n",
       "      <td>0.941284</td>\n",
       "      <td>1.152144</td>\n",
       "      <td>...</td>\n",
       "      <td>0.584118</td>\n",
       "      <td>0.172718</td>\n",
       "      <td>-0.282432</td>\n",
       "      <td>-1.048477</td>\n",
       "      <td>-0.236960</td>\n",
       "      <td>0.732544</td>\n",
       "      <td>-0.245949</td>\n",
       "      <td>0.492411</td>\n",
       "      <td>-0.203371</td>\n",
       "      <td>0</td>\n",
       "    </tr>\n",
       "    <tr>\n",
       "      <th>...</th>\n",
       "      <td>...</td>\n",
       "      <td>...</td>\n",
       "      <td>...</td>\n",
       "      <td>...</td>\n",
       "      <td>...</td>\n",
       "      <td>...</td>\n",
       "      <td>...</td>\n",
       "      <td>...</td>\n",
       "      <td>...</td>\n",
       "      <td>...</td>\n",
       "      <td>...</td>\n",
       "      <td>...</td>\n",
       "      <td>...</td>\n",
       "      <td>...</td>\n",
       "      <td>...</td>\n",
       "      <td>...</td>\n",
       "      <td>...</td>\n",
       "      <td>...</td>\n",
       "      <td>...</td>\n",
       "      <td>...</td>\n",
       "      <td>...</td>\n",
       "    </tr>\n",
       "    <tr>\n",
       "      <th>127924</th>\n",
       "      <td>-1.331922</td>\n",
       "      <td>-0.022322</td>\n",
       "      <td>-2.252045</td>\n",
       "      <td>1.832275</td>\n",
       "      <td>0.931201</td>\n",
       "      <td>0.652939</td>\n",
       "      <td>1.117810</td>\n",
       "      <td>0.235600</td>\n",
       "      <td>0.608773</td>\n",
       "      <td>0.988828</td>\n",
       "      <td>...</td>\n",
       "      <td>-0.276086</td>\n",
       "      <td>-0.391192</td>\n",
       "      <td>0.283621</td>\n",
       "      <td>0.329559</td>\n",
       "      <td>-0.269845</td>\n",
       "      <td>0.304388</td>\n",
       "      <td>0.252552</td>\n",
       "      <td>-0.783366</td>\n",
       "      <td>-0.379391</td>\n",
       "      <td>0</td>\n",
       "    </tr>\n",
       "    <tr>\n",
       "      <th>127925</th>\n",
       "      <td>-0.275454</td>\n",
       "      <td>-1.866799</td>\n",
       "      <td>0.331434</td>\n",
       "      <td>-1.061423</td>\n",
       "      <td>-0.537972</td>\n",
       "      <td>-0.399054</td>\n",
       "      <td>-1.550776</td>\n",
       "      <td>0.296760</td>\n",
       "      <td>1.090335</td>\n",
       "      <td>-0.428737</td>\n",
       "      <td>...</td>\n",
       "      <td>0.052855</td>\n",
       "      <td>0.909523</td>\n",
       "      <td>0.139106</td>\n",
       "      <td>-0.786838</td>\n",
       "      <td>1.146123</td>\n",
       "      <td>0.615843</td>\n",
       "      <td>0.408704</td>\n",
       "      <td>-0.318051</td>\n",
       "      <td>1.661695</td>\n",
       "      <td>1</td>\n",
       "    </tr>\n",
       "    <tr>\n",
       "      <th>127926</th>\n",
       "      <td>-1.572170</td>\n",
       "      <td>0.669268</td>\n",
       "      <td>-0.868394</td>\n",
       "      <td>1.693561</td>\n",
       "      <td>2.508387</td>\n",
       "      <td>0.503568</td>\n",
       "      <td>-0.585593</td>\n",
       "      <td>-1.390841</td>\n",
       "      <td>-0.651975</td>\n",
       "      <td>-2.014868</td>\n",
       "      <td>...</td>\n",
       "      <td>-0.872190</td>\n",
       "      <td>-0.300582</td>\n",
       "      <td>0.481110</td>\n",
       "      <td>1.366737</td>\n",
       "      <td>0.161980</td>\n",
       "      <td>0.473512</td>\n",
       "      <td>-0.245782</td>\n",
       "      <td>0.953442</td>\n",
       "      <td>-0.115982</td>\n",
       "      <td>1</td>\n",
       "    </tr>\n",
       "    <tr>\n",
       "      <th>127927</th>\n",
       "      <td>4.092922</td>\n",
       "      <td>-1.820405</td>\n",
       "      <td>1.713017</td>\n",
       "      <td>-0.910367</td>\n",
       "      <td>0.187723</td>\n",
       "      <td>0.947020</td>\n",
       "      <td>0.451545</td>\n",
       "      <td>0.367764</td>\n",
       "      <td>1.208525</td>\n",
       "      <td>0.507993</td>\n",
       "      <td>...</td>\n",
       "      <td>0.535797</td>\n",
       "      <td>0.370728</td>\n",
       "      <td>-0.207847</td>\n",
       "      <td>-0.451069</td>\n",
       "      <td>0.266612</td>\n",
       "      <td>-1.107410</td>\n",
       "      <td>-0.297117</td>\n",
       "      <td>0.693327</td>\n",
       "      <td>-0.534678</td>\n",
       "      <td>0</td>\n",
       "    </tr>\n",
       "    <tr>\n",
       "      <th>127928</th>\n",
       "      <td>-0.647718</td>\n",
       "      <td>0.194638</td>\n",
       "      <td>0.711326</td>\n",
       "      <td>1.732770</td>\n",
       "      <td>-0.440794</td>\n",
       "      <td>-0.803698</td>\n",
       "      <td>0.094087</td>\n",
       "      <td>0.467559</td>\n",
       "      <td>1.358355</td>\n",
       "      <td>1.932993</td>\n",
       "      <td>...</td>\n",
       "      <td>0.906534</td>\n",
       "      <td>-0.824217</td>\n",
       "      <td>0.321494</td>\n",
       "      <td>0.426524</td>\n",
       "      <td>0.905680</td>\n",
       "      <td>0.032901</td>\n",
       "      <td>0.003971</td>\n",
       "      <td>0.585788</td>\n",
       "      <td>-1.074809</td>\n",
       "      <td>0</td>\n",
       "    </tr>\n",
       "  </tbody>\n",
       "</table>\n",
       "<p>127929 rows × 21 columns</p>\n",
       "</div>"
      ],
      "text/plain": [
       "              0         1         2         3         4         5         6   \\\n",
       "0       1.221907  1.323421 -1.624763 -1.114565 -1.812442 -1.526481  2.524542   \n",
       "1       0.613712  0.462496 -1.471441 -0.647032  1.355552  1.366524 -0.347920   \n",
       "2      -0.518704 -0.171195 -0.653026 -1.013200  1.190647 -0.234772  0.142792   \n",
       "3      -1.110156  1.727620 -0.525721 -1.082442  0.363851  0.152112  0.290478   \n",
       "4      -3.025111  0.333310  0.600092  1.821784 -1.031026  0.565276 -0.161068   \n",
       "...          ...       ...       ...       ...       ...       ...       ...   \n",
       "127924 -1.331922 -0.022322 -2.252045  1.832275  0.931201  0.652939  1.117810   \n",
       "127925 -0.275454 -1.866799  0.331434 -1.061423 -0.537972 -0.399054 -1.550776   \n",
       "127926 -1.572170  0.669268 -0.868394  1.693561  2.508387  0.503568 -0.585593   \n",
       "127927  4.092922 -1.820405  1.713017 -0.910367  0.187723  0.947020  0.451545   \n",
       "127928 -0.647718  0.194638  0.711326  1.732770 -0.440794 -0.803698  0.094087   \n",
       "\n",
       "              7         8         9   ...        11        12        13  \\\n",
       "0      -1.438030 -0.883904 -0.125282  ... -0.645878  0.044303 -0.957996   \n",
       "1      -0.025688  0.753533 -0.022245  ...  1.818155 -1.968643 -0.361404   \n",
       "2      -1.736241 -0.754664  0.162262  ... -1.653675 -0.238104 -0.758368   \n",
       "3       0.324266  1.100875 -0.976864  ... -0.025900 -0.980525  0.084346   \n",
       "4       0.427842  0.941284  1.152144  ...  0.584118  0.172718 -0.282432   \n",
       "...          ...       ...       ...  ...       ...       ...       ...   \n",
       "127924  0.235600  0.608773  0.988828  ... -0.276086 -0.391192  0.283621   \n",
       "127925  0.296760  1.090335 -0.428737  ...  0.052855  0.909523  0.139106   \n",
       "127926 -1.390841 -0.651975 -2.014868  ... -0.872190 -0.300582  0.481110   \n",
       "127927  0.367764  1.208525  0.507993  ...  0.535797  0.370728 -0.207847   \n",
       "127928  0.467559  1.358355  1.932993  ...  0.906534 -0.824217  0.321494   \n",
       "\n",
       "              14        15        16        17        18        19  0   \n",
       "0      -0.878710 -0.674187  0.000496  0.967566  1.281992 -0.676401   1  \n",
       "1       0.695545 -0.544516  0.110021 -1.415909 -0.141631  0.888358   0  \n",
       "2       1.788088 -0.429908 -0.256429 -0.514442 -0.466792 -1.063029   0  \n",
       "3       1.426928  1.040179  1.170237 -1.242249 -0.451017 -1.232605   1  \n",
       "4      -1.048477 -0.236960  0.732544 -0.245949  0.492411 -0.203371   0  \n",
       "...          ...       ...       ...       ...       ...       ...  ..  \n",
       "127924  0.329559 -0.269845  0.304388  0.252552 -0.783366 -0.379391   0  \n",
       "127925 -0.786838  1.146123  0.615843  0.408704 -0.318051  1.661695   1  \n",
       "127926  1.366737  0.161980  0.473512 -0.245782  0.953442 -0.115982   1  \n",
       "127927 -0.451069  0.266612 -1.107410 -0.297117  0.693327 -0.534678   0  \n",
       "127928  0.426524  0.905680  0.032901  0.003971  0.585788 -1.074809   0  \n",
       "\n",
       "[127929 rows x 21 columns]"
      ]
     },
     "execution_count": 113,
     "metadata": {},
     "output_type": "execute_result"
    }
   ],
   "source": [
    "finalDf"
   ]
  },
  {
   "cell_type": "code",
   "execution_count": 114,
   "metadata": {},
   "outputs": [],
   "source": [
    "selected = pd.DataFrame(explained_variance)"
   ]
  },
  {
   "cell_type": "code",
   "execution_count": 115,
   "metadata": {},
   "outputs": [
    {
     "name": "stdout",
     "output_type": "stream",
     "text": [
      "           0\n",
      "0   0.119475\n",
      "1   0.097305\n",
      "2   0.069350\n",
      "3   0.060485\n",
      "4   0.058941\n",
      "5   0.057879\n",
      "6   0.050648\n",
      "7   0.046544\n",
      "8   0.042828\n",
      "9   0.041092\n",
      "10  0.039507\n",
      "11  0.037014\n",
      "12  0.035763\n",
      "13  0.035524\n",
      "14  0.034935\n",
      "15  0.034660\n",
      "16  0.034625\n",
      "17  0.034605\n",
      "18  0.034492\n",
      "19  0.034328\n"
     ]
    }
   ],
   "source": [
    "print(selected)"
   ]
  },
  {
   "cell_type": "code",
   "execution_count": 116,
   "metadata": {},
   "outputs": [
    {
     "data": {
      "image/png": "[encoded data removed]",
      "text/plain": [
       "<Figure size 432x288 with 1 Axes>"
      ]
     },
     "metadata": {
      "needs_background": "light"
     },
     "output_type": "display_data"
    }
   ],
   "source": [
    "plt.plot(np.cumsum(pca.explained_variance_ratio_))\n",
    "plt.xlabel('number of components')\n",
    "plt.ylabel('cumulative explained variance');"
   ]
  },
  {
   "cell_type": "markdown",
   "metadata": {},
   "source": [
    "# Pass Through PCA into SVM GridSearch"
   ]
  },
  {
   "cell_type": "code",
   "execution_count": 121,
   "metadata": {},
   "outputs": [],
   "source": [
    "def svc_param_selection(X, y):\n",
    "    Cs = [0.01, 0.1, 1, 10,20,50]\n",
    "    gammas = [0.01, 0.5, 1]\n",
    "    kernel = ['rbf','linear','poly']\n",
    "    param_grid = {'C': Cs, 'gamma' : gammas, 'kernel': kernel}\n",
    "    grid_search = GridSearchCV(SVC(kernel='rbf'), param_grid,n_jobs = 12)\n",
    "    with parallel_backend('threading'):\n",
    "    #would need to add back in ,cv = nfolds after param_grid\n",
    "        grid_search.fit(X, y)\n",
    "    grid_search.best_params_\n",
    "    return grid_search.best_params_"
   ]
  },
  {
   "cell_type": "code",
   "execution_count": null,
   "metadata": {},
   "outputs": [],
   "source": [
    "svc_param_selection(x_train,y_train)"
   ]
  },
  {
   "cell_type": "code",
   "execution_count": null,
   "metadata": {},
   "outputs": [],
   "source": [
    "clf1 = SVC(kernel='linear', C=1,gamma = 0.01).fit(x_train, y_train)\n",
    "clf1.score(x_test, y_test)  \n",
    "y_pred = clf1.predict(x_test)"
   ]
  },
  {
   "cell_type": "code",
   "execution_count": null,
   "metadata": {},
   "outputs": [],
   "source": [
    "print(confusion_matrix(y_test,y_pred))"
   ]
  },
  {
   "cell_type": "code",
   "execution_count": null,
   "metadata": {},
   "outputs": [],
   "source": []
  },
  {
   "cell_type": "markdown",
   "metadata": {},
   "source": [
    "# Other Feature Selection Runs"
   ]
  },
  {
   "cell_type": "code",
   "execution_count": 69,
   "metadata": {},
   "outputs": [
    {
     "name": "stderr",
     "output_type": "stream",
     "text": [
      "C:\\Users\\Brandon\\AppData\\Local\\Continuum\\anaconda3\\lib\\site-packages\\sklearn\\preprocessing\\data.py:334: DataConversionWarning: Data with input dtype uint8, float64 were all converted to float64 by MinMaxScaler.\n",
      "  return self.partial_fit(X, y)\n"
     ]
    }
   ],
   "source": [
    "scaler = MinMaxScaler(feature_range=(0,1))\n",
    "scaled_train = scaler.fit_transform(x1)\n",
    "\n",
    "# Print out the adjustment that the scaler applied to the lepton pT column of data\n",
    "#print(\"Note: median values were scaled by multiplying by {:.10f} and adding {:.6f}\".format(scaler.scale_[0],scaler.min_[0]))\n",
    "#multiplied_by = scaler.scale_[0]\n",
    "#added = scaler.min_[0]\n",
    "\n",
    "scaled_train_df = pd.DataFrame(scaled_train, columns = x1.columns)"
   ]
  },
  {
   "cell_type": "code",
   "execution_count": 70,
   "metadata": {},
   "outputs": [],
   "source": [
    "from sklearn.feature_selection import SelectKBest\n",
    "from sklearn.feature_selection import chi2\n",
    "\n",
    "\n",
    "test = SelectKBest(score_func=chi2, k=4)\n",
    "fit = test.fit(scaled_train_df, y1)"
   ]
  },
  {
   "cell_type": "code",
   "execution_count": 72,
   "metadata": {},
   "outputs": [
    {
     "name": "stdout",
     "output_type": "stream",
     "text": [
      "[8.539e-03 4.188e-02 1.048e-02 1.680e-03 3.995e-03 1.008e+01 5.741e-01\n",
      " 1.673e-01 4.167e-02 5.239e-02 2.019e-03 4.626e+01 1.773e-02 5.913e-03\n",
      " 1.036e-02 6.076e-02 6.497e-02 2.931e-02 1.131e-02 2.145e+02 3.448e-02\n",
      " 1.172e-04 2.366e+02 1.022e-02 1.732e-02 5.326e-02 3.333e-03 7.381e-03\n",
      " 1.167e-01 1.222e-02 9.781e-02 1.860e-02 6.116e-03 9.864e+00 2.359e-02\n",
      " 1.464e+02 5.192e+01 4.926e+01 3.456e-04 7.259e-05 3.410e-02 5.325e+00\n",
      " 1.279e-04 4.730e-02 2.067e+02 2.821e+01 3.964e+02 2.547e+01 1.726e-01\n",
      " 1.400e-01 1.608e-01 6.382e-01 1.010e+00 2.256e-02 7.031e-01 1.744e-02\n",
      " 9.773e-02 7.829e-01 1.552e+00 5.683e-01 5.359e-03 1.902e-01 7.804e-01\n",
      " 1.227e+00 5.066e-01]\n",
      "[[0.455 0.561 0.435 0.   ]\n",
      " [0.383 0.617 0.622 0.   ]\n",
      " [0.521 0.49  0.437 0.   ]\n",
      " [0.525 0.441 0.438 0.   ]\n",
      " [0.324 0.405 0.614 0.   ]]\n"
     ]
    }
   ],
   "source": [
    "# Summarize scores\n",
    "np.set_printoptions(precision=3)\n",
    "print(fit.scores_)\n",
    "\n",
    "features = fit.transform(scaled_train_df)\n",
    "# Summarize selected features\n",
    "print(features[0:5,:])"
   ]
  },
  {
   "cell_type": "code",
   "execution_count": null,
   "metadata": {},
   "outputs": [],
   "source": [
    "from sklearn.feature_selection import RFE\n",
    "from sklearn.linear_model import LogisticRegression"
   ]
  },
  {
   "cell_type": "code",
   "execution_count": null,
   "metadata": {},
   "outputs": [],
   "source": [
    "model = LogisticRegression()\n",
    "rfe = RFE(model, 3)\n",
    "fit = rfe.fit(scaled_train_df, y1)\n",
    "print(\"Num Features: %s\" % (fit.n_features_))\n",
    "print(\"Selected Features: %s\" % (fit.support_))\n",
    "print(\"Feature Ranking: %s\" % (fit.ranking_))"
   ]
  },
  {
   "cell_type": "code",
   "execution_count": null,
   "metadata": {},
   "outputs": [],
   "source": [
    "from sklearn.linear_model import Ridge"
   ]
  },
  {
   "cell_type": "code",
   "execution_count": null,
   "metadata": {},
   "outputs": [],
   "source": [
    "ridge = Ridge(alpha=1.0)\n",
    "ridge.fit(scaled_train_df, y1)"
   ]
  },
  {
   "cell_type": "code",
   "execution_count": null,
   "metadata": {},
   "outputs": [],
   "source": [
    "def pretty_print_coefs(coefs, names = None, sort = False):\n",
    "    if names == None:\n",
    "        names = [\"X%s\" % x for x in range(len(coefs))]\n",
    "    lst = zip(coefs, names)\n",
    "    if sort:\n",
    "        lst = sorted(lst,  key = lambda x:-np.abs(x[0]))\n",
    "    return \" + \".join(\"%s * %s\" % (round(coef, 3), name)\n",
    "                                   for coef, name in lst)"
   ]
  },
  {
   "cell_type": "code",
   "execution_count": null,
   "metadata": {},
   "outputs": [],
   "source": [
    "print (\"Ridge model:\", pretty_print_coefs(ridge.coef_))"
   ]
  },
  {
   "cell_type": "code",
   "execution_count": null,
   "metadata": {},
   "outputs": [],
   "source": []
  },
  {
   "cell_type": "code",
   "execution_count": null,
   "metadata": {},
   "outputs": [],
   "source": []
  },
  {
   "cell_type": "code",
   "execution_count": null,
   "metadata": {},
   "outputs": [],
   "source": []
  }
 ],
 "metadata": {
  "kernelspec": {
   "display_name": "Python 3",
   "language": "python",
   "name": "python3"
  },
  "language_info": {
   "codemirror_mode": {
    "name": "ipython",
    "version": 3
   },
   "file_extension": ".py",
   "mimetype": "text/x-python",
   "name": "python",
   "nbconvert_exporter": "python",
   "pygments_lexer": "ipython3",
   "version": "3.6.9"
  }
 },
 "nbformat": 4,
 "nbformat_minor": 2
}
