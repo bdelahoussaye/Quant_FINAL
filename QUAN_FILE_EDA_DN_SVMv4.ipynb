{
 "cells": [
  {
   "cell_type": "code",
   "execution_count": 1,
   "metadata": {},
   "outputs": [],
   "source": [
    "\n",
    "import tensorflow as tf\n",
    "\n",
    "import networkx as nx\n",
    "from networkx.drawing.nx_pydot import write_dot\n",
    "import matplotlib.pyplot as plt\n",
    "from IPython.display import SVG\n",
    "from sklearn.tree import export_graphviz\n",
    "tf.debugging.set_log_device_placement(True)\n",
    "\n",
    "\n",
    "import tensorflow as tf\n",
    "from tensorboard.plugins.hparams import api as hp\n",
    "from tensorflow import feature_column\n",
    "from tensorflow.keras import layers\n",
    "import tensorflow.compat.v2.feature_column as fc\n",
    "\n",
    "import re\n",
    "\n",
    "from sklearn.preprocessing import MinMaxScaler\n",
    "\n",
    "from sklearn.svm import SVC\n",
    "\n",
    "from sklearn.metrics import classification_report, confusion_matrix\n",
    "\n",
    "from sklearn.externals.joblib import parallel_backend\n",
    "\n",
    "from sklearn.model_selection import cross_val_score\n",
    "\n",
    "from sklearn.model_selection import train_test_split"
   ]
  },
  {
   "cell_type": "code",
   "execution_count": 2,
   "metadata": {},
   "outputs": [
    {
     "name": "stdout",
     "output_type": "stream",
     "text": [
      "2.0.0\n",
      "Num GPUs Available:  2\n"
     ]
    }
   ],
   "source": [
    "from __future__ import absolute_import, division, print_function, unicode_literals\n",
    "\n",
    "import tensorflow as tf\n",
    "\n",
    "from tensorflow.keras import layers\n",
    "from sklearn import datasets\n",
    "import pandas as pd\n",
    "import numpy as np\n",
    "print(tf.__version__)\n",
    "\n",
    "import warnings\n",
    "warnings.simplefilter(action='ignore', category=FutureWarning)\n",
    "\n",
    "\n",
    "print(\"Num GPUs Available: \", len(tf.config.experimental.list_physical_devices('GPU')))"
   ]
  },
  {
   "cell_type": "code",
   "execution_count": 3,
   "metadata": {},
   "outputs": [
    {
     "name": "stderr",
     "output_type": "stream",
     "text": [
      "Using TensorFlow backend.\n"
     ]
    }
   ],
   "source": [
    "import matplotlib.pyplot as plt # For making plots\n",
    "\n",
    "import seaborn as sns # Makes beautiful plots\n",
    "from sklearn.preprocessing import StandardScaler # Testing sklearn\n",
    "import tensorflow # Imports tensorflow\n",
    "import keras # Imports keras"
   ]
  },
  {
   "cell_type": "code",
   "execution_count": 4,
   "metadata": {},
   "outputs": [
    {
     "name": "stdout",
     "output_type": "stream",
     "text": [
      "10.0\n",
      "7.6\n"
     ]
    }
   ],
   "source": [
    "\n",
    "from tensorflow.python.platform import build_info as tf_build_info\n",
    "print(tf_build_info.cuda_version_number)\n",
    "# 9.0 in v1.10.0\n",
    "print(tf_build_info.cudnn_version_number)\n",
    "# 7 in v1.10.0"
   ]
  },
  {
   "cell_type": "code",
   "execution_count": 5,
   "metadata": {},
   "outputs": [
    {
     "data": {
      "text/plain": [
       "[name: \"/device:CPU:0\"\n",
       " device_type: \"CPU\"\n",
       " memory_limit: 268435456\n",
       " locality {\n",
       " }\n",
       " incarnation: 15101080522502040335, name: \"/device:GPU:0\"\n",
       " device_type: \"GPU\"\n",
       " memory_limit: 6614766059\n",
       " locality {\n",
       "   bus_id: 1\n",
       "   links {\n",
       "   }\n",
       " }\n",
       " incarnation: 12612430017398725319\n",
       " physical_device_desc: \"device: 0, name: GeForce RTX 2070, pci bus id: 0000:17:00.0, compute capability: 7.5\", name: \"/device:GPU:1\"\n",
       " device_type: \"GPU\"\n",
       " memory_limit: 6614766059\n",
       " locality {\n",
       "   bus_id: 1\n",
       "   links {\n",
       "   }\n",
       " }\n",
       " incarnation: 16826709323154978665\n",
       " physical_device_desc: \"device: 1, name: GeForce RTX 2070, pci bus id: 0000:65:00.0, compute capability: 7.5\"]"
      ]
     },
     "execution_count": 5,
     "metadata": {},
     "output_type": "execute_result"
    }
   ],
   "source": [
    "from tensorflow.python.client import device_lib\n",
    "\n",
    "device_lib.list_local_devices()"
   ]
  },
  {
   "cell_type": "code",
   "execution_count": 6,
   "metadata": {},
   "outputs": [],
   "source": [
    "\n",
    "import matplotlib.pyplot as plt\n",
    "%matplotlib inline\n",
    "\n",
    "\n",
    "import datetime, os\n",
    "\n",
    "from tensorflow.keras.callbacks import TensorBoard\n",
    "\n",
    "log_dir = 'logs'\n",
    "tb = TensorBoard(log_dir=log_dir, histogram_freq=1)\n",
    "\n",
    "from sklearn.model_selection import train_test_split\n",
    "\n",
    "from keras.layers import Dense, Activation,Conv2D,MaxPooling2D,Flatten,Dropout"
   ]
  },
  {
   "cell_type": "markdown",
   "metadata": {},
   "source": [
    "[SVM], Logistic; random forrest, naive bayes, XGBoost, [DN"
   ]
  },
  {
   "cell_type": "code",
   "execution_count": 7,
   "metadata": {},
   "outputs": [],
   "source": [
    "data = pd.read_csv('final_project_mod.csv', dtype = {'Continent': 'category', 'Month':'category', 'DayOfWeek':'category'})"
   ]
  },
  {
   "cell_type": "code",
   "execution_count": 8,
   "metadata": {},
   "outputs": [
    {
     "name": "stdout",
     "output_type": "stream",
     "text": [
      "<class 'pandas.core.frame.DataFrame'>\n",
      "RangeIndex: 159912 entries, 0 to 159911\n",
      "Data columns (total 49 columns):\n",
      "x0           159912 non-null float64\n",
      "x1           159912 non-null float64\n",
      "x3           159912 non-null float64\n",
      "x4           159912 non-null float64\n",
      "x5           159912 non-null float64\n",
      "x6           159912 non-null float64\n",
      "x7           159912 non-null float64\n",
      "x8           159912 non-null float64\n",
      "x9           159912 non-null float64\n",
      "x10          159912 non-null float64\n",
      "x11          159912 non-null float64\n",
      "x12          159912 non-null float64\n",
      "x13          159912 non-null float64\n",
      "x14          159912 non-null float64\n",
      "x15          159912 non-null float64\n",
      "x16          159912 non-null float64\n",
      "x17          159912 non-null float64\n",
      "x18          159912 non-null float64\n",
      "x19          159912 non-null float64\n",
      "x20          159912 non-null float64\n",
      "x21          159912 non-null float64\n",
      "x22          159912 non-null float64\n",
      "x23          159912 non-null float64\n",
      "Continent    159912 non-null category\n",
      "x25          159912 non-null float64\n",
      "x26          159912 non-null float64\n",
      "x27          159912 non-null float64\n",
      "x28          159912 non-null float64\n",
      "Month        159912 non-null category\n",
      "DayOfWeek    159912 non-null category\n",
      "x31          159912 non-null float64\n",
      "x32          159912 non-null float64\n",
      "x33          159912 non-null float64\n",
      "x34          159912 non-null float64\n",
      "x35          159912 non-null float64\n",
      "x36          159912 non-null float64\n",
      "Money        159912 non-null float64\n",
      "x39          159912 non-null float64\n",
      "x40          159912 non-null float64\n",
      "x41          159912 non-null float64\n",
      "x42          159912 non-null float64\n",
      "x43          159912 non-null float64\n",
      "x44          159912 non-null float64\n",
      "x45          159912 non-null float64\n",
      "x46          159912 non-null float64\n",
      "x47          159912 non-null float64\n",
      "x48          159912 non-null float64\n",
      "x49          159912 non-null float64\n",
      "y            159912 non-null int64\n",
      "dtypes: category(3), float64(45), int64(1)\n",
      "memory usage: 56.6 MB\n"
     ]
    }
   ],
   "source": [
    "data.info()\n"
   ]
  },
  {
   "cell_type": "code",
   "execution_count": 9,
   "metadata": {},
   "outputs": [
    {
     "data": {
      "text/plain": [
       "x0           0\n",
       "x1           0\n",
       "x3           0\n",
       "x4           0\n",
       "x5           0\n",
       "x6           0\n",
       "x7           0\n",
       "x8           0\n",
       "x9           0\n",
       "x10          0\n",
       "x11          0\n",
       "x12          0\n",
       "x13          0\n",
       "x14          0\n",
       "x15          0\n",
       "x16          0\n",
       "x17          0\n",
       "x18          0\n",
       "x19          0\n",
       "x20          0\n",
       "x21          0\n",
       "x22          0\n",
       "x23          0\n",
       "Continent    0\n",
       "x25          0\n",
       "x26          0\n",
       "x27          0\n",
       "x28          0\n",
       "Month        0\n",
       "DayOfWeek    0\n",
       "x31          0\n",
       "x32          0\n",
       "x33          0\n",
       "x34          0\n",
       "x35          0\n",
       "x36          0\n",
       "Money        0\n",
       "x39          0\n",
       "x40          0\n",
       "x41          0\n",
       "x42          0\n",
       "x43          0\n",
       "x44          0\n",
       "x45          0\n",
       "x46          0\n",
       "x47          0\n",
       "x48          0\n",
       "x49          0\n",
       "y            0\n",
       "dtype: int64"
      ]
     },
     "execution_count": 9,
     "metadata": {},
     "output_type": "execute_result"
    }
   ],
   "source": [
    "data.isnull().sum()"
   ]
  },
  {
   "cell_type": "code",
   "execution_count": 10,
   "metadata": {},
   "outputs": [],
   "source": [
    "# The fist step in ordering a category feature is to define a custom order by way of CategoricalDtype\n",
    "month_ordered_categories = ['Jan', 'Feb', 'Mar', 'Apr', 'May', 'Jun', 'Jul', 'Aug', 'Sep', 'Oct', 'Nov', 'Dec']\n",
    "\n",
    "# Next, the attribute needs to be explicitly re_ordered:\n",
    "cat_dtype = pd.api.types.CategoricalDtype(categories=month_ordered_categories, ordered=True)\n",
    "data.Month = data.Month.astype(cat_dtype)\n",
    "\n",
    "# Repeat steps for DayOfWeek\n",
    "dayofweek_ordered_categories = ['Mon', 'Tue', 'Wed', 'Thu', 'Fri']\n",
    "cat_dtype = pd.api.types.CategoricalDtype(categories=dayofweek_ordered_categories, ordered=True)\n",
    "data.DayOfWeek = data.DayOfWeek.astype(cat_dtype)\n",
    "\n",
    "# Repate Steps for Continent\n",
    "# Ordering based upon population\n",
    "continent_ordered_categories = ['Asia', 'America', 'Europe']\n",
    "cat_dtype = pd.api.types.CategoricalDtype(categories=continent_ordered_categories, ordered=True)\n",
    "data.Continent = data.Continent.astype(cat_dtype)"
   ]
  },
  {
   "cell_type": "code",
   "execution_count": 11,
   "metadata": {},
   "outputs": [
    {
     "data": {
      "text/plain": [
       "array([ 6,  7,  5,  4,  8,  3, 10,  9,  2,  1, 11,  0], dtype=int64)"
      ]
     },
     "execution_count": 11,
     "metadata": {},
     "output_type": "execute_result"
    }
   ],
   "source": [
    "data.Month.astype(\"category\").cat.codes.unique()"
   ]
  },
  {
   "cell_type": "code",
   "execution_count": 12,
   "metadata": {},
   "outputs": [
    {
     "data": {
      "text/plain": [
       "CategoricalDtype(categories=['Jan', 'Feb', 'Mar', 'Apr', 'May', 'Jun', 'Jul', 'Aug',\n",
       "                  'Sep', 'Oct', 'Nov', 'Dec'],\n",
       "                 ordered=True)"
      ]
     },
     "execution_count": 12,
     "metadata": {},
     "output_type": "execute_result"
    }
   ],
   "source": [
    "data['Month'].dtypes"
   ]
  },
  {
   "cell_type": "code",
   "execution_count": 13,
   "metadata": {},
   "outputs": [
    {
     "data": {
      "text/plain": [
       "array([1, 2, 3, 0, 4], dtype=int64)"
      ]
     },
     "execution_count": 13,
     "metadata": {},
     "output_type": "execute_result"
    }
   ],
   "source": [
    "data.DayOfWeek.astype(\"category\").cat.codes.unique()"
   ]
  },
  {
   "cell_type": "code",
   "execution_count": 14,
   "metadata": {},
   "outputs": [
    {
     "data": {
      "text/plain": [
       "CategoricalDtype(categories=['Mon', 'Tue', 'Wed', 'Thu', 'Fri'], ordered=True)"
      ]
     },
     "execution_count": 14,
     "metadata": {},
     "output_type": "execute_result"
    }
   ],
   "source": [
    "data['DayOfWeek'].dtypes"
   ]
  },
  {
   "cell_type": "code",
   "execution_count": 15,
   "metadata": {},
   "outputs": [
    {
     "data": {
      "text/plain": [
       "array([2, 0, 1], dtype=int64)"
      ]
     },
     "execution_count": 15,
     "metadata": {},
     "output_type": "execute_result"
    }
   ],
   "source": [
    "data.Continent.astype(\"category\").cat.codes.unique()"
   ]
  },
  {
   "cell_type": "code",
   "execution_count": 16,
   "metadata": {},
   "outputs": [
    {
     "data": {
      "text/plain": [
       "CategoricalDtype(categories=['Asia', 'America', 'Europe'], ordered=True)"
      ]
     },
     "execution_count": 16,
     "metadata": {},
     "output_type": "execute_result"
    }
   ],
   "source": [
    "data['Continent'].dtypes"
   ]
  },
  {
   "cell_type": "code",
   "execution_count": 17,
   "metadata": {},
   "outputs": [
    {
     "data": {
      "text/plain": [
       "x0           0\n",
       "x1           0\n",
       "x3           0\n",
       "x4           0\n",
       "x5           0\n",
       "x6           0\n",
       "x7           0\n",
       "x8           0\n",
       "x9           0\n",
       "x10          0\n",
       "x11          0\n",
       "x12          0\n",
       "x13          0\n",
       "x14          0\n",
       "x15          0\n",
       "x16          0\n",
       "x17          0\n",
       "x18          0\n",
       "x19          0\n",
       "x20          0\n",
       "x21          0\n",
       "x22          0\n",
       "x23          0\n",
       "Continent    0\n",
       "x25          0\n",
       "x26          0\n",
       "x27          0\n",
       "x28          0\n",
       "Month        0\n",
       "DayOfWeek    0\n",
       "x31          0\n",
       "x32          0\n",
       "x33          0\n",
       "x34          0\n",
       "x35          0\n",
       "x36          0\n",
       "Money        0\n",
       "x39          0\n",
       "x40          0\n",
       "x41          0\n",
       "x42          0\n",
       "x43          0\n",
       "x44          0\n",
       "x45          0\n",
       "x46          0\n",
       "x47          0\n",
       "x48          0\n",
       "x49          0\n",
       "y            0\n",
       "dtype: int64"
      ]
     },
     "execution_count": 17,
     "metadata": {},
     "output_type": "execute_result"
    }
   ],
   "source": [
    "data.isnull().sum()"
   ]
  },
  {
   "cell_type": "markdown",
   "metadata": {},
   "source": [
    "## separte the features from target"
   ]
  },
  {
   "cell_type": "code",
   "execution_count": 18,
   "metadata": {},
   "outputs": [],
   "source": [
    "x = data.drop(['y'], axis = 1)"
   ]
  },
  {
   "cell_type": "code",
   "execution_count": 19,
   "metadata": {},
   "outputs": [],
   "source": [
    "y = data['y']"
   ]
  },
  {
   "cell_type": "code",
   "execution_count": 20,
   "metadata": {},
   "outputs": [],
   "source": [
    "y = y.to_numpy()"
   ]
  },
  {
   "cell_type": "code",
   "execution_count": 21,
   "metadata": {},
   "outputs": [
    {
     "data": {
      "text/plain": [
       "array([0, 0, 0, ..., 1, 0, 1], dtype=int64)"
      ]
     },
     "execution_count": 21,
     "metadata": {},
     "output_type": "execute_result"
    }
   ],
   "source": [
    "y"
   ]
  },
  {
   "cell_type": "code",
   "execution_count": 22,
   "metadata": {},
   "outputs": [],
   "source": [
    "##set one-hot for the category features"
   ]
  },
  {
   "cell_type": "code",
   "execution_count": 23,
   "metadata": {},
   "outputs": [
    {
     "data": {
      "text/html": [
       "<div>\n",
       "<style scoped>\n",
       "    .dataframe tbody tr th:only-of-type {\n",
       "        vertical-align: middle;\n",
       "    }\n",
       "\n",
       "    .dataframe tbody tr th {\n",
       "        vertical-align: top;\n",
       "    }\n",
       "\n",
       "    .dataframe thead th {\n",
       "        text-align: right;\n",
       "    }\n",
       "</style>\n",
       "<table border=\"1\" class=\"dataframe\">\n",
       "  <thead>\n",
       "    <tr style=\"text-align: right;\">\n",
       "      <th></th>\n",
       "      <th>index</th>\n",
       "      <th>cardinality</th>\n",
       "    </tr>\n",
       "  </thead>\n",
       "  <tbody>\n",
       "    <tr>\n",
       "      <th>0</th>\n",
       "      <td>Continent</td>\n",
       "      <td>3</td>\n",
       "    </tr>\n",
       "    <tr>\n",
       "      <th>1</th>\n",
       "      <td>Month</td>\n",
       "      <td>12</td>\n",
       "    </tr>\n",
       "    <tr>\n",
       "      <th>2</th>\n",
       "      <td>DayOfWeek</td>\n",
       "      <td>5</td>\n",
       "    </tr>\n",
       "  </tbody>\n",
       "</table>\n",
       "</div>"
      ],
      "text/plain": [
       "       index  cardinality\n",
       "0  Continent            3\n",
       "1      Month           12\n",
       "2  DayOfWeek            5"
      ]
     },
     "execution_count": 23,
     "metadata": {},
     "output_type": "execute_result"
    }
   ],
   "source": [
    "x[x.select_dtypes('category').columns].nunique().reset_index(name='cardinality')"
   ]
  },
  {
   "cell_type": "code",
   "execution_count": 24,
   "metadata": {},
   "outputs": [],
   "source": [
    "#ok, about an extra 20 features will come out.  \n",
    "#will need to put to an array, and then will need to cocatenate"
   ]
  },
  {
   "cell_type": "code",
   "execution_count": 25,
   "metadata": {},
   "outputs": [],
   "source": [
    "x1 = pd.get_dummies(x,prefix = ['Continent', 'Month', 'DayOfWeek'])"
   ]
  },
  {
   "cell_type": "code",
   "execution_count": 26,
   "metadata": {},
   "outputs": [
    {
     "name": "stdout",
     "output_type": "stream",
     "text": [
      "<class 'pandas.core.frame.DataFrame'>\n",
      "RangeIndex: 159912 entries, 0 to 159911\n",
      "Data columns (total 65 columns):\n",
      "x0                   159912 non-null float64\n",
      "x1                   159912 non-null float64\n",
      "x3                   159912 non-null float64\n",
      "x4                   159912 non-null float64\n",
      "x5                   159912 non-null float64\n",
      "x6                   159912 non-null float64\n",
      "x7                   159912 non-null float64\n",
      "x8                   159912 non-null float64\n",
      "x9                   159912 non-null float64\n",
      "x10                  159912 non-null float64\n",
      "x11                  159912 non-null float64\n",
      "x12                  159912 non-null float64\n",
      "x13                  159912 non-null float64\n",
      "x14                  159912 non-null float64\n",
      "x15                  159912 non-null float64\n",
      "x16                  159912 non-null float64\n",
      "x17                  159912 non-null float64\n",
      "x18                  159912 non-null float64\n",
      "x19                  159912 non-null float64\n",
      "x20                  159912 non-null float64\n",
      "x21                  159912 non-null float64\n",
      "x22                  159912 non-null float64\n",
      "x23                  159912 non-null float64\n",
      "x25                  159912 non-null float64\n",
      "x26                  159912 non-null float64\n",
      "x27                  159912 non-null float64\n",
      "x28                  159912 non-null float64\n",
      "x31                  159912 non-null float64\n",
      "x32                  159912 non-null float64\n",
      "x33                  159912 non-null float64\n",
      "x34                  159912 non-null float64\n",
      "x35                  159912 non-null float64\n",
      "x36                  159912 non-null float64\n",
      "Money                159912 non-null float64\n",
      "x39                  159912 non-null float64\n",
      "x40                  159912 non-null float64\n",
      "x41                  159912 non-null float64\n",
      "x42                  159912 non-null float64\n",
      "x43                  159912 non-null float64\n",
      "x44                  159912 non-null float64\n",
      "x45                  159912 non-null float64\n",
      "x46                  159912 non-null float64\n",
      "x47                  159912 non-null float64\n",
      "x48                  159912 non-null float64\n",
      "x49                  159912 non-null float64\n",
      "Continent_Asia       159912 non-null uint8\n",
      "Continent_America    159912 non-null uint8\n",
      "Continent_Europe     159912 non-null uint8\n",
      "Month_Jan            159912 non-null uint8\n",
      "Month_Feb            159912 non-null uint8\n",
      "Month_Mar            159912 non-null uint8\n",
      "Month_Apr            159912 non-null uint8\n",
      "Month_May            159912 non-null uint8\n",
      "Month_Jun            159912 non-null uint8\n",
      "Month_Jul            159912 non-null uint8\n",
      "Month_Aug            159912 non-null uint8\n",
      "Month_Sep            159912 non-null uint8\n",
      "Month_Oct            159912 non-null uint8\n",
      "Month_Nov            159912 non-null uint8\n",
      "Month_Dec            159912 non-null uint8\n",
      "DayOfWeek_Mon        159912 non-null uint8\n",
      "DayOfWeek_Tue        159912 non-null uint8\n",
      "DayOfWeek_Wed        159912 non-null uint8\n",
      "DayOfWeek_Thu        159912 non-null uint8\n",
      "DayOfWeek_Fri        159912 non-null uint8\n",
      "dtypes: float64(45), uint8(20)\n",
      "memory usage: 58.0 MB\n"
     ]
    }
   ],
   "source": [
    "x1.info()"
   ]
  },
  {
   "cell_type": "markdown",
   "metadata": {},
   "source": [
    "# scale"
   ]
  },
  {
   "cell_type": "code",
   "execution_count": 27,
   "metadata": {},
   "outputs": [
    {
     "name": "stderr",
     "output_type": "stream",
     "text": [
      "C:\\Users\\Brandon\\AppData\\Local\\Continuum\\anaconda3\\lib\\site-packages\\sklearn\\preprocessing\\data.py:334: DataConversionWarning: Data with input dtype uint8, float64 were all converted to float64 by MinMaxScaler.\n",
      "  return self.partial_fit(X, y)\n"
     ]
    }
   ],
   "source": [
    "\n",
    "\n",
    "scaler = MinMaxScaler(feature_range=(0,1))\n",
    "scaled_train = scaler.fit_transform(x1)\n",
    "\n",
    "# Print out the adjustment that the scaler applied to the lepton pT column of data\n",
    "#print(\"Note: median values were scaled by multiplying by {:.10f} and adding {:.6f}\".format(scaler.scale_[0],scaler.min_[0]))\n",
    "#multiplied_by = scaler.scale_[0]\n",
    "#added = scaler.min_[0]\n",
    "\n",
    "scaled_train_df = pd.DataFrame(scaled_train, columns = x1.columns)"
   ]
  },
  {
   "cell_type": "code",
   "execution_count": 28,
   "metadata": {},
   "outputs": [],
   "source": [
    "from keras.applications import Xception\n",
    "from keras.utils import multi_gpu_model"
   ]
  },
  {
   "cell_type": "code",
   "execution_count": 29,
   "metadata": {},
   "outputs": [],
   "source": [
    "mirrored_strategy = tf.distribute.MirroredStrategy(devices=[\"/gpu:0\", \"/gpu:1\"],\n",
    "                                          cross_device_ops=tf.distribute.HierarchicalCopyAllReduce())"
   ]
  },
  {
   "cell_type": "code",
   "execution_count": 30,
   "metadata": {},
   "outputs": [
    {
     "name": "stdout",
     "output_type": "stream",
     "text": [
      "Executing op RandomUniform in device /job:localhost/replica:0/task:0/device:GPU:0\n",
      "Executing op Sub in device /job:localhost/replica:0/task:0/device:GPU:0\n",
      "Executing op Mul in device /job:localhost/replica:0/task:0/device:GPU:0\n",
      "Executing op Add in device /job:localhost/replica:0/task:0/device:GPU:0\n",
      "Executing op VarHandleOp in device /job:localhost/replica:0/task:0/device:GPU:0\n",
      "Executing op VarIsInitializedOp in device /job:localhost/replica:0/task:0/device:GPU:0\n",
      "Executing op LogicalNot in device /job:localhost/replica:0/task:0/device:GPU:0\n",
      "Executing op Assert in device /job:localhost/replica:0/task:0/device:GPU:0\n",
      "Executing op AssignVariableOp in device /job:localhost/replica:0/task:0/device:GPU:0\n",
      "Executing op ReadVariableOp in device /job:localhost/replica:0/task:0/device:GPU:0\n",
      "Executing op VarHandleOp in device /job:localhost/replica:0/task:0/device:GPU:1\n",
      "Executing op VarIsInitializedOp in device /job:localhost/replica:0/task:0/device:GPU:1\n",
      "Executing op LogicalNot in device /job:localhost/replica:0/task:0/device:GPU:1\n",
      "Executing op Assert in device /job:localhost/replica:0/task:0/device:GPU:1\n",
      "Executing op AssignVariableOp in device /job:localhost/replica:0/task:0/device:GPU:1\n",
      "Executing op Fill in device /job:localhost/replica:0/task:0/device:GPU:0\n",
      "Executing op VarHandleOp in device /job:localhost/replica:0/task:0/device:GPU:0\n",
      "Executing op VarHandleOp in device /job:localhost/replica:0/task:0/device:GPU:1\n",
      "Executing op VarHandleOp in device /job:localhost/replica:0/task:0/device:GPU:0\n",
      "Executing op VarHandleOp in device /job:localhost/replica:0/task:0/device:GPU:1\n",
      "Executing op VarHandleOp in device /job:localhost/replica:0/task:0/device:GPU:0\n",
      "Executing op VarHandleOp in device /job:localhost/replica:0/task:0/device:GPU:1\n",
      "Executing op Reshape in device /job:localhost/replica:0/task:0/device:GPU:0\n",
      "Executing op VarHandleOp in device /job:localhost/replica:0/task:0/device:GPU:0\n",
      "Executing op VarHandleOp in device /job:localhost/replica:0/task:0/device:GPU:1\n",
      "Executing op VarHandleOp in device /job:localhost/replica:0/task:0/device:GPU:0\n",
      "Executing op VarHandleOp in device /job:localhost/replica:0/task:0/device:GPU:1\n",
      "INFO:tensorflow:Reduce to /job:localhost/replica:0/task:0/device:CPU:0 then broadcast to ('/job:localhost/replica:0/task:0/device:CPU:0',).\n",
      "INFO:tensorflow:Reduce to /job:localhost/replica:0/task:0/device:CPU:0 then broadcast to ('/job:localhost/replica:0/task:0/device:CPU:0',).\n"
     ]
    }
   ],
   "source": [
    "with mirrored_strategy.scope():\n",
    "    model_final = tf.keras.Sequential()\n",
    "    model_final.add(layers.Dense(300, input_dim = 65, activation = 'relu'))\n",
    "    model_final.add(layers.Dropout(0.5))\n",
    "    model_final.add(layers.Dense(300, activation = 'relu'))\n",
    "    model_final.add(layers.Dropout(0.1))\n",
    "    model_final.add(layers.Dense(300, activation = 'relu'))\n",
    "    model_final.add(layers.Dense(300, activation = 'relu'))\n",
    "    model_final.add(layers.Dense(300, activation = 'relu'))\n",
    "    model_final.add(layers.Dense(1, activation = 'sigmoid'))\n",
    "    \n",
    "    model_final.compile(optimizer=tf.optimizers.Adam(learning_rate = 0.01, decay = 0.0001),\n",
    "             loss=tf.keras.losses.BinaryCrossentropy(),\n",
    "             metrics=['accuracy'])\n",
    "    \n",
    "    log_dir = 'final_logs'\n",
    "    tb_random = TensorBoard(log_dir=log_dir, histogram_freq=1)"
   ]
  },
  {
   "cell_type": "code",
   "execution_count": 31,
   "metadata": {},
   "outputs": [],
   "source": [
    "x_train, x_test, y_train, y_test = train_test_split(scaled_train_df.values, y, test_size=0.20, random_state=102)"
   ]
  },
  {
   "cell_type": "code",
   "execution_count": 32,
   "metadata": {},
   "outputs": [
    {
     "name": "stdout",
     "output_type": "stream",
     "text": [
      "float64\n"
     ]
    }
   ],
   "source": [
    "print(x_train.dtype)"
   ]
  },
  {
   "cell_type": "code",
   "execution_count": 33,
   "metadata": {},
   "outputs": [
    {
     "name": "stdout",
     "output_type": "stream",
     "text": [
      "Executing op RangeDataset in device /job:localhost/replica:0/task:0/device:CPU:0\n",
      "Executing op RepeatDataset in device /job:localhost/replica:0/task:0/device:CPU:0\n",
      "Executing op MapDataset in device /job:localhost/replica:0/task:0/device:CPU:0\n",
      "Executing op PrefetchDataset in device /job:localhost/replica:0/task:0/device:CPU:0\n",
      "Executing op FlatMapDataset in device /job:localhost/replica:0/task:0/device:CPU:0\n",
      "Executing op TensorDataset in device /job:localhost/replica:0/task:0/device:CPU:0\n",
      "Executing op RepeatDataset in device /job:localhost/replica:0/task:0/device:CPU:0\n",
      "Executing op ZipDataset in device /job:localhost/replica:0/task:0/device:CPU:0\n",
      "Executing op ParallelMapDataset in device /job:localhost/replica:0/task:0/device:CPU:0\n",
      "Executing op MapDataset in device /job:localhost/replica:0/task:0/device:CPU:0\n",
      "Executing op PrefetchDataset in device /job:localhost/replica:0/task:0/device:CPU:0\n",
      "Executing op FlatMapDataset in device /job:localhost/replica:0/task:0/device:CPU:0\n",
      "Executing op TensorDataset in device /job:localhost/replica:0/task:0/device:CPU:0\n",
      "Executing op RepeatDataset in device /job:localhost/replica:0/task:0/device:CPU:0\n",
      "Executing op ZipDataset in device /job:localhost/replica:0/task:0/device:CPU:0\n",
      "Executing op ParallelMapDataset in device /job:localhost/replica:0/task:0/device:CPU:0\n",
      "Executing op DatasetCardinality in device /job:localhost/replica:0/task:0/device:CPU:0\n",
      "Executing op RebatchDataset in device /job:localhost/replica:0/task:0/device:CPU:0\n",
      "Executing op AutoShardDataset in device /job:localhost/replica:0/task:0/device:CPU:0\n",
      "Train on 127929 samples, validate on 31983 samples\n",
      "Executing op Add in device /job:localhost/replica:0/task:0/device:CPU:0\n",
      "Executing op SummaryWriter in device /job:localhost/replica:0/task:0/device:CPU:0\n",
      "Executing op CreateSummaryFileWriter in device /job:localhost/replica:0/task:0/device:CPU:0\n",
      "Executing op WriteGraphSummary in device /job:localhost/replica:0/task:0/device:CPU:0\n",
      "Executing op LogicalAnd in device /job:localhost/replica:0/task:0/device:CPU:0\n",
      "Executing op WriteSummary in device /job:localhost/replica:0/task:0/device:CPU:0\n",
      "Executing op FlushSummaryWriter in device /job:localhost/replica:0/task:0/device:CPU:0\n",
      "Epoch 1/200\n",
      "Executing op OptimizeDataset in device /job:localhost/replica:0/task:0/device:CPU:0\n",
      "Executing op ModelDataset in device /job:localhost/replica:0/task:0/device:CPU:0\n",
      "Executing op MultiDeviceIterator in device /job:localhost/replica:0/task:0/device:CPU:0\n",
      "Executing op MultiDeviceIteratorInit in device /job:localhost/replica:0/task:0/device:CPU:0\n",
      "Executing op MultiDeviceIteratorToStringHandle in device /job:localhost/replica:0/task:0/device:CPU:0\n",
      "Executing op GeneratorDataset in device /job:localhost/replica:0/task:0/device:GPU:0\n",
      "Executing op GeneratorDataset in device /job:localhost/replica:0/task:0/device:GPU:1\n",
      "Executing op PrefetchDataset in device /job:localhost/replica:0/task:0/device:GPU:0\n",
      "Executing op AnonymousIteratorV2 in device /job:localhost/replica:0/task:0/device:GPU:0\n",
      "Executing op MakeIterator in device /job:localhost/replica:0/task:0/device:GPU:0\n",
      "Executing op PrefetchDataset in device /job:localhost/replica:0/task:0/device:GPU:1\n",
      "Executing op AnonymousIteratorV2 in device /job:localhost/replica:0/task:0/device:GPU:1\n",
      "Executing op MakeIterator in device /job:localhost/replica:0/task:0/device:GPU:1\n",
      "Executing op VarHandleOp in device /job:localhost/replica:0/task:0/device:GPU:0\n",
      "Executing op AssignVariableOp in device /job:localhost/replica:0/task:0/device:GPU:0\n",
      "Executing op ReadVariableOp in device /job:localhost/replica:0/task:0/device:GPU:0\n",
      "Executing op VarHandleOp in device /job:localhost/replica:0/task:0/device:GPU:1\n",
      "Executing op AssignVariableOp in device /job:localhost/replica:0/task:0/device:GPU:1\n",
      "Executing op VarHandleOp in device /job:localhost/replica:0/task:0/device:GPU:0\n",
      "Executing op VarHandleOp in device /job:localhost/replica:0/task:0/device:GPU:1\n",
      "Executing op VarHandleOp in device /job:localhost/replica:0/task:0/device:GPU:0\n",
      "Executing op VarHandleOp in device /job:localhost/replica:0/task:0/device:GPU:1\n",
      "Executing op VarHandleOp in device /job:localhost/replica:0/task:0/device:GPU:0\n",
      "Executing op VarHandleOp in device /job:localhost/replica:0/task:0/device:GPU:1\n",
      "Executing op VarHandleOp in device /job:localhost/replica:0/task:0/device:GPU:0\n",
      "Executing op VarHandleOp in device /job:localhost/replica:0/task:0/device:GPU:1\n",
      "Executing op Fill in device /job:localhost/replica:0/task:0/device:GPU:0\n",
      "Executing op VarHandleOp in device /job:localhost/replica:0/task:0/device:GPU:0\n",
      "Executing op VarHandleOp in device /job:localhost/replica:0/task:0/device:GPU:1\n",
      "Executing op VarHandleOp in device /job:localhost/replica:0/task:0/device:GPU:0\n",
      "Executing op VarHandleOp in device /job:localhost/replica:0/task:0/device:GPU:1\n",
      "Executing op VarHandleOp in device /job:localhost/replica:0/task:0/device:GPU:0\n",
      "Executing op VarHandleOp in device /job:localhost/replica:0/task:0/device:GPU:1\n",
      "Executing op VarHandleOp in device /job:localhost/replica:0/task:0/device:GPU:0\n",
      "Executing op VarHandleOp in device /job:localhost/replica:0/task:0/device:GPU:1\n",
      "Executing op VarHandleOp in device /job:localhost/replica:0/task:0/device:GPU:0\n",
      "Executing op VarHandleOp in device /job:localhost/replica:0/task:0/device:GPU:1\n",
      "Executing op VarHandleOp in device /job:localhost/replica:0/task:0/device:GPU:0\n",
      "Executing op VarHandleOp in device /job:localhost/replica:0/task:0/device:GPU:1\n",
      "Executing op VarHandleOp in device /job:localhost/replica:0/task:0/device:GPU:0\n",
      "Executing op VarHandleOp in device /job:localhost/replica:0/task:0/device:GPU:1\n",
      "Executing op VarHandleOp in device /job:localhost/replica:0/task:0/device:GPU:0\n",
      "Executing op VarHandleOp in device /job:localhost/replica:0/task:0/device:GPU:1\n",
      "Executing op VarHandleOp in device /job:localhost/replica:0/task:0/device:GPU:0\n",
      "Executing op VarHandleOp in device /job:localhost/replica:0/task:0/device:GPU:1\n",
      "Executing op VarHandleOp in device /job:localhost/replica:0/task:0/device:GPU:0\n",
      "Executing op VarHandleOp in device /job:localhost/replica:0/task:0/device:GPU:1\n",
      "Executing op VarHandleOp in device /job:localhost/replica:0/task:0/device:GPU:0\n",
      "Executing op VarHandleOp in device /job:localhost/replica:0/task:0/device:GPU:1\n",
      "Executing op Reshape in device /job:localhost/replica:0/task:0/device:GPU:0\n",
      "Executing op VarHandleOp in device /job:localhost/replica:0/task:0/device:GPU:0\n",
      "Executing op VarHandleOp in device /job:localhost/replica:0/task:0/device:GPU:1\n",
      "Executing op VarHandleOp in device /job:localhost/replica:0/task:0/device:GPU:0\n",
      "Executing op VarHandleOp in device /job:localhost/replica:0/task:0/device:GPU:1\n",
      "Executing op VarHandleOp in device /job:localhost/replica:0/task:0/device:GPU:0\n",
      "Executing op VarHandleOp in device /job:localhost/replica:0/task:0/device:GPU:1\n",
      "Executing op VarHandleOp in device /job:localhost/replica:0/task:0/device:GPU:0\n",
      "Executing op VarHandleOp in device /job:localhost/replica:0/task:0/device:GPU:1\n",
      "Executing op VarHandleOp in device /job:localhost/replica:0/task:0/device:GPU:0\n",
      "Executing op VarHandleOp in device /job:localhost/replica:0/task:0/device:GPU:1\n",
      "Executing op VarHandleOp in device /job:localhost/replica:0/task:0/device:GPU:0\n",
      "Executing op VarHandleOp in device /job:localhost/replica:0/task:0/device:GPU:1\n",
      "Executing op VarHandleOp in device /job:localhost/replica:0/task:0/device:GPU:0\n",
      "Executing op VarHandleOp in device /job:localhost/replica:0/task:0/device:GPU:1\n",
      "Executing op VarHandleOp in device /job:localhost/replica:0/task:0/device:GPU:0\n",
      "Executing op VarHandleOp in device /job:localhost/replica:0/task:0/device:GPU:1\n",
      "Executing op VarHandleOp in device /job:localhost/replica:0/task:0/device:GPU:0\n",
      "Executing op VarHandleOp in device /job:localhost/replica:0/task:0/device:GPU:1\n",
      "Executing op VarHandleOp in device /job:localhost/replica:0/task:0/device:GPU:0\n",
      "Executing op VarHandleOp in device /job:localhost/replica:0/task:0/device:GPU:1\n",
      "Executing op VarHandleOp in device /job:localhost/replica:0/task:0/device:GPU:0\n",
      "Executing op VarHandleOp in device /job:localhost/replica:0/task:0/device:GPU:1\n",
      "Executing op VarHandleOp in device /job:localhost/replica:0/task:0/device:GPU:0\n",
      "Executing op VarHandleOp in device /job:localhost/replica:0/task:0/device:GPU:1\n"
     ]
    },
    {
     "name": "stdout",
     "output_type": "stream",
     "text": [
      "Executing op VarHandleOp in device /job:localhost/replica:0/task:0/device:GPU:0\n",
      "Executing op VarHandleOp in device /job:localhost/replica:0/task:0/device:GPU:1\n",
      "INFO:tensorflow:batch_all_reduce: 12 all-reduces with algorithm = hierarchical_copy, num_packs = 1, agg_small_grads_max_bytes = 0 and agg_small_grads_max_group = 10\n",
      "INFO:tensorflow:Reduce to /job:localhost/replica:0/task:0/device:CPU:0 then broadcast to ('/job:localhost/replica:0/task:0/device:CPU:0',).\n",
      "INFO:tensorflow:Reduce to /job:localhost/replica:0/task:0/device:CPU:0 then broadcast to ('/job:localhost/replica:0/task:0/device:CPU:0',).\n",
      "INFO:tensorflow:Reduce to /job:localhost/replica:0/task:0/device:CPU:0 then broadcast to ('/job:localhost/replica:0/task:0/device:CPU:0',).\n",
      "INFO:tensorflow:Reduce to /job:localhost/replica:0/task:0/device:CPU:0 then broadcast to ('/job:localhost/replica:0/task:0/device:CPU:0',).\n",
      "Executing op __inference_initialize_variables_2235 in device /job:localhost/replica:0/task:0/device:GPU:0\n",
      "INFO:tensorflow:batch_all_reduce: 12 all-reduces with algorithm = hierarchical_copy, num_packs = 1, agg_small_grads_max_bytes = 0 and agg_small_grads_max_group = 10\n",
      "INFO:tensorflow:Reduce to /job:localhost/replica:0/task:0/device:CPU:0 then broadcast to ('/job:localhost/replica:0/task:0/device:CPU:0',).\n",
      "INFO:tensorflow:Reduce to /job:localhost/replica:0/task:0/device:CPU:0 then broadcast to ('/job:localhost/replica:0/task:0/device:CPU:0',).\n",
      "INFO:tensorflow:Reduce to /job:localhost/replica:0/task:0/device:CPU:0 then broadcast to ('/job:localhost/replica:0/task:0/device:CPU:0',).\n",
      "INFO:tensorflow:Reduce to /job:localhost/replica:0/task:0/device:CPU:0 then broadcast to ('/job:localhost/replica:0/task:0/device:CPU:0',).\n",
      "Executing op __inference_distributed_function_3232 in device /job:localhost/replica:0/task:0/device:GPU:0\n",
      "  1000/127929 [..............................] - ETA: 15:29 - loss: 0.7012 - accuracy: 0.4100WARNING:tensorflow:Method (on_train_batch_end) is slow compared to the batch update (0.179023). Check your callbacks.\n",
      "119000/127929 [==========================>...] - ETA: 0s - loss: 0.7087 - accuracy: 0.6071Executing op GeneratorDataset in device /job:localhost/replica:0/task:0/device:GPU:0\n",
      "Executing op GeneratorDataset in device /job:localhost/replica:0/task:0/device:GPU:1\n",
      "Executing op __inference_distributed_function_4046 in device /job:localhost/replica:0/task:0/device:GPU:0\n",
      "Executing op WriteScalarSummary in device /job:localhost/replica:0/task:0/device:CPU:0\n",
      "Executing op WriteScalarSummary in device /job:localhost/replica:0/task:0/device:CPU:0\n",
      "Executing op WriteHistogramSummary in device /job:localhost/replica:0/task:0/device:CPU:0\n",
      "127929/127929 [==============================] - 11s 86us/sample - loss: 0.7035 - accuracy: 0.6091 - val_loss: 0.6125 - val_accuracy: 0.6815\n",
      "Epoch 2/200\n",
      "127929/127929 [==============================] - 1s 7us/sample - loss: 0.6125 - accuracy: 0.6588 - val_loss: 0.6055 - val_accuracy: 0.7081\n",
      "Epoch 3/200\n",
      "127929/127929 [==============================] - 1s 7us/sample - loss: 0.6001 - accuracy: 0.6731 - val_loss: 0.5965 - val_accuracy: 0.7019\n",
      "Epoch 4/200\n",
      "127929/127929 [==============================] - 1s 7us/sample - loss: 0.5885 - accuracy: 0.6863 - val_loss: 0.6352 - val_accuracy: 0.6834\n",
      "Epoch 5/200\n",
      "127929/127929 [==============================] - 1s 7us/sample - loss: 0.5791 - accuracy: 0.6976 - val_loss: 0.6184 - val_accuracy: 0.6702\n",
      "Epoch 6/200\n",
      "127929/127929 [==============================] - 1s 7us/sample - loss: 0.5685 - accuracy: 0.7059 - val_loss: 0.8496 - val_accuracy: 0.4274\n",
      "Epoch 7/200\n",
      "127929/127929 [==============================] - 1s 7us/sample - loss: 0.5644 - accuracy: 0.7035 - val_loss: 0.8484 - val_accuracy: 0.4247\n",
      "Epoch 8/200\n",
      "127929/127929 [==============================] - 1s 7us/sample - loss: 0.5517 - accuracy: 0.7129 - val_loss: 0.9948 - val_accuracy: 0.4214\n",
      "Epoch 9/200\n",
      "127929/127929 [==============================] - 1s 7us/sample - loss: 0.5485 - accuracy: 0.7153 - val_loss: 1.0847 - val_accuracy: 0.4075\n",
      "Epoch 10/200\n",
      "127929/127929 [==============================] - 1s 7us/sample - loss: 0.5456 - accuracy: 0.7187 - val_loss: 1.0902 - val_accuracy: 0.4083\n",
      "Epoch 11/200\n",
      "127929/127929 [==============================] - 1s 7us/sample - loss: 0.5448 - accuracy: 0.7193 - val_loss: 1.1798 - val_accuracy: 0.4010\n",
      "Epoch 12/200\n",
      "127929/127929 [==============================] - 1s 7us/sample - loss: 0.5399 - accuracy: 0.7239 - val_loss: 1.2913 - val_accuracy: 0.4079\n",
      "Epoch 13/200\n",
      "127929/127929 [==============================] - 1s 7us/sample - loss: 0.5376 - accuracy: 0.7246 - val_loss: 1.2381 - val_accuracy: 0.4140\n",
      "Epoch 14/200\n",
      "127929/127929 [==============================] - 1s 7us/sample - loss: 0.5322 - accuracy: 0.7274 - val_loss: 1.4395 - val_accuracy: 0.3980\n",
      "Epoch 15/200\n",
      "127929/127929 [==============================] - 1s 7us/sample - loss: 0.5340 - accuracy: 0.7262 - val_loss: 1.3099 - val_accuracy: 0.3968\n",
      "Epoch 16/200\n",
      "127929/127929 [==============================] - 1s 7us/sample - loss: 0.5313 - accuracy: 0.7291 - val_loss: 1.3343 - val_accuracy: 0.3981\n",
      "Epoch 17/200\n",
      "127929/127929 [==============================] - 1s 7us/sample - loss: 0.5291 - accuracy: 0.7302 - val_loss: 1.3270 - val_accuracy: 0.3989\n",
      "Epoch 18/200\n",
      "127929/127929 [==============================] - 1s 7us/sample - loss: 0.5324 - accuracy: 0.7282 - val_loss: 1.5242 - val_accuracy: 0.4002\n",
      "Epoch 19/200\n",
      "127929/127929 [==============================] - 1s 7us/sample - loss: 0.5271 - accuracy: 0.7325 - val_loss: 1.3786 - val_accuracy: 0.3994\n",
      "Epoch 20/200\n",
      "127929/127929 [==============================] - 1s 7us/sample - loss: 0.5243 - accuracy: 0.7343 - val_loss: 1.3237 - val_accuracy: 0.3972\n",
      "Epoch 21/200\n",
      "127929/127929 [==============================] - 1s 7us/sample - loss: 0.5261 - accuracy: 0.7319 - val_loss: 1.4260 - val_accuracy: 0.3974\n",
      "Epoch 22/200\n",
      "127929/127929 [==============================] - 1s 7us/sample - loss: 0.5273 - accuracy: 0.7337 - val_loss: 1.5197 - val_accuracy: 0.3961\n",
      "Epoch 23/200\n",
      "127929/127929 [==============================] - 1s 7us/sample - loss: 0.5229 - accuracy: 0.7383 - val_loss: 1.3914 - val_accuracy: 0.3964\n",
      "Epoch 24/200\n",
      "127929/127929 [==============================] - 1s 8us/sample - loss: 0.5228 - accuracy: 0.7382 - val_loss: 1.6476 - val_accuracy: 0.3962\n",
      "Epoch 25/200\n",
      "127929/127929 [==============================] - 1s 7us/sample - loss: 0.5209 - accuracy: 0.7390 - val_loss: 1.7876 - val_accuracy: 0.3967\n",
      "Epoch 26/200\n",
      "127929/127929 [==============================] - 1s 7us/sample - loss: 0.5216 - accuracy: 0.7393 - val_loss: 1.5849 - val_accuracy: 0.3967\n",
      "Epoch 27/200\n",
      "127929/127929 [==============================] - 1s 7us/sample - loss: 0.5187 - accuracy: 0.7414 - val_loss: 1.6585 - val_accuracy: 0.3963\n",
      "Epoch 28/200\n",
      "127929/127929 [==============================] - 1s 7us/sample - loss: 0.5205 - accuracy: 0.7407 - val_loss: 1.5479 - val_accuracy: 0.3964\n",
      "Epoch 29/200\n",
      "127929/127929 [==============================] - 1s 7us/sample - loss: 0.5221 - accuracy: 0.7382 - val_loss: 1.5833 - val_accuracy: 0.3966\n",
      "Epoch 30/200\n",
      "127929/127929 [==============================] - 1s 7us/sample - loss: 0.5198 - accuracy: 0.7408 - val_loss: 1.8081 - val_accuracy: 0.3964\n",
      "Epoch 31/200\n",
      "127929/127929 [==============================] - 1s 7us/sample - loss: 0.5187 - accuracy: 0.7416 - val_loss: 1.8881 - val_accuracy: 0.3963\n",
      "Epoch 32/200\n",
      "127929/127929 [==============================] - 1s 7us/sample - loss: 0.5155 - accuracy: 0.7419 - val_loss: 1.7734 - val_accuracy: 0.3963\n",
      "Epoch 33/200\n",
      "127929/127929 [==============================] - 1s 7us/sample - loss: 0.5178 - accuracy: 0.7422 - val_loss: 1.6434 - val_accuracy: 0.3965\n",
      "Epoch 34/200\n",
      "127929/127929 [==============================] - 1s 7us/sample - loss: 0.5174 - accuracy: 0.7422 - val_loss: 1.6226 - val_accuracy: 0.3965\n",
      "Epoch 35/200\n",
      "127929/127929 [==============================] - 1s 7us/sample - loss: 0.5178 - accuracy: 0.7408 - val_loss: 1.3966 - val_accuracy: 0.3963\n",
      "Epoch 36/200\n",
      "127929/127929 [==============================] - 1s 7us/sample - loss: 0.5152 - accuracy: 0.7432 - val_loss: 1.8820 - val_accuracy: 0.3967\n",
      "Epoch 37/200\n"
     ]
    },
    {
     "name": "stdout",
     "output_type": "stream",
     "text": [
      "127929/127929 [==============================] - 1s 7us/sample - loss: 0.5183 - accuracy: 0.7394 - val_loss: 1.6852 - val_accuracy: 0.3963\n",
      "Epoch 38/200\n",
      "127929/127929 [==============================] - 1s 7us/sample - loss: 0.5149 - accuracy: 0.7423 - val_loss: 1.7409 - val_accuracy: 0.3963\n",
      "Epoch 39/200\n",
      "127929/127929 [==============================] - 1s 7us/sample - loss: 0.5141 - accuracy: 0.7440 - val_loss: 1.9019 - val_accuracy: 0.3967\n",
      "Epoch 40/200\n",
      "127929/127929 [==============================] - 1s 7us/sample - loss: 0.5142 - accuracy: 0.7444 - val_loss: 1.9502 - val_accuracy: 0.3964\n",
      "Epoch 41/200\n",
      "127929/127929 [==============================] - 1s 7us/sample - loss: 0.5149 - accuracy: 0.7426 - val_loss: 1.6987 - val_accuracy: 0.3964\n",
      "Epoch 42/200\n",
      "127929/127929 [==============================] - 1s 7us/sample - loss: 0.5164 - accuracy: 0.7410 - val_loss: 1.8432 - val_accuracy: 0.3963\n",
      "Epoch 43/200\n",
      "127929/127929 [==============================] - 1s 7us/sample - loss: 0.5138 - accuracy: 0.7435 - val_loss: 2.1161 - val_accuracy: 0.3963\n",
      "Epoch 44/200\n",
      "127929/127929 [==============================] - 1s 7us/sample - loss: 0.5148 - accuracy: 0.7439 - val_loss: 1.7089 - val_accuracy: 0.3965\n",
      "Epoch 45/200\n",
      "127929/127929 [==============================] - 1s 7us/sample - loss: 0.5158 - accuracy: 0.7427 - val_loss: 2.1425 - val_accuracy: 0.3964\n",
      "Epoch 46/200\n",
      "127929/127929 [==============================] - 1s 7us/sample - loss: 0.5133 - accuracy: 0.7447 - val_loss: 2.1619 - val_accuracy: 0.3964\n",
      "Epoch 47/200\n",
      "127929/127929 [==============================] - 1s 8us/sample - loss: 0.5146 - accuracy: 0.7423 - val_loss: 1.7619 - val_accuracy: 0.3963\n",
      "Epoch 48/200\n",
      "127929/127929 [==============================] - 1s 8us/sample - loss: 0.5151 - accuracy: 0.7429 - val_loss: 2.1643 - val_accuracy: 0.3964\n",
      "Epoch 49/200\n",
      "127929/127929 [==============================] - 1s 7us/sample - loss: 0.5111 - accuracy: 0.7451 - val_loss: 1.6929 - val_accuracy: 0.3964\n",
      "Epoch 50/200\n",
      "127929/127929 [==============================] - 1s 7us/sample - loss: 0.5148 - accuracy: 0.7434 - val_loss: 1.5417 - val_accuracy: 0.3963\n",
      "Epoch 51/200\n",
      "127929/127929 [==============================] - 1s 7us/sample - loss: 0.5125 - accuracy: 0.7454 - val_loss: 1.7073 - val_accuracy: 0.3964\n",
      "Epoch 52/200\n",
      "127929/127929 [==============================] - 1s 7us/sample - loss: 0.5149 - accuracy: 0.7432 - val_loss: 1.7031 - val_accuracy: 0.3965\n",
      "Epoch 53/200\n",
      "127929/127929 [==============================] - 1s 7us/sample - loss: 0.5141 - accuracy: 0.7445 - val_loss: 1.8868 - val_accuracy: 0.3964\n",
      "Epoch 54/200\n",
      "127929/127929 [==============================] - 1s 8us/sample - loss: 0.5144 - accuracy: 0.7442 - val_loss: 2.0806 - val_accuracy: 0.3964\n",
      "Epoch 55/200\n",
      "127929/127929 [==============================] - 1s 8us/sample - loss: 0.5130 - accuracy: 0.7442 - val_loss: 2.0785 - val_accuracy: 0.3960\n",
      "Epoch 56/200\n",
      "127929/127929 [==============================] - 1s 8us/sample - loss: 0.5124 - accuracy: 0.7446 - val_loss: 1.8715 - val_accuracy: 0.3964\n",
      "Epoch 57/200\n",
      "127929/127929 [==============================] - 1s 8us/sample - loss: 0.5108 - accuracy: 0.7443 - val_loss: 1.8689 - val_accuracy: 0.3963\n",
      "Epoch 58/200\n",
      "127929/127929 [==============================] - 1s 8us/sample - loss: 0.5137 - accuracy: 0.7439 - val_loss: 2.1568 - val_accuracy: 0.3960\n",
      "Epoch 59/200\n",
      "127929/127929 [==============================] - 1s 8us/sample - loss: 0.5113 - accuracy: 0.7468 - val_loss: 1.9339 - val_accuracy: 0.3961\n",
      "Epoch 60/200\n",
      "127929/127929 [==============================] - 1s 8us/sample - loss: 0.5126 - accuracy: 0.7433 - val_loss: 2.0548 - val_accuracy: 0.3964\n",
      "Epoch 61/200\n",
      "127929/127929 [==============================] - 1s 8us/sample - loss: 0.5118 - accuracy: 0.7449 - val_loss: 2.0335 - val_accuracy: 0.3963\n",
      "Epoch 62/200\n",
      "127929/127929 [==============================] - 1s 8us/sample - loss: 0.5113 - accuracy: 0.7455 - val_loss: 2.0225 - val_accuracy: 0.3961\n",
      "Epoch 63/200\n",
      "127929/127929 [==============================] - 1s 7us/sample - loss: 0.5130 - accuracy: 0.7430 - val_loss: 1.9935 - val_accuracy: 0.3962\n",
      "Epoch 64/200\n",
      "127929/127929 [==============================] - 1s 7us/sample - loss: 0.5126 - accuracy: 0.7440 - val_loss: 1.8107 - val_accuracy: 0.3964\n",
      "Epoch 65/200\n",
      "127929/127929 [==============================] - 1s 8us/sample - loss: 0.5098 - accuracy: 0.7456 - val_loss: 2.0019 - val_accuracy: 0.3964\n",
      "Epoch 66/200\n",
      "127929/127929 [==============================] - 1s 7us/sample - loss: 0.5122 - accuracy: 0.7445 - val_loss: 1.8765 - val_accuracy: 0.3960\n",
      "Epoch 67/200\n",
      "127929/127929 [==============================] - 1s 7us/sample - loss: 0.5113 - accuracy: 0.7456 - val_loss: 1.8979 - val_accuracy: 0.3963\n",
      "Epoch 68/200\n",
      "127929/127929 [==============================] - 1s 7us/sample - loss: 0.5103 - accuracy: 0.7458 - val_loss: 2.1986 - val_accuracy: 0.3964\n",
      "Epoch 69/200\n",
      "127929/127929 [==============================] - 1s 7us/sample - loss: 0.5097 - accuracy: 0.7473 - val_loss: 2.0637 - val_accuracy: 0.3962\n",
      "Epoch 70/200\n",
      "127929/127929 [==============================] - 1s 7us/sample - loss: 0.5119 - accuracy: 0.7446 - val_loss: 2.0859 - val_accuracy: 0.3963\n",
      "Epoch 71/200\n",
      "127929/127929 [==============================] - 1s 7us/sample - loss: 0.5107 - accuracy: 0.7457 - val_loss: 2.2283 - val_accuracy: 0.3962\n",
      "Epoch 72/200\n",
      "127929/127929 [==============================] - 1s 7us/sample - loss: 0.5115 - accuracy: 0.7448 - val_loss: 1.7714 - val_accuracy: 0.3962\n",
      "Epoch 73/200\n",
      "127929/127929 [==============================] - 1s 8us/sample - loss: 0.5116 - accuracy: 0.7450 - val_loss: 1.5427 - val_accuracy: 0.3962\n",
      "Epoch 74/200\n",
      "127929/127929 [==============================] - 1s 8us/sample - loss: 0.5114 - accuracy: 0.7464 - val_loss: 2.2390 - val_accuracy: 0.3962\n",
      "Epoch 75/200\n",
      "127929/127929 [==============================] - 1s 7us/sample - loss: 0.5091 - accuracy: 0.7464 - val_loss: 2.0964 - val_accuracy: 0.3963\n",
      "Epoch 76/200\n",
      "127929/127929 [==============================] - 1s 7us/sample - loss: 0.5096 - accuracy: 0.7479 - val_loss: 2.1678 - val_accuracy: 0.3964\n",
      "Epoch 77/200\n",
      "127929/127929 [==============================] - 1s 8us/sample - loss: 0.5106 - accuracy: 0.7464 - val_loss: 1.8396 - val_accuracy: 0.3963\n",
      "Epoch 78/200\n",
      "127929/127929 [==============================] - 1s 7us/sample - loss: 0.5094 - accuracy: 0.7459 - val_loss: 2.0095 - val_accuracy: 0.3963\n",
      "Epoch 79/200\n",
      "127929/127929 [==============================] - 1s 7us/sample - loss: 0.5119 - accuracy: 0.7453 - val_loss: 2.0740 - val_accuracy: 0.3961\n",
      "Epoch 80/200\n",
      "127929/127929 [==============================] - 1s 7us/sample - loss: 0.5114 - accuracy: 0.7452 - val_loss: 2.0670 - val_accuracy: 0.3962\n",
      "Epoch 81/200\n",
      "127929/127929 [==============================] - 1s 7us/sample - loss: 0.5081 - accuracy: 0.7474 - val_loss: 2.2862 - val_accuracy: 0.3963\n",
      "Epoch 82/200\n",
      "127929/127929 [==============================] - 1s 7us/sample - loss: 0.5111 - accuracy: 0.7465 - val_loss: 2.2958 - val_accuracy: 0.3963\n",
      "Epoch 83/200\n",
      "127929/127929 [==============================] - 1s 7us/sample - loss: 0.5086 - accuracy: 0.7469 - val_loss: 2.0793 - val_accuracy: 0.3964\n",
      "Epoch 84/200\n",
      "127929/127929 [==============================] - 1s 7us/sample - loss: 0.5102 - accuracy: 0.7459 - val_loss: 1.9135 - val_accuracy: 0.3963\n",
      "Epoch 85/200\n",
      "127929/127929 [==============================] - 1s 7us/sample - loss: 0.5104 - accuracy: 0.7458 - val_loss: 2.0565 - val_accuracy: 0.3963\n",
      "Epoch 86/200\n",
      "127929/127929 [==============================] - 1s 7us/sample - loss: 0.5104 - accuracy: 0.7455 - val_loss: 2.3112 - val_accuracy: 0.3961\n",
      "Epoch 87/200\n",
      "127929/127929 [==============================] - 1s 7us/sample - loss: 0.5094 - accuracy: 0.7462 - val_loss: 2.1140 - val_accuracy: 0.3961\n",
      "Epoch 88/200\n",
      "127929/127929 [==============================] - 1s 7us/sample - loss: 0.5097 - accuracy: 0.7455 - val_loss: 2.3490 - val_accuracy: 0.3963\n",
      "Epoch 89/200\n",
      "127929/127929 [==============================] - 1s 7us/sample - loss: 0.5091 - accuracy: 0.7468 - val_loss: 2.1301 - val_accuracy: 0.3963\n",
      "Epoch 90/200\n",
      "127929/127929 [==============================] - 1s 7us/sample - loss: 0.5081 - accuracy: 0.7473 - val_loss: 1.8393 - val_accuracy: 0.3964\n"
     ]
    },
    {
     "name": "stdout",
     "output_type": "stream",
     "text": [
      "Epoch 91/200\n",
      "127929/127929 [==============================] - 1s 7us/sample - loss: 0.5112 - accuracy: 0.7442 - val_loss: 1.7963 - val_accuracy: 0.3963\n",
      "Epoch 92/200\n",
      "127929/127929 [==============================] - 1s 7us/sample - loss: 0.5093 - accuracy: 0.7474 - val_loss: 2.0792 - val_accuracy: 0.3963\n",
      "Epoch 93/200\n",
      "127929/127929 [==============================] - 1s 7us/sample - loss: 0.5074 - accuracy: 0.7479 - val_loss: 2.2050 - val_accuracy: 0.3964\n",
      "Epoch 94/200\n",
      "127929/127929 [==============================] - 1s 7us/sample - loss: 0.5093 - accuracy: 0.7463 - val_loss: 2.1300 - val_accuracy: 0.3962\n",
      "Epoch 95/200\n",
      "127929/127929 [==============================] - 1s 7us/sample - loss: 0.5074 - accuracy: 0.7486 - val_loss: 2.2617 - val_accuracy: 0.3963\n",
      "Epoch 96/200\n",
      "127929/127929 [==============================] - 1s 7us/sample - loss: 0.5099 - accuracy: 0.7454 - val_loss: 1.8566 - val_accuracy: 0.3963\n",
      "Epoch 97/200\n",
      "127929/127929 [==============================] - 1s 7us/sample - loss: 0.5081 - accuracy: 0.7464 - val_loss: 1.9535 - val_accuracy: 0.3963\n",
      "Epoch 98/200\n",
      "127929/127929 [==============================] - 1s 7us/sample - loss: 0.5076 - accuracy: 0.7486 - val_loss: 2.1150 - val_accuracy: 0.3962\n",
      "Epoch 99/200\n",
      "127929/127929 [==============================] - 1s 7us/sample - loss: 0.5089 - accuracy: 0.7478 - val_loss: 2.0443 - val_accuracy: 0.3962\n",
      "Epoch 100/200\n",
      "127929/127929 [==============================] - 1s 7us/sample - loss: 0.5078 - accuracy: 0.7476 - val_loss: 2.3156 - val_accuracy: 0.3961\n",
      "Epoch 101/200\n",
      "127929/127929 [==============================] - 1s 7us/sample - loss: 0.5103 - accuracy: 0.7470 - val_loss: 2.3478 - val_accuracy: 0.3964\n",
      "Epoch 102/200\n",
      "127929/127929 [==============================] - 1s 7us/sample - loss: 0.5092 - accuracy: 0.7478 - val_loss: 2.4838 - val_accuracy: 0.3964\n",
      "Epoch 103/200\n",
      "127929/127929 [==============================] - 1s 7us/sample - loss: 0.5093 - accuracy: 0.7467 - val_loss: 2.2920 - val_accuracy: 0.3963\n",
      "Epoch 104/200\n",
      "127929/127929 [==============================] - 1s 7us/sample - loss: 0.5089 - accuracy: 0.7475 - val_loss: 2.2654 - val_accuracy: 0.3963\n",
      "Epoch 105/200\n",
      "127929/127929 [==============================] - 1s 7us/sample - loss: 0.5099 - accuracy: 0.7461 - val_loss: 1.9872 - val_accuracy: 0.3963\n",
      "Epoch 106/200\n",
      "127929/127929 [==============================] - 1s 7us/sample - loss: 0.5082 - accuracy: 0.7458 - val_loss: 2.2162 - val_accuracy: 0.3961\n",
      "Epoch 107/200\n",
      "127929/127929 [==============================] - 1s 7us/sample - loss: 0.5079 - accuracy: 0.7463 - val_loss: 2.1367 - val_accuracy: 0.3963\n",
      "Epoch 108/200\n",
      "127929/127929 [==============================] - 1s 7us/sample - loss: 0.5074 - accuracy: 0.7464 - val_loss: 2.1604 - val_accuracy: 0.3963\n",
      "Epoch 109/200\n",
      "127929/127929 [==============================] - 1s 7us/sample - loss: 0.5083 - accuracy: 0.7469 - val_loss: 2.2663 - val_accuracy: 0.3962\n",
      "Epoch 110/200\n",
      "127929/127929 [==============================] - 1s 7us/sample - loss: 0.5088 - accuracy: 0.7463 - val_loss: 1.9676 - val_accuracy: 0.3962\n",
      "Epoch 111/200\n",
      "127929/127929 [==============================] - 1s 7us/sample - loss: 0.5071 - accuracy: 0.7475 - val_loss: 2.2612 - val_accuracy: 0.3963\n",
      "Epoch 112/200\n",
      "127929/127929 [==============================] - 1s 7us/sample - loss: 0.5076 - accuracy: 0.7480 - val_loss: 2.2017 - val_accuracy: 0.3963\n",
      "Epoch 113/200\n",
      "127929/127929 [==============================] - 1s 7us/sample - loss: 0.5100 - accuracy: 0.7469 - val_loss: 2.1502 - val_accuracy: 0.3964\n",
      "Epoch 114/200\n",
      "127929/127929 [==============================] - 1s 7us/sample - loss: 0.5076 - accuracy: 0.7470 - val_loss: 2.0240 - val_accuracy: 0.3963\n",
      "Epoch 115/200\n",
      "127929/127929 [==============================] - 1s 7us/sample - loss: 0.5093 - accuracy: 0.7461 - val_loss: 2.0375 - val_accuracy: 0.3962\n",
      "Epoch 116/200\n",
      "127929/127929 [==============================] - 1s 7us/sample - loss: 0.5083 - accuracy: 0.7471 - val_loss: 2.0400 - val_accuracy: 0.3963\n",
      "Epoch 117/200\n",
      "127929/127929 [==============================] - 1s 7us/sample - loss: 0.5081 - accuracy: 0.7474 - val_loss: 2.1036 - val_accuracy: 0.3962\n",
      "Epoch 118/200\n",
      "127929/127929 [==============================] - 1s 7us/sample - loss: 0.5080 - accuracy: 0.7472 - val_loss: 1.9073 - val_accuracy: 0.3962\n",
      "Epoch 119/200\n",
      "127929/127929 [==============================] - 1s 7us/sample - loss: 0.5080 - accuracy: 0.7469 - val_loss: 1.7412 - val_accuracy: 0.3962\n",
      "Epoch 120/200\n",
      "127929/127929 [==============================] - 1s 7us/sample - loss: 0.5075 - accuracy: 0.7463 - val_loss: 2.0521 - val_accuracy: 0.3962\n",
      "Epoch 121/200\n",
      "127929/127929 [==============================] - 1s 7us/sample - loss: 0.5062 - accuracy: 0.7492 - val_loss: 2.0139 - val_accuracy: 0.3962\n",
      "Epoch 122/200\n",
      "127929/127929 [==============================] - 1s 7us/sample - loss: 0.5087 - accuracy: 0.7470 - val_loss: 2.0489 - val_accuracy: 0.3963\n",
      "Epoch 123/200\n",
      "127929/127929 [==============================] - 1s 7us/sample - loss: 0.5069 - accuracy: 0.7483 - val_loss: 1.6240 - val_accuracy: 0.3962\n",
      "Epoch 124/200\n",
      "127929/127929 [==============================] - 1s 7us/sample - loss: 0.5052 - accuracy: 0.7497 - val_loss: 1.8995 - val_accuracy: 0.3961\n",
      "Epoch 125/200\n",
      "127929/127929 [==============================] - 1s 7us/sample - loss: 0.5050 - accuracy: 0.7505 - val_loss: 2.2305 - val_accuracy: 0.3963\n",
      "Epoch 126/200\n",
      "127929/127929 [==============================] - 1s 7us/sample - loss: 0.5067 - accuracy: 0.7481 - val_loss: 1.8662 - val_accuracy: 0.3962\n",
      "Epoch 127/200\n",
      "127929/127929 [==============================] - 1s 7us/sample - loss: 0.5060 - accuracy: 0.7499 - val_loss: 1.9537 - val_accuracy: 0.3964\n",
      "Epoch 128/200\n",
      "127929/127929 [==============================] - 1s 7us/sample - loss: 0.5054 - accuracy: 0.7509 - val_loss: 2.1606 - val_accuracy: 0.3962\n",
      "Epoch 129/200\n",
      "127929/127929 [==============================] - 1s 7us/sample - loss: 0.5040 - accuracy: 0.7519 - val_loss: 2.1063 - val_accuracy: 0.3964\n",
      "Epoch 130/200\n",
      "127929/127929 [==============================] - 1s 7us/sample - loss: 0.5053 - accuracy: 0.7501 - val_loss: 1.9625 - val_accuracy: 0.3963\n",
      "Epoch 131/200\n",
      "127929/127929 [==============================] - 1s 7us/sample - loss: 0.5045 - accuracy: 0.7505 - val_loss: 1.9624 - val_accuracy: 0.3963\n",
      "Epoch 132/200\n",
      "127929/127929 [==============================] - 1s 7us/sample - loss: 0.5040 - accuracy: 0.7519 - val_loss: 2.0243 - val_accuracy: 0.3964\n",
      "Epoch 133/200\n",
      "127929/127929 [==============================] - 1s 7us/sample - loss: 0.5045 - accuracy: 0.7509 - val_loss: 1.8487 - val_accuracy: 0.3962\n",
      "Epoch 134/200\n",
      "127929/127929 [==============================] - 1s 7us/sample - loss: 0.5027 - accuracy: 0.7516 - val_loss: 2.0602 - val_accuracy: 0.3963\n",
      "Epoch 135/200\n",
      "127929/127929 [==============================] - 1s 7us/sample - loss: 0.5038 - accuracy: 0.7510 - val_loss: 1.9520 - val_accuracy: 0.3962\n",
      "Epoch 136/200\n",
      "127929/127929 [==============================] - 1s 7us/sample - loss: 0.5033 - accuracy: 0.7514 - val_loss: 1.9144 - val_accuracy: 0.3962\n",
      "Epoch 137/200\n",
      "127929/127929 [==============================] - 1s 7us/sample - loss: 0.5008 - accuracy: 0.7512 - val_loss: 2.2805 - val_accuracy: 0.3961\n",
      "Epoch 138/200\n",
      "127929/127929 [==============================] - 1s 7us/sample - loss: 0.5033 - accuracy: 0.7519 - val_loss: 1.9657 - val_accuracy: 0.3962\n",
      "Epoch 139/200\n",
      "127929/127929 [==============================] - 1s 7us/sample - loss: 0.5030 - accuracy: 0.7507 - val_loss: 2.0247 - val_accuracy: 0.3963\n",
      "Epoch 140/200\n",
      "127929/127929 [==============================] - 1s 7us/sample - loss: 0.5029 - accuracy: 0.7523 - val_loss: 2.1604 - val_accuracy: 0.3962\n",
      "Epoch 141/200\n",
      "127929/127929 [==============================] - 1s 7us/sample - loss: 0.5032 - accuracy: 0.7513 - val_loss: 2.3113 - val_accuracy: 0.3962\n",
      "Epoch 142/200\n",
      "127929/127929 [==============================] - 1s 7us/sample - loss: 0.5042 - accuracy: 0.7490 - val_loss: 1.8648 - val_accuracy: 0.3960\n",
      "Epoch 143/200\n",
      "127929/127929 [==============================] - 1s 7us/sample - loss: 0.5021 - accuracy: 0.7511 - val_loss: 2.1432 - val_accuracy: 0.3962\n",
      "Epoch 144/200\n"
     ]
    },
    {
     "name": "stdout",
     "output_type": "stream",
     "text": [
      "127929/127929 [==============================] - 1s 7us/sample - loss: 0.5036 - accuracy: 0.7498 - val_loss: 2.2474 - val_accuracy: 0.3962\n",
      "Epoch 145/200\n",
      "127929/127929 [==============================] - 1s 7us/sample - loss: 0.5045 - accuracy: 0.7499 - val_loss: 1.9152 - val_accuracy: 0.3960\n",
      "Epoch 146/200\n",
      "127929/127929 [==============================] - 1s 7us/sample - loss: 0.5021 - accuracy: 0.7520 - val_loss: 2.0852 - val_accuracy: 0.3962\n",
      "Epoch 147/200\n",
      "127929/127929 [==============================] - 1s 7us/sample - loss: 0.5023 - accuracy: 0.7519 - val_loss: 2.2293 - val_accuracy: 0.3963\n",
      "Epoch 148/200\n",
      "127929/127929 [==============================] - 1s 7us/sample - loss: 0.5036 - accuracy: 0.7511 - val_loss: 1.9051 - val_accuracy: 0.3963\n",
      "Epoch 149/200\n",
      "127929/127929 [==============================] - 1s 7us/sample - loss: 0.5035 - accuracy: 0.7505 - val_loss: 1.8766 - val_accuracy: 0.3962\n",
      "Epoch 150/200\n",
      "127929/127929 [==============================] - 1s 7us/sample - loss: 0.5025 - accuracy: 0.7513 - val_loss: 2.0136 - val_accuracy: 0.3962\n",
      "Epoch 151/200\n",
      "127929/127929 [==============================] - 1s 7us/sample - loss: 0.5059 - accuracy: 0.7489 - val_loss: 2.0612 - val_accuracy: 0.3963\n",
      "Epoch 152/200\n",
      "127929/127929 [==============================] - 1s 7us/sample - loss: 0.5049 - accuracy: 0.7501 - val_loss: 1.7513 - val_accuracy: 0.3963\n",
      "Epoch 153/200\n",
      "127929/127929 [==============================] - 1s 8us/sample - loss: 0.5033 - accuracy: 0.7510 - val_loss: 1.8556 - val_accuracy: 0.3962\n",
      "Epoch 154/200\n",
      "127929/127929 [==============================] - 1s 7us/sample - loss: 0.5005 - accuracy: 0.7520 - val_loss: 2.0521 - val_accuracy: 0.3962\n",
      "Epoch 155/200\n",
      "127929/127929 [==============================] - 1s 7us/sample - loss: 0.5020 - accuracy: 0.7527 - val_loss: 2.0243 - val_accuracy: 0.3962\n",
      "Epoch 156/200\n",
      "127929/127929 [==============================] - 1s 7us/sample - loss: 0.5042 - accuracy: 0.7506 - val_loss: 2.1019 - val_accuracy: 0.3962\n",
      "Epoch 157/200\n",
      "127929/127929 [==============================] - 1s 7us/sample - loss: 0.5019 - accuracy: 0.7512 - val_loss: 2.2073 - val_accuracy: 0.3962\n",
      "Epoch 158/200\n",
      "127929/127929 [==============================] - 1s 7us/sample - loss: 0.5037 - accuracy: 0.7502 - val_loss: 1.9961 - val_accuracy: 0.3962\n",
      "Epoch 159/200\n",
      "127929/127929 [==============================] - 1s 7us/sample - loss: 0.5022 - accuracy: 0.7519 - val_loss: 1.9679 - val_accuracy: 0.3962\n",
      "Epoch 160/200\n",
      "127929/127929 [==============================] - 1s 7us/sample - loss: 0.5032 - accuracy: 0.7499 - val_loss: 2.0010 - val_accuracy: 0.3962\n",
      "Epoch 161/200\n",
      "127929/127929 [==============================] - 1s 7us/sample - loss: 0.5016 - accuracy: 0.7517 - val_loss: 2.2303 - val_accuracy: 0.3962\n",
      "Epoch 162/200\n",
      "127929/127929 [==============================] - 1s 7us/sample - loss: 0.5031 - accuracy: 0.7510 - val_loss: 2.4216 - val_accuracy: 0.3961\n",
      "Epoch 163/200\n",
      "127929/127929 [==============================] - 1s 7us/sample - loss: 0.5022 - accuracy: 0.7515 - val_loss: 2.2842 - val_accuracy: 0.3963\n",
      "Epoch 164/200\n",
      "127929/127929 [==============================] - 1s 7us/sample - loss: 0.5032 - accuracy: 0.7495 - val_loss: 1.9150 - val_accuracy: 0.3962\n",
      "Epoch 165/200\n",
      "127929/127929 [==============================] - 1s 7us/sample - loss: 0.5014 - accuracy: 0.7531 - val_loss: 2.3367 - val_accuracy: 0.3961\n",
      "Epoch 166/200\n",
      "127929/127929 [==============================] - 1s 7us/sample - loss: 0.5012 - accuracy: 0.7524 - val_loss: 2.0799 - val_accuracy: 0.3963\n",
      "Epoch 167/200\n",
      "127929/127929 [==============================] - 1s 7us/sample - loss: 0.5023 - accuracy: 0.7517 - val_loss: 2.1944 - val_accuracy: 0.3963\n",
      "Epoch 168/200\n",
      "127929/127929 [==============================] - 1s 7us/sample - loss: 0.5011 - accuracy: 0.7526 - val_loss: 2.1411 - val_accuracy: 0.3964\n",
      "Epoch 169/200\n",
      "127929/127929 [==============================] - 1s 7us/sample - loss: 0.5020 - accuracy: 0.7529 - val_loss: 1.9310 - val_accuracy: 0.3963\n",
      "Epoch 170/200\n",
      "127929/127929 [==============================] - 1s 7us/sample - loss: 0.5030 - accuracy: 0.7509 - val_loss: 1.8326 - val_accuracy: 0.3962\n",
      "Epoch 171/200\n",
      "127929/127929 [==============================] - 1s 7us/sample - loss: 0.5004 - accuracy: 0.7520 - val_loss: 2.1152 - val_accuracy: 0.3964\n",
      "Epoch 172/200\n",
      "127929/127929 [==============================] - 1s 7us/sample - loss: 0.5016 - accuracy: 0.7519 - val_loss: 2.1098 - val_accuracy: 0.3963\n",
      "Epoch 173/200\n",
      "127929/127929 [==============================] - 1s 7us/sample - loss: 0.5018 - accuracy: 0.7515 - val_loss: 1.9945 - val_accuracy: 0.3964\n",
      "Epoch 174/200\n",
      "127929/127929 [==============================] - 1s 7us/sample - loss: 0.5016 - accuracy: 0.7514 - val_loss: 1.9158 - val_accuracy: 0.3964\n",
      "Epoch 175/200\n",
      "127929/127929 [==============================] - 1s 7us/sample - loss: 0.4995 - accuracy: 0.7541 - val_loss: 1.9310 - val_accuracy: 0.3963\n",
      "Epoch 176/200\n",
      "127929/127929 [==============================] - 1s 7us/sample - loss: 0.5012 - accuracy: 0.7520 - val_loss: 2.2002 - val_accuracy: 0.3963\n",
      "Epoch 177/200\n",
      "127929/127929 [==============================] - 1s 7us/sample - loss: 0.5024 - accuracy: 0.7506 - val_loss: 1.9501 - val_accuracy: 0.3963\n",
      "Epoch 178/200\n",
      "127929/127929 [==============================] - 1s 7us/sample - loss: 0.5008 - accuracy: 0.7532 - val_loss: 2.1862 - val_accuracy: 0.3964\n",
      "Epoch 179/200\n",
      "127929/127929 [==============================] - 1s 7us/sample - loss: 0.5000 - accuracy: 0.7534 - val_loss: 2.0078 - val_accuracy: 0.3962\n",
      "Epoch 180/200\n",
      "127929/127929 [==============================] - 1s 8us/sample - loss: 0.5011 - accuracy: 0.7511 - val_loss: 1.9559 - val_accuracy: 0.3964\n",
      "Epoch 181/200\n",
      "127929/127929 [==============================] - 1s 7us/sample - loss: 0.5032 - accuracy: 0.7501 - val_loss: 2.0490 - val_accuracy: 0.3964\n",
      "Epoch 182/200\n",
      "127929/127929 [==============================] - 1s 7us/sample - loss: 0.5014 - accuracy: 0.7522 - val_loss: 2.2175 - val_accuracy: 0.3964\n",
      "Epoch 183/200\n",
      "127929/127929 [==============================] - 1s 7us/sample - loss: 0.5010 - accuracy: 0.7518 - val_loss: 1.9922 - val_accuracy: 0.3962\n",
      "Epoch 184/200\n",
      "127929/127929 [==============================] - 1s 7us/sample - loss: 0.5004 - accuracy: 0.7519 - val_loss: 2.0264 - val_accuracy: 0.3964\n",
      "Epoch 185/200\n",
      "127929/127929 [==============================] - 1s 7us/sample - loss: 0.5023 - accuracy: 0.7518 - val_loss: 2.1829 - val_accuracy: 0.3963\n",
      "Epoch 186/200\n",
      "127929/127929 [==============================] - 1s 7us/sample - loss: 0.5014 - accuracy: 0.7533 - val_loss: 2.0747 - val_accuracy: 0.3963\n",
      "Epoch 187/200\n",
      "127929/127929 [==============================] - 1s 7us/sample - loss: 0.5015 - accuracy: 0.7525 - val_loss: 1.9455 - val_accuracy: 0.3964\n",
      "Epoch 188/200\n",
      "127929/127929 [==============================] - 1s 7us/sample - loss: 0.5002 - accuracy: 0.7536 - val_loss: 2.1541 - val_accuracy: 0.3964\n",
      "Epoch 189/200\n",
      "127929/127929 [==============================] - 1s 7us/sample - loss: 0.5000 - accuracy: 0.7531 - val_loss: 1.8803 - val_accuracy: 0.3964\n",
      "Epoch 190/200\n",
      "127929/127929 [==============================] - 1s 7us/sample - loss: 0.5007 - accuracy: 0.7517 - val_loss: 2.3480 - val_accuracy: 0.3965\n",
      "Epoch 191/200\n",
      "127929/127929 [==============================] - 1s 7us/sample - loss: 0.5002 - accuracy: 0.7543 - val_loss: 2.0228 - val_accuracy: 0.3963\n",
      "Epoch 192/200\n",
      "127929/127929 [==============================] - 1s 7us/sample - loss: 0.5004 - accuracy: 0.7529 - val_loss: 2.1729 - val_accuracy: 0.3963\n",
      "Epoch 193/200\n",
      "127929/127929 [==============================] - 1s 7us/sample - loss: 0.5013 - accuracy: 0.7536 - val_loss: 2.0594 - val_accuracy: 0.3964\n",
      "Epoch 194/200\n",
      "127929/127929 [==============================] - 1s 7us/sample - loss: 0.5010 - accuracy: 0.7522 - val_loss: 2.1071 - val_accuracy: 0.3963\n",
      "Epoch 195/200\n",
      "127929/127929 [==============================] - 1s 7us/sample - loss: 0.5017 - accuracy: 0.7519 - val_loss: 2.0922 - val_accuracy: 0.3964\n",
      "Epoch 196/200\n",
      "127929/127929 [==============================] - 1s 7us/sample - loss: 0.5011 - accuracy: 0.7525 - val_loss: 2.5582 - val_accuracy: 0.3964\n",
      "Epoch 197/200\n"
     ]
    },
    {
     "name": "stdout",
     "output_type": "stream",
     "text": [
      "127929/127929 [==============================] - 1s 7us/sample - loss: 0.5028 - accuracy: 0.7509 - val_loss: 2.1596 - val_accuracy: 0.3964\n",
      "Epoch 198/200\n",
      "127929/127929 [==============================] - 1s 7us/sample - loss: 0.5008 - accuracy: 0.7535 - val_loss: 2.2868 - val_accuracy: 0.3964\n",
      "Epoch 199/200\n",
      "127929/127929 [==============================] - 1s 7us/sample - loss: 0.5028 - accuracy: 0.7499 - val_loss: 2.1710 - val_accuracy: 0.3963\n",
      "Epoch 200/200\n",
      "127929/127929 [==============================] - 1s 7us/sample - loss: 0.5003 - accuracy: 0.7536 - val_loss: 2.1598 - val_accuracy: 0.3963\n",
      "Executing op CloseSummaryWriter in device /job:localhost/replica:0/task:0/device:CPU:0\n",
      "Executing op DestroyResourceOp in device /job:localhost/replica:0/task:0/device:CPU:0\n",
      "Executing op DeleteIterator in device /job:localhost/replica:0/task:0/device:GPU:1\n",
      "Executing op DeleteIterator in device /job:localhost/replica:0/task:0/device:GPU:0\n"
     ]
    }
   ],
   "source": [
    "history = model_final.fit(x_train, y_train, validation_data=(x_test, y_test), epochs=200, batch_size=1000, callbacks=[tb_random])"
   ]
  },
  {
   "cell_type": "code",
   "execution_count": 34,
   "metadata": {},
   "outputs": [
    {
     "name": "stdout",
     "output_type": "stream",
     "text": [
      "Executing op MapDataset in device /job:localhost/replica:0/task:0/device:CPU:0\n",
      "Executing op FlatMapDataset in device /job:localhost/replica:0/task:0/device:CPU:0\n",
      "Executing op TensorDataset in device /job:localhost/replica:0/task:0/device:CPU:0\n",
      "Executing op RepeatDataset in device /job:localhost/replica:0/task:0/device:CPU:0\n",
      "Executing op ZipDataset in device /job:localhost/replica:0/task:0/device:CPU:0\n",
      "Executing op ParallelMapDataset in device /job:localhost/replica:0/task:0/device:CPU:0\n",
      "Executing op RebatchDataset in device /job:localhost/replica:0/task:0/device:CPU:0\n",
      "Executing op AutoShardDataset in device /job:localhost/replica:0/task:0/device:CPU:0\n",
      "Executing op OptimizeDataset in device /job:localhost/replica:0/task:0/device:CPU:0\n",
      "Executing op ModelDataset in device /job:localhost/replica:0/task:0/device:CPU:0\n",
      "Executing op MultiDeviceIterator in device /job:localhost/replica:0/task:0/device:CPU:0\n",
      "Executing op GeneratorDataset in device /job:localhost/replica:0/task:0/device:GPU:0\n",
      "Executing op GeneratorDataset in device /job:localhost/replica:0/task:0/device:GPU:1\n",
      "Executing op PrefetchDataset in device /job:localhost/replica:0/task:0/device:GPU:0\n",
      "Executing op AnonymousIteratorV2 in device /job:localhost/replica:0/task:0/device:GPU:0\n",
      "Executing op PrefetchDataset in device /job:localhost/replica:0/task:0/device:GPU:1\n",
      "Executing op AnonymousIteratorV2 in device /job:localhost/replica:0/task:0/device:GPU:1\n",
      "Executing op __inference_distributed_function_130368 in device /job:localhost/replica:0/task:0/device:GPU:0\n"
     ]
    }
   ],
   "source": [
    "predictions = model_final.predict(x_test)"
   ]
  },
  {
   "cell_type": "code",
   "execution_count": 35,
   "metadata": {},
   "outputs": [
    {
     "name": "stdout",
     "output_type": "stream",
     "text": [
      "Executing op ArgMax in device /job:localhost/replica:0/task:0/device:GPU:0\n",
      "Prediction: [0 0 0 ... 0 0 0]\n",
      "   Actuals: [1 1 0 ... 1 0 0]\n"
     ]
    }
   ],
   "source": [
    "print(\"Prediction: {}\".format(tf.argmax(predictions, axis=1)))\n",
    "print(\"   Actuals: {}\".format(y_test))\n"
   ]
  },
  {
   "cell_type": "code",
   "execution_count": 36,
   "metadata": {},
   "outputs": [
    {
     "name": "stdout",
     "output_type": "stream",
     "text": [
      "Executing op VarHandleOp in device /job:localhost/replica:0/task:0/device:GPU:0\n",
      "Executing op LogicalNot in device /job:localhost/replica:0/task:0/device:GPU:0\n",
      "Executing op Assert in device /job:localhost/replica:0/task:0/device:GPU:0\n"
     ]
    }
   ],
   "source": [
    "test_accuracy = tf.keras.metrics.Accuracy()"
   ]
  },
  {
   "cell_type": "code",
   "execution_count": 37,
   "metadata": {},
   "outputs": [
    {
     "name": "stdout",
     "output_type": "stream",
     "text": [
      "Executing op Cast in device /job:localhost/replica:0/task:0/device:GPU:0\n",
      "Executing op Equal in device /job:localhost/replica:0/task:0/device:GPU:0\n",
      "Executing op Cast in device /job:localhost/replica:0/task:0/device:GPU:0\n",
      "Executing op Sum in device /job:localhost/replica:0/task:0/device:GPU:0\n",
      "Executing op AssignAddVariableOp in device /job:localhost/replica:0/task:0/device:GPU:0\n",
      "Executing op Cast in device /job:localhost/replica:0/task:0/device:GPU:0\n",
      "Executing op DivNoNan in device /job:localhost/replica:0/task:0/device:GPU:0\n",
      "Test set accuracy: 60.348%\n"
     ]
    }
   ],
   "source": [
    "test_accuracy(tf.argmax(predictions, axis=1), y_test)\n",
    "print(\"Test set accuracy: {:.3%}\".format(test_accuracy.result()))\n"
   ]
  },
  {
   "cell_type": "code",
   "execution_count": 38,
   "metadata": {
    "scrolled": true
   },
   "outputs": [
    {
     "data": {
      "image/png": "[encoded data removed]",
      "text/plain": [
       "<Figure size 432x288 with 1 Axes>"
      ]
     },
     "metadata": {
      "needs_background": "light"
     },
     "output_type": "display_data"
    },
    {
     "data": {
      "image/png": "[encoded data removed]",
      "text/plain": [
       "<Figure size 432x288 with 1 Axes>"
      ]
     },
     "metadata": {
      "needs_background": "light"
     },
     "output_type": "display_data"
    }
   ],
   "source": [
    "#come back to this; not working right.\n",
    "\n",
    "import tkinter\n",
    "import matplotlib\n",
    "\n",
    "\n",
    "# Plot training & validation accuracy values\n",
    "plt.plot(history.history['accuracy'])\n",
    "plt.plot(history.history['val_accuracy'])\n",
    "plt.savefig(\"DNgraphacc.png\")\n",
    "plt.title('Model accuracy')\n",
    "plt.ylabel('Accuracy')\n",
    "plt.xlabel('Epoch')\n",
    "plt.legend(['Train', 'Test'], loc='upper left')\n",
    "plt.show()\n",
    "\n",
    "# Plot training & validation loss values\n",
    "plt.plot(history.history['loss'])\n",
    "plt.plot(history.history['val_loss'])\n",
    "plt.savefig(\"DNgraphloss.png\")\n",
    "plt.title('Model loss')\n",
    "plt.ylabel('Loss')\n",
    "plt.xlabel('Epoch')\n",
    "plt.legend(['Train', 'Test'], loc='upper left')\n",
    "plt.show()"
   ]
  },
  {
   "cell_type": "code",
   "execution_count": 40,
   "metadata": {},
   "outputs": [
    {
     "name": "stdout",
     "output_type": "stream",
     "text": [
      "              precision    recall  f1-score   support\n",
      "\n",
      "           0       0.60      1.00      0.75     19301\n",
      "           1       0.00      0.00      0.00     12682\n",
      "\n",
      "   micro avg       0.60      0.60      0.60     31983\n",
      "   macro avg       0.30      0.50      0.38     31983\n",
      "weighted avg       0.36      0.60      0.45     31983\n",
      "\n"
     ]
    },
    {
     "name": "stderr",
     "output_type": "stream",
     "text": [
      "C:\\Users\\Brandon\\AppData\\Local\\Continuum\\anaconda3\\lib\\site-packages\\sklearn\\metrics\\classification.py:1143: UndefinedMetricWarning: Precision and F-score are ill-defined and being set to 0.0 in labels with no predicted samples.\n",
      "  'precision', 'predicted', average, warn_for)\n"
     ]
    }
   ],
   "source": [
    "from sklearn.metrics import classification_report\n",
    "predictions = (tf.argmax(predictions, 1))\n",
    "classreport = classification_report(y_test,predictions)\n",
    "\n",
    "print(classreport)"
   ]
  },
  {
   "cell_type": "markdown",
   "metadata": {},
   "source": []
  },
  {
   "cell_type": "code",
   "execution_count": 41,
   "metadata": {},
   "outputs": [],
   "source": [
    "from sklearn.svm import SVC\n",
    "\n",
    "from sklearn.metrics import classification_report, confusion_matrix\n",
    "\n",
    "from sklearn.externals.joblib import parallel_backend\n",
    "\n",
    "from sklearn.model_selection import cross_val_score\n",
    "\n",
    "from sklearn.model_selection import train_test_split"
   ]
  },
  {
   "cell_type": "code",
   "execution_count": 42,
   "metadata": {},
   "outputs": [],
   "source": [
    "import time\n",
    "\n",
    "import psutil\n"
   ]
  },
  {
   "cell_type": "code",
   "execution_count": 43,
   "metadata": {},
   "outputs": [],
   "source": [
    "import pandas as pd  \n",
    "import numpy as np  \n",
    "import matplotlib.pyplot as plt  \n",
    "import seaborn as seabornInstance \n",
    "from sklearn.model_selection import train_test_split \n",
    "from sklearn.linear_model import LinearRegression\n",
    "from sklearn import metrics\n",
    "%matplotlib inline\n",
    "\n",
    "from sklearn.model_selection import cross_val_score\n",
    "from sklearn import metrics\n",
    "from sklearn import svm\n",
    "from sklearn import datasets\n",
    "from sklearn.svm import SVR\n",
    "\n",
    "from sklearn.model_selection import GridSearchCV\n",
    "\n",
    "from sklearn import preprocessing\n",
    "\n",
    "from sklearn.metrics import mean_squared_error\n",
    "\n",
    "from sklearn.metrics import r2_score\n",
    "from sklearn.neighbors import KNeighborsRegressor\n",
    "from sklearn.multioutput import MultiOutputRegressor"
   ]
  },
  {
   "cell_type": "code",
   "execution_count": 44,
   "metadata": {},
   "outputs": [],
   "source": [
    "from sklearn.multiclass import OneVsRestClassifier\n",
    "\n",
    "from sklearn.ensemble import BaggingClassifier, RandomForestClassifier"
   ]
  },
  {
   "cell_type": "markdown",
   "metadata": {},
   "source": [
    "# PCA"
   ]
  },
  {
   "cell_type": "code",
   "execution_count": 45,
   "metadata": {},
   "outputs": [],
   "source": [
    "import numpy as np\n",
    "from sklearn.decomposition import PCA\n",
    "import pandas as pd\n",
    "import matplotlib.pyplot as plt\n",
    "from sklearn.preprocessing import scale\n",
    "from sklearn.preprocessing import StandardScaler\n",
    "\n",
    "%matplotlib inline"
   ]
  },
  {
   "cell_type": "code",
   "execution_count": 46,
   "metadata": {},
   "outputs": [],
   "source": [
    "# use x1 and y\n",
    "\n",
    "x2 = x1.values\n",
    "\n",
    "y1 = y\n",
    "\n"
   ]
  },
  {
   "cell_type": "code",
   "execution_count": 47,
   "metadata": {},
   "outputs": [],
   "source": [
    "x2 = StandardScaler().fit_transform(x2)"
   ]
  },
  {
   "cell_type": "code",
   "execution_count": 48,
   "metadata": {},
   "outputs": [],
   "source": [
    "x_train, x_test, y_train, y_test = train_test_split(x2, y1, test_size=0.20, random_state=102)"
   ]
  },
  {
   "cell_type": "code",
   "execution_count": 49,
   "metadata": {},
   "outputs": [],
   "source": [
    "pca = PCA(n_components = 5)\n",
    "\n",
    "x_trainfit = pca.fit_transform(x_train)\n",
    "\n",
    "x_train = pca.transform(x_train)\n",
    "x_test = pca.transform(x_test)\n",
    "\n",
    "explained_variance = pca.explained_variance_ratio_"
   ]
  },
  {
   "cell_type": "code",
   "execution_count": 50,
   "metadata": {},
   "outputs": [],
   "source": [
    "x_train1 = pd.DataFrame(x_train)"
   ]
  },
  {
   "cell_type": "code",
   "execution_count": 51,
   "metadata": {},
   "outputs": [],
   "source": [
    "principalDF = pd.DataFrame(data = x_trainfit, columns = x_train1.columns)"
   ]
  },
  {
   "cell_type": "code",
   "execution_count": 52,
   "metadata": {},
   "outputs": [],
   "source": [
    "finalDf = pd.concat([principalDF, pd.DataFrame(y_train)], axis = 1)"
   ]
  },
  {
   "cell_type": "code",
   "execution_count": 53,
   "metadata": {},
   "outputs": [
    {
     "data": {
      "text/html": [
       "<div>\n",
       "<style scoped>\n",
       "    .dataframe tbody tr th:only-of-type {\n",
       "        vertical-align: middle;\n",
       "    }\n",
       "\n",
       "    .dataframe tbody tr th {\n",
       "        vertical-align: top;\n",
       "    }\n",
       "\n",
       "    .dataframe thead th {\n",
       "        text-align: right;\n",
       "    }\n",
       "</style>\n",
       "<table border=\"1\" class=\"dataframe\">\n",
       "  <thead>\n",
       "    <tr style=\"text-align: right;\">\n",
       "      <th></th>\n",
       "      <th>0</th>\n",
       "      <th>1</th>\n",
       "      <th>2</th>\n",
       "      <th>3</th>\n",
       "      <th>4</th>\n",
       "      <th>0</th>\n",
       "    </tr>\n",
       "  </thead>\n",
       "  <tbody>\n",
       "    <tr>\n",
       "      <th>0</th>\n",
       "      <td>1.220800</td>\n",
       "      <td>1.324133</td>\n",
       "      <td>-1.580347</td>\n",
       "      <td>-1.019551</td>\n",
       "      <td>-1.798470</td>\n",
       "      <td>1</td>\n",
       "    </tr>\n",
       "    <tr>\n",
       "      <th>1</th>\n",
       "      <td>0.615768</td>\n",
       "      <td>0.474966</td>\n",
       "      <td>-1.544896</td>\n",
       "      <td>-0.828902</td>\n",
       "      <td>1.436974</td>\n",
       "      <td>0</td>\n",
       "    </tr>\n",
       "    <tr>\n",
       "      <th>2</th>\n",
       "      <td>-0.518228</td>\n",
       "      <td>-0.169135</td>\n",
       "      <td>-0.648963</td>\n",
       "      <td>-1.027525</td>\n",
       "      <td>1.156156</td>\n",
       "      <td>0</td>\n",
       "    </tr>\n",
       "    <tr>\n",
       "      <th>3</th>\n",
       "      <td>-1.111114</td>\n",
       "      <td>1.728949</td>\n",
       "      <td>-0.468866</td>\n",
       "      <td>-0.972758</td>\n",
       "      <td>0.550918</td>\n",
       "      <td>1</td>\n",
       "    </tr>\n",
       "    <tr>\n",
       "      <th>4</th>\n",
       "      <td>-3.024965</td>\n",
       "      <td>0.338255</td>\n",
       "      <td>0.556334</td>\n",
       "      <td>1.878958</td>\n",
       "      <td>-0.962928</td>\n",
       "      <td>0</td>\n",
       "    </tr>\n",
       "    <tr>\n",
       "      <th>...</th>\n",
       "      <td>...</td>\n",
       "      <td>...</td>\n",
       "      <td>...</td>\n",
       "      <td>...</td>\n",
       "      <td>...</td>\n",
       "      <td>...</td>\n",
       "    </tr>\n",
       "    <tr>\n",
       "      <th>127924</th>\n",
       "      <td>-1.332086</td>\n",
       "      <td>-0.014552</td>\n",
       "      <td>-2.265616</td>\n",
       "      <td>1.828351</td>\n",
       "      <td>1.045182</td>\n",
       "      <td>0</td>\n",
       "    </tr>\n",
       "    <tr>\n",
       "      <th>127925</th>\n",
       "      <td>-0.274151</td>\n",
       "      <td>-1.862288</td>\n",
       "      <td>0.314284</td>\n",
       "      <td>-1.125305</td>\n",
       "      <td>-0.524877</td>\n",
       "      <td>1</td>\n",
       "    </tr>\n",
       "    <tr>\n",
       "      <th>127926</th>\n",
       "      <td>-1.574090</td>\n",
       "      <td>0.665047</td>\n",
       "      <td>-0.823040</td>\n",
       "      <td>1.623873</td>\n",
       "      <td>2.599790</td>\n",
       "      <td>1</td>\n",
       "    </tr>\n",
       "    <tr>\n",
       "      <th>127927</th>\n",
       "      <td>4.092712</td>\n",
       "      <td>-1.817015</td>\n",
       "      <td>1.757956</td>\n",
       "      <td>-0.924138</td>\n",
       "      <td>0.239345</td>\n",
       "      <td>0</td>\n",
       "    </tr>\n",
       "    <tr>\n",
       "      <th>127928</th>\n",
       "      <td>-0.649890</td>\n",
       "      <td>0.193743</td>\n",
       "      <td>0.700319</td>\n",
       "      <td>1.787986</td>\n",
       "      <td>-0.476528</td>\n",
       "      <td>0</td>\n",
       "    </tr>\n",
       "  </tbody>\n",
       "</table>\n",
       "<p>127929 rows × 6 columns</p>\n",
       "</div>"
      ],
      "text/plain": [
       "               0         1         2         3         4  0\n",
       "0       1.220800  1.324133 -1.580347 -1.019551 -1.798470  1\n",
       "1       0.615768  0.474966 -1.544896 -0.828902  1.436974  0\n",
       "2      -0.518228 -0.169135 -0.648963 -1.027525  1.156156  0\n",
       "3      -1.111114  1.728949 -0.468866 -0.972758  0.550918  1\n",
       "4      -3.024965  0.338255  0.556334  1.878958 -0.962928  0\n",
       "...          ...       ...       ...       ...       ... ..\n",
       "127924 -1.332086 -0.014552 -2.265616  1.828351  1.045182  0\n",
       "127925 -0.274151 -1.862288  0.314284 -1.125305 -0.524877  1\n",
       "127926 -1.574090  0.665047 -0.823040  1.623873  2.599790  1\n",
       "127927  4.092712 -1.817015  1.757956 -0.924138  0.239345  0\n",
       "127928 -0.649890  0.193743  0.700319  1.787986 -0.476528  0\n",
       "\n",
       "[127929 rows x 6 columns]"
      ]
     },
     "execution_count": 53,
     "metadata": {},
     "output_type": "execute_result"
    }
   ],
   "source": [
    "finalDf"
   ]
  },
  {
   "cell_type": "code",
   "execution_count": 54,
   "metadata": {},
   "outputs": [],
   "source": [
    "selected = pd.DataFrame(explained_variance)"
   ]
  },
  {
   "cell_type": "code",
   "execution_count": 55,
   "metadata": {},
   "outputs": [
    {
     "name": "stdout",
     "output_type": "stream",
     "text": [
      "          0\n",
      "0  0.053987\n",
      "1  0.043970\n",
      "2  0.031365\n",
      "3  0.027352\n",
      "4  0.026655\n"
     ]
    }
   ],
   "source": [
    "print(selected)"
   ]
  },
  {
   "cell_type": "code",
   "execution_count": 56,
   "metadata": {},
   "outputs": [
    {
     "data": {
      "image/png": "[encoded data removed]",
      "text/plain": [
       "<Figure size 432x288 with 1 Axes>"
      ]
     },
     "metadata": {
      "needs_background": "light"
     },
     "output_type": "display_data"
    }
   ],
   "source": [
    "plt.plot(np.cumsum(pca.explained_variance_ratio_))\n",
    "plt.xlabel('number of components')\n",
    "plt.ylabel('cumulative explained variance');"
   ]
  },
  {
   "cell_type": "markdown",
   "metadata": {},
   "source": [
    "# Pass Through PCA into SVM"
   ]
  },
  {
   "cell_type": "code",
   "execution_count": 57,
   "metadata": {},
   "outputs": [],
   "source": [
    "clf = SVC(kernel='linear', C=1,gamma = 0.01).fit(x_train, y_train)\n",
    "clf.score(x_test, y_test)  \n",
    "y_pred = clf.predict(x_test)"
   ]
  },
  {
   "cell_type": "code",
   "execution_count": 58,
   "metadata": {},
   "outputs": [
    {
     "name": "stdout",
     "output_type": "stream",
     "text": [
      "[[17460  1841]\n",
      " [ 8552  4130]]\n"
     ]
    }
   ],
   "source": [
    "print(confusion_matrix(y_test,y_pred))"
   ]
  },
  {
   "cell_type": "code",
   "execution_count": 59,
   "metadata": {},
   "outputs": [
    {
     "name": "stdout",
     "output_type": "stream",
     "text": [
      "0.6750461182503205\n"
     ]
    }
   ],
   "source": [
    "print(clf.score(x_test, y_test))"
   ]
  },
  {
   "cell_type": "markdown",
   "metadata": {},
   "source": [
    "# Other Feature Selection Runs"
   ]
  },
  {
   "cell_type": "code",
   "execution_count": 60,
   "metadata": {},
   "outputs": [
    {
     "name": "stderr",
     "output_type": "stream",
     "text": [
      "C:\\Users\\Brandon\\AppData\\Local\\Continuum\\anaconda3\\lib\\site-packages\\sklearn\\preprocessing\\data.py:334: DataConversionWarning: Data with input dtype uint8, float64 were all converted to float64 by MinMaxScaler.\n",
      "  return self.partial_fit(X, y)\n"
     ]
    }
   ],
   "source": [
    "scaler = MinMaxScaler(feature_range=(0,1))\n",
    "scaled_train = scaler.fit_transform(x1)\n",
    "\n",
    "# Print out the adjustment that the scaler applied to the lepton pT column of data\n",
    "#print(\"Note: median values were scaled by multiplying by {:.10f} and adding {:.6f}\".format(scaler.scale_[0],scaler.min_[0]))\n",
    "#multiplied_by = scaler.scale_[0]\n",
    "#added = scaler.min_[0]\n",
    "\n",
    "scaled_train_df = pd.DataFrame(scaled_train, columns = x1.columns)"
   ]
  },
  {
   "cell_type": "code",
   "execution_count": 61,
   "metadata": {},
   "outputs": [],
   "source": [
    "from sklearn.feature_selection import SelectKBest\n",
    "from sklearn.feature_selection import chi2\n",
    "\n",
    "\n",
    "test = SelectKBest(score_func=chi2, k=4)\n",
    "fit = test.fit(scaled_train_df, y1)"
   ]
  },
  {
   "cell_type": "code",
   "execution_count": 62,
   "metadata": {},
   "outputs": [
    {
     "name": "stdout",
     "output_type": "stream",
     "text": [
      "[8.539e-03 4.188e-02 1.048e-02 1.680e-03 3.995e-03 1.008e+01 5.741e-01\n",
      " 1.673e-01 4.167e-02 5.239e-02 2.019e-03 4.626e+01 1.773e-02 5.913e-03\n",
      " 1.036e-02 6.076e-02 6.497e-02 2.931e-02 1.131e-02 2.145e+02 3.448e-02\n",
      " 1.172e-04 2.366e+02 1.022e-02 1.732e-02 5.326e-02 3.333e-03 7.381e-03\n",
      " 1.167e-01 1.222e-02 9.781e-02 1.860e-02 6.116e-03 9.864e+00 2.359e-02\n",
      " 1.464e+02 5.192e+01 4.926e+01 3.456e-04 7.259e-05 3.410e-02 5.325e+00\n",
      " 1.279e-04 4.730e-02 2.067e+02 2.821e+01 3.964e+02 2.547e+01 1.726e-01\n",
      " 1.400e-01 1.608e-01 6.382e-01 1.010e+00 2.256e-02 7.031e-01 1.744e-02\n",
      " 9.773e-02 7.829e-01 1.552e+00 5.683e-01 5.359e-03 1.902e-01 7.804e-01\n",
      " 1.227e+00 5.066e-01]\n",
      "[[0.455 0.561 0.435 0.   ]\n",
      " [0.383 0.617 0.622 0.   ]\n",
      " [0.521 0.49  0.437 0.   ]\n",
      " [0.525 0.441 0.438 0.   ]\n",
      " [0.324 0.405 0.614 0.   ]]\n"
     ]
    }
   ],
   "source": [
    "# Summarize scores\n",
    "np.set_printoptions(precision=3)\n",
    "print(fit.scores_)\n",
    "\n",
    "features = fit.transform(scaled_train_df)\n",
    "# Summarize selected features\n",
    "print(features[0:5,:])"
   ]
  },
  {
   "cell_type": "code",
   "execution_count": 63,
   "metadata": {},
   "outputs": [],
   "source": [
    "from sklearn.feature_selection import RFE\n",
    "from sklearn.linear_model import LogisticRegression"
   ]
  },
  {
   "cell_type": "code",
   "execution_count": null,
   "metadata": {},
   "outputs": [],
   "source": [
    "model = LogisticRegression()\n",
    "rfe = RFE(model, 3)\n",
    "fit = rfe.fit(scaled_train_df, y1)\n",
    "print(\"Num Features: %s\" % (fit.n_features_))\n",
    "print(\"Selected Features: %s\" % (fit.support_))\n",
    "print(\"Feature Ranking: %s\" % (fit.ranking_))"
   ]
  },
  {
   "cell_type": "code",
   "execution_count": null,
   "metadata": {},
   "outputs": [],
   "source": [
    "from sklearn.linear_model import Ridge"
   ]
  },
  {
   "cell_type": "code",
   "execution_count": null,
   "metadata": {},
   "outputs": [],
   "source": [
    "ridge = Ridge(alpha=1.0)\n",
    "ridge.fit(scaled_train_df, y1)"
   ]
  },
  {
   "cell_type": "code",
   "execution_count": null,
   "metadata": {},
   "outputs": [],
   "source": [
    "def pretty_print_coefs(coefs, names = None, sort = False):\n",
    "    if names == None:\n",
    "        names = [\"X%s\" % x for x in range(len(coefs))]\n",
    "    lst = zip(coefs, names)\n",
    "    if sort:\n",
    "        lst = sorted(lst,  key = lambda x:-np.abs(x[0]))\n",
    "    return \" + \".join(\"%s * %s\" % (round(coef, 3), name)\n",
    "                                   for coef, name in lst)"
   ]
  },
  {
   "cell_type": "code",
   "execution_count": null,
   "metadata": {},
   "outputs": [],
   "source": [
    "print (\"Ridge model:\", pretty_print_coefs(ridge.coef_))"
   ]
  },
  {
   "cell_type": "code",
   "execution_count": null,
   "metadata": {},
   "outputs": [],
   "source": []
  },
  {
   "cell_type": "code",
   "execution_count": null,
   "metadata": {},
   "outputs": [],
   "source": []
  },
  {
   "cell_type": "code",
   "execution_count": null,
   "metadata": {},
   "outputs": [],
   "source": []
  }
 ],
 "metadata": {
  "kernelspec": {
   "display_name": "Python 3",
   "language": "python",
   "name": "python3"
  },
  "language_info": {
   "codemirror_mode": {
    "name": "ipython",
    "version": 3
   },
   "file_extension": ".py",
   "mimetype": "text/x-python",
   "name": "python",
   "nbconvert_exporter": "python",
   "pygments_lexer": "ipython3",
   "version": "3.6.9"
  }
 },
 "nbformat": 4,
 "nbformat_minor": 2
}
