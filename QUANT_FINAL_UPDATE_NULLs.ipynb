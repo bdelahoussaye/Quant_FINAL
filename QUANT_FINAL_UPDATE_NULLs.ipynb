{
 "cells": [
  {
   "cell_type": "markdown",
   "metadata": {},
   "source": [
    "# Update Null Values"
   ]
  },
  {
   "cell_type": "code",
   "execution_count": 51,
   "metadata": {},
   "outputs": [],
   "source": [
    "import pandas as pd\n",
    "import numpy as np"
   ]
  },
  {
   "cell_type": "markdown",
   "metadata": {},
   "source": [
    "## Load Data"
   ]
  },
  {
   "cell_type": "code",
   "execution_count": 52,
   "metadata": {},
   "outputs": [],
   "source": [
    "data = pd.read_csv('final_project_mod.csv', dtype = {'Continent': 'category', 'Month':'category', 'DayOfWeek':'category'})"
   ]
  },
  {
   "cell_type": "markdown",
   "metadata": {},
   "source": [
    "### Explicitly Define Order Category for Month and DayOfWeek"
   ]
  },
  {
   "cell_type": "code",
   "execution_count": 53,
   "metadata": {},
   "outputs": [],
   "source": [
    "from pandas.api.types import CategoricalDtype"
   ]
  },
  {
   "cell_type": "code",
   "execution_count": 54,
   "metadata": {},
   "outputs": [],
   "source": [
    "# The fist step in ordering a category feature is to define a custom order by way of CategoricalDtype\n",
    "month_ordered_categories = ['Jan', 'Feb', 'Mar', 'Apr', 'May', 'Jun', 'Jul', 'Aug', 'Sep', 'Oct', 'Nov', 'Dec']\n",
    "\n",
    "# Next, the attribute needs to be explicitly re_ordered:\n",
    "#data.Month.astype('category', ordered=True,  categories=month_ordered_categories)\n",
    "data['Month'] = data['Month'].astype(CategoricalDtype(categories=month_ordered_categories))\n",
    "\n",
    "# Repeat steps \n",
    "#dayofweek_ordered_categories = ['Mon', 'Tue', 'Wed', 'Thu', 'Fri']\n",
    "#dayofweek_ordered_categories_type = CategoricalDtype(categories = dayofweek_ordered_categories, ordered=True)\n",
    "#data['DayOfWeek'] = data['DayOfWeek'].cat.reorder_categories(dayofweek_ordered_categories, ordered=True)\n"
   ]
  },
  {
   "cell_type": "code",
   "execution_count": null,
   "metadata": {},
   "outputs": [],
   "source": []
  },
  {
   "cell_type": "code",
   "execution_count": 55,
   "metadata": {},
   "outputs": [
    {
     "data": {
      "text/html": [
       "<div>\n",
       "<style scoped>\n",
       "    .dataframe tbody tr th:only-of-type {\n",
       "        vertical-align: middle;\n",
       "    }\n",
       "\n",
       "    .dataframe tbody tr th {\n",
       "        vertical-align: top;\n",
       "    }\n",
       "\n",
       "    .dataframe thead th {\n",
       "        text-align: right;\n",
       "    }\n",
       "</style>\n",
       "<table border=\"1\" class=\"dataframe\">\n",
       "  <thead>\n",
       "    <tr style=\"text-align: right;\">\n",
       "      <th></th>\n",
       "      <th>x0</th>\n",
       "      <th>x1</th>\n",
       "      <th>x2</th>\n",
       "      <th>x3</th>\n",
       "      <th>x4</th>\n",
       "      <th>x5</th>\n",
       "      <th>x6</th>\n",
       "      <th>x7</th>\n",
       "      <th>x8</th>\n",
       "      <th>x9</th>\n",
       "      <th>...</th>\n",
       "      <th>x41</th>\n",
       "      <th>x42</th>\n",
       "      <th>x43</th>\n",
       "      <th>x44</th>\n",
       "      <th>x45</th>\n",
       "      <th>x46</th>\n",
       "      <th>x47</th>\n",
       "      <th>x48</th>\n",
       "      <th>x49</th>\n",
       "      <th>y</th>\n",
       "    </tr>\n",
       "  </thead>\n",
       "  <tbody>\n",
       "    <tr>\n",
       "      <th>0</th>\n",
       "      <td>-0.166563</td>\n",
       "      <td>-3.961588</td>\n",
       "      <td>4.621113</td>\n",
       "      <td>2.481908</td>\n",
       "      <td>-1.800135</td>\n",
       "      <td>0.804684</td>\n",
       "      <td>6.718751</td>\n",
       "      <td>-14.789997</td>\n",
       "      <td>-1.040673</td>\n",
       "      <td>-4.204950</td>\n",
       "      <td>...</td>\n",
       "      <td>-1.497117</td>\n",
       "      <td>5.414063</td>\n",
       "      <td>-2.325655</td>\n",
       "      <td>1.674827</td>\n",
       "      <td>-0.264332</td>\n",
       "      <td>60.781427</td>\n",
       "      <td>-7.689696</td>\n",
       "      <td>0.151589</td>\n",
       "      <td>-8.040166</td>\n",
       "      <td>0</td>\n",
       "    </tr>\n",
       "    <tr>\n",
       "      <th>1</th>\n",
       "      <td>-0.149894</td>\n",
       "      <td>-0.585676</td>\n",
       "      <td>27.839856</td>\n",
       "      <td>4.152333</td>\n",
       "      <td>6.426802</td>\n",
       "      <td>-2.426943</td>\n",
       "      <td>40.477058</td>\n",
       "      <td>-6.725709</td>\n",
       "      <td>0.896421</td>\n",
       "      <td>0.330165</td>\n",
       "      <td>...</td>\n",
       "      <td>36.292790</td>\n",
       "      <td>4.490915</td>\n",
       "      <td>0.762561</td>\n",
       "      <td>6.526662</td>\n",
       "      <td>1.007927</td>\n",
       "      <td>15.805696</td>\n",
       "      <td>-4.896678</td>\n",
       "      <td>-0.320283</td>\n",
       "      <td>16.719974</td>\n",
       "      <td>0</td>\n",
       "    </tr>\n",
       "    <tr>\n",
       "      <th>2</th>\n",
       "      <td>-0.321707</td>\n",
       "      <td>-1.429819</td>\n",
       "      <td>12.251561</td>\n",
       "      <td>6.586874</td>\n",
       "      <td>-5.304647</td>\n",
       "      <td>-11.311090</td>\n",
       "      <td>17.812850</td>\n",
       "      <td>11.060572</td>\n",
       "      <td>5.325880</td>\n",
       "      <td>-2.632984</td>\n",
       "      <td>...</td>\n",
       "      <td>-0.368491</td>\n",
       "      <td>9.088864</td>\n",
       "      <td>-0.689886</td>\n",
       "      <td>-2.731118</td>\n",
       "      <td>0.754200</td>\n",
       "      <td>30.856417</td>\n",
       "      <td>-7.428573</td>\n",
       "      <td>-2.090804</td>\n",
       "      <td>-7.869421</td>\n",
       "      <td>0</td>\n",
       "    </tr>\n",
       "    <tr>\n",
       "      <th>3</th>\n",
       "      <td>-0.245594</td>\n",
       "      <td>5.076677</td>\n",
       "      <td>-24.149632</td>\n",
       "      <td>3.637307</td>\n",
       "      <td>6.505811</td>\n",
       "      <td>2.290224</td>\n",
       "      <td>-35.111751</td>\n",
       "      <td>-18.913592</td>\n",
       "      <td>-0.337041</td>\n",
       "      <td>-5.568076</td>\n",
       "      <td>...</td>\n",
       "      <td>15.691546</td>\n",
       "      <td>-7.467775</td>\n",
       "      <td>2.940789</td>\n",
       "      <td>-6.424112</td>\n",
       "      <td>0.419776</td>\n",
       "      <td>-72.424569</td>\n",
       "      <td>5.361375</td>\n",
       "      <td>1.806070</td>\n",
       "      <td>-7.670847</td>\n",
       "      <td>0</td>\n",
       "    </tr>\n",
       "    <tr>\n",
       "      <th>4</th>\n",
       "      <td>-0.273366</td>\n",
       "      <td>0.306326</td>\n",
       "      <td>-11.352593</td>\n",
       "      <td>1.676758</td>\n",
       "      <td>2.928441</td>\n",
       "      <td>-0.616824</td>\n",
       "      <td>-16.505817</td>\n",
       "      <td>27.532281</td>\n",
       "      <td>1.199715</td>\n",
       "      <td>-4.309105</td>\n",
       "      <td>...</td>\n",
       "      <td>-13.911297</td>\n",
       "      <td>-5.229937</td>\n",
       "      <td>1.783928</td>\n",
       "      <td>3.957801</td>\n",
       "      <td>-0.096988</td>\n",
       "      <td>-14.085435</td>\n",
       "      <td>-0.208351</td>\n",
       "      <td>-0.894942</td>\n",
       "      <td>15.724742</td>\n",
       "      <td>1</td>\n",
       "    </tr>\n",
       "  </tbody>\n",
       "</table>\n",
       "<p>5 rows × 51 columns</p>\n",
       "</div>"
      ],
      "text/plain": [
       "         x0        x1         x2        x3        x4         x5         x6  \\\n",
       "0 -0.166563 -3.961588   4.621113  2.481908 -1.800135   0.804684   6.718751   \n",
       "1 -0.149894 -0.585676  27.839856  4.152333  6.426802  -2.426943  40.477058   \n",
       "2 -0.321707 -1.429819  12.251561  6.586874 -5.304647 -11.311090  17.812850   \n",
       "3 -0.245594  5.076677 -24.149632  3.637307  6.505811   2.290224 -35.111751   \n",
       "4 -0.273366  0.306326 -11.352593  1.676758  2.928441  -0.616824 -16.505817   \n",
       "\n",
       "          x7        x8        x9  ...        x41       x42       x43  \\\n",
       "0 -14.789997 -1.040673 -4.204950  ...  -1.497117  5.414063 -2.325655   \n",
       "1  -6.725709  0.896421  0.330165  ...  36.292790  4.490915  0.762561   \n",
       "2  11.060572  5.325880 -2.632984  ...  -0.368491  9.088864 -0.689886   \n",
       "3 -18.913592 -0.337041 -5.568076  ...  15.691546 -7.467775  2.940789   \n",
       "4  27.532281  1.199715 -4.309105  ... -13.911297 -5.229937  1.783928   \n",
       "\n",
       "        x44       x45        x46       x47       x48        x49  y  \n",
       "0  1.674827 -0.264332  60.781427 -7.689696  0.151589  -8.040166  0  \n",
       "1  6.526662  1.007927  15.805696 -4.896678 -0.320283  16.719974  0  \n",
       "2 -2.731118  0.754200  30.856417 -7.428573 -2.090804  -7.869421  0  \n",
       "3 -6.424112  0.419776 -72.424569  5.361375  1.806070  -7.670847  0  \n",
       "4  3.957801 -0.096988 -14.085435 -0.208351 -0.894942  15.724742  1  \n",
       "\n",
       "[5 rows x 51 columns]"
      ]
     },
     "execution_count": 55,
     "metadata": {},
     "output_type": "execute_result"
    }
   ],
   "source": [
    "data.head()"
   ]
  },
  {
   "cell_type": "code",
   "execution_count": 56,
   "metadata": {},
   "outputs": [
    {
     "name": "stdout",
     "output_type": "stream",
     "text": [
      "<class 'pandas.core.frame.DataFrame'>\n",
      "RangeIndex: 160000 entries, 0 to 159999\n",
      "Data columns (total 51 columns):\n",
      "x0           159974 non-null float64\n",
      "x1           159975 non-null float64\n",
      "x2           159962 non-null float64\n",
      "x3           159963 non-null float64\n",
      "x4           159974 non-null float64\n",
      "x5           159963 non-null float64\n",
      "x6           159974 non-null float64\n",
      "x7           159973 non-null float64\n",
      "x8           159979 non-null float64\n",
      "x9           159970 non-null float64\n",
      "x10          159957 non-null float64\n",
      "x11          159970 non-null float64\n",
      "x12          159964 non-null float64\n",
      "x13          159969 non-null float64\n",
      "x14          159966 non-null float64\n",
      "x15          159965 non-null float64\n",
      "x16          159974 non-null float64\n",
      "x17          159973 non-null float64\n",
      "x18          159960 non-null float64\n",
      "x19          159965 non-null float64\n",
      "x20          159962 non-null float64\n",
      "x21          159971 non-null float64\n",
      "x22          159973 non-null float64\n",
      "x23          159953 non-null float64\n",
      "Continent    159972 non-null category\n",
      "x25          159978 non-null float64\n",
      "x26          159964 non-null float64\n",
      "x27          159970 non-null float64\n",
      "x28          159965 non-null float64\n",
      "Month        159970 non-null category\n",
      "DayOfWeek    159970 non-null category\n",
      "x31          159961 non-null float64\n",
      "x32          159969 non-null float64\n",
      "x33          159959 non-null float64\n",
      "x34          159959 non-null float64\n",
      "x35          159970 non-null float64\n",
      "x36          159973 non-null float64\n",
      "Money        159977 non-null float64\n",
      "x38          159969 non-null float64\n",
      "x39          159977 non-null float64\n",
      "x40          159964 non-null float64\n",
      "x41          159960 non-null float64\n",
      "x42          159974 non-null float64\n",
      "x43          159963 non-null float64\n",
      "x44          159960 non-null float64\n",
      "x45          159971 non-null float64\n",
      "x46          159969 non-null float64\n",
      "x47          159963 non-null float64\n",
      "x48          159968 non-null float64\n",
      "x49          159968 non-null float64\n",
      "y            160000 non-null int64\n",
      "dtypes: category(3), float64(47), int64(1)\n",
      "memory usage: 59.1 MB\n"
     ]
    }
   ],
   "source": [
    "#data.dtypes\n",
    "data.info()"
   ]
  },
  {
   "cell_type": "code",
   "execution_count": 57,
   "metadata": {},
   "outputs": [
    {
     "data": {
      "text/plain": [
       "CategoricalDtype(categories=['Apr', 'Aug', 'Dec', 'Feb', 'Jan', 'Jul', 'Jun', 'Mar',\n",
       "                  'May', 'Nov', 'Oct', 'Sep'],\n",
       "                 ordered=False)"
      ]
     },
     "execution_count": 57,
     "metadata": {},
     "output_type": "execute_result"
    }
   ],
   "source": [
    "data['Month'].dtypes"
   ]
  },
  {
   "cell_type": "markdown",
   "metadata": {},
   "source": [
    "## Locate Null Values: Column by Row - Populate Dict"
   ]
  },
  {
   "cell_type": "markdown",
   "metadata": {},
   "source": [
    "Column by row where value is null"
   ]
  },
  {
   "cell_type": "code",
   "execution_count": 58,
   "metadata": {},
   "outputs": [],
   "source": [
    "data_notnull = data.notnull()\n",
    "nullValues = {}\n",
    "for column in data:\n",
    "    nullValues.update({column: data_notnull[data_notnull[column]==False].index.to_list()})"
   ]
  },
  {
   "cell_type": "markdown",
   "metadata": {},
   "source": [
    "Display the ten index's (Rows) where there is missing values (NaN) in attribute x0."
   ]
  },
  {
   "cell_type": "code",
   "execution_count": 59,
   "metadata": {},
   "outputs": [
    {
     "data": {
      "text/plain": [
       "[1282, 2290, 7491, 15484, 22497, 23192, 28954, 35999, 53729, 72318]"
      ]
     },
     "execution_count": 59,
     "metadata": {},
     "output_type": "execute_result"
    }
   ],
   "source": [
    "nullValues['x0'][0:10]"
   ]
  },
  {
   "cell_type": "markdown",
   "metadata": {},
   "source": [
    "Proving there are NaN's within the first ten locations within the x0 column"
   ]
  },
  {
   "cell_type": "code",
   "execution_count": 60,
   "metadata": {},
   "outputs": [
    {
     "data": {
      "text/plain": [
       "1282    NaN\n",
       "2290    NaN\n",
       "7491    NaN\n",
       "15484   NaN\n",
       "22497   NaN\n",
       "23192   NaN\n",
       "28954   NaN\n",
       "35999   NaN\n",
       "53729   NaN\n",
       "72318   NaN\n",
       "Name: x0, dtype: float64"
      ]
     },
     "execution_count": 60,
     "metadata": {},
     "output_type": "execute_result"
    }
   ],
   "source": [
    "# data.loc[ROW, COLUMN]\n",
    "data.loc[nullValues['x0'][0:10] ,'x0']"
   ]
  },
  {
   "cell_type": "markdown",
   "metadata": {},
   "source": [
    "## Distinct Rows With Missing Value"
   ]
  },
  {
   "cell_type": "code",
   "execution_count": 61,
   "metadata": {},
   "outputs": [],
   "source": [
    "unique_index = []\n",
    "for key, value in nullValues.items():\n",
    "    for i in value:\n",
    "        if i not in unique_index: \n",
    "            unique_index.append(i)\n",
    "unique_index.sort()"
   ]
  },
  {
   "cell_type": "code",
   "execution_count": 62,
   "metadata": {},
   "outputs": [
    {
     "name": "stdout",
     "output_type": "stream",
     "text": [
      "There are 1608 DISTINCT rows with a NaN in at least one of the attributes.\n"
     ]
    }
   ],
   "source": [
    "print('There are', len(unique_index), 'DISTINCT rows with a NaN in at least one of the attributes.')"
   ]
  },
  {
   "cell_type": "markdown",
   "metadata": {},
   "source": [
    "## Replace NaN With arithmetic averages (Mean, Median, Mode, etc)"
   ]
  },
  {
   "cell_type": "code",
   "execution_count": 63,
   "metadata": {
    "scrolled": true
   },
   "outputs": [
    {
     "name": "stdout",
     "output_type": "stream",
     "text": [
      "x0 -0.001027911607636433\n",
      "x1 0.0013583132941498157\n",
      "x2 -1.150144637185296\n",
      "x3 -0.02463729930505865\n",
      "x4 -0.0005489999661715512\n",
      "x5 0.013581552327766686\n",
      "x6 -1.6706701553089789\n",
      "x7 -7.69279492606893\n",
      "x8 -0.030540285688330525\n",
      "x9 0.005462093779336017\n",
      "x10 0.0022534547682891513\n",
      "x11 0.030232406883283595\n",
      "x12 -1.334402055040233\n",
      "x13 0.007669015129560133\n",
      "x14 0.008103587049699245\n",
      "x15 0.0012147158213739453\n",
      "x16 0.00622314434251844\n",
      "x17 0.012039895626624008\n",
      "x18 0.012693959952312336\n",
      "x19 0.02455542795199547\n",
      "x20 0.29907406094445654\n",
      "x21 -0.02913741802162531\n",
      "x22 0.00840002026083034\n",
      "x23 0.7220283102008835\n",
      "x25 -0.0008063103652548311\n",
      "x26 -0.0010657021192542805\n",
      "x27 -0.004158613376841231\n",
      "x28 0.031542770877710465\n",
      "x31 -0.005945088975282879\n",
      "x32 -1.0877107439566393e-05\n",
      "x33 -0.006567455207638439\n",
      "x34 -0.00042594897562077015\n",
      "x35 0.0009358660086478089\n",
      "x36 0.006452519002927416\n",
      "Money 0.3776284090838059\n",
      "x38 6.059129567756921\n",
      "x39 0.0042525128492550785\n",
      "x40 -2.3165258156321022\n",
      "x41 6.701075903605524\n",
      "x42 -1.8338195176344874\n",
      "x43 -0.002091235229387197\n",
      "x44 -0.006250276976540677\n",
      "x45 0.0008847891369290274\n",
      "x46 -12.755395063642528\n",
      "x47 0.028622442684140673\n",
      "x48 -0.0002238348312964346\n",
      "x49 -0.6742238327007268\n",
      "y 0.40123125\n"
     ]
    }
   ],
   "source": [
    "# \n",
    "for column in data.columns:\n",
    "    if (data[column].dtype.name != \"category\"):\n",
    "        print(column, data[column].mean())"
   ]
  },
  {
   "cell_type": "markdown",
   "metadata": {},
   "source": [
    "What is the mode for column x0"
   ]
  },
  {
   "cell_type": "code",
   "execution_count": 12,
   "metadata": {},
   "outputs": [
    {
     "data": {
      "text/plain": [
       "-0.6742238327007368"
      ]
     },
     "execution_count": 12,
     "metadata": {},
     "output_type": "execute_result"
    }
   ],
   "source": [
    "data['x49'].mean()"
   ]
  },
  {
   "cell_type": "markdown",
   "metadata": {},
   "source": [
    "Return to nan within the first location (row 1282) within the x0 column to see that it has been replace with the mode"
   ]
  },
  {
   "cell_type": "code",
   "execution_count": 12,
   "metadata": {},
   "outputs": [
    {
     "data": {
      "text/plain": [
       "-1.5926345910622286"
      ]
     },
     "execution_count": 12,
     "metadata": {},
     "output_type": "execute_result"
    }
   ],
   "source": [
    "data_copy.loc[nullValues['x0'][0] ,'x0']"
   ]
  },
  {
   "cell_type": "code",
   "execution_count": null,
   "metadata": {},
   "outputs": [],
   "source": []
  }
 ],
 "metadata": {
  "kernelspec": {
   "display_name": "Python 3",
   "language": "python",
   "name": "python3"
  },
  "language_info": {
   "codemirror_mode": {
    "name": "ipython",
    "version": 3
   },
   "file_extension": ".py",
   "mimetype": "text/x-python",
   "name": "python",
   "nbconvert_exporter": "python",
   "pygments_lexer": "ipython3",
   "version": "3.6.9"
  }
 },
 "nbformat": 4,
 "nbformat_minor": 4
}
