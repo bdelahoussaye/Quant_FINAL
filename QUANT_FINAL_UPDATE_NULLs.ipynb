{
 "cells": [
  {
   "cell_type": "markdown",
   "metadata": {},
   "source": [
    "# Update Null Values"
   ]
  },
  {
   "cell_type": "code",
   "execution_count": 1,
   "metadata": {},
   "outputs": [],
   "source": [
    "import pandas as pd\n",
    "import numpy as np"
   ]
  },
  {
   "cell_type": "markdown",
   "metadata": {},
   "source": [
    "## Load Data"
   ]
  },
  {
   "cell_type": "code",
   "execution_count": 2,
   "metadata": {},
   "outputs": [],
   "source": [
    "data = pd.read_csv('../final_project.csv')"
   ]
  },
  {
   "cell_type": "markdown",
   "metadata": {},
   "source": [
    "## Locate Null Values: Column by Row - Populate Dict"
   ]
  },
  {
   "cell_type": "markdown",
   "metadata": {},
   "source": [
    "Column by row where value is null"
   ]
  },
  {
   "cell_type": "code",
   "execution_count": 3,
   "metadata": {},
   "outputs": [],
   "source": [
    "data_notnull = data.notnull()\n",
    "nullValues = {}\n",
    "for column in data:\n",
    "    nullValues.update({column: data_notnull[data_notnull[column]==False].index.to_list()})"
   ]
  },
  {
   "cell_type": "markdown",
   "metadata": {},
   "source": [
    "Display the ten index's (Rows) where there is missing values (NaN) in attribute x0."
   ]
  },
  {
   "cell_type": "code",
   "execution_count": 8,
   "metadata": {},
   "outputs": [
    {
     "data": {
      "text/plain": [
       "[1282, 2290, 7491, 15484, 22497, 23192, 28954, 35999, 53729, 72318]"
      ]
     },
     "execution_count": 8,
     "metadata": {},
     "output_type": "execute_result"
    }
   ],
   "source": [
    "nullValues['x0'][0:10]"
   ]
  },
  {
   "cell_type": "markdown",
   "metadata": {},
   "source": [
    "Proving there are NaN's within the first ten locations within the x0 column"
   ]
  },
  {
   "cell_type": "code",
   "execution_count": 9,
   "metadata": {},
   "outputs": [
    {
     "data": {
      "text/plain": [
       "1282    NaN\n",
       "2290    NaN\n",
       "7491    NaN\n",
       "15484   NaN\n",
       "22497   NaN\n",
       "23192   NaN\n",
       "28954   NaN\n",
       "35999   NaN\n",
       "53729   NaN\n",
       "72318   NaN\n",
       "Name: x0, dtype: float64"
      ]
     },
     "execution_count": 9,
     "metadata": {},
     "output_type": "execute_result"
    }
   ],
   "source": [
    "# data.loc[ROW, COLUMN]\n",
    "data.loc[nullValues['x0'][0:10] ,'x0']"
   ]
  },
  {
   "cell_type": "markdown",
   "metadata": {},
   "source": [
    "## Distinct Rows With Missing Value"
   ]
  },
  {
   "cell_type": "code",
   "execution_count": 10,
   "metadata": {},
   "outputs": [],
   "source": [
    "unique_index = []\n",
    "for key, value in nullValues.items():\n",
    "    for i in value:\n",
    "        if i not in unique_index: \n",
    "            unique_index.append(i)\n",
    "unique_index.sort()"
   ]
  },
  {
   "cell_type": "code",
   "execution_count": 11,
   "metadata": {},
   "outputs": [
    {
     "data": {
      "text/plain": [
       "1608"
      ]
     },
     "execution_count": 11,
     "metadata": {},
     "output_type": "execute_result"
    }
   ],
   "source": [
    "len(unique_index)"
   ]
  },
  {
   "cell_type": "markdown",
   "metadata": {},
   "source": [
    "## Replace NaN With arithmetic averages (Mean, Median, Mode, etc)"
   ]
  },
  {
   "cell_type": "code",
   "execution_count": 14,
   "metadata": {},
   "outputs": [
    {
     "name": "stdout",
     "output_type": "stream",
     "text": [
      "x0 -1.5926345910622286\n",
      "x1 -26.278302059686013\n",
      "x2 -59.394048122248535\n",
      "x3 -35.47659439723979\n",
      "x4 -28.46753554577105\n",
      "x5 -33.82298833073262\n",
      "x6 -86.35448303441738\n",
      "x7 -181.50697640168946\n",
      "x8 -37.69104519154447\n",
      "x9 -27.98065918344565\n",
      "x10 -36.30657084793107\n",
      "x11 -38.09286935060288\n",
      "x12 -64.19796679643913\n",
      "x13 -38.7235141494444\n",
      "x14 -30.905214449583514\n",
      "x15 -17.00235932515357\n",
      "x16 -26.042982783860353\n",
      "x17 -34.395897860607484\n",
      "x18 -20.198685507387676\n",
      "x19 -35.63339624523899\n",
      "x20 -26.677395943693963\n",
      "x21 -43.501854323465565\n",
      "x22 -23.644193432638946\n",
      "x23 -66.64034062402885\n",
      "x24 asia\n",
      "x25 -6.364653190718416\n",
      "x26 -3.857483547465956\n",
      "x27 -32.00355530339034\n",
      "x28 -72.8967054221028\n",
      "x29 July\n",
      "x30 wednesday\n",
      "x31 -12.289364349178767\n",
      "x32 0.01%\n",
      "x33 -7.451454454619068\n",
      "x34 -36.11660589927189\n",
      "x35 -10.008149204275279\n",
      "x36 -6.866023757082137\n",
      "x37 $-311.26\n",
      "x38 -74.2975589171604\n",
      "x39 -22.101647306158306\n",
      "x40 -74.0591964973672\n",
      "x41 -82.16722406683455\n",
      "x42 -27.93374955024711\n",
      "x43 -6.876233824751421\n",
      "x44 -17.983487481796264\n",
      "x45 -1.7532213009894346\n",
      "x46 -201.82682809490376\n",
      "x47 -21.086333354979203\n",
      "x48 -8.490155323185173\n",
      "x49 -65.79119056246057\n",
      "y 0\n"
     ]
    }
   ],
   "source": [
    "for column in data.columns:\n",
    "    print(column, data[column].mode()[0])"
   ]
  },
  {
   "cell_type": "markdown",
   "metadata": {},
   "source": [
    "What is the mode for column x0"
   ]
  },
  {
   "cell_type": "code",
   "execution_count": 10,
   "metadata": {},
   "outputs": [
    {
     "data": {
      "text/plain": [
       "0   -1.592635\n",
       "dtype: float64"
      ]
     },
     "execution_count": 10,
     "metadata": {},
     "output_type": "execute_result"
    }
   ],
   "source": [
    "data_copy['x0'].mode()"
   ]
  },
  {
   "cell_type": "markdown",
   "metadata": {},
   "source": [
    "Return to nan within the first location (row 1282) within the x0 column to see that it has been replace with the mode"
   ]
  },
  {
   "cell_type": "code",
   "execution_count": 12,
   "metadata": {},
   "outputs": [
    {
     "data": {
      "text/plain": [
       "-1.5926345910622286"
      ]
     },
     "execution_count": 12,
     "metadata": {},
     "output_type": "execute_result"
    }
   ],
   "source": [
    "data_copy.loc[nullValues['x0'][0] ,'x0']"
   ]
  },
  {
   "cell_type": "code",
   "execution_count": null,
   "metadata": {},
   "outputs": [],
   "source": []
  }
 ],
 "metadata": {
  "kernelspec": {
   "display_name": "Python 3",
   "language": "python",
   "name": "python3"
  },
  "language_info": {
   "codemirror_mode": {
    "name": "ipython",
    "version": 3
   },
   "file_extension": ".py",
   "mimetype": "text/x-python",
   "name": "python",
   "nbconvert_exporter": "python",
   "pygments_lexer": "ipython3",
   "version": "3.7.4"
  }
 },
 "nbformat": 4,
 "nbformat_minor": 4
}
