{
 "cells": [
  {
   "cell_type": "code",
   "execution_count": 1,
   "metadata": {},
   "outputs": [],
   "source": [
    "\n",
    "import tensorflow as tf\n",
    "\n",
    "import networkx as nx\n",
    "from networkx.drawing.nx_pydot import write_dot\n",
    "import matplotlib.pyplot as plt\n",
    "from IPython.display import SVG\n",
    "from sklearn.tree import export_graphviz\n",
    "tf.debugging.set_log_device_placement(True)"
   ]
  },
  {
   "cell_type": "code",
   "execution_count": 2,
   "metadata": {},
   "outputs": [
    {
     "name": "stdout",
     "output_type": "stream",
     "text": [
      "2.0.0\n",
      "Num GPUs Available:  2\n"
     ]
    }
   ],
   "source": [
    "from __future__ import absolute_import, division, print_function, unicode_literals\n",
    "\n",
    "import tensorflow as tf\n",
    "\n",
    "from tensorflow.keras import layers\n",
    "from sklearn import datasets\n",
    "import pandas as pd\n",
    "import numpy as np\n",
    "print(tf.__version__)\n",
    "\n",
    "import warnings\n",
    "warnings.simplefilter(action='ignore', category=FutureWarning)\n",
    "\n",
    "\n",
    "print(\"Num GPUs Available: \", len(tf.config.experimental.list_physical_devices('GPU')))"
   ]
  },
  {
   "cell_type": "code",
   "execution_count": 3,
   "metadata": {},
   "outputs": [
    {
     "name": "stderr",
     "output_type": "stream",
     "text": [
      "Using TensorFlow backend.\n"
     ]
    }
   ],
   "source": [
    "import matplotlib.pyplot as plt # For making plots\n",
    "\n",
    "import seaborn as sns # Makes beautiful plots\n",
    "from sklearn.preprocessing import StandardScaler # Testing sklearn\n",
    "import tensorflow # Imports tensorflow\n",
    "import keras # Imports keras"
   ]
  },
  {
   "cell_type": "code",
   "execution_count": 4,
   "metadata": {},
   "outputs": [
    {
     "name": "stdout",
     "output_type": "stream",
     "text": [
      "10.0\n",
      "7.6\n"
     ]
    }
   ],
   "source": [
    "\n",
    "from tensorflow.python.platform import build_info as tf_build_info\n",
    "print(tf_build_info.cuda_version_number)\n",
    "# 9.0 in v1.10.0\n",
    "print(tf_build_info.cudnn_version_number)\n",
    "# 7 in v1.10.0"
   ]
  },
  {
   "cell_type": "code",
   "execution_count": 5,
   "metadata": {},
   "outputs": [
    {
     "data": {
      "text/plain": [
       "[name: \"/device:CPU:0\"\n",
       " device_type: \"CPU\"\n",
       " memory_limit: 268435456\n",
       " locality {\n",
       " }\n",
       " incarnation: 1242928333041246104, name: \"/device:GPU:0\"\n",
       " device_type: \"GPU\"\n",
       " memory_limit: 6614766059\n",
       " locality {\n",
       "   bus_id: 1\n",
       "   links {\n",
       "   }\n",
       " }\n",
       " incarnation: 15617909456331373471\n",
       " physical_device_desc: \"device: 0, name: GeForce RTX 2070, pci bus id: 0000:17:00.0, compute capability: 7.5\", name: \"/device:GPU:1\"\n",
       " device_type: \"GPU\"\n",
       " memory_limit: 6614766059\n",
       " locality {\n",
       "   bus_id: 1\n",
       "   links {\n",
       "   }\n",
       " }\n",
       " incarnation: 8900870240152942791\n",
       " physical_device_desc: \"device: 1, name: GeForce RTX 2070, pci bus id: 0000:65:00.0, compute capability: 7.5\"]"
      ]
     },
     "execution_count": 5,
     "metadata": {},
     "output_type": "execute_result"
    }
   ],
   "source": [
    "from tensorflow.python.client import device_lib\n",
    "\n",
    "device_lib.list_local_devices()"
   ]
  },
  {
   "cell_type": "code",
   "execution_count": 6,
   "metadata": {},
   "outputs": [],
   "source": [
    "\n",
    "import matplotlib.pyplot as plt\n",
    "%matplotlib inline\n",
    "\n",
    "\n",
    "import datetime, os\n",
    "\n",
    "from tensorflow.keras.callbacks import TensorBoard\n",
    "\n",
    "log_dir = 'logs'\n",
    "tb = TensorBoard(log_dir=log_dir, histogram_freq=1)\n",
    "\n",
    "from sklearn.model_selection import train_test_split\n",
    "\n",
    "from keras.layers import Dense, Activation,Conv2D,MaxPooling2D,Flatten,Dropout"
   ]
  },
  {
   "cell_type": "code",
   "execution_count": null,
   "metadata": {},
   "outputs": [],
   "source": []
  },
  {
   "cell_type": "code",
   "execution_count": 7,
   "metadata": {},
   "outputs": [
    {
     "name": "stderr",
     "output_type": "stream",
     "text": [
      "C:\\Users\\Brandon\\AppData\\Local\\Continuum\\anaconda3\\lib\\site-packages\\IPython\\core\\interactiveshell.py:2728: DtypeWarning: Columns (0,1,2,3,4,5,6,7,8,9,10,11,12,13,14,15,16,17,18,19,20,21,22,23,25,26,27,28,31,33,34,35,36,38,39,40,41,42,43,44,45,46,47,48,49,50) have mixed types. Specify dtype option on import or set low_memory=False.\n",
      "  interactivity=interactivity, compiler=compiler, result=result)\n"
     ]
    }
   ],
   "source": [
    "df = pd.read_csv('final_project.csv',header = None)"
   ]
  },
  {
   "cell_type": "code",
   "execution_count": 8,
   "metadata": {},
   "outputs": [
    {
     "data": {
      "text/html": [
       "<div>\n",
       "<style scoped>\n",
       "    .dataframe tbody tr th:only-of-type {\n",
       "        vertical-align: middle;\n",
       "    }\n",
       "\n",
       "    .dataframe tbody tr th {\n",
       "        vertical-align: top;\n",
       "    }\n",
       "\n",
       "    .dataframe thead th {\n",
       "        text-align: right;\n",
       "    }\n",
       "</style>\n",
       "<table border=\"1\" class=\"dataframe\">\n",
       "  <thead>\n",
       "    <tr style=\"text-align: right;\">\n",
       "      <th></th>\n",
       "      <th>0</th>\n",
       "      <th>1</th>\n",
       "      <th>2</th>\n",
       "      <th>3</th>\n",
       "      <th>4</th>\n",
       "      <th>5</th>\n",
       "      <th>6</th>\n",
       "      <th>7</th>\n",
       "      <th>8</th>\n",
       "      <th>9</th>\n",
       "      <th>...</th>\n",
       "      <th>41</th>\n",
       "      <th>42</th>\n",
       "      <th>43</th>\n",
       "      <th>44</th>\n",
       "      <th>45</th>\n",
       "      <th>46</th>\n",
       "      <th>47</th>\n",
       "      <th>48</th>\n",
       "      <th>49</th>\n",
       "      <th>50</th>\n",
       "    </tr>\n",
       "  </thead>\n",
       "  <tbody>\n",
       "    <tr>\n",
       "      <th>0</th>\n",
       "      <td>x0</td>\n",
       "      <td>x1</td>\n",
       "      <td>x2</td>\n",
       "      <td>x3</td>\n",
       "      <td>x4</td>\n",
       "      <td>x5</td>\n",
       "      <td>x6</td>\n",
       "      <td>x7</td>\n",
       "      <td>x8</td>\n",
       "      <td>x9</td>\n",
       "      <td>...</td>\n",
       "      <td>x41</td>\n",
       "      <td>x42</td>\n",
       "      <td>x43</td>\n",
       "      <td>x44</td>\n",
       "      <td>x45</td>\n",
       "      <td>x46</td>\n",
       "      <td>x47</td>\n",
       "      <td>x48</td>\n",
       "      <td>x49</td>\n",
       "      <td>y</td>\n",
       "    </tr>\n",
       "    <tr>\n",
       "      <th>1</th>\n",
       "      <td>-0.16656269169891058</td>\n",
       "      <td>-3.9615882669838016</td>\n",
       "      <td>4.621113288578008</td>\n",
       "      <td>2.4819079789213725</td>\n",
       "      <td>-1.8001347852643428</td>\n",
       "      <td>0.8046841883712758</td>\n",
       "      <td>6.718751485961569</td>\n",
       "      <td>-14.78999660931123</td>\n",
       "      <td>-1.0406730334010903</td>\n",
       "      <td>-4.204949642920672</td>\n",
       "      <td>...</td>\n",
       "      <td>-1.4971170612751283</td>\n",
       "      <td>5.414063109313714</td>\n",
       "      <td>-2.3256552306254368</td>\n",
       "      <td>1.6748270316426381</td>\n",
       "      <td>-0.26433179228910636</td>\n",
       "      <td>60.78142705027073</td>\n",
       "      <td>-7.689696076556111</td>\n",
       "      <td>0.1515889730946078</td>\n",
       "      <td>-8.040166471221962</td>\n",
       "      <td>0</td>\n",
       "    </tr>\n",
       "    <tr>\n",
       "      <th>2</th>\n",
       "      <td>-0.14989402454138873</td>\n",
       "      <td>-0.5856755162944453</td>\n",
       "      <td>27.839855623343222</td>\n",
       "      <td>4.152332836318684</td>\n",
       "      <td>6.426801796589417</td>\n",
       "      <td>-2.4269429374386555</td>\n",
       "      <td>40.47705815839258</td>\n",
       "      <td>-6.725708730101421</td>\n",
       "      <td>0.896420996149642</td>\n",
       "      <td>0.330165401744539</td>\n",
       "      <td>...</td>\n",
       "      <td>36.292789842614</td>\n",
       "      <td>4.490914503839401</td>\n",
       "      <td>0.7625610308025499</td>\n",
       "      <td>6.526661558192086</td>\n",
       "      <td>1.0079272465938227</td>\n",
       "      <td>15.80569606170142</td>\n",
       "      <td>-4.896678261935951</td>\n",
       "      <td>-0.3202828081933091</td>\n",
       "      <td>16.719974185670925</td>\n",
       "      <td>0</td>\n",
       "    </tr>\n",
       "    <tr>\n",
       "      <th>3</th>\n",
       "      <td>-0.32170694459639676</td>\n",
       "      <td>-1.4298187913011515</td>\n",
       "      <td>12.251561472649188</td>\n",
       "      <td>6.586873689536253</td>\n",
       "      <td>-5.304647181817699</td>\n",
       "      <td>-11.311089776726806</td>\n",
       "      <td>17.81284978517395</td>\n",
       "      <td>11.06057202769339</td>\n",
       "      <td>5.325880369572002</td>\n",
       "      <td>-2.6329839860990925</td>\n",
       "      <td>...</td>\n",
       "      <td>-0.3684911917788152</td>\n",
       "      <td>9.088863581598902</td>\n",
       "      <td>-0.6898856056414587</td>\n",
       "      <td>-2.731117782935123</td>\n",
       "      <td>0.754199544457365</td>\n",
       "      <td>30.85641699321067</td>\n",
       "      <td>-7.4285732992351585</td>\n",
       "      <td>-2.0908035212484686</td>\n",
       "      <td>-7.869420608769933</td>\n",
       "      <td>0</td>\n",
       "    </tr>\n",
       "    <tr>\n",
       "      <th>4</th>\n",
       "      <td>-0.24559442472083873</td>\n",
       "      <td>5.07667738694975</td>\n",
       "      <td>-24.14963215868896</td>\n",
       "      <td>3.637306616524176</td>\n",
       "      <td>6.5058112888351864</td>\n",
       "      <td>2.2902239593613665</td>\n",
       "      <td>-35.111750528311624</td>\n",
       "      <td>-18.913592408541618</td>\n",
       "      <td>-0.3370413414658279</td>\n",
       "      <td>-5.5680761631142</td>\n",
       "      <td>...</td>\n",
       "      <td>15.691545540321187</td>\n",
       "      <td>-7.467774995239998</td>\n",
       "      <td>2.9407894895816247</td>\n",
       "      <td>-6.424111788138656</td>\n",
       "      <td>0.4197759615950164</td>\n",
       "      <td>-72.42456870233703</td>\n",
       "      <td>5.361375226027609</td>\n",
       "      <td>1.806070153745389</td>\n",
       "      <td>-7.670846589770763</td>\n",
       "      <td>0</td>\n",
       "    </tr>\n",
       "  </tbody>\n",
       "</table>\n",
       "<p>5 rows × 51 columns</p>\n",
       "</div>"
      ],
      "text/plain": [
       "                     0                    1                   2   \\\n",
       "0                    x0                   x1                  x2   \n",
       "1  -0.16656269169891058  -3.9615882669838016   4.621113288578008   \n",
       "2  -0.14989402454138873  -0.5856755162944453  27.839855623343222   \n",
       "3  -0.32170694459639676  -1.4298187913011515  12.251561472649188   \n",
       "4  -0.24559442472083873     5.07667738694975  -24.14963215868896   \n",
       "\n",
       "                   3                    4                    5   \\\n",
       "0                  x3                   x4                   x5   \n",
       "1  2.4819079789213725  -1.8001347852643428   0.8046841883712758   \n",
       "2   4.152332836318684    6.426801796589417  -2.4269429374386555   \n",
       "3   6.586873689536253   -5.304647181817699  -11.311089776726806   \n",
       "4   3.637306616524176   6.5058112888351864   2.2902239593613665   \n",
       "\n",
       "                    6                    7                    8   \\\n",
       "0                   x6                   x7                   x8   \n",
       "1    6.718751485961569   -14.78999660931123  -1.0406730334010903   \n",
       "2    40.47705815839258   -6.725708730101421    0.896420996149642   \n",
       "3    17.81284978517395    11.06057202769339    5.325880369572002   \n",
       "4  -35.111750528311624  -18.913592408541618  -0.3370413414658279   \n",
       "\n",
       "                    9   ...                   41                  42  \\\n",
       "0                   x9  ...                  x41                 x42   \n",
       "1   -4.204949642920672  ...  -1.4971170612751283   5.414063109313714   \n",
       "2    0.330165401744539  ...      36.292789842614   4.490914503839401   \n",
       "3  -2.6329839860990925  ...  -0.3684911917788152   9.088863581598902   \n",
       "4     -5.5680761631142  ...   15.691545540321187  -7.467774995239998   \n",
       "\n",
       "                    43                  44                    45  \\\n",
       "0                  x43                 x44                   x45   \n",
       "1  -2.3256552306254368  1.6748270316426381  -0.26433179228910636   \n",
       "2   0.7625610308025499   6.526661558192086    1.0079272465938227   \n",
       "3  -0.6898856056414587  -2.731117782935123     0.754199544457365   \n",
       "4   2.9407894895816247  -6.424111788138656    0.4197759615950164   \n",
       "\n",
       "                   46                   47                   48  \\\n",
       "0                 x46                  x47                  x48   \n",
       "1   60.78142705027073   -7.689696076556111   0.1515889730946078   \n",
       "2   15.80569606170142   -4.896678261935951  -0.3202828081933091   \n",
       "3   30.85641699321067  -7.4285732992351585  -2.0908035212484686   \n",
       "4  -72.42456870233703    5.361375226027609    1.806070153745389   \n",
       "\n",
       "                   49 50  \n",
       "0                 x49  y  \n",
       "1  -8.040166471221962  0  \n",
       "2  16.719974185670925  0  \n",
       "3  -7.869420608769933  0  \n",
       "4  -7.670846589770763  0  \n",
       "\n",
       "[5 rows x 51 columns]"
      ]
     },
     "execution_count": 8,
     "metadata": {},
     "output_type": "execute_result"
    }
   ],
   "source": [
    "df.head()\n"
   ]
  },
  {
   "cell_type": "code",
   "execution_count": 9,
   "metadata": {},
   "outputs": [
    {
     "data": {
      "text/plain": [
       "count     159975.000000\n",
       "unique    159975.000000\n",
       "top           -1.123032\n",
       "freq           1.000000\n",
       "Name: 0, dtype: float64"
      ]
     },
     "execution_count": 9,
     "metadata": {},
     "output_type": "execute_result"
    }
   ],
   "source": [
    "df[0].describe()"
   ]
  },
  {
   "cell_type": "code",
   "execution_count": null,
   "metadata": {},
   "outputs": [],
   "source": []
  }
 ],
 "metadata": {
  "kernelspec": {
   "display_name": "Python 3",
   "language": "python",
   "name": "python3"
  },
  "language_info": {
   "codemirror_mode": {
    "name": "ipython",
    "version": 3
   },
   "file_extension": ".py",
   "mimetype": "text/x-python",
   "name": "python",
   "nbconvert_exporter": "python",
   "pygments_lexer": "ipython3",
   "version": "3.6.9"
  }
 },
 "nbformat": 4,
 "nbformat_minor": 2
}
