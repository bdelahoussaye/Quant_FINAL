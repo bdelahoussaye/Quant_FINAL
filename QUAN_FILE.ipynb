{
 "cells": [
  {
   "cell_type": "code",
   "execution_count": 2,
   "metadata": {},
   "outputs": [],
   "source": [
    "\n",
    "import tensorflow as tf\n",
    "\n",
    "import networkx as nx\n",
    "from networkx.drawing.nx_pydot import write_dot\n",
    "import matplotlib.pyplot as plt\n",
    "from IPython.display import SVG\n",
    "from sklearn.tree import export_graphviz\n",
    "tf.debugging.set_log_device_placement(True)"
   ]
  },
  {
   "cell_type": "code",
   "execution_count": 3,
   "metadata": {},
   "outputs": [
    {
     "name": "stdout",
     "output_type": "stream",
     "text": [
      "2.0.0\n",
      "Num GPUs Available:  2\n"
     ]
    }
   ],
   "source": [
    "from __future__ import absolute_import, division, print_function, unicode_literals\n",
    "\n",
    "import tensorflow as tf\n",
    "\n",
    "from tensorflow.keras import layers\n",
    "from sklearn import datasets\n",
    "import pandas as pd\n",
    "import numpy as np\n",
    "print(tf.__version__)\n",
    "\n",
    "import warnings\n",
    "warnings.simplefilter(action='ignore', category=FutureWarning)\n",
    "\n",
    "\n",
    "print(\"Num GPUs Available: \", len(tf.config.experimental.list_physical_devices('GPU')))"
   ]
  },
  {
   "cell_type": "code",
   "execution_count": 4,
   "metadata": {},
   "outputs": [
    {
     "name": "stderr",
     "output_type": "stream",
     "text": [
      "Using TensorFlow backend.\n"
     ]
    }
   ],
   "source": [
    "import matplotlib.pyplot as plt # For making plots\n",
    "\n",
    "import seaborn as sns # Makes beautiful plots\n",
    "from sklearn.preprocessing import StandardScaler # Testing sklearn\n",
    "import tensorflow # Imports tensorflow\n",
    "import keras # Imports keras"
   ]
  },
  {
   "cell_type": "code",
   "execution_count": 5,
   "metadata": {},
   "outputs": [
    {
     "name": "stdout",
     "output_type": "stream",
     "text": [
      "10.0\n",
      "7.6\n"
     ]
    }
   ],
   "source": [
    "\n",
    "from tensorflow.python.platform import build_info as tf_build_info\n",
    "print(tf_build_info.cuda_version_number)\n",
    "# 9.0 in v1.10.0\n",
    "print(tf_build_info.cudnn_version_number)\n",
    "# 7 in v1.10.0"
   ]
  },
  {
   "cell_type": "code",
   "execution_count": 6,
   "metadata": {},
   "outputs": [
    {
     "data": {
      "text/plain": [
       "[name: \"/device:CPU:0\"\n",
       " device_type: \"CPU\"\n",
       " memory_limit: 268435456\n",
       " locality {\n",
       " }\n",
       " incarnation: 973705560054295603, name: \"/device:GPU:0\"\n",
       " device_type: \"GPU\"\n",
       " memory_limit: 6614766059\n",
       " locality {\n",
       "   bus_id: 1\n",
       "   links {\n",
       "   }\n",
       " }\n",
       " incarnation: 10879648388384095325\n",
       " physical_device_desc: \"device: 0, name: GeForce RTX 2070, pci bus id: 0000:17:00.0, compute capability: 7.5\", name: \"/device:GPU:1\"\n",
       " device_type: \"GPU\"\n",
       " memory_limit: 6614766059\n",
       " locality {\n",
       "   bus_id: 1\n",
       "   links {\n",
       "   }\n",
       " }\n",
       " incarnation: 15620961694886132288\n",
       " physical_device_desc: \"device: 1, name: GeForce RTX 2070, pci bus id: 0000:65:00.0, compute capability: 7.5\"]"
      ]
     },
     "execution_count": 6,
     "metadata": {},
     "output_type": "execute_result"
    }
   ],
   "source": [
    "from tensorflow.python.client import device_lib\n",
    "\n",
    "device_lib.list_local_devices()"
   ]
  },
  {
   "cell_type": "code",
   "execution_count": 7,
   "metadata": {},
   "outputs": [],
   "source": [
    "\n",
    "import matplotlib.pyplot as plt\n",
    "%matplotlib inline\n",
    "\n",
    "\n",
    "import datetime, os\n",
    "\n",
    "from tensorflow.keras.callbacks import TensorBoard\n",
    "\n",
    "log_dir = 'logs'\n",
    "tb = TensorBoard(log_dir=log_dir, histogram_freq=1)\n",
    "\n",
    "from sklearn.model_selection import train_test_split\n",
    "\n",
    "from keras.layers import Dense, Activation,Conv2D,MaxPooling2D,Flatten,Dropout"
   ]
  },
  {
   "cell_type": "code",
   "execution_count": 8,
   "metadata": {},
   "outputs": [],
   "source": [
    "data = pd.read_csv('final_project.csv', header = None, skiprows = [0], )"
   ]
  },
  {
   "cell_type": "code",
   "execution_count": 11,
   "metadata": {},
   "outputs": [
    {
     "data": {
      "text/html": [
       "<div>\n",
       "<style scoped>\n",
       "    .dataframe tbody tr th:only-of-type {\n",
       "        vertical-align: middle;\n",
       "    }\n",
       "\n",
       "    .dataframe tbody tr th {\n",
       "        vertical-align: top;\n",
       "    }\n",
       "\n",
       "    .dataframe thead th {\n",
       "        text-align: right;\n",
       "    }\n",
       "</style>\n",
       "<table border=\"1\" class=\"dataframe\">\n",
       "  <thead>\n",
       "    <tr style=\"text-align: right;\">\n",
       "      <th></th>\n",
       "      <th>0</th>\n",
       "      <th>1</th>\n",
       "      <th>2</th>\n",
       "      <th>3</th>\n",
       "      <th>4</th>\n",
       "      <th>5</th>\n",
       "      <th>6</th>\n",
       "      <th>7</th>\n",
       "      <th>8</th>\n",
       "      <th>9</th>\n",
       "      <th>...</th>\n",
       "      <th>41</th>\n",
       "      <th>42</th>\n",
       "      <th>43</th>\n",
       "      <th>44</th>\n",
       "      <th>45</th>\n",
       "      <th>46</th>\n",
       "      <th>47</th>\n",
       "      <th>48</th>\n",
       "      <th>49</th>\n",
       "      <th>50</th>\n",
       "    </tr>\n",
       "  </thead>\n",
       "  <tbody>\n",
       "    <tr>\n",
       "      <th>0</th>\n",
       "      <td>-0.166563</td>\n",
       "      <td>-3.961588</td>\n",
       "      <td>4.621113</td>\n",
       "      <td>2.481908</td>\n",
       "      <td>-1.800135</td>\n",
       "      <td>0.804684</td>\n",
       "      <td>6.718751</td>\n",
       "      <td>-14.789997</td>\n",
       "      <td>-1.040673</td>\n",
       "      <td>-4.204950</td>\n",
       "      <td>...</td>\n",
       "      <td>-1.497117</td>\n",
       "      <td>5.414063</td>\n",
       "      <td>-2.325655</td>\n",
       "      <td>1.674827</td>\n",
       "      <td>-0.264332</td>\n",
       "      <td>60.781427</td>\n",
       "      <td>-7.689696</td>\n",
       "      <td>0.151589</td>\n",
       "      <td>-8.040166</td>\n",
       "      <td>0</td>\n",
       "    </tr>\n",
       "    <tr>\n",
       "      <th>1</th>\n",
       "      <td>-0.149894</td>\n",
       "      <td>-0.585676</td>\n",
       "      <td>27.839856</td>\n",
       "      <td>4.152333</td>\n",
       "      <td>6.426802</td>\n",
       "      <td>-2.426943</td>\n",
       "      <td>40.477058</td>\n",
       "      <td>-6.725709</td>\n",
       "      <td>0.896421</td>\n",
       "      <td>0.330165</td>\n",
       "      <td>...</td>\n",
       "      <td>36.292790</td>\n",
       "      <td>4.490915</td>\n",
       "      <td>0.762561</td>\n",
       "      <td>6.526662</td>\n",
       "      <td>1.007927</td>\n",
       "      <td>15.805696</td>\n",
       "      <td>-4.896678</td>\n",
       "      <td>-0.320283</td>\n",
       "      <td>16.719974</td>\n",
       "      <td>0</td>\n",
       "    </tr>\n",
       "    <tr>\n",
       "      <th>2</th>\n",
       "      <td>-0.321707</td>\n",
       "      <td>-1.429819</td>\n",
       "      <td>12.251561</td>\n",
       "      <td>6.586874</td>\n",
       "      <td>-5.304647</td>\n",
       "      <td>-11.311090</td>\n",
       "      <td>17.812850</td>\n",
       "      <td>11.060572</td>\n",
       "      <td>5.325880</td>\n",
       "      <td>-2.632984</td>\n",
       "      <td>...</td>\n",
       "      <td>-0.368491</td>\n",
       "      <td>9.088864</td>\n",
       "      <td>-0.689886</td>\n",
       "      <td>-2.731118</td>\n",
       "      <td>0.754200</td>\n",
       "      <td>30.856417</td>\n",
       "      <td>-7.428573</td>\n",
       "      <td>-2.090804</td>\n",
       "      <td>-7.869421</td>\n",
       "      <td>0</td>\n",
       "    </tr>\n",
       "    <tr>\n",
       "      <th>3</th>\n",
       "      <td>-0.245594</td>\n",
       "      <td>5.076677</td>\n",
       "      <td>-24.149632</td>\n",
       "      <td>3.637307</td>\n",
       "      <td>6.505811</td>\n",
       "      <td>2.290224</td>\n",
       "      <td>-35.111751</td>\n",
       "      <td>-18.913592</td>\n",
       "      <td>-0.337041</td>\n",
       "      <td>-5.568076</td>\n",
       "      <td>...</td>\n",
       "      <td>15.691546</td>\n",
       "      <td>-7.467775</td>\n",
       "      <td>2.940789</td>\n",
       "      <td>-6.424112</td>\n",
       "      <td>0.419776</td>\n",
       "      <td>-72.424569</td>\n",
       "      <td>5.361375</td>\n",
       "      <td>1.806070</td>\n",
       "      <td>-7.670847</td>\n",
       "      <td>0</td>\n",
       "    </tr>\n",
       "    <tr>\n",
       "      <th>4</th>\n",
       "      <td>-0.273366</td>\n",
       "      <td>0.306326</td>\n",
       "      <td>-11.352593</td>\n",
       "      <td>1.676758</td>\n",
       "      <td>2.928441</td>\n",
       "      <td>-0.616824</td>\n",
       "      <td>-16.505817</td>\n",
       "      <td>27.532281</td>\n",
       "      <td>1.199715</td>\n",
       "      <td>-4.309105</td>\n",
       "      <td>...</td>\n",
       "      <td>-13.911297</td>\n",
       "      <td>-5.229937</td>\n",
       "      <td>1.783928</td>\n",
       "      <td>3.957801</td>\n",
       "      <td>-0.096988</td>\n",
       "      <td>-14.085435</td>\n",
       "      <td>-0.208351</td>\n",
       "      <td>-0.894942</td>\n",
       "      <td>15.724742</td>\n",
       "      <td>1</td>\n",
       "    </tr>\n",
       "  </tbody>\n",
       "</table>\n",
       "<p>5 rows × 51 columns</p>\n",
       "</div>"
      ],
      "text/plain": [
       "         0         1          2         3         4          5          6   \\\n",
       "0 -0.166563 -3.961588   4.621113  2.481908 -1.800135   0.804684   6.718751   \n",
       "1 -0.149894 -0.585676  27.839856  4.152333  6.426802  -2.426943  40.477058   \n",
       "2 -0.321707 -1.429819  12.251561  6.586874 -5.304647 -11.311090  17.812850   \n",
       "3 -0.245594  5.076677 -24.149632  3.637307  6.505811   2.290224 -35.111751   \n",
       "4 -0.273366  0.306326 -11.352593  1.676758  2.928441  -0.616824 -16.505817   \n",
       "\n",
       "          7         8         9   ...         41        42        43  \\\n",
       "0 -14.789997 -1.040673 -4.204950  ...  -1.497117  5.414063 -2.325655   \n",
       "1  -6.725709  0.896421  0.330165  ...  36.292790  4.490915  0.762561   \n",
       "2  11.060572  5.325880 -2.632984  ...  -0.368491  9.088864 -0.689886   \n",
       "3 -18.913592 -0.337041 -5.568076  ...  15.691546 -7.467775  2.940789   \n",
       "4  27.532281  1.199715 -4.309105  ... -13.911297 -5.229937  1.783928   \n",
       "\n",
       "         44        45         46        47        48         49  50  \n",
       "0  1.674827 -0.264332  60.781427 -7.689696  0.151589  -8.040166   0  \n",
       "1  6.526662  1.007927  15.805696 -4.896678 -0.320283  16.719974   0  \n",
       "2 -2.731118  0.754200  30.856417 -7.428573 -2.090804  -7.869421   0  \n",
       "3 -6.424112  0.419776 -72.424569  5.361375  1.806070  -7.670847   0  \n",
       "4  3.957801 -0.096988 -14.085435 -0.208351 -0.894942  15.724742   1  \n",
       "\n",
       "[5 rows x 51 columns]"
      ]
     },
     "execution_count": 11,
     "metadata": {},
     "output_type": "execute_result"
    }
   ],
   "source": [
    "data.head()\n"
   ]
  },
  {
   "cell_type": "code",
   "execution_count": 12,
   "metadata": {},
   "outputs": [],
   "source": [
    "data.info()"
   ]
  },
  {
   "cell_type": "code",
   "execution_count": 13,
   "metadata": {},
   "outputs": [],
   "source": [
    "data.boxplot(grid = False,figsize=(40,20)) #figsize=(Width,Height)"
   ]
  },
  {
   "cell_type": "code",
   "execution_count": 14,
   "metadata": {},
   "outputs": [],
   "source": [
    "data.y.unique()"
   ]
  },
  {
   "cell_type": "code",
   "execution_count": 15,
   "metadata": {},
   "outputs": [],
   "source": [
    "data_zero = data[data['y']== 0]\n",
    "data_one = data[data['y']== 1]"
   ]
  },
  {
   "cell_type": "code",
   "execution_count": 16,
   "metadata": {},
   "outputs": [],
   "source": [
    "data_zero.boxplot(grid = False, figsize=(40,20)) #figsize=(Width,Height)"
   ]
  },
  {
   "cell_type": "code",
   "execution_count": null,
   "metadata": {},
   "outputs": [],
   "source": []
  },
  {
   "cell_type": "code",
   "execution_count": null,
   "metadata": {},
   "outputs": [],
   "source": []
  },
  {
   "cell_type": "code",
   "execution_count": null,
   "metadata": {},
   "outputs": [],
   "source": []
  },
  {
   "cell_type": "code",
   "execution_count": null,
   "metadata": {},
   "outputs": [],
   "source": []
  },
  {
   "cell_type": "code",
   "execution_count": null,
   "metadata": {},
   "outputs": [],
   "source": []
  },
  {
   "cell_type": "code",
   "execution_count": null,
   "metadata": {},
   "outputs": [],
   "source": []
  },
  {
   "cell_type": "code",
   "execution_count": null,
   "metadata": {},
   "outputs": [],
   "source": []
  },
  {
   "cell_type": "markdown",
   "metadata": {},
   "source": [
    "[SVM], Logistic; random forrest, naive bayes, XGBoost, [DN]"
   ]
  },
  {
   "cell_type": "code",
   "execution_count": 17,
   "metadata": {},
   "outputs": [],
   "source": [
    "import tensorflow as tf\n",
    "from tensorboard.plugins.hparams import api as hp\n",
    "from tensorflow import feature_column\n",
    "from tensorflow.keras import layers\n",
    "import tensorflow.compat.v2.feature_column as fc\n",
    " \n"
   ]
  },
  {
   "cell_type": "code",
   "execution_count": 18,
   "metadata": {},
   "outputs": [],
   "source": [
    "x1 = df.drop([50], axis = 1)\n"
   ]
  },
  {
   "cell_type": "code",
   "execution_count": 19,
   "metadata": {},
   "outputs": [],
   "source": [
    "y = df[50]"
   ]
  },
  {
   "cell_type": "code",
   "execution_count": 20,
   "metadata": {},
   "outputs": [],
   "source": [
    "y = y.to_numpy()"
   ]
  },
  {
   "cell_type": "code",
   "execution_count": 21,
   "metadata": {},
   "outputs": [
    {
     "data": {
      "text/plain": [
       "array([0, 0, 0, ..., 1, 0, 1], dtype=int64)"
      ]
     },
     "execution_count": 21,
     "metadata": {},
     "output_type": "execute_result"
    }
   ],
   "source": [
    "y"
   ]
  },
  {
   "cell_type": "code",
   "execution_count": 22,
   "metadata": {},
   "outputs": [],
   "source": [
    "import re"
   ]
  },
  {
   "cell_type": "code",
   "execution_count": 23,
   "metadata": {},
   "outputs": [
    {
     "name": "stdout",
     "output_type": "stream",
     "text": [
      "1      4.152333\n",
      "2      6.586874\n",
      "3      3.637307\n",
      "4      1.676758\n",
      "5      5.182092\n",
      "6     -0.930500\n",
      "7    -13.374530\n",
      "8      4.718855\n",
      "9     -0.796302\n",
      "10     0.104432\n",
      "11     2.604201\n",
      "12     3.798925\n",
      "13    -5.688358\n",
      "14   -22.074013\n",
      "15     5.535042\n",
      "16     1.282171\n",
      "17     2.582833\n",
      "18     2.027941\n",
      "19    -0.209906\n",
      "20     3.994230\n",
      "21   -14.565122\n",
      "22     6.385889\n",
      "23     1.041696\n",
      "24    -4.087241\n",
      "25    -0.574695\n",
      "26    -7.931013\n",
      "27    13.497621\n",
      "28    -3.227753\n",
      "29   -12.936755\n",
      "30    12.998583\n",
      "31    -0.806205\n",
      "32   -11.156008\n",
      "33    -5.090650\n",
      "34     2.644812\n",
      "35    -7.270383\n",
      "36     2.056062\n",
      "37    -1.502662\n",
      "38     0.744331\n",
      "39    -5.129643\n",
      "40     0.333339\n",
      "41     5.819900\n",
      "42    -3.865066\n",
      "43     1.393440\n",
      "44    23.779610\n",
      "45    -4.622862\n",
      "46     1.334108\n",
      "47    18.663702\n",
      "48    -3.980340\n",
      "49     4.062733\n",
      "Name: 3, dtype: float64\n"
     ]
    }
   ],
   "source": [
    "x1.dtypes\n",
    "print(x1[1:50][3])"
   ]
  },
  {
   "cell_type": "code",
   "execution_count": 24,
   "metadata": {},
   "outputs": [],
   "source": [
    "x1[29] = pd.to_numeric(x1[29], errors = 'coerce')\n",
    "x1[30] = pd.to_numeric(x1[30], errors = 'coerce')\n",
    "x1[32] = pd.to_numeric(x1[32], errors = 'coerce')\n",
    "x1[37] = pd.to_numeric(x1[37], errors = 'coerce')\n"
   ]
  },
  {
   "cell_type": "code",
   "execution_count": 25,
   "metadata": {},
   "outputs": [
    {
     "name": "stdout",
     "output_type": "stream",
     "text": [
      "0     float64\n",
      "1     float64\n",
      "2     float64\n",
      "3     float64\n",
      "4     float64\n",
      "5     float64\n",
      "6     float64\n",
      "7     float64\n",
      "8     float64\n",
      "9     float64\n",
      "10    float64\n",
      "11    float64\n",
      "12    float64\n",
      "13    float64\n",
      "14    float64\n",
      "15    float64\n",
      "16    float64\n",
      "17    float64\n",
      "18    float64\n",
      "19    float64\n",
      "20    float64\n",
      "21    float64\n",
      "22    float64\n",
      "23    float64\n",
      "24    float64\n",
      "25    float64\n",
      "26    float64\n",
      "27    float64\n",
      "28    float64\n",
      "29    float64\n",
      "30    float64\n",
      "31    float64\n",
      "32    float64\n",
      "33    float64\n",
      "34    float64\n",
      "35    float64\n",
      "36    float64\n",
      "37    float64\n",
      "38    float64\n",
      "39    float64\n",
      "40    float64\n",
      "41    float64\n",
      "42    float64\n",
      "43    float64\n",
      "44    float64\n",
      "45    float64\n",
      "46    float64\n",
      "47    float64\n",
      "48    float64\n",
      "49    float64\n",
      "dtype: object\n"
     ]
    }
   ],
   "source": [
    "for i in range(50):\n",
    "    x1[i] = pd.to_numeric(x1[i], errors = 'coerce')\n",
    "print(x1.dtypes)"
   ]
  },
  {
   "cell_type": "code",
   "execution_count": 26,
   "metadata": {},
   "outputs": [
    {
     "data": {
      "text/html": [
       "<div>\n",
       "<style scoped>\n",
       "    .dataframe tbody tr th:only-of-type {\n",
       "        vertical-align: middle;\n",
       "    }\n",
       "\n",
       "    .dataframe tbody tr th {\n",
       "        vertical-align: top;\n",
       "    }\n",
       "\n",
       "    .dataframe thead th {\n",
       "        text-align: right;\n",
       "    }\n",
       "</style>\n",
       "<table border=\"1\" class=\"dataframe\">\n",
       "  <thead>\n",
       "    <tr style=\"text-align: right;\">\n",
       "      <th></th>\n",
       "      <th>0</th>\n",
       "      <th>1</th>\n",
       "      <th>2</th>\n",
       "      <th>3</th>\n",
       "      <th>4</th>\n",
       "      <th>5</th>\n",
       "      <th>6</th>\n",
       "      <th>7</th>\n",
       "      <th>8</th>\n",
       "      <th>9</th>\n",
       "      <th>...</th>\n",
       "      <th>40</th>\n",
       "      <th>41</th>\n",
       "      <th>42</th>\n",
       "      <th>43</th>\n",
       "      <th>44</th>\n",
       "      <th>45</th>\n",
       "      <th>46</th>\n",
       "      <th>47</th>\n",
       "      <th>48</th>\n",
       "      <th>49</th>\n",
       "    </tr>\n",
       "  </thead>\n",
       "  <tbody>\n",
       "    <tr>\n",
       "      <th>count</th>\n",
       "      <td>159974.000000</td>\n",
       "      <td>159975.000000</td>\n",
       "      <td>159962.000000</td>\n",
       "      <td>159963.000000</td>\n",
       "      <td>159974.000000</td>\n",
       "      <td>159963.000000</td>\n",
       "      <td>159974.000000</td>\n",
       "      <td>159973.000000</td>\n",
       "      <td>159979.000000</td>\n",
       "      <td>159970.000000</td>\n",
       "      <td>...</td>\n",
       "      <td>159964.000000</td>\n",
       "      <td>159960.000000</td>\n",
       "      <td>159974.000000</td>\n",
       "      <td>159963.000000</td>\n",
       "      <td>159960.000000</td>\n",
       "      <td>159971.000000</td>\n",
       "      <td>159969.000000</td>\n",
       "      <td>159963.000000</td>\n",
       "      <td>159968.000000</td>\n",
       "      <td>159968.000000</td>\n",
       "    </tr>\n",
       "    <tr>\n",
       "      <th>mean</th>\n",
       "      <td>-0.001028</td>\n",
       "      <td>0.001358</td>\n",
       "      <td>-1.150145</td>\n",
       "      <td>-0.024637</td>\n",
       "      <td>-0.000549</td>\n",
       "      <td>0.013582</td>\n",
       "      <td>-1.670670</td>\n",
       "      <td>-7.692795</td>\n",
       "      <td>-0.030540</td>\n",
       "      <td>0.005462</td>\n",
       "      <td>...</td>\n",
       "      <td>-2.316526</td>\n",
       "      <td>6.701076</td>\n",
       "      <td>-1.833820</td>\n",
       "      <td>-0.002091</td>\n",
       "      <td>-0.006250</td>\n",
       "      <td>0.000885</td>\n",
       "      <td>-12.755395</td>\n",
       "      <td>0.028622</td>\n",
       "      <td>-0.000224</td>\n",
       "      <td>-0.674224</td>\n",
       "    </tr>\n",
       "    <tr>\n",
       "      <th>std</th>\n",
       "      <td>0.371137</td>\n",
       "      <td>6.340632</td>\n",
       "      <td>13.273480</td>\n",
       "      <td>8.065032</td>\n",
       "      <td>6.382293</td>\n",
       "      <td>7.670076</td>\n",
       "      <td>19.298665</td>\n",
       "      <td>30.542264</td>\n",
       "      <td>8.901185</td>\n",
       "      <td>6.355040</td>\n",
       "      <td>...</td>\n",
       "      <td>17.043549</td>\n",
       "      <td>18.680196</td>\n",
       "      <td>5.110705</td>\n",
       "      <td>1.534952</td>\n",
       "      <td>4.164595</td>\n",
       "      <td>0.396621</td>\n",
       "      <td>36.608641</td>\n",
       "      <td>4.788157</td>\n",
       "      <td>1.935501</td>\n",
       "      <td>15.036738</td>\n",
       "    </tr>\n",
       "    <tr>\n",
       "      <th>min</th>\n",
       "      <td>-1.592635</td>\n",
       "      <td>-26.278302</td>\n",
       "      <td>-59.394048</td>\n",
       "      <td>-35.476594</td>\n",
       "      <td>-28.467536</td>\n",
       "      <td>-33.822988</td>\n",
       "      <td>-86.354483</td>\n",
       "      <td>-181.506976</td>\n",
       "      <td>-37.691045</td>\n",
       "      <td>-27.980659</td>\n",
       "      <td>...</td>\n",
       "      <td>-74.059196</td>\n",
       "      <td>-82.167224</td>\n",
       "      <td>-27.933750</td>\n",
       "      <td>-6.876234</td>\n",
       "      <td>-17.983487</td>\n",
       "      <td>-1.753221</td>\n",
       "      <td>-201.826828</td>\n",
       "      <td>-21.086333</td>\n",
       "      <td>-8.490155</td>\n",
       "      <td>-65.791191</td>\n",
       "    </tr>\n",
       "    <tr>\n",
       "      <th>25%</th>\n",
       "      <td>-0.251641</td>\n",
       "      <td>-4.260973</td>\n",
       "      <td>-10.166536</td>\n",
       "      <td>-5.454438</td>\n",
       "      <td>-4.313118</td>\n",
       "      <td>-5.148130</td>\n",
       "      <td>-14.780146</td>\n",
       "      <td>-27.324771</td>\n",
       "      <td>-6.031058</td>\n",
       "      <td>-4.260619</td>\n",
       "      <td>...</td>\n",
       "      <td>-13.953629</td>\n",
       "      <td>-5.804080</td>\n",
       "      <td>-5.162869</td>\n",
       "      <td>-1.039677</td>\n",
       "      <td>-2.812055</td>\n",
       "      <td>-0.266518</td>\n",
       "      <td>-36.428329</td>\n",
       "      <td>-3.216016</td>\n",
       "      <td>-1.320800</td>\n",
       "      <td>-10.931753</td>\n",
       "    </tr>\n",
       "    <tr>\n",
       "      <th>50%</th>\n",
       "      <td>-0.002047</td>\n",
       "      <td>0.004813</td>\n",
       "      <td>-1.340932</td>\n",
       "      <td>-0.031408</td>\n",
       "      <td>0.000857</td>\n",
       "      <td>0.014118</td>\n",
       "      <td>-1.948594</td>\n",
       "      <td>-6.956789</td>\n",
       "      <td>-0.016840</td>\n",
       "      <td>0.006045</td>\n",
       "      <td>...</td>\n",
       "      <td>-2.701867</td>\n",
       "      <td>6.840110</td>\n",
       "      <td>-1.923754</td>\n",
       "      <td>-0.004385</td>\n",
       "      <td>-0.010484</td>\n",
       "      <td>0.001645</td>\n",
       "      <td>-12.982497</td>\n",
       "      <td>0.035865</td>\n",
       "      <td>-0.011993</td>\n",
       "      <td>-0.574410</td>\n",
       "    </tr>\n",
       "    <tr>\n",
       "      <th>75%</th>\n",
       "      <td>0.248532</td>\n",
       "      <td>4.284220</td>\n",
       "      <td>7.871676</td>\n",
       "      <td>5.445179</td>\n",
       "      <td>4.306660</td>\n",
       "      <td>5.190749</td>\n",
       "      <td>11.446931</td>\n",
       "      <td>12.217071</td>\n",
       "      <td>5.972349</td>\n",
       "      <td>4.305734</td>\n",
       "      <td>...</td>\n",
       "      <td>8.981616</td>\n",
       "      <td>19.266367</td>\n",
       "      <td>1.453507</td>\n",
       "      <td>1.033275</td>\n",
       "      <td>2.783274</td>\n",
       "      <td>0.269049</td>\n",
       "      <td>11.445443</td>\n",
       "      <td>3.268028</td>\n",
       "      <td>1.317703</td>\n",
       "      <td>9.651072</td>\n",
       "    </tr>\n",
       "    <tr>\n",
       "      <th>max</th>\n",
       "      <td>1.600849</td>\n",
       "      <td>27.988178</td>\n",
       "      <td>63.545653</td>\n",
       "      <td>38.906025</td>\n",
       "      <td>26.247812</td>\n",
       "      <td>35.550110</td>\n",
       "      <td>92.390605</td>\n",
       "      <td>149.150634</td>\n",
       "      <td>39.049831</td>\n",
       "      <td>27.377842</td>\n",
       "      <td>...</td>\n",
       "      <td>88.824477</td>\n",
       "      <td>100.050432</td>\n",
       "      <td>22.668041</td>\n",
       "      <td>6.680922</td>\n",
       "      <td>19.069759</td>\n",
       "      <td>1.669205</td>\n",
       "      <td>150.859415</td>\n",
       "      <td>20.836854</td>\n",
       "      <td>8.226552</td>\n",
       "      <td>66.877604</td>\n",
       "    </tr>\n",
       "  </tbody>\n",
       "</table>\n",
       "<p>8 rows × 50 columns</p>\n",
       "</div>"
      ],
      "text/plain": [
       "                  0              1              2              3   \\\n",
       "count  159974.000000  159975.000000  159962.000000  159963.000000   \n",
       "mean       -0.001028       0.001358      -1.150145      -0.024637   \n",
       "std         0.371137       6.340632      13.273480       8.065032   \n",
       "min        -1.592635     -26.278302     -59.394048     -35.476594   \n",
       "25%        -0.251641      -4.260973     -10.166536      -5.454438   \n",
       "50%        -0.002047       0.004813      -1.340932      -0.031408   \n",
       "75%         0.248532       4.284220       7.871676       5.445179   \n",
       "max         1.600849      27.988178      63.545653      38.906025   \n",
       "\n",
       "                  4              5              6              7   \\\n",
       "count  159974.000000  159963.000000  159974.000000  159973.000000   \n",
       "mean       -0.000549       0.013582      -1.670670      -7.692795   \n",
       "std         6.382293       7.670076      19.298665      30.542264   \n",
       "min       -28.467536     -33.822988     -86.354483    -181.506976   \n",
       "25%        -4.313118      -5.148130     -14.780146     -27.324771   \n",
       "50%         0.000857       0.014118      -1.948594      -6.956789   \n",
       "75%         4.306660       5.190749      11.446931      12.217071   \n",
       "max        26.247812      35.550110      92.390605     149.150634   \n",
       "\n",
       "                  8              9   ...             40             41  \\\n",
       "count  159979.000000  159970.000000  ...  159964.000000  159960.000000   \n",
       "mean       -0.030540       0.005462  ...      -2.316526       6.701076   \n",
       "std         8.901185       6.355040  ...      17.043549      18.680196   \n",
       "min       -37.691045     -27.980659  ...     -74.059196     -82.167224   \n",
       "25%        -6.031058      -4.260619  ...     -13.953629      -5.804080   \n",
       "50%        -0.016840       0.006045  ...      -2.701867       6.840110   \n",
       "75%         5.972349       4.305734  ...       8.981616      19.266367   \n",
       "max        39.049831      27.377842  ...      88.824477     100.050432   \n",
       "\n",
       "                  42             43             44             45  \\\n",
       "count  159974.000000  159963.000000  159960.000000  159971.000000   \n",
       "mean       -1.833820      -0.002091      -0.006250       0.000885   \n",
       "std         5.110705       1.534952       4.164595       0.396621   \n",
       "min       -27.933750      -6.876234     -17.983487      -1.753221   \n",
       "25%        -5.162869      -1.039677      -2.812055      -0.266518   \n",
       "50%        -1.923754      -0.004385      -0.010484       0.001645   \n",
       "75%         1.453507       1.033275       2.783274       0.269049   \n",
       "max        22.668041       6.680922      19.069759       1.669205   \n",
       "\n",
       "                  46             47             48             49  \n",
       "count  159969.000000  159963.000000  159968.000000  159968.000000  \n",
       "mean      -12.755395       0.028622      -0.000224      -0.674224  \n",
       "std        36.608641       4.788157       1.935501      15.036738  \n",
       "min      -201.826828     -21.086333      -8.490155     -65.791191  \n",
       "25%       -36.428329      -3.216016      -1.320800     -10.931753  \n",
       "50%       -12.982497       0.035865      -0.011993      -0.574410  \n",
       "75%        11.445443       3.268028       1.317703       9.651072  \n",
       "max       150.859415      20.836854       8.226552      66.877604  \n",
       "\n",
       "[8 rows x 50 columns]"
      ]
     },
     "execution_count": 26,
     "metadata": {},
     "output_type": "execute_result"
    }
   ],
   "source": [
    "x1.describe()"
   ]
  },
  {
   "cell_type": "code",
   "execution_count": 27,
   "metadata": {},
   "outputs": [
    {
     "data": {
      "text/plain": [
       "count    0.0\n",
       "mean     NaN\n",
       "std      NaN\n",
       "min      NaN\n",
       "25%      NaN\n",
       "50%      NaN\n",
       "75%      NaN\n",
       "max      NaN\n",
       "Name: 32, dtype: float64"
      ]
     },
     "execution_count": 27,
     "metadata": {},
     "output_type": "execute_result"
    }
   ],
   "source": [
    "x1[32].describe()\n"
   ]
  },
  {
   "cell_type": "code",
   "execution_count": 28,
   "metadata": {},
   "outputs": [
    {
     "name": "stdout",
     "output_type": "stream",
     "text": [
      "                  0              1              2              3   \\\n",
      "count  160000.000000  160000.000000  160000.000000  160000.000000   \n",
      "mean       -0.001028       0.001358      -1.149871      -0.024632   \n",
      "std         0.371107       6.340137      13.271916       8.064099   \n",
      "min        -1.592635     -26.278302     -59.394048     -35.476594   \n",
      "25%        -0.251574      -4.260377     -10.163721      -5.452183   \n",
      "50%        -0.001980       0.004056      -1.336542      -0.028386   \n",
      "75%         0.248505       4.282958       7.868661       5.443760   \n",
      "max         1.600849      27.988178      63.545653      38.906025   \n",
      "\n",
      "                  4              5              6              7   \\\n",
      "count  160000.000000  160000.000000  160000.000000  160000.000000   \n",
      "mean       -0.000549       0.013578      -1.670399      -7.691497   \n",
      "std         6.381775       7.669189      19.297108      30.539850   \n",
      "min       -28.467536     -33.822988     -86.354483    -181.506976   \n",
      "25%        -4.312029      -5.147177     -14.777287     -27.318385   \n",
      "50%         0.000000       0.011825      -1.943830      -6.953277   \n",
      "75%         4.305730       5.188709      11.444045      12.213263   \n",
      "max        26.247812      35.550110      92.390605     149.150634   \n",
      "\n",
      "                  8              9   ...             40             41  \\\n",
      "count  160000.000000  160000.000000  ...  160000.000000  160000.000000   \n",
      "mean       -0.030536       0.005461  ...      -2.316005       6.699401   \n",
      "std         8.900601       6.354444  ...      17.041667      18.678161   \n",
      "min       -37.691045     -27.980659  ...     -74.059196     -82.167224   \n",
      "25%        -6.030219      -4.259907  ...     -13.952094      -5.801423   \n",
      "50%        -0.015969       0.004547  ...      -2.698196       6.835074   \n",
      "75%         5.971778       4.305071  ...       8.978507      19.263639   \n",
      "max        39.049831      27.377842  ...      88.824477     100.050432   \n",
      "\n",
      "                  42             43             44             45  \\\n",
      "count  160000.000000  160000.000000  160000.000000  160000.000000   \n",
      "mean       -1.833522      -0.002091      -0.006249       0.000885   \n",
      "std         5.110344       1.534775       4.164075       0.396585   \n",
      "min       -27.933750      -6.876234     -17.983487      -1.753221   \n",
      "25%        -5.162268      -1.039482      -2.811242      -0.266411   \n",
      "50%        -1.923107      -0.004096      -0.009104       0.001542   \n",
      "75%         1.452664       1.032992       2.782384       0.268985   \n",
      "max        22.668041       6.680922      19.069759       1.669205   \n",
      "\n",
      "                  46             47             48             49  \n",
      "count  160000.000000  160000.000000  160000.000000  160000.000000  \n",
      "mean      -12.752924       0.028616      -0.000224      -0.674089  \n",
      "std        36.605525       4.787604       1.935308      15.035237  \n",
      "min      -201.826828     -21.086333      -8.490155     -65.791191  \n",
      "25%       -36.425835      -3.214765      -1.320470     -10.930261  \n",
      "50%       -12.973676       0.034732      -0.011225      -0.570103  \n",
      "75%        11.437354       3.266938       1.317397       9.649149  \n",
      "max       150.859415      20.836854       8.226552      66.877604  \n",
      "\n",
      "[8 rows x 50 columns]\n"
     ]
    }
   ],
   "source": [
    "for i in range(50):\n",
    "    x1[i].fillna(0, inplace = True)\n",
    "print(x1.describe())\n"
   ]
  },
  {
   "cell_type": "code",
   "execution_count": 29,
   "metadata": {},
   "outputs": [],
   "source": [
    "from sklearn.preprocessing import MinMaxScaler\n",
    "\n",
    "scaler = MinMaxScaler(feature_range=(0,1))\n",
    "scaled_train = scaler.fit_transform(x1)\n",
    "\n",
    "# Print out the adjustment that the scaler applied to the lepton pT column of data\n",
    "#print(\"Note: median values were scaled by multiplying by {:.10f} and adding {:.6f}\".format(scaler.scale_[0],scaler.min_[0]))\n",
    "#multiplied_by = scaler.scale_[0]\n",
    "#added = scaler.min_[0]\n",
    "\n",
    "scaled_train_df = pd.DataFrame(scaled_train, columns = x1.columns)"
   ]
  },
  {
   "cell_type": "code",
   "execution_count": 30,
   "metadata": {},
   "outputs": [],
   "source": [
    "from keras.applications import Xception\n",
    "from keras.utils import multi_gpu_model"
   ]
  },
  {
   "cell_type": "code",
   "execution_count": 31,
   "metadata": {},
   "outputs": [],
   "source": [
    "mirrored_strategy = tf.distribute.MirroredStrategy(devices=[\"/gpu:0\", \"/gpu:1\"],\n",
    "                                          cross_device_ops=tf.distribute.HierarchicalCopyAllReduce())"
   ]
  },
  {
   "cell_type": "code",
   "execution_count": 32,
   "metadata": {},
   "outputs": [
    {
     "name": "stdout",
     "output_type": "stream",
     "text": [
      "Executing op RandomUniform in device /job:localhost/replica:0/task:0/device:GPU:0\n",
      "Executing op Sub in device /job:localhost/replica:0/task:0/device:GPU:0\n",
      "Executing op Mul in device /job:localhost/replica:0/task:0/device:GPU:0\n",
      "Executing op Add in device /job:localhost/replica:0/task:0/device:GPU:0\n",
      "Executing op VarHandleOp in device /job:localhost/replica:0/task:0/device:GPU:0\n",
      "Executing op VarIsInitializedOp in device /job:localhost/replica:0/task:0/device:GPU:0\n",
      "Executing op LogicalNot in device /job:localhost/replica:0/task:0/device:GPU:0\n",
      "Executing op Assert in device /job:localhost/replica:0/task:0/device:GPU:0\n",
      "Executing op AssignVariableOp in device /job:localhost/replica:0/task:0/device:GPU:0\n",
      "Executing op ReadVariableOp in device /job:localhost/replica:0/task:0/device:GPU:0\n",
      "Executing op VarHandleOp in device /job:localhost/replica:0/task:0/device:GPU:1\n",
      "Executing op VarIsInitializedOp in device /job:localhost/replica:0/task:0/device:GPU:1\n",
      "Executing op LogicalNot in device /job:localhost/replica:0/task:0/device:GPU:1\n",
      "Executing op Assert in device /job:localhost/replica:0/task:0/device:GPU:1\n",
      "Executing op AssignVariableOp in device /job:localhost/replica:0/task:0/device:GPU:1\n",
      "Executing op Fill in device /job:localhost/replica:0/task:0/device:GPU:0\n",
      "Executing op VarHandleOp in device /job:localhost/replica:0/task:0/device:GPU:0\n",
      "Executing op VarHandleOp in device /job:localhost/replica:0/task:0/device:GPU:1\n",
      "Executing op VarHandleOp in device /job:localhost/replica:0/task:0/device:GPU:0\n",
      "Executing op VarHandleOp in device /job:localhost/replica:0/task:0/device:GPU:1\n",
      "Executing op VarHandleOp in device /job:localhost/replica:0/task:0/device:GPU:0\n",
      "Executing op VarHandleOp in device /job:localhost/replica:0/task:0/device:GPU:1\n",
      "Executing op Reshape in device /job:localhost/replica:0/task:0/device:GPU:0\n",
      "Executing op VarHandleOp in device /job:localhost/replica:0/task:0/device:GPU:0\n",
      "Executing op VarHandleOp in device /job:localhost/replica:0/task:0/device:GPU:1\n",
      "Executing op VarHandleOp in device /job:localhost/replica:0/task:0/device:GPU:0\n",
      "Executing op VarHandleOp in device /job:localhost/replica:0/task:0/device:GPU:1\n",
      "INFO:tensorflow:Reduce to /job:localhost/replica:0/task:0/device:CPU:0 then broadcast to ('/job:localhost/replica:0/task:0/device:CPU:0',).\n",
      "INFO:tensorflow:Reduce to /job:localhost/replica:0/task:0/device:CPU:0 then broadcast to ('/job:localhost/replica:0/task:0/device:CPU:0',).\n"
     ]
    }
   ],
   "source": [
    "with mirrored_strategy.scope():\n",
    "    model_final = tf.keras.Sequential()\n",
    "    model_final.add(layers.Dense(300, input_dim = 50, activation = 'relu'))\n",
    "    model_final.add(layers.Dropout(0.5))\n",
    "    model_final.add(layers.Dense(300, activation = 'relu'))\n",
    "    model_final.add(layers.Dropout(0.5))\n",
    "    model_final.add(layers.Dense(300, activation = 'relu'))\n",
    "    model_final.add(layers.Dropout(0.5))\n",
    "    model_final.add(layers.Dense(300, activation = 'relu'))\n",
    "    model_final.add(layers.Dense(300, activation = 'relu'))\n",
    "    model_final.add(layers.Dense(1, activation = 'sigmoid'))\n",
    "    \n",
    "    model_final.compile(optimizer=tf.optimizers.Adam(learning_rate = 0.01, decay = 0.0001),\n",
    "             loss=tf.keras.losses.BinaryCrossentropy(),\n",
    "             metrics=['accuracy'])\n",
    "    \n",
    "    log_dir = 'final_logs'\n",
    "    tb_random = TensorBoard(log_dir=log_dir, histogram_freq=1)"
   ]
  },
  {
   "cell_type": "code",
   "execution_count": 33,
   "metadata": {},
   "outputs": [],
   "source": [
    "with mirrored_strategy.scope():\n",
    "\n",
    "    x_train, x_test, y_train, y_test = train_test_split(x1.values, y, test_size=0.20, random_state=102)"
   ]
  },
  {
   "cell_type": "code",
   "execution_count": 34,
   "metadata": {},
   "outputs": [
    {
     "name": "stdout",
     "output_type": "stream",
     "text": [
      "float64\n"
     ]
    }
   ],
   "source": [
    "print(x_train.dtype)"
   ]
  },
  {
   "cell_type": "code",
   "execution_count": 85,
   "metadata": {},
   "outputs": [
    {
     "name": "stdout",
     "output_type": "stream",
     "text": [
      "Executing op MapDataset in device /job:localhost/replica:0/task:0/device:CPU:0\n",
      "Executing op FlatMapDataset in device /job:localhost/replica:0/task:0/device:CPU:0\n",
      "Executing op TensorDataset in device /job:localhost/replica:0/task:0/device:CPU:0\n",
      "Executing op RepeatDataset in device /job:localhost/replica:0/task:0/device:CPU:0\n",
      "Executing op ZipDataset in device /job:localhost/replica:0/task:0/device:CPU:0\n",
      "Executing op ParallelMapDataset in device /job:localhost/replica:0/task:0/device:CPU:0\n",
      "Executing op MapDataset in device /job:localhost/replica:0/task:0/device:CPU:0\n",
      "Executing op PrefetchDataset in device /job:localhost/replica:0/task:0/device:CPU:0\n",
      "Executing op FlatMapDataset in device /job:localhost/replica:0/task:0/device:CPU:0\n",
      "Executing op TensorDataset in device /job:localhost/replica:0/task:0/device:CPU:0\n",
      "Executing op RepeatDataset in device /job:localhost/replica:0/task:0/device:CPU:0\n",
      "Executing op ZipDataset in device /job:localhost/replica:0/task:0/device:CPU:0\n",
      "Executing op ParallelMapDataset in device /job:localhost/replica:0/task:0/device:CPU:0\n",
      "Executing op DatasetCardinality in device /job:localhost/replica:0/task:0/device:CPU:0\n",
      "Executing op RebatchDataset in device /job:localhost/replica:0/task:0/device:CPU:0\n",
      "Executing op AutoShardDataset in device /job:localhost/replica:0/task:0/device:CPU:0\n",
      "Train on 128000 samples, validate on 32000 samples\n",
      "Executing op Add in device /job:localhost/replica:0/task:0/device:CPU:0\n",
      "Executing op SummaryWriter in device /job:localhost/replica:0/task:0/device:CPU:0\n",
      "Executing op CreateSummaryFileWriter in device /job:localhost/replica:0/task:0/device:CPU:0\n",
      "Executing op WriteGraphSummary in device /job:localhost/replica:0/task:0/device:CPU:0\n",
      "Executing op LogicalAnd in device /job:localhost/replica:0/task:0/device:CPU:0\n",
      "Executing op WriteSummary in device /job:localhost/replica:0/task:0/device:CPU:0\n",
      "Executing op FlushSummaryWriter in device /job:localhost/replica:0/task:0/device:CPU:0\n",
      "Epoch 1/100\n",
      "Executing op OptimizeDataset in device /job:localhost/replica:0/task:0/device:CPU:0\n",
      "Executing op ModelDataset in device /job:localhost/replica:0/task:0/device:CPU:0\n",
      "Executing op MultiDeviceIterator in device /job:localhost/replica:0/task:0/device:CPU:0\n",
      "Executing op MultiDeviceIteratorInit in device /job:localhost/replica:0/task:0/device:CPU:0\n",
      "Executing op MultiDeviceIteratorToStringHandle in device /job:localhost/replica:0/task:0/device:CPU:0\n",
      "Executing op GeneratorDataset in device /job:localhost/replica:0/task:0/device:GPU:0\n",
      "Executing op GeneratorDataset in device /job:localhost/replica:0/task:0/device:GPU:1\n",
      "Executing op PrefetchDataset in device /job:localhost/replica:0/task:0/device:GPU:0\n",
      "Executing op AnonymousIteratorV2 in device /job:localhost/replica:0/task:0/device:GPU:0\n",
      "Executing op MakeIterator in device /job:localhost/replica:0/task:0/device:GPU:0\n",
      "Executing op PrefetchDataset in device /job:localhost/replica:0/task:0/device:GPU:1\n",
      "Executing op AnonymousIteratorV2 in device /job:localhost/replica:0/task:0/device:GPU:1\n",
      "Executing op MakeIterator in device /job:localhost/replica:0/task:0/device:GPU:1\n",
      "Executing op VarHandleOp in device /job:localhost/replica:0/task:0/device:GPU:0\n",
      "Executing op AssignVariableOp in device /job:localhost/replica:0/task:0/device:GPU:0\n",
      "Executing op ReadVariableOp in device /job:localhost/replica:0/task:0/device:GPU:0\n",
      "Executing op VarHandleOp in device /job:localhost/replica:0/task:0/device:GPU:1\n",
      "Executing op AssignVariableOp in device /job:localhost/replica:0/task:0/device:GPU:1\n",
      "Executing op VarHandleOp in device /job:localhost/replica:0/task:0/device:GPU:0\n",
      "Executing op VarHandleOp in device /job:localhost/replica:0/task:0/device:GPU:1\n",
      "Executing op VarHandleOp in device /job:localhost/replica:0/task:0/device:GPU:0\n",
      "Executing op VarHandleOp in device /job:localhost/replica:0/task:0/device:GPU:1\n",
      "Executing op VarHandleOp in device /job:localhost/replica:0/task:0/device:GPU:0\n",
      "Executing op VarHandleOp in device /job:localhost/replica:0/task:0/device:GPU:1\n",
      "Executing op VarHandleOp in device /job:localhost/replica:0/task:0/device:GPU:0\n",
      "Executing op VarHandleOp in device /job:localhost/replica:0/task:0/device:GPU:1\n",
      "Executing op Fill in device /job:localhost/replica:0/task:0/device:GPU:0\n",
      "Executing op VarHandleOp in device /job:localhost/replica:0/task:0/device:GPU:0\n",
      "Executing op VarHandleOp in device /job:localhost/replica:0/task:0/device:GPU:1\n",
      "Executing op VarHandleOp in device /job:localhost/replica:0/task:0/device:GPU:0\n",
      "Executing op VarHandleOp in device /job:localhost/replica:0/task:0/device:GPU:1\n",
      "Executing op VarHandleOp in device /job:localhost/replica:0/task:0/device:GPU:0\n",
      "Executing op VarHandleOp in device /job:localhost/replica:0/task:0/device:GPU:1\n",
      "Executing op VarHandleOp in device /job:localhost/replica:0/task:0/device:GPU:0\n",
      "Executing op VarHandleOp in device /job:localhost/replica:0/task:0/device:GPU:1\n",
      "Executing op VarHandleOp in device /job:localhost/replica:0/task:0/device:GPU:0\n",
      "Executing op VarHandleOp in device /job:localhost/replica:0/task:0/device:GPU:1\n",
      "Executing op VarHandleOp in device /job:localhost/replica:0/task:0/device:GPU:0\n",
      "Executing op VarHandleOp in device /job:localhost/replica:0/task:0/device:GPU:1\n",
      "Executing op VarHandleOp in device /job:localhost/replica:0/task:0/device:GPU:0\n",
      "Executing op VarHandleOp in device /job:localhost/replica:0/task:0/device:GPU:1\n",
      "Executing op VarHandleOp in device /job:localhost/replica:0/task:0/device:GPU:0\n",
      "Executing op VarHandleOp in device /job:localhost/replica:0/task:0/device:GPU:1\n",
      "Executing op VarHandleOp in device /job:localhost/replica:0/task:0/device:GPU:0\n",
      "Executing op VarHandleOp in device /job:localhost/replica:0/task:0/device:GPU:1\n",
      "Executing op VarHandleOp in device /job:localhost/replica:0/task:0/device:GPU:0\n",
      "Executing op VarHandleOp in device /job:localhost/replica:0/task:0/device:GPU:1\n",
      "Executing op VarHandleOp in device /job:localhost/replica:0/task:0/device:GPU:0\n",
      "Executing op VarHandleOp in device /job:localhost/replica:0/task:0/device:GPU:1\n",
      "Executing op Reshape in device /job:localhost/replica:0/task:0/device:GPU:0\n",
      "Executing op VarHandleOp in device /job:localhost/replica:0/task:0/device:GPU:0\n",
      "Executing op VarHandleOp in device /job:localhost/replica:0/task:0/device:GPU:1\n",
      "Executing op VarHandleOp in device /job:localhost/replica:0/task:0/device:GPU:0\n",
      "Executing op VarHandleOp in device /job:localhost/replica:0/task:0/device:GPU:1\n",
      "Executing op VarHandleOp in device /job:localhost/replica:0/task:0/device:GPU:0\n",
      "Executing op VarHandleOp in device /job:localhost/replica:0/task:0/device:GPU:1\n",
      "Executing op VarHandleOp in device /job:localhost/replica:0/task:0/device:GPU:0\n",
      "Executing op VarHandleOp in device /job:localhost/replica:0/task:0/device:GPU:1\n",
      "Executing op VarHandleOp in device /job:localhost/replica:0/task:0/device:GPU:0\n",
      "Executing op VarHandleOp in device /job:localhost/replica:0/task:0/device:GPU:1\n",
      "Executing op VarHandleOp in device /job:localhost/replica:0/task:0/device:GPU:0\n",
      "Executing op VarHandleOp in device /job:localhost/replica:0/task:0/device:GPU:1\n",
      "Executing op VarHandleOp in device /job:localhost/replica:0/task:0/device:GPU:0\n",
      "Executing op VarHandleOp in device /job:localhost/replica:0/task:0/device:GPU:1\n",
      "Executing op VarHandleOp in device /job:localhost/replica:0/task:0/device:GPU:0\n",
      "Executing op VarHandleOp in device /job:localhost/replica:0/task:0/device:GPU:1\n",
      "Executing op VarHandleOp in device /job:localhost/replica:0/task:0/device:GPU:0\n",
      "Executing op VarHandleOp in device /job:localhost/replica:0/task:0/device:GPU:1\n",
      "Executing op VarHandleOp in device /job:localhost/replica:0/task:0/device:GPU:0\n",
      "Executing op VarHandleOp in device /job:localhost/replica:0/task:0/device:GPU:1\n",
      "Executing op VarHandleOp in device /job:localhost/replica:0/task:0/device:GPU:0\n",
      "Executing op VarHandleOp in device /job:localhost/replica:0/task:0/device:GPU:1\n",
      "Executing op VarHandleOp in device /job:localhost/replica:0/task:0/device:GPU:0\n",
      "Executing op VarHandleOp in device /job:localhost/replica:0/task:0/device:GPU:1\n",
      "Executing op VarHandleOp in device /job:localhost/replica:0/task:0/device:GPU:0\n",
      "Executing op VarHandleOp in device /job:localhost/replica:0/task:0/device:GPU:1\n",
      "INFO:tensorflow:batch_all_reduce: 12 all-reduces with algorithm = hierarchical_copy, num_packs = 1, agg_small_grads_max_bytes = 0 and agg_small_grads_max_group = 10\n"
     ]
    },
    {
     "name": "stdout",
     "output_type": "stream",
     "text": [
      "INFO:tensorflow:Reduce to /job:localhost/replica:0/task:0/device:CPU:0 then broadcast to ('/job:localhost/replica:0/task:0/device:CPU:0',).\n",
      "INFO:tensorflow:Reduce to /job:localhost/replica:0/task:0/device:CPU:0 then broadcast to ('/job:localhost/replica:0/task:0/device:CPU:0',).\n",
      "INFO:tensorflow:Reduce to /job:localhost/replica:0/task:0/device:CPU:0 then broadcast to ('/job:localhost/replica:0/task:0/device:CPU:0',).\n",
      "INFO:tensorflow:Reduce to /job:localhost/replica:0/task:0/device:CPU:0 then broadcast to ('/job:localhost/replica:0/task:0/device:CPU:0',).\n",
      "Executing op __inference_initialize_variables_2682 in device /job:localhost/replica:0/task:0/device:GPU:0\n",
      "INFO:tensorflow:batch_all_reduce: 12 all-reduces with algorithm = hierarchical_copy, num_packs = 1, agg_small_grads_max_bytes = 0 and agg_small_grads_max_group = 10\n",
      "INFO:tensorflow:Reduce to /job:localhost/replica:0/task:0/device:CPU:0 then broadcast to ('/job:localhost/replica:0/task:0/device:CPU:0',).\n",
      "INFO:tensorflow:Reduce to /job:localhost/replica:0/task:0/device:CPU:0 then broadcast to ('/job:localhost/replica:0/task:0/device:CPU:0',).\n",
      "Executing op __inference_distributed_function_3539 in device /job:localhost/replica:0/task:0/device:GPU:0\n",
      "   100/128000 [..............................] - ETA: 3:59:40 - loss: 1.4294 - accuracy: 0.5000WARNING:tensorflow:Method (on_train_batch_end) is slow compared to the batch update (0.102424). Check your callbacks.\n",
      "127300/128000 [============================>.] - ETA: 0s - loss: 0.4697 - accuracy: 0.8111Executing op GeneratorDataset in device /job:localhost/replica:0/task:0/device:GPU:0\n",
      "Executing op GeneratorDataset in device /job:localhost/replica:0/task:0/device:GPU:1\n",
      "Executing op __inference_distributed_function_7730 in device /job:localhost/replica:0/task:0/device:GPU:0\n",
      "Executing op WriteScalarSummary in device /job:localhost/replica:0/task:0/device:CPU:0\n",
      "Executing op WriteScalarSummary in device /job:localhost/replica:0/task:0/device:CPU:0\n",
      "Executing op WriteHistogramSummary in device /job:localhost/replica:0/task:0/device:CPU:0\n",
      "128000/128000 [==============================] - 21s 165us/sample - loss: 0.4693 - accuracy: 0.8113 - val_loss: 0.3150 - val_accuracy: 0.8812\n",
      "Epoch 2/100\n",
      "128000/128000 [==============================] - 7s 55us/sample - loss: 0.3555 - accuracy: 0.8526 - val_loss: 0.2682 - val_accuracy: 0.8949\n",
      "Epoch 3/100\n",
      "128000/128000 [==============================] - 7s 54us/sample - loss: 0.3543 - accuracy: 0.8609 - val_loss: 0.3284 - val_accuracy: 0.8770\n",
      "Epoch 4/100\n",
      "128000/128000 [==============================] - 7s 53us/sample - loss: 0.3419 - accuracy: 0.8676 - val_loss: 0.3239 - val_accuracy: 0.8630\n",
      "Epoch 5/100\n",
      "128000/128000 [==============================] - 7s 53us/sample - loss: 0.4183 - accuracy: 0.8353 - val_loss: 0.3604 - val_accuracy: 0.8396\n",
      "Epoch 6/100\n",
      "128000/128000 [==============================] - 7s 53us/sample - loss: 0.3310 - accuracy: 0.8705 - val_loss: 0.3314 - val_accuracy: 0.8609\n",
      "Epoch 7/100\n",
      "128000/128000 [==============================] - 7s 53us/sample - loss: 0.3130 - accuracy: 0.8790 - val_loss: 0.2834 - val_accuracy: 0.8900\n",
      "Epoch 8/100\n",
      "128000/128000 [==============================] - 7s 53us/sample - loss: 0.3006 - accuracy: 0.8838 - val_loss: 0.3392 - val_accuracy: 0.8512\n",
      "Epoch 9/100\n",
      "128000/128000 [==============================] - 7s 53us/sample - loss: 0.4041 - accuracy: 0.8770 - val_loss: 0.2468 - val_accuracy: 0.9078\n",
      "Epoch 10/100\n",
      "128000/128000 [==============================] - 7s 53us/sample - loss: 0.3018 - accuracy: 0.8844 - val_loss: 0.3943 - val_accuracy: 0.8123\n",
      "Epoch 11/100\n",
      "128000/128000 [==============================] - 7s 53us/sample - loss: 0.2929 - accuracy: 0.8890 - val_loss: 0.3408 - val_accuracy: 0.8477\n",
      "Epoch 12/100\n",
      "128000/128000 [==============================] - 7s 53us/sample - loss: 0.2931 - accuracy: 0.8905 - val_loss: 0.2593 - val_accuracy: 0.8980\n",
      "Epoch 13/100\n",
      "128000/128000 [==============================] - 7s 53us/sample - loss: 0.2848 - accuracy: 0.8931 - val_loss: 0.3055 - val_accuracy: 0.8696\n",
      "Epoch 14/100\n",
      "128000/128000 [==============================] - 7s 53us/sample - loss: 0.2675 - accuracy: 0.8983 - val_loss: 0.2807 - val_accuracy: 0.8826\n",
      "Epoch 15/100\n",
      "128000/128000 [==============================] - 7s 52us/sample - loss: 0.2614 - accuracy: 0.9021 - val_loss: 0.2869 - val_accuracy: 0.8795\n",
      "Epoch 16/100\n",
      "128000/128000 [==============================] - 7s 53us/sample - loss: 0.2645 - accuracy: 0.9034 - val_loss: 0.2625 - val_accuracy: 0.8953\n",
      "Epoch 17/100\n",
      "128000/128000 [==============================] - 7s 53us/sample - loss: 0.2538 - accuracy: 0.9057 - val_loss: 0.2186 - val_accuracy: 0.9186\n",
      "Epoch 18/100\n",
      "128000/128000 [==============================] - 7s 53us/sample - loss: 0.2464 - accuracy: 0.9086 - val_loss: 0.2235 - val_accuracy: 0.9135\n",
      "Epoch 19/100\n",
      "128000/128000 [==============================] - 7s 52us/sample - loss: 0.2454 - accuracy: 0.9095 - val_loss: 0.2469 - val_accuracy: 0.9038\n",
      "Epoch 20/100\n",
      "128000/128000 [==============================] - 7s 53us/sample - loss: 0.2474 - accuracy: 0.9086 - val_loss: 0.2951 - val_accuracy: 0.8735\n",
      "Epoch 21/100\n",
      "128000/128000 [==============================] - 7s 53us/sample - loss: 0.2378 - accuracy: 0.9116 - val_loss: 0.3047 - val_accuracy: 0.8706\n",
      "Epoch 22/100\n",
      "128000/128000 [==============================] - 7s 53us/sample - loss: 0.2320 - accuracy: 0.9140 - val_loss: 0.2473 - val_accuracy: 0.9027\n",
      "Epoch 23/100\n",
      "128000/128000 [==============================] - 7s 53us/sample - loss: 0.2384 - accuracy: 0.9135 - val_loss: 0.2532 - val_accuracy: 0.9005\n",
      "Epoch 24/100\n",
      "128000/128000 [==============================] - 7s 53us/sample - loss: 0.2353 - accuracy: 0.9146 - val_loss: 0.2510 - val_accuracy: 0.9039\n",
      "Epoch 25/100\n",
      "128000/128000 [==============================] - 7s 53us/sample - loss: 0.2353 - accuracy: 0.9154 - val_loss: 0.2081 - val_accuracy: 0.9255\n",
      "Epoch 26/100\n",
      "128000/128000 [==============================] - 7s 53us/sample - loss: 0.2266 - accuracy: 0.9170 - val_loss: 0.2842 - val_accuracy: 0.8844\n",
      "Epoch 27/100\n",
      "128000/128000 [==============================] - 7s 53us/sample - loss: 0.2407 - accuracy: 0.9161 - val_loss: 0.2197 - val_accuracy: 0.9159\n",
      "Epoch 28/100\n",
      "128000/128000 [==============================] - 7s 52us/sample - loss: 0.2307 - accuracy: 0.9185 - val_loss: 0.2304 - val_accuracy: 0.9111\n",
      "Epoch 29/100\n",
      "128000/128000 [==============================] - 7s 52us/sample - loss: 0.2219 - accuracy: 0.9182 - val_loss: 0.2144 - val_accuracy: 0.9211\n",
      "Epoch 30/100\n",
      "128000/128000 [==============================] - 7s 53us/sample - loss: 0.2173 - accuracy: 0.9214 - val_loss: 0.2457 - val_accuracy: 0.9068\n",
      "Epoch 31/100\n",
      "128000/128000 [==============================] - 7s 52us/sample - loss: 0.2150 - accuracy: 0.9226 - val_loss: 0.1850 - val_accuracy: 0.9373\n",
      "Epoch 32/100\n",
      "128000/128000 [==============================] - 7s 53us/sample - loss: 0.2170 - accuracy: 0.9220 - val_loss: 0.2135 - val_accuracy: 0.9247\n",
      "Epoch 33/100\n",
      "128000/128000 [==============================] - 7s 53us/sample - loss: 0.2148 - accuracy: 0.9222 - val_loss: 0.1895 - val_accuracy: 0.9337\n",
      "Epoch 34/100\n",
      "128000/128000 [==============================] - 7s 53us/sample - loss: 0.2158 - accuracy: 0.9235 - val_loss: 0.1996 - val_accuracy: 0.9281\n",
      "Epoch 35/100\n",
      "128000/128000 [==============================] - 7s 52us/sample - loss: 0.2082 - accuracy: 0.9247 - val_loss: 0.2576 - val_accuracy: 0.8987\n",
      "Epoch 36/100\n",
      "128000/128000 [==============================] - 7s 53us/sample - loss: 0.2077 - accuracy: 0.9259 - val_loss: 0.1722 - val_accuracy: 0.9391\n",
      "Epoch 37/100\n",
      "128000/128000 [==============================] - 7s 52us/sample - loss: 0.2104 - accuracy: 0.9260 - val_loss: 0.2086 - val_accuracy: 0.9277\n",
      "Epoch 38/100\n",
      "128000/128000 [==============================] - 7s 52us/sample - loss: 0.2086 - accuracy: 0.9254 - val_loss: 0.2146 - val_accuracy: 0.9225\n",
      "Epoch 39/100\n",
      "128000/128000 [==============================] - 7s 53us/sample - loss: 0.2037 - accuracy: 0.9266 - val_loss: 0.2127 - val_accuracy: 0.9222\n",
      "Epoch 40/100\n",
      "128000/128000 [==============================] - 7s 53us/sample - loss: 0.1997 - accuracy: 0.9283 - val_loss: 0.1914 - val_accuracy: 0.9329\n",
      "Epoch 41/100\n",
      "128000/128000 [==============================] - 7s 53us/sample - loss: 0.2001 - accuracy: 0.9298 - val_loss: 0.2402 - val_accuracy: 0.9160\n",
      "Epoch 42/100\n",
      "128000/128000 [==============================] - 7s 53us/sample - loss: 0.2009 - accuracy: 0.9304 - val_loss: 0.2227 - val_accuracy: 0.9212\n",
      "Epoch 43/100\n",
      "128000/128000 [==============================] - 7s 53us/sample - loss: 0.1974 - accuracy: 0.9303 - val_loss: 0.1882 - val_accuracy: 0.9346\n",
      "Epoch 44/100\n",
      "128000/128000 [==============================] - 7s 52us/sample - loss: 0.2009 - accuracy: 0.9299 - val_loss: 0.2128 - val_accuracy: 0.9233\n",
      "Epoch 45/100\n",
      "128000/128000 [==============================] - 7s 54us/sample - loss: 0.1941 - accuracy: 0.9320 - val_loss: 0.2108 - val_accuracy: 0.9254\n",
      "Epoch 46/100\n",
      "128000/128000 [==============================] - 7s 54us/sample - loss: 0.1923 - accuracy: 0.9330 - val_loss: 0.1835 - val_accuracy: 0.9386\n",
      "Epoch 47/100\n",
      "128000/128000 [==============================] - 8s 61us/sample - loss: 0.1930 - accuracy: 0.9319 - val_loss: 0.2026 - val_accuracy: 0.9320\n",
      "Epoch 48/100\n",
      "128000/128000 [==============================] - 7s 53us/sample - loss: 0.1881 - accuracy: 0.9339 - val_loss: 0.2103 - val_accuracy: 0.9285\n",
      "Epoch 49/100\n",
      "128000/128000 [==============================] - 7s 53us/sample - loss: 0.1875 - accuracy: 0.9341 - val_loss: 0.2095 - val_accuracy: 0.9313\n",
      "Epoch 50/100\n",
      "128000/128000 [==============================] - 7s 53us/sample - loss: 0.1949 - accuracy: 0.9341 - val_loss: 0.2110 - val_accuracy: 0.9287\n",
      "Epoch 51/100\n",
      "128000/128000 [==============================] - 7s 57us/sample - loss: 0.1887 - accuracy: 0.9343 - val_loss: 0.1903 - val_accuracy: 0.9387\n",
      "Epoch 52/100\n",
      "128000/128000 [==============================] - 7s 53us/sample - loss: 0.1878 - accuracy: 0.9349 - val_loss: 0.1665 - val_accuracy: 0.9464\n",
      "Epoch 53/100\n",
      "128000/128000 [==============================] - 7s 53us/sample - loss: 0.1866 - accuracy: 0.9343 - val_loss: 0.1771 - val_accuracy: 0.9413\n",
      "Epoch 54/100\n",
      "128000/128000 [==============================] - 7s 53us/sample - loss: 0.1840 - accuracy: 0.9358 - val_loss: 0.1676 - val_accuracy: 0.9477\n",
      "Epoch 55/100\n",
      "128000/128000 [==============================] - 7s 54us/sample - loss: 0.1860 - accuracy: 0.9349 - val_loss: 0.1966 - val_accuracy: 0.9333\n",
      "Epoch 56/100\n",
      "128000/128000 [==============================] - 7s 54us/sample - loss: 0.1866 - accuracy: 0.9351 - val_loss: 0.1737 - val_accuracy: 0.9452\n",
      "Epoch 57/100\n",
      "128000/128000 [==============================] - 7s 54us/sample - loss: 0.1830 - accuracy: 0.9359 - val_loss: 0.1883 - val_accuracy: 0.9382\n",
      "Epoch 58/100\n",
      "128000/128000 [==============================] - 7s 54us/sample - loss: 0.1844 - accuracy: 0.9362 - val_loss: 0.2146 - val_accuracy: 0.9278\n",
      "Epoch 59/100\n",
      "128000/128000 [==============================] - 7s 54us/sample - loss: 0.1812 - accuracy: 0.9367 - val_loss: 0.1763 - val_accuracy: 0.9427\n",
      "Epoch 60/100\n",
      "128000/128000 [==============================] - 7s 56us/sample - loss: 0.1785 - accuracy: 0.9375 - val_loss: 0.2211 - val_accuracy: 0.9259\n",
      "Epoch 61/100\n",
      "128000/128000 [==============================] - 7s 55us/sample - loss: 0.1802 - accuracy: 0.9372 - val_loss: 0.1621 - val_accuracy: 0.9479\n",
      "Epoch 62/100\n",
      "128000/128000 [==============================] - 7s 55us/sample - loss: 0.1780 - accuracy: 0.9387 - val_loss: 0.1733 - val_accuracy: 0.9442\n",
      "Epoch 63/100\n",
      "128000/128000 [==============================] - 7s 58us/sample - loss: 0.1759 - accuracy: 0.9401 - val_loss: 0.1614 - val_accuracy: 0.9489\n",
      "Epoch 64/100\n",
      "128000/128000 [==============================] - 7s 56us/sample - loss: 0.1783 - accuracy: 0.9390 - val_loss: 0.1806 - val_accuracy: 0.9446\n",
      "Epoch 65/100\n",
      "128000/128000 [==============================] - 7s 54us/sample - loss: 0.1758 - accuracy: 0.9396 - val_loss: 0.1609 - val_accuracy: 0.9491\n",
      "Epoch 66/100\n",
      "128000/128000 [==============================] - 7s 56us/sample - loss: 0.1770 - accuracy: 0.9398 - val_loss: 0.1848 - val_accuracy: 0.9449\n",
      "Epoch 67/100\n",
      "128000/128000 [==============================] - 7s 56us/sample - loss: 0.1753 - accuracy: 0.9403 - val_loss: 0.2184 - val_accuracy: 0.9277\n",
      "Epoch 68/100\n",
      "128000/128000 [==============================] - 7s 56us/sample - loss: 0.1722 - accuracy: 0.9405 - val_loss: 0.2055 - val_accuracy: 0.9384\n",
      "Epoch 69/100\n",
      "128000/128000 [==============================] - 7s 55us/sample - loss: 0.1723 - accuracy: 0.9407 - val_loss: 0.1657 - val_accuracy: 0.9487\n",
      "Epoch 70/100\n",
      "128000/128000 [==============================] - 7s 55us/sample - loss: 0.1708 - accuracy: 0.9406 - val_loss: 0.1675 - val_accuracy: 0.9488\n",
      "Epoch 71/100\n",
      "128000/128000 [==============================] - 7s 56us/sample - loss: 0.1717 - accuracy: 0.9409 - val_loss: 0.2066 - val_accuracy: 0.9337\n",
      "Epoch 72/100\n",
      "128000/128000 [==============================] - 7s 56us/sample - loss: 0.1718 - accuracy: 0.9425 - val_loss: 0.1858 - val_accuracy: 0.9414\n",
      "Epoch 73/100\n",
      "128000/128000 [==============================] - 7s 56us/sample - loss: 0.1687 - accuracy: 0.9422 - val_loss: 0.2127 - val_accuracy: 0.9308\n",
      "Epoch 74/100\n",
      "128000/128000 [==============================] - 7s 56us/sample - loss: 0.1676 - accuracy: 0.9426 - val_loss: 0.1931 - val_accuracy: 0.9421\n",
      "Epoch 75/100\n",
      "128000/128000 [==============================] - 7s 56us/sample - loss: 0.1660 - accuracy: 0.9432 - val_loss: 0.1643 - val_accuracy: 0.9527\n",
      "Epoch 76/100\n",
      "128000/128000 [==============================] - 7s 56us/sample - loss: 0.1682 - accuracy: 0.9431 - val_loss: 0.1640 - val_accuracy: 0.9497\n",
      "Epoch 77/100\n",
      "128000/128000 [==============================] - 7s 55us/sample - loss: 0.1664 - accuracy: 0.9432 - val_loss: 0.1720 - val_accuracy: 0.9456\n",
      "Epoch 78/100\n",
      "128000/128000 [==============================] - 7s 56us/sample - loss: 0.1662 - accuracy: 0.9434 - val_loss: 0.1503 - val_accuracy: 0.9550\n",
      "Epoch 79/100\n",
      "128000/128000 [==============================] - 7s 55us/sample - loss: 0.1639 - accuracy: 0.9445 - val_loss: 0.1629 - val_accuracy: 0.9498\n",
      "Epoch 80/100\n",
      "128000/128000 [==============================] - 7s 56us/sample - loss: 0.1639 - accuracy: 0.9441 - val_loss: 0.1991 - val_accuracy: 0.9398\n",
      "Epoch 81/100\n",
      "128000/128000 [==============================] - 7s 55us/sample - loss: 0.1646 - accuracy: 0.9441 - val_loss: 0.2063 - val_accuracy: 0.9376\n",
      "Epoch 82/100\n",
      "128000/128000 [==============================] - 7s 56us/sample - loss: 0.1631 - accuracy: 0.9440 - val_loss: 0.1995 - val_accuracy: 0.9410\n",
      "Epoch 83/100\n",
      "128000/128000 [==============================] - 7s 55us/sample - loss: 0.1624 - accuracy: 0.9450 - val_loss: 0.1703 - val_accuracy: 0.9502\n",
      "Epoch 84/100\n",
      "128000/128000 [==============================] - 7s 55us/sample - loss: 0.1627 - accuracy: 0.9448 - val_loss: 0.1676 - val_accuracy: 0.9506\n",
      "Epoch 85/100\n",
      "128000/128000 [==============================] - 7s 55us/sample - loss: 0.1629 - accuracy: 0.9447 - val_loss: 0.1976 - val_accuracy: 0.9434\n",
      "Epoch 86/100\n",
      "128000/128000 [==============================] - 7s 55us/sample - loss: 0.1617 - accuracy: 0.9451 - val_loss: 0.1561 - val_accuracy: 0.9532\n",
      "Epoch 87/100\n",
      "128000/128000 [==============================] - 7s 57us/sample - loss: 0.1605 - accuracy: 0.9454 - val_loss: 0.1785 - val_accuracy: 0.9509\n",
      "Epoch 88/100\n",
      "128000/128000 [==============================] - 7s 57us/sample - loss: 0.1617 - accuracy: 0.9456 - val_loss: 0.1483 - val_accuracy: 0.9576\n",
      "Epoch 89/100\n",
      "128000/128000 [==============================] - 7s 56us/sample - loss: 0.1597 - accuracy: 0.9455 - val_loss: 0.1698 - val_accuracy: 0.9530\n",
      "Epoch 90/100\n",
      "128000/128000 [==============================] - 7s 53us/sample - loss: 0.1562 - accuracy: 0.9473 - val_loss: 0.1831 - val_accuracy: 0.9489\n",
      "Epoch 91/100\n",
      "128000/128000 [==============================] - 7s 53us/sample - loss: 0.1578 - accuracy: 0.9462 - val_loss: 0.1966 - val_accuracy: 0.9407\n",
      "Epoch 92/100\n",
      "128000/128000 [==============================] - 7s 53us/sample - loss: 0.1560 - accuracy: 0.9467 - val_loss: 0.2101 - val_accuracy: 0.9367\n",
      "Epoch 93/100\n",
      "128000/128000 [==============================] - 7s 53us/sample - loss: 0.1568 - accuracy: 0.9475 - val_loss: 0.1791 - val_accuracy: 0.9451\n",
      "Epoch 94/100\n"
     ]
    },
    {
     "name": "stdout",
     "output_type": "stream",
     "text": [
      "128000/128000 [==============================] - 7s 53us/sample - loss: 0.1575 - accuracy: 0.9474 - val_loss: 0.1715 - val_accuracy: 0.9517\n",
      "Epoch 95/100\n",
      "128000/128000 [==============================] - 7s 53us/sample - loss: 0.1575 - accuracy: 0.9473 - val_loss: 0.1539 - val_accuracy: 0.9561\n",
      "Epoch 96/100\n",
      "128000/128000 [==============================] - 7s 53us/sample - loss: 0.1558 - accuracy: 0.9472 - val_loss: 0.1923 - val_accuracy: 0.9408\n",
      "Epoch 97/100\n",
      "128000/128000 [==============================] - 7s 53us/sample - loss: 0.1538 - accuracy: 0.9482 - val_loss: 0.1844 - val_accuracy: 0.9478\n",
      "Epoch 98/100\n",
      "128000/128000 [==============================] - 7s 52us/sample - loss: 0.1523 - accuracy: 0.9483 - val_loss: 0.1674 - val_accuracy: 0.9523\n",
      "Epoch 99/100\n",
      "128000/128000 [==============================] - 7s 52us/sample - loss: 0.1532 - accuracy: 0.9485 - val_loss: 0.1793 - val_accuracy: 0.9498\n",
      "Epoch 100/100\n",
      "128000/128000 [==============================] - 7s 52us/sample - loss: 0.1539 - accuracy: 0.9487 - val_loss: 0.2088 - val_accuracy: 0.9461\n",
      "Executing op CloseSummaryWriter in device /job:localhost/replica:0/task:0/device:CPU:0\n",
      "Executing op DestroyResourceOp in device /job:localhost/replica:0/task:0/device:CPU:0\n",
      "Executing op DeleteIterator in device /job:localhost/replica:0/task:0/device:GPU:1\n",
      "Executing op DeleteIterator in device /job:localhost/replica:0/task:0/device:GPU:0\n"
     ]
    }
   ],
   "source": [
    "with mirrored_strategy.scope():\n",
    "\n",
    "    history = model_final.fit(x_train, y_train, validation_data=(x_test, y_test), epochs=100, batch_size=100, callbacks=[tb_random])"
   ]
  },
  {
   "cell_type": "code",
   "execution_count": 86,
   "metadata": {},
   "outputs": [
    {
     "data": {
      "image/png": "[encoded data removed]",
      "text/plain": [
       "<Figure size 432x288 with 1 Axes>"
      ]
     },
     "metadata": {
      "needs_background": "light"
     },
     "output_type": "display_data"
    },
    {
     "data": {
      "image/png": "[encoded data removed]",
      "text/plain": [
       "<Figure size 432x288 with 1 Axes>"
      ]
     },
     "metadata": {
      "needs_background": "light"
     },
     "output_type": "display_data"
    }
   ],
   "source": [
    "# Plot training & validation accuracy values\n",
    "plt.plot(history.history['accuracy'])\n",
    "plt.plot(history.history['val_accuracy'])\n",
    "plt.title('Model accuracy')\n",
    "plt.ylabel('Accuracy')\n",
    "plt.xlabel('Epoch')\n",
    "plt.legend(['Train', 'Test'], loc='upper left')\n",
    "plt.show()\n",
    "\n",
    "# Plot training & validation loss values\n",
    "plt.plot(history.history['loss'])\n",
    "plt.plot(history.history['val_loss'])\n",
    "plt.title('Model loss')\n",
    "plt.ylabel('Loss')\n",
    "plt.xlabel('Epoch')\n",
    "plt.legend(['Train', 'Test'], loc='upper left')\n",
    "plt.show()"
   ]
  },
  {
   "cell_type": "markdown",
   "metadata": {},
   "source": [
    "# these are pretty good results."
   ]
  },
  {
   "cell_type": "markdown",
   "metadata": {},
   "source": [
    "# Now, let's try a SVM with different kernels (sigmoid, Gaussian, linear, and polynomial)"
   ]
  },
  {
   "cell_type": "markdown",
   "metadata": {},
   "source": [
    "## polynomial first"
   ]
  },
  {
   "cell_type": "code",
   "execution_count": 35,
   "metadata": {},
   "outputs": [],
   "source": [
    "from sklearn.svm import SVC\n",
    "\n",
    "from sklearn.metrics import classification_report, confusion_matrix\n",
    "\n",
    "from sklearn.externals.joblib import parallel_backend\n",
    "\n",
    "from sklearn.model_selection import cross_val_score\n",
    "\n",
    "from sklearn.model_selection import train_test_split"
   ]
  },
  {
   "cell_type": "code",
   "execution_count": 36,
   "metadata": {},
   "outputs": [],
   "source": [
    "x_train, x_test, y_train, y_test = train_test_split(x1.values, y, test_size=0.20, random_state=102)"
   ]
  },
  {
   "cell_type": "code",
   "execution_count": null,
   "metadata": {},
   "outputs": [],
   "source": [
    "poly_svclassifier = SVC(kernel='poly', degree=8)\n",
    "poly_svclassifier.fit(x_train, y_train)"
   ]
  },
  {
   "cell_type": "code",
   "execution_count": null,
   "metadata": {},
   "outputs": [],
   "source": [
    "y_pred = poly_svclassifier.predict(x_test)"
   ]
  },
  {
   "cell_type": "code",
   "execution_count": null,
   "metadata": {},
   "outputs": [],
   "source": [
    "print(confusion_matrix(y_test, y_pred))\n",
    "print(classification_report(y_test, y_pred))"
   ]
  },
  {
   "cell_type": "markdown",
   "metadata": {},
   "source": [
    "# Gaussian"
   ]
  },
  {
   "cell_type": "code",
   "execution_count": null,
   "metadata": {},
   "outputs": [],
   "source": [
    "rbf_svclassifier = SVC(kernel='rbf')\n",
    "rbf_svclassifier.fit(x_train, y_train)"
   ]
  },
  {
   "cell_type": "code",
   "execution_count": null,
   "metadata": {},
   "outputs": [],
   "source": [
    "y_pred = rbf_svclassifier.predict(x_test)"
   ]
  },
  {
   "cell_type": "code",
   "execution_count": null,
   "metadata": {},
   "outputs": [],
   "source": [
    "print(confusion_matrix(y_test, y_pred))\n",
    "print(classification_report(y_test, y_pred))"
   ]
  },
  {
   "cell_type": "markdown",
   "metadata": {},
   "source": [
    "# Sigmoid"
   ]
  },
  {
   "cell_type": "code",
   "execution_count": null,
   "metadata": {},
   "outputs": [],
   "source": [
    "sig_svclassifier = SVC(kernel='sigmoid')\n",
    "sig_svclassifier.fit(X_train, y_train)"
   ]
  },
  {
   "cell_type": "code",
   "execution_count": null,
   "metadata": {},
   "outputs": [],
   "source": [
    "y_pred = sig_svclassifier.predict(X_test)"
   ]
  },
  {
   "cell_type": "code",
   "execution_count": null,
   "metadata": {},
   "outputs": [],
   "source": [
    "print(confusion_matrix(y_test, y_pred))\n",
    "print(classification_report(y_test, y_pred))"
   ]
  },
  {
   "cell_type": "markdown",
   "metadata": {},
   "source": [
    "# Linear"
   ]
  },
  {
   "cell_type": "code",
   "execution_count": null,
   "metadata": {},
   "outputs": [],
   "source": [
    "lin_svclassifier = SVC(kernel='linear')\n",
    "lin_svclassifier.fit(X_train, y_train)"
   ]
  },
  {
   "cell_type": "code",
   "execution_count": null,
   "metadata": {},
   "outputs": [],
   "source": [
    "y_pred = lin_svclassifier.predict(X_test)"
   ]
  },
  {
   "cell_type": "code",
   "execution_count": null,
   "metadata": {},
   "outputs": [],
   "source": [
    "print(confusion_matrix(y_test,y_pred))\n",
    "print(classification_report(y_test,y_pred))"
   ]
  },
  {
   "cell_type": "markdown",
   "metadata": {},
   "source": [
    "# Grid Search"
   ]
  },
  {
   "cell_type": "code",
   "execution_count": null,
   "metadata": {},
   "outputs": [],
   "source": [
    "\n",
    "def svc_param_selection(X, y):\n",
    "    Cs = [0.01, 0.1, 1, 10,20,50]\n",
    "    gammas = [0.01, 0.5, 1]\n",
    "    kernel = ['rbf','linear','poly']\n",
    "    param_grid = {'C': Cs, 'gamma' : gammas, 'kernel': kernel}\n",
    "    grid_search = GridSearchCV(SVC(kernel='rbf'), param_grid,n_jobs = 12)\n",
    "    with parallel_backend('threading'):\n",
    "    #would need to add back in ,cv = nfolds after param_grid\n",
    "        grid_search.fit(X, y)\n",
    "    grid_search.best_params_\n",
    "    return grid_search.best_params_"
   ]
  },
  {
   "cell_type": "code",
   "execution_count": null,
   "metadata": {},
   "outputs": [],
   "source": [
    "svc_param_selection(x_train,y_train.ravel())"
   ]
  },
  {
   "cell_type": "code",
   "execution_count": null,
   "metadata": {},
   "outputs": [],
   "source": [
    "#X_train, X_test, y_train, y_test = train_test_split(X_data1_scaled, y_data1, test_size=0.4, random_state=0)\n",
    "#X_train.shape, y_train.ravel().shape\n",
    "#X_test.shape, y_test.ravel().shape\n",
    "clf1 = SVC(kernel='linear', C=1,gamma = 0.01).fit(x_train, y_train)\n",
    "clf1.score(x_test, y_test)  "
   ]
  },
  {
   "cell_type": "code",
   "execution_count": null,
   "metadata": {},
   "outputs": [],
   "source": [
    "\n",
    "\n",
    "clf2 = SVC(kernel='rbf', C=20,gamma = 0.01)\n",
    "scores = cross_val_score(clf2,x1.values,y, cv = 30)\n",
    "scores\n"
   ]
  },
  {
   "cell_type": "code",
   "execution_count": null,
   "metadata": {},
   "outputs": [],
   "source": [
    "np.mean(scores)"
   ]
  },
  {
   "cell_type": "code",
   "execution_count": null,
   "metadata": {},
   "outputs": [],
   "source": []
  },
  {
   "cell_type": "code",
   "execution_count": null,
   "metadata": {},
   "outputs": [],
   "source": []
  },
  {
   "cell_type": "code",
   "execution_count": null,
   "metadata": {},
   "outputs": [],
   "source": []
  },
  {
   "cell_type": "code",
   "execution_count": null,
   "metadata": {},
   "outputs": [],
   "source": []
  }
 ],
 "metadata": {
  "kernelspec": {
   "display_name": "Python 3",
   "language": "python",
   "name": "python3"
  },
  "language_info": {
   "codemirror_mode": {
    "name": "ipython",
    "version": 3
   },
   "file_extension": ".py",
   "mimetype": "text/x-python",
   "name": "python",
   "nbconvert_exporter": "python",
   "pygments_lexer": "ipython3",
   "version": "3.6.9"
  }
 },
 "nbformat": 4,
 "nbformat_minor": 2
}
